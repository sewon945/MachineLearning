{
 "cells": [
  {
   "cell_type": "markdown",
   "id": "c5cff57c-d84f-40ef-8348-c15efdfa5159",
   "metadata": {},
   "source": [
    "#### 목표\n",
    "- BMI 데이터를 활용하여 머신러닝의 전체 과정을 이해하자"
   ]
  },
  {
   "cell_type": "markdown",
   "id": "8c9be0d7-4733-4aa8-a2cf-e17af7fff27d",
   "metadata": {},
   "source": [
    "#### 머신러닝의 7과정\n",
    "1. 문제 정의\n",
    "2. 데이터 수집(File 다운로드, Survey, Database, IoT sensor)\n",
    "3. 데이터 전처리✨\n",
    "    - 결측치, 이상치, 특성공학(Scaling, Encoding, Binning, Transform)\n",
    "4. EDA\n",
    "    - 기술통계량 확인, 시각화\n",
    "    - > 이상치가 발견되면 다시 전처리 단계로 돌아가야 함\n",
    "5. Model 선택, Hyper Parameter 조정\n",
    "6. Model 학습(Fit)\n",
    "7. Modle 평가(Evaluate)"
   ]
  },
  {
   "cell_type": "markdown",
   "id": "f5b0b1fc-fa6b-49ec-9e13-6a119e35a70a",
   "metadata": {},
   "source": [
    "##### 1. 문제 정의\n",
    "- 500명의 키와 몸무게, 비만도가 있는 데이터를 활용하여 비만도를 예측하는 모델을 생성하자!\n",
    "- 문제 데이터 : 키, 몸무게\n",
    "- 정답 데이터 : label(6개의 종류) - 범주형 데이터(다중분류)"
   ]
  },
  {
   "cell_type": "markdown",
   "id": "f130a9e8-832f-42d5-b980-56e08dbe339d",
   "metadata": {},
   "source": [
    "##### 2. 데이터 수집\n",
    "- 데이터 제공(데이터 불러오는 작업)"
   ]
  },
  {
   "cell_type": "code",
   "execution_count": 1,
   "id": "f989ac37-bef8-4716-9b2c-7cf9cd036984",
   "metadata": {},
   "outputs": [],
   "source": [
    "# 라이브러리 불러오기\n",
    "import pandas as pd # 행과 열을 가진 데이터를 활용 도구\n",
    "import matplotlib.pyplot as plt # EDA 단계에서 시각화를 위한 도구"
   ]
  },
  {
   "cell_type": "code",
   "execution_count": 2,
   "id": "22adc473-d99b-434f-a46b-a8e70221fee3",
   "metadata": {},
   "outputs": [],
   "source": [
    "# 데이터 불러오기 : read_csv(경로/파일명, 속성값으로 index_col을 해줘야함)\n",
    "# data라는 변수에 bmi 넣어주기\n",
    "# 조건 : label 컬럼을 인덱스로 사용해서 불러와주기\n",
    "data = pd.read_csv('data/bmi_500.csv', index_col = 'Label')"
   ]
  },
  {
   "cell_type": "code",
   "execution_count": 3,
   "id": "21c64069-17b8-4018-9f1c-b3b6d08e0a65",
   "metadata": {},
   "outputs": [
    {
     "data": {
      "text/html": [
       "<div>\n",
       "<style scoped>\n",
       "    .dataframe tbody tr th:only-of-type {\n",
       "        vertical-align: middle;\n",
       "    }\n",
       "\n",
       "    .dataframe tbody tr th {\n",
       "        vertical-align: top;\n",
       "    }\n",
       "\n",
       "    .dataframe thead th {\n",
       "        text-align: right;\n",
       "    }\n",
       "</style>\n",
       "<table border=\"1\" class=\"dataframe\">\n",
       "  <thead>\n",
       "    <tr style=\"text-align: right;\">\n",
       "      <th></th>\n",
       "      <th>Gender</th>\n",
       "      <th>Height</th>\n",
       "      <th>Weight</th>\n",
       "    </tr>\n",
       "    <tr>\n",
       "      <th>Label</th>\n",
       "      <th></th>\n",
       "      <th></th>\n",
       "      <th></th>\n",
       "    </tr>\n",
       "  </thead>\n",
       "  <tbody>\n",
       "    <tr>\n",
       "      <th>Obesity</th>\n",
       "      <td>Male</td>\n",
       "      <td>174</td>\n",
       "      <td>96</td>\n",
       "    </tr>\n",
       "    <tr>\n",
       "      <th>Normal</th>\n",
       "      <td>Male</td>\n",
       "      <td>189</td>\n",
       "      <td>87</td>\n",
       "    </tr>\n",
       "    <tr>\n",
       "      <th>Obesity</th>\n",
       "      <td>Female</td>\n",
       "      <td>185</td>\n",
       "      <td>110</td>\n",
       "    </tr>\n",
       "    <tr>\n",
       "      <th>Overweight</th>\n",
       "      <td>Female</td>\n",
       "      <td>195</td>\n",
       "      <td>104</td>\n",
       "    </tr>\n",
       "    <tr>\n",
       "      <th>Overweight</th>\n",
       "      <td>Male</td>\n",
       "      <td>149</td>\n",
       "      <td>61</td>\n",
       "    </tr>\n",
       "    <tr>\n",
       "      <th>...</th>\n",
       "      <td>...</td>\n",
       "      <td>...</td>\n",
       "      <td>...</td>\n",
       "    </tr>\n",
       "    <tr>\n",
       "      <th>Extreme Obesity</th>\n",
       "      <td>Female</td>\n",
       "      <td>150</td>\n",
       "      <td>153</td>\n",
       "    </tr>\n",
       "    <tr>\n",
       "      <th>Obesity</th>\n",
       "      <td>Female</td>\n",
       "      <td>184</td>\n",
       "      <td>121</td>\n",
       "    </tr>\n",
       "    <tr>\n",
       "      <th>Extreme Obesity</th>\n",
       "      <td>Female</td>\n",
       "      <td>141</td>\n",
       "      <td>136</td>\n",
       "    </tr>\n",
       "    <tr>\n",
       "      <th>Extreme Obesity</th>\n",
       "      <td>Male</td>\n",
       "      <td>150</td>\n",
       "      <td>95</td>\n",
       "    </tr>\n",
       "    <tr>\n",
       "      <th>Extreme Obesity</th>\n",
       "      <td>Male</td>\n",
       "      <td>173</td>\n",
       "      <td>131</td>\n",
       "    </tr>\n",
       "  </tbody>\n",
       "</table>\n",
       "<p>500 rows × 3 columns</p>\n",
       "</div>"
      ],
      "text/plain": [
       "                 Gender  Height  Weight\n",
       "Label                                  \n",
       "Obesity            Male     174      96\n",
       "Normal             Male     189      87\n",
       "Obesity          Female     185     110\n",
       "Overweight       Female     195     104\n",
       "Overweight         Male     149      61\n",
       "...                 ...     ...     ...\n",
       "Extreme Obesity  Female     150     153\n",
       "Obesity          Female     184     121\n",
       "Extreme Obesity  Female     141     136\n",
       "Extreme Obesity    Male     150      95\n",
       "Extreme Obesity    Male     173     131\n",
       "\n",
       "[500 rows x 3 columns]"
      ]
     },
     "execution_count": 3,
     "metadata": {},
     "output_type": "execute_result"
    }
   ],
   "source": [
    "data"
   ]
  },
  {
   "cell_type": "code",
   "execution_count": 6,
   "id": "1f202596-de5b-46f6-97c5-e3cf60ea94f2",
   "metadata": {},
   "outputs": [
    {
     "data": {
      "text/plain": [
       "(500, 3)"
      ]
     },
     "execution_count": 6,
     "metadata": {},
     "output_type": "execute_result"
    }
   ],
   "source": [
    "# 데이터 크기 확인하기\n",
    "data.shape   # (행, 열)을 결과값으로 돌려줌\n",
    "# 통계학에서는 이 결과를 '관측치'라고 말하기도 함"
   ]
  },
  {
   "cell_type": "code",
   "execution_count": 9,
   "id": "aa31f76e-c461-47b1-90f7-fa59710a0ebb",
   "metadata": {},
   "outputs": [
    {
     "name": "stdout",
     "output_type": "stream",
     "text": [
      "<class 'pandas.core.frame.DataFrame'>\n",
      "Index: 500 entries, Obesity to Extreme Obesity\n",
      "Data columns (total 3 columns):\n",
      " #   Column  Non-Null Count  Dtype \n",
      "---  ------  --------------  ----- \n",
      " 0   Gender  500 non-null    object\n",
      " 1   Height  500 non-null    int64 \n",
      " 2   Weight  500 non-null    int64 \n",
      "dtypes: int64(2), object(1)\n",
      "memory usage: 15.6+ KB\n"
     ]
    }
   ],
   "source": [
    "# 결측치 확인하기\n",
    "# => 위 표에 ...으로 표현되어있는 데이터들 중 빈 칸이 있을 수도 있으니 반드시 확인 필요함\n",
    "\n",
    "# 데이터의 정보 확인하기\n",
    "data.info()\n",
    "# => 행과 열에 대한 정보, 결측치(null) 여부 확인 가능\n",
    "# non-null count값을 확인해서 결측치의 여부 확인 가능\n",
    "# non-null count => 값이 채워져 있는 행의 개수 확인 가능\n",
    "# Dtype을 통해서는 데이터 타입 확인 가능 - 머신러닝 학습 시 숫자 형태의 데이터 활용"
   ]
  },
  {
   "cell_type": "markdown",
   "id": "bbaefd81-2c5f-42db-990e-ee3e17430c11",
   "metadata": {},
   "source": [
    "##### 3. 데이터 전처리\n",
    "- data.info()를 통해서 결측치가 없다라는 걸 확인했으니 => 데이터 전처리 단계 PASS"
   ]
  },
  {
   "cell_type": "markdown",
   "id": "53a85513-cf81-4dc1-8e18-3b36db17a278",
   "metadata": {},
   "source": [
    "##### 4. EDA(탐색적 데이터 분석, Exploratoy Data Analysis)\n",
    "- 데이터 셋을 분석하고 조사하여 주요 특성을 파악하는 과정\n",
    "- 기술 통계량 확인\n",
    "- 시각화를 통해서 데이터 분포 현황 파악"
   ]
  },
  {
   "cell_type": "code",
   "execution_count": 12,
   "id": "9aba999f-1577-45cd-824b-e3208a1cd880",
   "metadata": {},
   "outputs": [
    {
     "data": {
      "text/html": [
       "<div>\n",
       "<style scoped>\n",
       "    .dataframe tbody tr th:only-of-type {\n",
       "        vertical-align: middle;\n",
       "    }\n",
       "\n",
       "    .dataframe tbody tr th {\n",
       "        vertical-align: top;\n",
       "    }\n",
       "\n",
       "    .dataframe thead th {\n",
       "        text-align: right;\n",
       "    }\n",
       "</style>\n",
       "<table border=\"1\" class=\"dataframe\">\n",
       "  <thead>\n",
       "    <tr style=\"text-align: right;\">\n",
       "      <th></th>\n",
       "      <th>Height</th>\n",
       "      <th>Weight</th>\n",
       "    </tr>\n",
       "  </thead>\n",
       "  <tbody>\n",
       "    <tr>\n",
       "      <th>count</th>\n",
       "      <td>500.000000</td>\n",
       "      <td>500.000000</td>\n",
       "    </tr>\n",
       "    <tr>\n",
       "      <th>mean</th>\n",
       "      <td>169.944000</td>\n",
       "      <td>106.000000</td>\n",
       "    </tr>\n",
       "    <tr>\n",
       "      <th>std</th>\n",
       "      <td>16.375261</td>\n",
       "      <td>32.382607</td>\n",
       "    </tr>\n",
       "    <tr>\n",
       "      <th>min</th>\n",
       "      <td>140.000000</td>\n",
       "      <td>50.000000</td>\n",
       "    </tr>\n",
       "    <tr>\n",
       "      <th>25%</th>\n",
       "      <td>156.000000</td>\n",
       "      <td>80.000000</td>\n",
       "    </tr>\n",
       "    <tr>\n",
       "      <th>50%</th>\n",
       "      <td>170.500000</td>\n",
       "      <td>106.000000</td>\n",
       "    </tr>\n",
       "    <tr>\n",
       "      <th>75%</th>\n",
       "      <td>184.000000</td>\n",
       "      <td>136.000000</td>\n",
       "    </tr>\n",
       "    <tr>\n",
       "      <th>max</th>\n",
       "      <td>199.000000</td>\n",
       "      <td>160.000000</td>\n",
       "    </tr>\n",
       "  </tbody>\n",
       "</table>\n",
       "</div>"
      ],
      "text/plain": [
       "           Height      Weight\n",
       "count  500.000000  500.000000\n",
       "mean   169.944000  106.000000\n",
       "std     16.375261   32.382607\n",
       "min    140.000000   50.000000\n",
       "25%    156.000000   80.000000\n",
       "50%    170.500000  106.000000\n",
       "75%    184.000000  136.000000\n",
       "max    199.000000  160.000000"
      ]
     },
     "execution_count": 12,
     "metadata": {},
     "output_type": "execute_result"
    }
   ],
   "source": [
    "# 기술 통계량 확인하기 (describe : 기술하다, 작성하다)\n",
    "data.describe()\n",
    "# describe는 숫자데이터만 보여짐\n",
    "# count : 데이터의 개수\n",
    "# mean : 데이터의 평균값\n",
    "# std : 분산\n",
    "# min, max : 최소값, 최대값\n",
    "# 수치(25%, 50%, 75%) : 4분위수 - 50%(중앙값, 중위수)\n",
    "\n",
    "# describe를 통해서 평균값과 중앙값(중위값)을 확인해 본 결과\n",
    "# 차이가 많이 안나는 걸 확인할 수 있는데 이상치가 없음을 유추할 수 있다!\n",
    "# (=> 전처리 단계로 돌아가지 않아도 되지만 시각화로 한 번 더 확인하는 것이 좋음)"
   ]
  },
  {
   "cell_type": "code",
   "execution_count": 15,
   "id": "1ff57031-2637-4a18-ab19-f27c7b81f7fb",
   "metadata": {},
   "outputs": [
    {
     "data": {
      "text/plain": [
       "Index(['Obesity', 'Normal', 'Overweight', 'Extreme Obesity', 'Weak',\n",
       "       'Extremely Weak'],\n",
       "      dtype='object', name='Label')"
      ]
     },
     "execution_count": 15,
     "metadata": {},
     "output_type": "execute_result"
    }
   ],
   "source": [
    "# 클래스(Class)의 개수 : 정답 데이터의 카테고리 개수\n",
    "# 클래스(Class) - 명시적인 답\n",
    "# Label(정답 데이터) 확인\n",
    "# 범주형 데이터 -> 분류 모델 사용\n",
    "data.index.unique()\n",
    "# unique : 중복되지 않은 하나의 값을 볼 수 있도록 해주는 함수\n",
    "\n",
    "# 6개의 클래스를 가진다.(Obesity, Normal ...)\n",
    "# 6개의 클래스(카테고리) 중 1개의 값을 예측하면 된다!"
   ]
  },
  {
   "cell_type": "code",
   "execution_count": 16,
   "id": "5bebfd67-3af8-4daa-9789-9fb5350e39ab",
   "metadata": {},
   "outputs": [
    {
     "data": {
      "text/plain": [
       "Label\n",
       "Extreme Obesity    198\n",
       "Obesity            130\n",
       "Normal              69\n",
       "Overweight          68\n",
       "Weak                22\n",
       "Extremely Weak      13\n",
       "Name: count, dtype: int64"
      ]
     },
     "execution_count": 16,
     "metadata": {},
     "output_type": "execute_result"
    }
   ],
   "source": [
    "# 각 클래스의 등장 횟수 확인 : value_counts()\n",
    "# data.index :정답 데이터 확인 가능\n",
    "data.index.value_counts()\n",
    "# => Extreme Obesity, Obesity 데이터가 편중되어있는 편 (골고루 분포되어 있지 않음)\n",
    "# 정답 데이터는 되도록이면 다양성을 유지하는 것이 좋음 => 정확도가 올라감(새로운 데이터가 나왔을 때)"
   ]
  },
  {
   "cell_type": "code",
   "execution_count": 40,
   "id": "fe97cb2c-1fc4-4949-892e-0d9fafa99220",
   "metadata": {},
   "outputs": [
    {
     "data": {
      "image/png": "[encoded data removed]",
      "text/plain": [
       "<Figure size 640x480 with 1 Axes>"
      ]
     },
     "metadata": {},
     "output_type": "display_data"
    }
   ],
   "source": [
    "# 산점도(Scatter) : 분산의 정도를 점을 찍어서 확인하는 분포표\n",
    "# 데이터 시각화 (BMI 레이블 별의 분포 현황 시각화)\n",
    "eo = data.loc['Extreme Obesity']\n",
    "# 인덱싱 - 인덱서(loc, iloc)\n",
    "# loc : 인덱서 이름을 통해 가져옴\n",
    "# iloc- 인덱서 값을 통해 가져옴\n",
    "\n",
    "# plt.scatter(x축/키 , y축/몸무게 , c = '' , label = 'Extreme Obesity')\n",
    "plt.scatter(eo['Height'], eo['Weight'], c='purple', label = 'Extreme Obesity')\n",
    "# Extreme Obesity라는 마크를 보여주려면 아래 두 줄을 적어줘야 확인 가능\n",
    "plt.legend()   # 범주값을 보기 위해\n",
    "plt.show()"
   ]
  },
  {
   "cell_type": "markdown",
   "id": "7b8dcf4f-fbe6-4a77-b3e5-105cee9a6328",
   "metadata": {},
   "source": [
    "#### 실습"
   ]
  },
  {
   "cell_type": "code",
   "execution_count": 26,
   "id": "f0bbd9bd-e8d9-4ced-9fa4-d16d065fea83",
   "metadata": {},
   "outputs": [
    {
     "data": {
      "image/png": "[encoded data removed]",
      "text/plain": [
       "<Figure size 640x480 with 1 Axes>"
      ]
     },
     "metadata": {},
     "output_type": "display_data"
    }
   ],
   "source": [
    "# 비만 클래스에 대해서 산점도 직접 그려보자!\n",
    "o = data.loc['Obesity']\n",
    "plt.scatter(o['Height'], o['Weight'], c = 'pink', label = 'Obesity')\n",
    "plt.legend()\n",
    "plt.show()"
   ]
  },
  {
   "cell_type": "code",
   "execution_count": 34,
   "id": "ccd0b907-8b0e-47e1-be8f-a64f311259a7",
   "metadata": {},
   "outputs": [],
   "source": [
    "# 동일한 작업을 여러 번 진행하기 때문에 위 작업을 함수화 해보자\n",
    "# 함수 정의하기\n",
    "def graph_draw (label, color) :   # 매개변수 2개 설정 - label명, 산점도 색상\n",
    "    d = data.loc[label]\n",
    "    plt.scatter(d['Height'], d['Weight'], c = color, label = label)"
   ]
  },
  {
   "cell_type": "code",
   "execution_count": 38,
   "id": "60e8335f-1388-4696-a2f5-bc891bf26217",
   "metadata": {},
   "outputs": [
    {
     "data": {
      "image/png": "[encoded data removed]",
      "text/plain": [
       "<Figure size 640x480 with 1 Axes>"
      ]
     },
     "metadata": {},
     "output_type": "display_data"
    }
   ],
   "source": [
    "# 함수 호출 - 6개 레이블에 대해서 산점도를 찍어보는 작업\n",
    "graph_draw('Extreme Obesity', 'red')\n",
    "graph_draw('Obesity', 'orange')\n",
    "graph_draw('Overweight', 'yellow')\n",
    "graph_draw('Normal', 'green')\n",
    "graph_draw('Weak', 'blue')\n",
    "graph_draw('Extremely Weak', 'purple')\n",
    "plt.legend()\n",
    "plt.show()\n",
    "\n",
    "# 그래프를 확인하여 전처리에 대해서 생각을 해봐야한다\n",
    "# 분석 내용\n",
    "# → 노란색 과체중 데이터가 비만 쪽에 한 개 있기는 하지만 크게 영향을 미치지 않을 것으로 보고 모델 학습 진행\n",
    "# → 정확도를 더 높이고 싶다면 다시 돌아와 이상치 처리해 줄 것!"
   ]
  },
  {
   "cell_type": "markdown",
   "id": "379d7a32-ce38-47b2-80b7-07f31b4534f5",
   "metadata": {},
   "source": [
    "##### 데이터 분리\n",
    "- 문제 데이터(X), 정답 데이터(y)로 나눠주기\n",
    "    - X : 문제 데이터, feature, 특성, 속성\n",
    "    - y : 정답 데이터, label, class, target\n",
    "- 학습용(train), 테스트용(test) 데이터로 나누기\n",
    "    - 대부분 7:3정도의 비율로 분리해준다"
   ]
  },
  {
   "cell_type": "code",
   "execution_count": 101,
   "id": "51773d07-e349-4356-9130-267becf632ba",
   "metadata": {},
   "outputs": [
    {
     "name": "stdout",
     "output_type": "stream",
     "text": [
      "문제 데이터:  (500, 2)\n",
      "정답 데이터:  (500,)\n"
     ]
    },
    {
     "data": {
      "text/html": [
       "<div>\n",
       "<style scoped>\n",
       "    .dataframe tbody tr th:only-of-type {\n",
       "        vertical-align: middle;\n",
       "    }\n",
       "\n",
       "    .dataframe tbody tr th {\n",
       "        vertical-align: top;\n",
       "    }\n",
       "\n",
       "    .dataframe thead th {\n",
       "        text-align: right;\n",
       "    }\n",
       "</style>\n",
       "<table border=\"1\" class=\"dataframe\">\n",
       "  <thead>\n",
       "    <tr style=\"text-align: right;\">\n",
       "      <th></th>\n",
       "      <th>Height</th>\n",
       "      <th>Weight</th>\n",
       "    </tr>\n",
       "    <tr>\n",
       "      <th>Label</th>\n",
       "      <th></th>\n",
       "      <th></th>\n",
       "    </tr>\n",
       "  </thead>\n",
       "  <tbody>\n",
       "    <tr>\n",
       "      <th>Obesity</th>\n",
       "      <td>174</td>\n",
       "      <td>96</td>\n",
       "    </tr>\n",
       "    <tr>\n",
       "      <th>Normal</th>\n",
       "      <td>189</td>\n",
       "      <td>87</td>\n",
       "    </tr>\n",
       "    <tr>\n",
       "      <th>Obesity</th>\n",
       "      <td>185</td>\n",
       "      <td>110</td>\n",
       "    </tr>\n",
       "    <tr>\n",
       "      <th>Overweight</th>\n",
       "      <td>195</td>\n",
       "      <td>104</td>\n",
       "    </tr>\n",
       "    <tr>\n",
       "      <th>Overweight</th>\n",
       "      <td>149</td>\n",
       "      <td>61</td>\n",
       "    </tr>\n",
       "    <tr>\n",
       "      <th>...</th>\n",
       "      <td>...</td>\n",
       "      <td>...</td>\n",
       "    </tr>\n",
       "    <tr>\n",
       "      <th>Extreme Obesity</th>\n",
       "      <td>150</td>\n",
       "      <td>153</td>\n",
       "    </tr>\n",
       "    <tr>\n",
       "      <th>Obesity</th>\n",
       "      <td>184</td>\n",
       "      <td>121</td>\n",
       "    </tr>\n",
       "    <tr>\n",
       "      <th>Extreme Obesity</th>\n",
       "      <td>141</td>\n",
       "      <td>136</td>\n",
       "    </tr>\n",
       "    <tr>\n",
       "      <th>Extreme Obesity</th>\n",
       "      <td>150</td>\n",
       "      <td>95</td>\n",
       "    </tr>\n",
       "    <tr>\n",
       "      <th>Extreme Obesity</th>\n",
       "      <td>173</td>\n",
       "      <td>131</td>\n",
       "    </tr>\n",
       "  </tbody>\n",
       "</table>\n",
       "<p>500 rows × 2 columns</p>\n",
       "</div>"
      ],
      "text/plain": [
       "                 Height  Weight\n",
       "Label                          \n",
       "Obesity             174      96\n",
       "Normal              189      87\n",
       "Obesity             185     110\n",
       "Overweight          195     104\n",
       "Overweight          149      61\n",
       "...                 ...     ...\n",
       "Extreme Obesity     150     153\n",
       "Obesity             184     121\n",
       "Extreme Obesity     141     136\n",
       "Extreme Obesity     150      95\n",
       "Extreme Obesity     173     131\n",
       "\n",
       "[500 rows x 2 columns]"
      ]
     },
     "execution_count": 101,
     "metadata": {},
     "output_type": "execute_result"
    }
   ],
   "source": [
    "# 문제 데이터, 정답 데이터 분리\n",
    "# X(변수) - 문제 데이터 (Height, Weight)\n",
    "# y - 정답 데이터 (label → index_col)\n",
    "\n",
    "# 1) X = data.loc[ : ,'Height':'Weight'] → 슬라이싱 방법\n",
    "# 2)\n",
    "X = data[['Height','Weight']]\n",
    "y = data.index\n",
    "\n",
    "# 잘 담아졌는지 각각 확인하기 (크기 확인: shape)\n",
    "print('문제 데이터: ', X.shape)\n",
    "print('정답 데이터: ', y.shape)\n",
    "X"
   ]
  },
  {
   "cell_type": "code",
   "execution_count": 62,
   "id": "1553757f-a6f6-4e78-9df1-2b78058b63d6",
   "metadata": {},
   "outputs": [
    {
     "name": "stdout",
     "output_type": "stream",
     "text": [
      "훈련용 문제 :  (350, 2)\n",
      "훈련용 정답 :  (350,)\n",
      "테스트용 문제 :  (150, 2)\n",
      "테스트용 문제 :  (150,)\n"
     ]
    }
   ],
   "source": [
    "# train, test (70:30) 분리\n",
    "# 한정적인 데이터 내에서 학습과 평가까지 진행해야 하기 때문에 평가 데이터를 남겨주는 것!\n",
    "\n",
    "# 훈련용 데이터 셋 70% - 350개 사용 (0 - 349) 잘라서 가져오기\n",
    "X_train = X.iloc[ :350, : ]   # 훈련용 문제 데이터 (iloc - 끝점 포함 안 함)\n",
    "y_train = y[ :350]   # 훈련용 정답 데이터\n",
    "\n",
    "# 테스트용 데이터 셋 30% - 150개 사용 (인덱스 350 - 500) 잘라서 가져오기\n",
    "X_test = X.iloc[350:500 , : ]\n",
    "y_test = y[350:500]\n",
    "# 확인을 했을 때 350이라는 숫자들과 150이라는 숫자들과 2라는 숫자들은 같아야 함 (다른 예시였더라도?)\n",
    "\n",
    "# 크기 확인하기\n",
    "print('훈련용 문제 : ', X_train.shape)\n",
    "print('훈련용 정답 : ', y_train.shape)\n",
    "print('테스트용 문제 : ', X_test.shape)\n",
    "print('테스트용 문제 : ', y_test.shape)"
   ]
  },
  {
   "cell_type": "markdown",
   "id": "edf4d69a-a75f-4966-b0da-7e7931ecac90",
   "metadata": {},
   "source": [
    "##### 5. 모델 선택 및 하이퍼 파라미터 선택\n",
    "- 모델의 개념에 집중하기 보다는 전체적인 과정을 이해해보자!"
   ]
  },
  {
   "cell_type": "code",
   "execution_count": 64,
   "id": "c120e19a-25a9-4195-b162-44bcce30020e",
   "metadata": {},
   "outputs": [],
   "source": [
    "# 머신러닝을 위한 라이브러리 불러오기 - 사이킷런(scikit-learn)\n",
    "from sklearn.neighbors import KNeighborsClassifier   # Knn 분류 모델\n",
    "from sklearn.metrics import accuracy_score   # 정확도 측정 도구가 담겨있음"
   ]
  },
  {
   "cell_type": "markdown",
   "id": "84071ae1-1623-4d54-96c1-b6a47820169e",
   "metadata": {},
   "source": [
    "# 모델 객체 생성\n",
    "knn_model = KNeighborsClassifier()\n",
    "- Shift + Tab => "
   ]
  },
  {
   "cell_type": "code",
   "execution_count": 108,
   "id": "63ec0fed-beb0-44ac-99d2-25be21e12fc2",
   "metadata": {},
   "outputs": [],
   "source": [
    "# 하이퍼 파라미터 조정(변경)해주기\n",
    "knn_model = KNeighborsClassifier(n_neighbors = 5)   \n",
    "# n_neighbors = ? : 내 주변에 있는(나와 가장 근접해 있는) 몇 개(?)의 데이터만 확인하여 결정\n",
    "# 내 주변에 있는 가장 가까운 데이터들 중 다수결로 결정(분류)\n",
    "# 분류 - 다수결 , 회귀 - 평균값으로 예측"
   ]
  },
  {
   "cell_type": "markdown",
   "id": "1897a613-5223-472b-ab89-6358375f07e1",
   "metadata": {},
   "source": [
    "##### 6. 모델 학습\n",
    "- model.fit(훈련용 문제 데이터, 훈련용 정답 데이터)\n",
    "- model.fit(X_train, y_train)"
   ]
  },
  {
   "cell_type": "code",
   "execution_count": 105,
   "id": "98d51239-8068-4aeb-9be9-29fcf7952a45",
   "metadata": {},
   "outputs": [
    {
     "data": {
      "text/html": [
       "<style>#sk-container-id-9 {color: black;background-color: white;}#sk-container-id-9 pre{padding: 0;}#sk-container-id-9 div.sk-toggleable {background-color: white;}#sk-container-id-9 label.sk-toggleable__label {cursor: pointer;display: block;width: 100%;margin-bottom: 0;padding: 0.3em;box-sizing: border-box;text-align: center;}#sk-container-id-9 label.sk-toggleable__label-arrow:before {content: \"▸\";float: left;margin-right: 0.25em;color: #696969;}#sk-container-id-9 label.sk-toggleable__label-arrow:hover:before {color: black;}#sk-container-id-9 div.sk-estimator:hover label.sk-toggleable__label-arrow:before {color: black;}#sk-container-id-9 div.sk-toggleable__content {max-height: 0;max-width: 0;overflow: hidden;text-align: left;background-color: #f0f8ff;}#sk-container-id-9 div.sk-toggleable__content pre {margin: 0.2em;color: black;border-radius: 0.25em;background-color: #f0f8ff;}#sk-container-id-9 input.sk-toggleable__control:checked~div.sk-toggleable__content {max-height: 200px;max-width: 100%;overflow: auto;}#sk-container-id-9 input.sk-toggleable__control:checked~label.sk-toggleable__label-arrow:before {content: \"▾\";}#sk-container-id-9 div.sk-estimator input.sk-toggleable__control:checked~label.sk-toggleable__label {background-color: #d4ebff;}#sk-container-id-9 div.sk-label input.sk-toggleable__control:checked~label.sk-toggleable__label {background-color: #d4ebff;}#sk-container-id-9 input.sk-hidden--visually {border: 0;clip: rect(1px 1px 1px 1px);clip: rect(1px, 1px, 1px, 1px);height: 1px;margin: -1px;overflow: hidden;padding: 0;position: absolute;width: 1px;}#sk-container-id-9 div.sk-estimator {font-family: monospace;background-color: #f0f8ff;border: 1px dotted black;border-radius: 0.25em;box-sizing: border-box;margin-bottom: 0.5em;}#sk-container-id-9 div.sk-estimator:hover {background-color: #d4ebff;}#sk-container-id-9 div.sk-parallel-item::after {content: \"\";width: 100%;border-bottom: 1px solid gray;flex-grow: 1;}#sk-container-id-9 div.sk-label:hover label.sk-toggleable__label {background-color: #d4ebff;}#sk-container-id-9 div.sk-serial::before {content: \"\";position: absolute;border-left: 1px solid gray;box-sizing: border-box;top: 0;bottom: 0;left: 50%;z-index: 0;}#sk-container-id-9 div.sk-serial {display: flex;flex-direction: column;align-items: center;background-color: white;padding-right: 0.2em;padding-left: 0.2em;position: relative;}#sk-container-id-9 div.sk-item {position: relative;z-index: 1;}#sk-container-id-9 div.sk-parallel {display: flex;align-items: stretch;justify-content: center;background-color: white;position: relative;}#sk-container-id-9 div.sk-item::before, #sk-container-id-9 div.sk-parallel-item::before {content: \"\";position: absolute;border-left: 1px solid gray;box-sizing: border-box;top: 0;bottom: 0;left: 50%;z-index: -1;}#sk-container-id-9 div.sk-parallel-item {display: flex;flex-direction: column;z-index: 1;position: relative;background-color: white;}#sk-container-id-9 div.sk-parallel-item:first-child::after {align-self: flex-end;width: 50%;}#sk-container-id-9 div.sk-parallel-item:last-child::after {align-self: flex-start;width: 50%;}#sk-container-id-9 div.sk-parallel-item:only-child::after {width: 0;}#sk-container-id-9 div.sk-dashed-wrapped {border: 1px dashed gray;margin: 0 0.4em 0.5em 0.4em;box-sizing: border-box;padding-bottom: 0.4em;background-color: white;}#sk-container-id-9 div.sk-label label {font-family: monospace;font-weight: bold;display: inline-block;line-height: 1.2em;}#sk-container-id-9 div.sk-label-container {text-align: center;}#sk-container-id-9 div.sk-container {/* jupyter's `normalize.less` sets `[hidden] { display: none; }` but bootstrap.min.css set `[hidden] { display: none !important; }` so we also need the `!important` here to be able to override the default hidden behavior on the sphinx rendered scikit-learn.org. See: https://github.com/scikit-learn/scikit-learn/issues/21755 */display: inline-block !important;position: relative;}#sk-container-id-9 div.sk-text-repr-fallback {display: none;}</style><div id=\"sk-container-id-9\" class=\"sk-top-container\"><div class=\"sk-text-repr-fallback\"><pre>KNeighborsClassifier()</pre><b>In a Jupyter environment, please rerun this cell to show the HTML representation or trust the notebook. <br />On GitHub, the HTML representation is unable to render, please try loading this page with nbviewer.org.</b></div><div class=\"sk-container\" hidden><div class=\"sk-item\"><div class=\"sk-estimator sk-toggleable\"><input class=\"sk-toggleable__control sk-hidden--visually\" id=\"sk-estimator-id-9\" type=\"checkbox\" checked><label for=\"sk-estimator-id-9\" class=\"sk-toggleable__label sk-toggleable__label-arrow\">KNeighborsClassifier</label><div class=\"sk-toggleable__content\"><pre>KNeighborsClassifier()</pre></div></div></div></div></div>"
      ],
      "text/plain": [
       "KNeighborsClassifier()"
      ]
     },
     "execution_count": 105,
     "metadata": {},
     "output_type": "execute_result"
    }
   ],
   "source": [
    "knn_model.fit(X_train, y_train)"
   ]
  },
  {
   "cell_type": "code",
   "execution_count": 106,
   "id": "7bd0b159-5c93-4e4d-b28f-b872dcdbe067",
   "metadata": {
    "scrolled": true
   },
   "outputs": [
    {
     "data": {
      "text/plain": [
       "array(['Overweight', 'Normal', 'Normal', 'Extreme Obesity',\n",
       "       'Extremely Weak', 'Obesity', 'Obesity', 'Extreme Obesity', 'Weak',\n",
       "       'Extreme Obesity', 'Weak', 'Extreme Obesity', 'Extreme Obesity',\n",
       "       'Obesity', 'Extreme Obesity', 'Obesity', 'Overweight', 'Obesity',\n",
       "       'Extreme Obesity', 'Obesity', 'Overweight', 'Extreme Obesity',\n",
       "       'Weak', 'Normal', 'Obesity', 'Extreme Obesity', 'Extreme Obesity',\n",
       "       'Extreme Obesity', 'Obesity', 'Overweight', 'Extreme Obesity',\n",
       "       'Weak', 'Obesity', 'Extreme Obesity', 'Extreme Obesity', 'Weak',\n",
       "       'Extreme Obesity', 'Obesity', 'Overweight', 'Normal', 'Normal',\n",
       "       'Normal', 'Normal', 'Overweight', 'Extreme Obesity', 'Overweight',\n",
       "       'Overweight', 'Extreme Obesity', 'Overweight', 'Extreme Obesity',\n",
       "       'Overweight', 'Obesity', 'Normal', 'Obesity', 'Obesity',\n",
       "       'Extreme Obesity', 'Normal', 'Extreme Obesity', 'Extreme Obesity',\n",
       "       'Extreme Obesity', 'Weak', 'Obesity', 'Extreme Obesity',\n",
       "       'Extreme Obesity', 'Extreme Obesity', 'Obesity', 'Extreme Obesity',\n",
       "       'Normal', 'Extreme Obesity', 'Normal', 'Weak', 'Extreme Obesity',\n",
       "       'Extreme Obesity', 'Obesity', 'Weak', 'Weak', 'Extreme Obesity',\n",
       "       'Obesity', 'Obesity', 'Obesity', 'Overweight', 'Extreme Obesity',\n",
       "       'Extreme Obesity', 'Obesity', 'Normal', 'Extreme Obesity',\n",
       "       'Extreme Obesity', 'Extreme Obesity', 'Weak', 'Extreme Obesity',\n",
       "       'Obesity', 'Normal', 'Extreme Obesity', 'Extreme Obesity',\n",
       "       'Obesity', 'Extreme Obesity', 'Obesity', 'Obesity',\n",
       "       'Extreme Obesity', 'Extreme Obesity', 'Extreme Obesity', 'Obesity',\n",
       "       'Extreme Obesity', 'Extremely Weak', 'Normal', 'Normal', 'Obesity',\n",
       "       'Overweight', 'Obesity', 'Extreme Obesity', 'Obesity',\n",
       "       'Extreme Obesity', 'Weak', 'Extreme Obesity', 'Overweight',\n",
       "       'Extreme Obesity', 'Overweight', 'Extreme Obesity',\n",
       "       'Extreme Obesity', 'Overweight', 'Extreme Obesity',\n",
       "       'Extreme Obesity', 'Normal', 'Obesity', 'Overweight', 'Obesity',\n",
       "       'Extreme Obesity', 'Normal', 'Normal', 'Extreme Obesity',\n",
       "       'Extreme Obesity', 'Obesity', 'Extreme Obesity', 'Extreme Obesity',\n",
       "       'Obesity', 'Obesity', 'Extreme Obesity', 'Normal', 'Obesity',\n",
       "       'Extreme Obesity', 'Normal', 'Extreme Obesity', 'Extremely Weak',\n",
       "       'Normal', 'Extreme Obesity', 'Extreme Obesity', 'Obesity',\n",
       "       'Extreme Obesity', 'Extreme Obesity', 'Extreme Obesity'],\n",
       "      dtype=object)"
      ]
     },
     "execution_count": 106,
     "metadata": {},
     "output_type": "execute_result"
    }
   ],
   "source": [
    "# 모델이 예측하는 값 확인\n",
    "# 얼마나 잘 예측하는 지 확인하는 과정\n",
    "# model.predict(X_test)\n",
    "pre = knn_model.predict(X_test)\n",
    "pre"
   ]
  },
  {
   "cell_type": "markdown",
   "id": "00651c06-3e7c-42ea-bc3b-5148bbfbcd27",
   "metadata": {},
   "source": [
    "##### 7. 모델 평가\n",
    "- 모델 평가 도구 활용"
   ]
  },
  {
   "cell_type": "code",
   "execution_count": 107,
   "id": "e41a703b-2b8e-4bd7-880d-80e4dfee5d9c",
   "metadata": {},
   "outputs": [
    {
     "data": {
      "text/plain": [
       "0.9066666666666666"
      ]
     },
     "execution_count": 107,
     "metadata": {},
     "output_type": "execute_result"
    }
   ],
   "source": [
    "# accuracy_score(모델 예측값, 테스트용 실제 정답) : 정확도 확인 도구\n",
    "accuracy_score(pre, y_test)\n",
    "# accuracy_score()는 1에 가까울수록 정확도가 높다\n",
    "# => 약 90.6%의 정확도를 가진다는 것을 확인할 수 있음\n",
    "# 5단계에서 하이퍼 파라미터를 'n_neighbors = 숫자' 이렇게 조절해줄 수 있음"
   ]
  },
  {
   "cell_type": "code",
   "execution_count": null,
   "id": "40762552-6efb-4961-9e63-de893ba0741d",
   "metadata": {},
   "outputs": [],
   "source": []
  }
 ],
 "metadata": {
  "kernelspec": {
   "display_name": "Python 3 (ipykernel)",
   "language": "python",
   "name": "python3"
  },
  "language_info": {
   "codemirror_mode": {
    "name": "ipython",
    "version": 3
   },
   "file_extension": ".py",
   "mimetype": "text/x-python",
   "name": "python",
   "nbconvert_exporter": "python",
   "pygments_lexer": "ipython3",
   "version": "3.11.7"
  }
 },
 "nbformat": 4,
 "nbformat_minor": 5
}
