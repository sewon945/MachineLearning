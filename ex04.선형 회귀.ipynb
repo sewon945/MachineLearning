{
 "cells": [
  {
   "cell_type": "markdown",
   "id": "0db6d253-6bbc-4d08-b8f9-51b3710884d6",
   "metadata": {},
   "source": [
    "### 성적데이터 생성"
   ]
  },
  {
   "cell_type": "code",
   "execution_count": 1,
   "id": "5dd424ff-39ae-4b19-bf4c-54519b6480db",
   "metadata": {},
   "outputs": [],
   "source": [
    "import numpy as np\n",
    "import pandas as pd\n",
    "import matplotlib.pyplot as plt"
   ]
  },
  {
   "cell_type": "code",
   "execution_count": 3,
   "id": "605e6b7b-d3d2-4e5c-8062-caea95be1f90",
   "metadata": {},
   "outputs": [
    {
     "data": {
      "text/html": [
       "<div>\n",
       "<style scoped>\n",
       "    .dataframe tbody tr th:only-of-type {\n",
       "        vertical-align: middle;\n",
       "    }\n",
       "\n",
       "    .dataframe tbody tr th {\n",
       "        vertical-align: top;\n",
       "    }\n",
       "\n",
       "    .dataframe thead th {\n",
       "        text-align: right;\n",
       "    }\n",
       "</style>\n",
       "<table border=\"1\" class=\"dataframe\">\n",
       "  <thead>\n",
       "    <tr style=\"text-align: right;\">\n",
       "      <th></th>\n",
       "      <th>시간</th>\n",
       "      <th>성적</th>\n",
       "    </tr>\n",
       "  </thead>\n",
       "  <tbody>\n",
       "    <tr>\n",
       "      <th>0</th>\n",
       "      <td>2</td>\n",
       "      <td>20</td>\n",
       "    </tr>\n",
       "    <tr>\n",
       "      <th>1</th>\n",
       "      <td>4</td>\n",
       "      <td>40</td>\n",
       "    </tr>\n",
       "    <tr>\n",
       "      <th>2</th>\n",
       "      <td>8</td>\n",
       "      <td>80</td>\n",
       "    </tr>\n",
       "    <tr>\n",
       "      <th>3</th>\n",
       "      <td>9</td>\n",
       "      <td>90</td>\n",
       "    </tr>\n",
       "  </tbody>\n",
       "</table>\n",
       "</div>"
      ],
      "text/plain": [
       "   시간  성적\n",
       "0   2  20\n",
       "1   4  40\n",
       "2   8  80\n",
       "3   9  90"
      ]
     },
     "execution_count": 3,
     "metadata": {},
     "output_type": "execute_result"
    }
   ],
   "source": [
    "# 시험 성적 모델\n",
    "data = pd.DataFrame(\n",
    "    {\"시간\":[2, 4, 8, 9],\n",
    "     \"성적\":[20, 40, 80, 90]}\n",
    ")\n",
    "data"
   ]
  },
  {
   "cell_type": "markdown",
   "id": "b955425f-2ccf-4b26-bf29-ae6d141ff478",
   "metadata": {},
   "source": [
    "#### w와 b를 찾는 2가지 방법\n",
    "1. 최소제곱법(OLS) : 수학적 공식을 이용한 해석적 방법, 해(w, b)는 고정적으로 산출됨 - ex) 방정식\n",
    "2. 경사하강법(GD) : w와 b값의 변화에 따른 오차(loss,post)값의 기울기를 이용하여 찾는 방법"
   ]
  },
  {
   "cell_type": "markdown",
   "id": "436b61cf-533f-4d4f-aaa2-df6bda708756",
   "metadata": {},
   "source": [
    "1. 최소제곱법이 적용된 sklearn 모델 사용해보기!"
   ]
  },
  {
   "cell_type": "code",
   "execution_count": 4,
   "id": "ab38d6d9-6b2e-4667-98ea-7ec5363b45b3",
   "metadata": {},
   "outputs": [],
   "source": [
    "from sklearn.linear_model import LinearRegression"
   ]
  },
  {
   "cell_type": "code",
   "execution_count": 6,
   "id": "145f394f-18e1-4c1f-b14b-90ca3932afe9",
   "metadata": {},
   "outputs": [],
   "source": [
    "# 모델 초기화(생성)\n",
    "lr_rg = LinearRegression()   # 우리가 조정해줄 하이퍼 파라미터가 없음"
   ]
  },
  {
   "cell_type": "code",
   "execution_count": 10,
   "id": "1a7b2c67-5082-42f2-9289-4d7222c671c7",
   "metadata": {},
   "outputs": [
    {
     "data": {
      "text/html": [
       "<div>\n",
       "<style scoped>\n",
       "    .dataframe tbody tr th:only-of-type {\n",
       "        vertical-align: middle;\n",
       "    }\n",
       "\n",
       "    .dataframe tbody tr th {\n",
       "        vertical-align: top;\n",
       "    }\n",
       "\n",
       "    .dataframe thead th {\n",
       "        text-align: right;\n",
       "    }\n",
       "</style>\n",
       "<table border=\"1\" class=\"dataframe\">\n",
       "  <thead>\n",
       "    <tr style=\"text-align: right;\">\n",
       "      <th></th>\n",
       "      <th>시간</th>\n",
       "    </tr>\n",
       "  </thead>\n",
       "  <tbody>\n",
       "    <tr>\n",
       "      <th>0</th>\n",
       "      <td>2</td>\n",
       "    </tr>\n",
       "    <tr>\n",
       "      <th>1</th>\n",
       "      <td>4</td>\n",
       "    </tr>\n",
       "    <tr>\n",
       "      <th>2</th>\n",
       "      <td>8</td>\n",
       "    </tr>\n",
       "    <tr>\n",
       "      <th>3</th>\n",
       "      <td>9</td>\n",
       "    </tr>\n",
       "  </tbody>\n",
       "</table>\n",
       "</div>"
      ],
      "text/plain": [
       "   시간\n",
       "0   2\n",
       "1   4\n",
       "2   8\n",
       "3   9"
      ]
     },
     "execution_count": 10,
     "metadata": {},
     "output_type": "execute_result"
    }
   ],
   "source": [
    "data[\"시간\"]   # 자료형 : 시리즈(1차원)\n",
    "data[[\"시간\"]]   # 프레임 - 2차원"
   ]
  },
  {
   "cell_type": "code",
   "execution_count": 13,
   "id": "f057c84f-6188-4b25-9e3b-d26949184a8a",
   "metadata": {},
   "outputs": [
    {
     "data": {
      "text/html": [
       "<style>#sk-container-id-2 {color: black;background-color: white;}#sk-container-id-2 pre{padding: 0;}#sk-container-id-2 div.sk-toggleable {background-color: white;}#sk-container-id-2 label.sk-toggleable__label {cursor: pointer;display: block;width: 100%;margin-bottom: 0;padding: 0.3em;box-sizing: border-box;text-align: center;}#sk-container-id-2 label.sk-toggleable__label-arrow:before {content: \"▸\";float: left;margin-right: 0.25em;color: #696969;}#sk-container-id-2 label.sk-toggleable__label-arrow:hover:before {color: black;}#sk-container-id-2 div.sk-estimator:hover label.sk-toggleable__label-arrow:before {color: black;}#sk-container-id-2 div.sk-toggleable__content {max-height: 0;max-width: 0;overflow: hidden;text-align: left;background-color: #f0f8ff;}#sk-container-id-2 div.sk-toggleable__content pre {margin: 0.2em;color: black;border-radius: 0.25em;background-color: #f0f8ff;}#sk-container-id-2 input.sk-toggleable__control:checked~div.sk-toggleable__content {max-height: 200px;max-width: 100%;overflow: auto;}#sk-container-id-2 input.sk-toggleable__control:checked~label.sk-toggleable__label-arrow:before {content: \"▾\";}#sk-container-id-2 div.sk-estimator input.sk-toggleable__control:checked~label.sk-toggleable__label {background-color: #d4ebff;}#sk-container-id-2 div.sk-label input.sk-toggleable__control:checked~label.sk-toggleable__label {background-color: #d4ebff;}#sk-container-id-2 input.sk-hidden--visually {border: 0;clip: rect(1px 1px 1px 1px);clip: rect(1px, 1px, 1px, 1px);height: 1px;margin: -1px;overflow: hidden;padding: 0;position: absolute;width: 1px;}#sk-container-id-2 div.sk-estimator {font-family: monospace;background-color: #f0f8ff;border: 1px dotted black;border-radius: 0.25em;box-sizing: border-box;margin-bottom: 0.5em;}#sk-container-id-2 div.sk-estimator:hover {background-color: #d4ebff;}#sk-container-id-2 div.sk-parallel-item::after {content: \"\";width: 100%;border-bottom: 1px solid gray;flex-grow: 1;}#sk-container-id-2 div.sk-label:hover label.sk-toggleable__label {background-color: #d4ebff;}#sk-container-id-2 div.sk-serial::before {content: \"\";position: absolute;border-left: 1px solid gray;box-sizing: border-box;top: 0;bottom: 0;left: 50%;z-index: 0;}#sk-container-id-2 div.sk-serial {display: flex;flex-direction: column;align-items: center;background-color: white;padding-right: 0.2em;padding-left: 0.2em;position: relative;}#sk-container-id-2 div.sk-item {position: relative;z-index: 1;}#sk-container-id-2 div.sk-parallel {display: flex;align-items: stretch;justify-content: center;background-color: white;position: relative;}#sk-container-id-2 div.sk-item::before, #sk-container-id-2 div.sk-parallel-item::before {content: \"\";position: absolute;border-left: 1px solid gray;box-sizing: border-box;top: 0;bottom: 0;left: 50%;z-index: -1;}#sk-container-id-2 div.sk-parallel-item {display: flex;flex-direction: column;z-index: 1;position: relative;background-color: white;}#sk-container-id-2 div.sk-parallel-item:first-child::after {align-self: flex-end;width: 50%;}#sk-container-id-2 div.sk-parallel-item:last-child::after {align-self: flex-start;width: 50%;}#sk-container-id-2 div.sk-parallel-item:only-child::after {width: 0;}#sk-container-id-2 div.sk-dashed-wrapped {border: 1px dashed gray;margin: 0 0.4em 0.5em 0.4em;box-sizing: border-box;padding-bottom: 0.4em;background-color: white;}#sk-container-id-2 div.sk-label label {font-family: monospace;font-weight: bold;display: inline-block;line-height: 1.2em;}#sk-container-id-2 div.sk-label-container {text-align: center;}#sk-container-id-2 div.sk-container {/* jupyter's `normalize.less` sets `[hidden] { display: none; }` but bootstrap.min.css set `[hidden] { display: none !important; }` so we also need the `!important` here to be able to override the default hidden behavior on the sphinx rendered scikit-learn.org. See: https://github.com/scikit-learn/scikit-learn/issues/21755 */display: inline-block !important;position: relative;}#sk-container-id-2 div.sk-text-repr-fallback {display: none;}</style><div id=\"sk-container-id-2\" class=\"sk-top-container\"><div class=\"sk-text-repr-fallback\"><pre>LinearRegression()</pre><b>In a Jupyter environment, please rerun this cell to show the HTML representation or trust the notebook. <br />On GitHub, the HTML representation is unable to render, please try loading this page with nbviewer.org.</b></div><div class=\"sk-container\" hidden><div class=\"sk-item\"><div class=\"sk-estimator sk-toggleable\"><input class=\"sk-toggleable__control sk-hidden--visually\" id=\"sk-estimator-id-2\" type=\"checkbox\" checked><label for=\"sk-estimator-id-2\" class=\"sk-toggleable__label sk-toggleable__label-arrow\">LinearRegression</label><div class=\"sk-toggleable__content\"><pre>LinearRegression()</pre></div></div></div></div></div>"
      ],
      "text/plain": [
       "LinearRegression()"
      ]
     },
     "execution_count": 13,
     "metadata": {},
     "output_type": "execute_result"
    }
   ],
   "source": [
    "# 학습 - 시간은 2차원으로 바꿔주기\n",
    "lr_rg.fit(data[[\"시간\"]], data[\"성적\"])"
   ]
  },
  {
   "cell_type": "code",
   "execution_count": 16,
   "id": "59136d2d-fd89-4985-b90c-6083b7efbe69",
   "metadata": {},
   "outputs": [
    {
     "name": "stderr",
     "output_type": "stream",
     "text": [
      "C:\\Users\\ggg\\anaconda3\\Lib\\site-packages\\sklearn\\base.py:439: UserWarning: X does not have valid feature names, but LinearRegression was fitted with feature names\n",
      "  warnings.warn(\n"
     ]
    },
    {
     "data": {
      "text/plain": [
       "array([70.])"
      ]
     },
     "execution_count": 16,
     "metadata": {},
     "output_type": "execute_result"
    }
   ],
   "source": [
    "# 예측\n",
    "lr_rg.predict([[7]])\n",
    "# => 70점이라고 예측\n",
    "# 경고 보기 싫으면 7을데이터프레임으로 쓰면 됨"
   ]
  },
  {
   "cell_type": "code",
   "execution_count": 17,
   "id": "3245e408-7848-4416-b8e6-78b5f54ba797",
   "metadata": {},
   "outputs": [
    {
     "name": "stdout",
     "output_type": "stream",
     "text": [
      "가중치 : [10.]\n",
      "절편 : 7.105427357601002e-15\n"
     ]
    }
   ],
   "source": [
    "# 가중치(w), 절편(b) 확인하기\n",
    "print(f\"가중치 : {lr_rg.coef_}\")   # 가중치, cofficient\n",
    "print(f\"절편 : {lr_rg.intercept_}\")   # 절편(속성)"
   ]
  },
  {
   "cell_type": "markdown",
   "id": "cdad4656-fa2f-49c0-8f9f-97e4a8905a80",
   "metadata": {},
   "source": [
    "#### 2. 경사하강법(GD, Gradient Descent)\n",
    "1. 파라미터(w, b) 초기화 : 임의의 값으로 초기화 시켜준다.\n",
    "2. 예측 : 현재 w와 b를 사용하여 예측을 수행한다. → $\\hat{y}=wx+b$\n",
    "3. 오차 계산 : 예측값과 실제값 사이의 오차를 계산한다.(MSE, Mean_Squared_Error)\n",
    "4. 기울기 계산 : Loss값이 낮아지는 <b>방향</b>을 찾기 위해서 w와 Loss(오차)값 간의 기울기 값을 계산한다.\n",
    "5. 파라미터 업데이트 : 기울기와 <b>학습률(Learning rate, α)</b>을 사용하여 파라미터(w, b)를 업데이트\n",
    "\n",
    " => Epooh 2번 ~ 6번 반복에서 경사하강법 찾기"
   ]
  },
  {
   "cell_type": "code",
   "execution_count": 19,
   "id": "28f06441-36cb-494c-b221-172a9e209abc",
   "metadata": {},
   "outputs": [],
   "source": [
    "# 가설함수 정의\n",
    "def h(w, x) : \n",
    "    return w * x + 0   # w에 x 곱하고 절편가지..?"
   ]
  },
  {
   "cell_type": "code",
   "execution_count": 20,
   "id": "05e9d60b-e4be-4a33-95ec-4b8a3577dfa6",
   "metadata": {},
   "outputs": [],
   "source": [
    "# MSE(평균제곱오차) : 손실함수, 비용함수\n",
    "def cost(data, target, weight) : \n",
    "    y_pred = h(weight, data)   # 예측값 넣기\n",
    "    mse = ((target - y_pred)**2).mean()  # 실제값(target) - 예측값(y_pred)을 제곱(**2)해서 더해주고(()) 개수만큼 나눠주기(mean())\n",
    "    return mse"
   ]
  },
  {
   "cell_type": "code",
   "execution_count": 26,
   "id": "210e0ede-e785-46a2-89b3-8fbc5928a954",
   "metadata": {},
   "outputs": [
    {
     "data": {
      "text/plain": [
       "660.0"
      ]
     },
     "execution_count": 26,
     "metadata": {},
     "output_type": "execute_result"
    }
   ],
   "source": [
    "cost(data[\"시간\"], data[\"성적\"], 6)   # 문제데이터, 정답데이터, 가중치 => 오차값"
   ]
  },
  {
   "cell_type": "markdown",
   "id": "4e289de1-3db3-4f09-9cca-f51735a55dbd",
   "metadata": {},
   "source": [
    "- w값에 따른 mse 변화율 그려보기"
   ]
  },
  {
   "cell_type": "code",
   "execution_count": 27,
   "id": "dac97786-abde-4daf-8acf-513687717421",
   "metadata": {},
   "outputs": [],
   "source": [
    "# x축의 범위\n",
    "w_arr = range(-10, 31)   # -10 ~ 30"
   ]
  },
  {
   "cell_type": "markdown",
   "id": "49947452-8b0c-4e83-951d-88e9220385d8",
   "metadata": {},
   "source": [
    "```python\n",
    "cost_list = []\n",
    "for w in w_arr :\n",
    "    c = cost(data['시간'], data['성적'], w)  \n",
    "    cost_list.append(c)\n",
    "```    "
   ]
  },
  {
   "cell_type": "code",
   "execution_count": 29,
   "id": "6c661c12-0987-4a6d-aa5a-a9d592df0b05",
   "metadata": {},
   "outputs": [],
   "source": [
    "# 리스트 컴프리헨션(List comprehension, 리스트 내포) 사용해보기!\n",
    "# List 안에 반복문\n",
    "cost_list = [cost(data['시간'], data['성적'], w) for w in w_arr]"
   ]
  },
  {
   "cell_type": "code",
   "execution_count": 32,
   "id": "48399601-4146-4814-bb44-39f9b64d558d",
   "metadata": {},
   "outputs": [
    {
     "data": {
      "image/png": "[encoded data removed]",
      "text/plain": [
       "<Figure size 640x480 with 1 Axes>"
      ]
     },
     "metadata": {},
     "output_type": "display_data"
    }
   ],
   "source": [
    "plt.plot(w_arr, cost_list)   # x축(w_arr), y축(cost_list)\n",
    "plt.xlabel(\"weight\")\n",
    "plt.ylabel(\"loss\")   # cost \n",
    "\n",
    "plt.show()"
   ]
  },
  {
   "cell_type": "code",
   "execution_count": 33,
   "id": "4a39fbd5-b88e-410f-aa72-0b9314c11232",
   "metadata": {},
   "outputs": [],
   "source": [
    "# 모델 사용해보기!\n",
    "from sklearn.linear_model import SGDRegressor   # 경사하강법이 적용된 모델"
   ]
  },
  {
   "cell_type": "code",
   "execution_count": 45,
   "id": "740471ca-4664-44d5-8c0b-4fa0f0cfbcbf",
   "metadata": {},
   "outputs": [],
   "source": [
    "# 모델 초기화(생성)\n",
    "sgd_rg = SGDRegressor(\n",
    "    eta0 = 0.01,   # 학습률(기울기의 보폭)\n",
    "    max_iter = 5000,   # w값 업데이트 횟수를 최대 5000번까지 수행해라!\n",
    "    verbose = 1   # 학습 진행 현황 출력 여부\n",
    ")"
   ]
  },
  {
   "cell_type": "code",
   "execution_count": 46,
   "id": "ab61eecc-e3f0-4ae6-93fb-76d71d0fe752",
   "metadata": {},
   "outputs": [
    {
     "name": "stdout",
     "output_type": "stream",
     "text": [
      "-- Epoch 1\n",
      "Norm: 8.92, NNZs: 1, Bias: 1.101983, T: 4, Avg. loss: 926.737253\n",
      "Total training time: 0.00 seconds.\n",
      "-- Epoch 2\n",
      "Norm: 9.60, NNZs: 1, Bias: 1.199155, T: 8, Avg. loss: 9.937324\n",
      "Total training time: 0.00 seconds.\n",
      "-- Epoch 3\n",
      "Norm: 9.76, NNZs: 1, Bias: 1.214055, T: 12, Avg. loss: 0.899245\n",
      "Total training time: 0.00 seconds.\n",
      "-- Epoch 4\n",
      "Norm: 9.81, NNZs: 1, Bias: 1.217313, T: 16, Avg. loss: 0.234643\n",
      "Total training time: 0.00 seconds.\n",
      "-- Epoch 5\n",
      "Norm: 9.82, NNZs: 1, Bias: 1.213543, T: 20, Avg. loss: 0.163976\n",
      "Total training time: 0.00 seconds.\n",
      "-- Epoch 6\n",
      "Norm: 9.84, NNZs: 1, Bias: 1.210979, T: 24, Avg. loss: 0.157413\n",
      "Total training time: 0.00 seconds.\n",
      "-- Epoch 7\n",
      "Norm: 9.83, NNZs: 1, Bias: 1.206037, T: 28, Avg. loss: 0.152554\n",
      "Total training time: 0.00 seconds.\n",
      "-- Epoch 8\n",
      "Norm: 9.84, NNZs: 1, Bias: 1.202983, T: 32, Avg. loss: 0.152690\n",
      "Total training time: 0.00 seconds.\n",
      "-- Epoch 9\n",
      "Norm: 9.83, NNZs: 1, Bias: 1.198228, T: 36, Avg. loss: 0.149953\n",
      "Total training time: 0.00 seconds.\n",
      "-- Epoch 10\n",
      "Norm: 9.84, NNZs: 1, Bias: 1.195229, T: 40, Avg. loss: 0.150121\n",
      "Total training time: 0.00 seconds.\n",
      "-- Epoch 11\n",
      "Norm: 9.83, NNZs: 1, Bias: 1.190750, T: 44, Avg. loss: 0.147789\n",
      "Total training time: 0.00 seconds.\n",
      "-- Epoch 12\n",
      "Norm: 9.84, NNZs: 1, Bias: 1.187860, T: 48, Avg. loss: 0.147911\n",
      "Total training time: 0.00 seconds.\n",
      "-- Epoch 13\n",
      "Norm: 9.84, NNZs: 1, Bias: 1.183623, T: 52, Avg. loss: 0.145801\n",
      "Total training time: 0.00 seconds.\n",
      "-- Epoch 14\n",
      "Norm: 9.84, NNZs: 1, Bias: 1.180835, T: 56, Avg. loss: 0.145889\n",
      "Total training time: 0.00 seconds.\n",
      "-- Epoch 15\n",
      "Norm: 9.84, NNZs: 1, Bias: 1.176800, T: 60, Avg. loss: 0.143941\n",
      "Total training time: 0.00 seconds.\n",
      "-- Epoch 16\n",
      "Norm: 9.84, NNZs: 1, Bias: 1.174101, T: 64, Avg. loss: 0.144003\n",
      "Total training time: 0.00 seconds.\n",
      "-- Epoch 17\n",
      "Norm: 9.84, NNZs: 1, Bias: 1.170236, T: 68, Avg. loss: 0.142184\n",
      "Total training time: 0.00 seconds.\n",
      "-- Epoch 18\n",
      "Norm: 9.84, NNZs: 1, Bias: 1.167615, T: 72, Avg. loss: 0.142226\n",
      "Total training time: 0.00 seconds.\n",
      "-- Epoch 19\n",
      "Norm: 9.84, NNZs: 1, Bias: 1.163897, T: 76, Avg. loss: 0.140513\n",
      "Total training time: 0.00 seconds.\n",
      "-- Epoch 20\n",
      "Norm: 9.84, NNZs: 1, Bias: 1.161347, T: 80, Avg. loss: 0.140538\n",
      "Total training time: 0.00 seconds.\n",
      "-- Epoch 21\n",
      "Norm: 9.84, NNZs: 1, Bias: 1.157756, T: 84, Avg. loss: 0.138916\n",
      "Total training time: 0.00 seconds.\n",
      "-- Epoch 22\n",
      "Norm: 9.84, NNZs: 1, Bias: 1.155268, T: 88, Avg. loss: 0.138927\n",
      "Total training time: 0.00 seconds.\n",
      "-- Epoch 23\n",
      "Norm: 9.84, NNZs: 1, Bias: 1.151791, T: 92, Avg. loss: 0.137383\n",
      "Total training time: 0.00 seconds.\n",
      "-- Epoch 24\n",
      "Norm: 9.84, NNZs: 1, Bias: 1.149360, T: 96, Avg. loss: 0.137382\n",
      "Total training time: 0.00 seconds.\n",
      "-- Epoch 25\n",
      "Norm: 9.84, NNZs: 1, Bias: 1.145985, T: 100, Avg. loss: 0.135908\n",
      "Total training time: 0.00 seconds.\n",
      "-- Epoch 26\n",
      "Norm: 9.84, NNZs: 1, Bias: 1.143606, T: 104, Avg. loss: 0.135896\n",
      "Total training time: 0.00 seconds.\n",
      "-- Epoch 27\n",
      "Norm: 9.84, NNZs: 1, Bias: 1.140323, T: 108, Avg. loss: 0.134483\n",
      "Total training time: 0.00 seconds.\n",
      "-- Epoch 28\n",
      "Norm: 9.85, NNZs: 1, Bias: 1.137991, T: 112, Avg. loss: 0.134462\n",
      "Total training time: 0.00 seconds.\n",
      "-- Epoch 29\n",
      "Norm: 9.84, NNZs: 1, Bias: 1.134792, T: 116, Avg. loss: 0.133104\n",
      "Total training time: 0.00 seconds.\n",
      "-- Epoch 30\n",
      "Norm: 9.85, NNZs: 1, Bias: 1.132505, T: 120, Avg. loss: 0.133076\n",
      "Total training time: 0.00 seconds.\n",
      "-- Epoch 31\n",
      "Norm: 9.84, NNZs: 1, Bias: 1.129382, T: 124, Avg. loss: 0.131767\n",
      "Total training time: 0.00 seconds.\n",
      "-- Epoch 32\n",
      "Norm: 9.85, NNZs: 1, Bias: 1.127137, T: 128, Avg. loss: 0.131732\n",
      "Total training time: 0.00 seconds.\n",
      "-- Epoch 33\n",
      "Norm: 9.84, NNZs: 1, Bias: 1.124085, T: 132, Avg. loss: 0.130469\n",
      "Total training time: 0.00 seconds.\n",
      "-- Epoch 34\n",
      "Norm: 9.85, NNZs: 1, Bias: 1.121878, T: 136, Avg. loss: 0.130428\n",
      "Total training time: 0.00 seconds.\n",
      "-- Epoch 35\n",
      "Norm: 9.84, NNZs: 1, Bias: 1.118891, T: 140, Avg. loss: 0.129206\n",
      "Total training time: 0.00 seconds.\n",
      "-- Epoch 36\n",
      "Norm: 9.85, NNZs: 1, Bias: 1.116721, T: 144, Avg. loss: 0.129160\n",
      "Total training time: 0.00 seconds.\n",
      "-- Epoch 37\n",
      "Norm: 9.85, NNZs: 1, Bias: 1.113796, T: 148, Avg. loss: 0.127976\n",
      "Total training time: 0.00 seconds.\n",
      "-- Epoch 38\n",
      "Norm: 9.85, NNZs: 1, Bias: 1.111660, T: 152, Avg. loss: 0.127925\n",
      "Total training time: 0.00 seconds.\n",
      "-- Epoch 39\n",
      "Norm: 9.85, NNZs: 1, Bias: 1.108792, T: 156, Avg. loss: 0.126777\n",
      "Total training time: 0.00 seconds.\n",
      "-- Epoch 40\n",
      "Norm: 9.85, NNZs: 1, Bias: 1.106688, T: 160, Avg. loss: 0.126721\n",
      "Total training time: 0.00 seconds.\n",
      "-- Epoch 41\n",
      "Norm: 9.85, NNZs: 1, Bias: 1.103874, T: 164, Avg. loss: 0.125606\n",
      "Total training time: 0.00 seconds.\n",
      "-- Epoch 42\n",
      "Norm: 9.85, NNZs: 1, Bias: 1.101802, T: 168, Avg. loss: 0.125547\n",
      "Total training time: 0.00 seconds.\n",
      "-- Epoch 43\n",
      "Norm: 9.85, NNZs: 1, Bias: 1.099038, T: 172, Avg. loss: 0.124463\n",
      "Total training time: 0.00 seconds.\n",
      "-- Epoch 44\n",
      "Norm: 9.85, NNZs: 1, Bias: 1.096995, T: 176, Avg. loss: 0.124400\n",
      "Total training time: 0.00 seconds.\n",
      "-- Epoch 45\n",
      "Norm: 9.85, NNZs: 1, Bias: 1.094279, T: 180, Avg. loss: 0.123344\n",
      "Total training time: 0.00 seconds.\n",
      "-- Epoch 46\n",
      "Norm: 9.85, NNZs: 1, Bias: 1.092264, T: 184, Avg. loss: 0.123279\n",
      "Total training time: 0.00 seconds.\n",
      "-- Epoch 47\n",
      "Norm: 9.85, NNZs: 1, Bias: 1.089593, T: 188, Avg. loss: 0.122250\n",
      "Total training time: 0.00 seconds.\n",
      "-- Epoch 48\n",
      "Norm: 9.85, NNZs: 1, Bias: 1.087605, T: 192, Avg. loss: 0.122182\n",
      "Total training time: 0.00 seconds.\n",
      "-- Epoch 49\n",
      "Norm: 9.85, NNZs: 1, Bias: 1.084977, T: 196, Avg. loss: 0.121178\n",
      "Total training time: 0.00 seconds.\n",
      "-- Epoch 50\n",
      "Norm: 9.85, NNZs: 1, Bias: 1.083014, T: 200, Avg. loss: 0.121107\n",
      "Total training time: 0.00 seconds.\n",
      "-- Epoch 51\n",
      "Norm: 9.85, NNZs: 1, Bias: 1.080428, T: 204, Avg. loss: 0.120128\n",
      "Total training time: 0.00 seconds.\n",
      "-- Epoch 52\n",
      "Norm: 9.85, NNZs: 1, Bias: 1.078489, T: 208, Avg. loss: 0.120055\n",
      "Total training time: 0.00 seconds.\n",
      "-- Epoch 53\n",
      "Norm: 9.85, NNZs: 1, Bias: 1.075942, T: 212, Avg. loss: 0.119099\n",
      "Total training time: 0.00 seconds.\n",
      "-- Epoch 54\n",
      "Norm: 9.85, NNZs: 1, Bias: 1.074026, T: 216, Avg. loss: 0.119024\n",
      "Total training time: 0.00 seconds.\n",
      "Convergence after 54 epochs took 0.00 seconds\n"
     ]
    },
    {
     "data": {
      "text/html": [
       "<style>#sk-container-id-9 {color: black;background-color: white;}#sk-container-id-9 pre{padding: 0;}#sk-container-id-9 div.sk-toggleable {background-color: white;}#sk-container-id-9 label.sk-toggleable__label {cursor: pointer;display: block;width: 100%;margin-bottom: 0;padding: 0.3em;box-sizing: border-box;text-align: center;}#sk-container-id-9 label.sk-toggleable__label-arrow:before {content: \"▸\";float: left;margin-right: 0.25em;color: #696969;}#sk-container-id-9 label.sk-toggleable__label-arrow:hover:before {color: black;}#sk-container-id-9 div.sk-estimator:hover label.sk-toggleable__label-arrow:before {color: black;}#sk-container-id-9 div.sk-toggleable__content {max-height: 0;max-width: 0;overflow: hidden;text-align: left;background-color: #f0f8ff;}#sk-container-id-9 div.sk-toggleable__content pre {margin: 0.2em;color: black;border-radius: 0.25em;background-color: #f0f8ff;}#sk-container-id-9 input.sk-toggleable__control:checked~div.sk-toggleable__content {max-height: 200px;max-width: 100%;overflow: auto;}#sk-container-id-9 input.sk-toggleable__control:checked~label.sk-toggleable__label-arrow:before {content: \"▾\";}#sk-container-id-9 div.sk-estimator input.sk-toggleable__control:checked~label.sk-toggleable__label {background-color: #d4ebff;}#sk-container-id-9 div.sk-label input.sk-toggleable__control:checked~label.sk-toggleable__label {background-color: #d4ebff;}#sk-container-id-9 input.sk-hidden--visually {border: 0;clip: rect(1px 1px 1px 1px);clip: rect(1px, 1px, 1px, 1px);height: 1px;margin: -1px;overflow: hidden;padding: 0;position: absolute;width: 1px;}#sk-container-id-9 div.sk-estimator {font-family: monospace;background-color: #f0f8ff;border: 1px dotted black;border-radius: 0.25em;box-sizing: border-box;margin-bottom: 0.5em;}#sk-container-id-9 div.sk-estimator:hover {background-color: #d4ebff;}#sk-container-id-9 div.sk-parallel-item::after {content: \"\";width: 100%;border-bottom: 1px solid gray;flex-grow: 1;}#sk-container-id-9 div.sk-label:hover label.sk-toggleable__label {background-color: #d4ebff;}#sk-container-id-9 div.sk-serial::before {content: \"\";position: absolute;border-left: 1px solid gray;box-sizing: border-box;top: 0;bottom: 0;left: 50%;z-index: 0;}#sk-container-id-9 div.sk-serial {display: flex;flex-direction: column;align-items: center;background-color: white;padding-right: 0.2em;padding-left: 0.2em;position: relative;}#sk-container-id-9 div.sk-item {position: relative;z-index: 1;}#sk-container-id-9 div.sk-parallel {display: flex;align-items: stretch;justify-content: center;background-color: white;position: relative;}#sk-container-id-9 div.sk-item::before, #sk-container-id-9 div.sk-parallel-item::before {content: \"\";position: absolute;border-left: 1px solid gray;box-sizing: border-box;top: 0;bottom: 0;left: 50%;z-index: -1;}#sk-container-id-9 div.sk-parallel-item {display: flex;flex-direction: column;z-index: 1;position: relative;background-color: white;}#sk-container-id-9 div.sk-parallel-item:first-child::after {align-self: flex-end;width: 50%;}#sk-container-id-9 div.sk-parallel-item:last-child::after {align-self: flex-start;width: 50%;}#sk-container-id-9 div.sk-parallel-item:only-child::after {width: 0;}#sk-container-id-9 div.sk-dashed-wrapped {border: 1px dashed gray;margin: 0 0.4em 0.5em 0.4em;box-sizing: border-box;padding-bottom: 0.4em;background-color: white;}#sk-container-id-9 div.sk-label label {font-family: monospace;font-weight: bold;display: inline-block;line-height: 1.2em;}#sk-container-id-9 div.sk-label-container {text-align: center;}#sk-container-id-9 div.sk-container {/* jupyter's `normalize.less` sets `[hidden] { display: none; }` but bootstrap.min.css set `[hidden] { display: none !important; }` so we also need the `!important` here to be able to override the default hidden behavior on the sphinx rendered scikit-learn.org. See: https://github.com/scikit-learn/scikit-learn/issues/21755 */display: inline-block !important;position: relative;}#sk-container-id-9 div.sk-text-repr-fallback {display: none;}</style><div id=\"sk-container-id-9\" class=\"sk-top-container\"><div class=\"sk-text-repr-fallback\"><pre>SGDRegressor(max_iter=5000, verbose=1)</pre><b>In a Jupyter environment, please rerun this cell to show the HTML representation or trust the notebook. <br />On GitHub, the HTML representation is unable to render, please try loading this page with nbviewer.org.</b></div><div class=\"sk-container\" hidden><div class=\"sk-item\"><div class=\"sk-estimator sk-toggleable\"><input class=\"sk-toggleable__control sk-hidden--visually\" id=\"sk-estimator-id-9\" type=\"checkbox\" checked><label for=\"sk-estimator-id-9\" class=\"sk-toggleable__label sk-toggleable__label-arrow\">SGDRegressor</label><div class=\"sk-toggleable__content\"><pre>SGDRegressor(max_iter=5000, verbose=1)</pre></div></div></div></div></div>"
      ],
      "text/plain": [
       "SGDRegressor(max_iter=5000, verbose=1)"
      ]
     },
     "execution_count": 46,
     "metadata": {},
     "output_type": "execute_result"
    }
   ],
   "source": [
    "# 학습\n",
    "sgd_rg.fit(data[[\"시간\"]],data[\"성적\"])\n",
    "# Epoch 학습 빈도수..?"
   ]
  },
  {
   "cell_type": "code",
   "execution_count": 47,
   "id": "6e50ee08-88b1-4e1c-b4c2-7b112aa10c21",
   "metadata": {},
   "outputs": [
    {
     "data": {
      "text/plain": [
       "(array([9.85321092]), array([1.07402638]))"
      ]
     },
     "execution_count": 47,
     "metadata": {},
     "output_type": "execute_result"
    }
   ],
   "source": [
    "# 가중치와 절편 확인\n",
    "sgd_rg.coef_, sgd_rg.intercept_"
   ]
  },
  {
   "cell_type": "code",
   "execution_count": 50,
   "id": "42f60089-43f6-4901-868a-5ac9aeef27f7",
   "metadata": {},
   "outputs": [
    {
     "data": {
      "text/plain": [
       "0.9997199250564492"
      ]
     },
     "execution_count": 50,
     "metadata": {},
     "output_type": "execute_result"
    }
   ],
   "source": [
    "# 성능 확인\n",
    "sgd_rg.score(data[['시간']], data['성적'])\n",
    "# => 정확도 아님, 평가지표 중 하나일 뿐(데이터를 얼마나 잘 이해하고 있냐는 숫자일 뿐)\n",
    "\n",
    "# 회귀 평가 지표(오차값, 데이터의 분포를 잘 이해하고 있는가?)와 분류 평가 지표(얼마나 잘 맞췄는가?)는 다름!!\n",
    "#R^2, r2score : 0 ~ 1 사이의 값 , 1에 가까울수록 데이터의 분포를 잘 이해하고 있다!\n",
    "# => 99.97% 굉장히 잘 나온 값임"
   ]
  },
  {
   "cell_type": "code",
   "execution_count": null,
   "id": "67b0e653-0d7e-4c83-9fc4-43c12377c118",
   "metadata": {},
   "outputs": [],
   "source": []
  },
  {
   "cell_type": "code",
   "execution_count": null,
   "id": "f6b5f0d6-7b0a-49c6-b2bd-1edffa578057",
   "metadata": {},
   "outputs": [],
   "source": []
  },
  {
   "cell_type": "code",
   "execution_count": null,
   "id": "35119759-43ca-4dea-a255-590362e3a880",
   "metadata": {},
   "outputs": [],
   "source": []
  },
  {
   "cell_type": "code",
   "execution_count": null,
   "id": "84f366d2-a5e3-4514-b545-8a551818a134",
   "metadata": {},
   "outputs": [],
   "source": []
  },
  {
   "cell_type": "code",
   "execution_count": null,
   "id": "67b482c5-caf1-4b9d-a338-cf9f7be1e9bd",
   "metadata": {},
   "outputs": [],
   "source": []
  },
  {
   "cell_type": "code",
   "execution_count": null,
   "id": "1ea4888a-68fb-4de3-9175-4929c0f999cf",
   "metadata": {},
   "outputs": [],
   "source": []
  },
  {
   "cell_type": "code",
   "execution_count": null,
   "id": "e5761774-0dd8-47fd-928e-93ec960d5254",
   "metadata": {},
   "outputs": [],
   "source": []
  },
  {
   "cell_type": "code",
   "execution_count": null,
   "id": "cfcd0c82-886b-4df2-8b46-45b3f2a6fde7",
   "metadata": {},
   "outputs": [],
   "source": []
  },
  {
   "cell_type": "code",
   "execution_count": null,
   "id": "c4a7e471-3159-4576-a529-03987dfd6b9c",
   "metadata": {},
   "outputs": [],
   "source": []
  },
  {
   "cell_type": "code",
   "execution_count": null,
   "id": "3918761d-c71e-49c2-852e-72a0ec660382",
   "metadata": {},
   "outputs": [],
   "source": []
  },
  {
   "cell_type": "code",
   "execution_count": null,
   "id": "fe8a91e7-6db1-4eef-a197-404ee93e005f",
   "metadata": {},
   "outputs": [],
   "source": []
  },
  {
   "cell_type": "code",
   "execution_count": null,
   "id": "e77c74d4-310c-453d-866a-0a716d4f6a6f",
   "metadata": {},
   "outputs": [],
   "source": []
  },
  {
   "cell_type": "code",
   "execution_count": null,
   "id": "c56058b0-ad3f-408a-ad64-6c0f8d003662",
   "metadata": {},
   "outputs": [],
   "source": []
  }
 ],
 "metadata": {
  "kernelspec": {
   "display_name": "Python 3 (ipykernel)",
   "language": "python",
   "name": "python3"
  },
  "language_info": {
   "codemirror_mode": {
    "name": "ipython",
    "version": 3
   },
   "file_extension": ".py",
   "mimetype": "text/x-python",
   "name": "python",
   "nbconvert_exporter": "python",
   "pygments_lexer": "ipython3",
   "version": "3.11.7"
  }
 },
 "nbformat": 4,
 "nbformat_minor": 5
}
