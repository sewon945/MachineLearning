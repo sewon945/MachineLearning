{
 "cells": [
  {
   "cell_type": "markdown",
   "id": "18ca0b21-8b36-4d79-94a6-53854d620f79",
   "metadata": {},
   "source": [
    "## 목표\n",
    "- 타이타닉 데이터를 학습해서 생존/사망 예측해보자\n",
    "- 머신러닝의 전체 과정을 진행해보자"
   ]
  },
  {
   "cell_type": "markdown",
   "id": "f29cb62e-a501-4721-830b-5a23400f144c",
   "metadata": {},
   "source": [
    "## 머신러닝 전체 과정 (7단계)\n",
    "1) 문제 정의\n",
    "2) 데이터 수집\n",
    "3) 데이터 전처리\n",
    "4) EDA(탐색적 데이터 분석)\n",
    "5) 모델 선택 및 하이퍼 파라미터 조정\n",
    "6) 모델 학습\n",
    "7) 모델 평가"
   ]
  },
  {
   "cell_type": "markdown",
   "id": "9c9dc490-b172-4b5f-a805-2ad69a46643f",
   "metadata": {},
   "source": [
    "## 1. 문제 정의\n",
    "- Kaggle에서 제공하는 titanic 데이터를 사용해 승객의 생존 여부를 예측\n",
    "- 지도 학습 (train.csv - Survived)\n",
    "- Survived 컬럼의 데이터값은 수치형이지만 0,1로 생존여부만 구분하고 있기때문에 우선순위는 없음\n",
    "- 지도 학습(분류)"
   ]
  },
  {
   "cell_type": "code",
   "execution_count": 3,
   "id": "71887cf1-f04b-4cd2-8072-b004ce91e1c7",
   "metadata": {},
   "outputs": [],
   "source": [
    "# 필요한 라이브러리 가져오기 (환경세팅)\n",
    "import numpy as np\n",
    "import pandas as pd\n",
    "import matplotlib.pyplot as plt\n",
    "import seaborn as sns # 시각화 도구"
   ]
  },
  {
   "cell_type": "markdown",
   "id": "d2c04a13-bad5-45d2-9825-18781799788c",
   "metadata": {},
   "source": [
    "- 실습1. 타이타닉 train데이터와 test데이터를 변수 train, test에 저장하기\n",
    " (단, PassengerId 컬럼을 인덱스로 설정해서 불러오기)"
   ]
  },
  {
   "cell_type": "code",
   "execution_count": 4,
   "id": "df70f7d8-5dc1-4441-9355-a1809a5222b5",
   "metadata": {},
   "outputs": [
    {
     "data": {
      "text/html": [
       "<div>\n",
       "<style scoped>\n",
       "    .dataframe tbody tr th:only-of-type {\n",
       "        vertical-align: middle;\n",
       "    }\n",
       "\n",
       "    .dataframe tbody tr th {\n",
       "        vertical-align: top;\n",
       "    }\n",
       "\n",
       "    .dataframe thead th {\n",
       "        text-align: right;\n",
       "    }\n",
       "</style>\n",
       "<table border=\"1\" class=\"dataframe\">\n",
       "  <thead>\n",
       "    <tr style=\"text-align: right;\">\n",
       "      <th></th>\n",
       "      <th>Survived</th>\n",
       "      <th>Pclass</th>\n",
       "      <th>Name</th>\n",
       "      <th>Sex</th>\n",
       "      <th>Age</th>\n",
       "      <th>SibSp</th>\n",
       "      <th>Parch</th>\n",
       "      <th>Ticket</th>\n",
       "      <th>Fare</th>\n",
       "      <th>Cabin</th>\n",
       "      <th>Embarked</th>\n",
       "    </tr>\n",
       "    <tr>\n",
       "      <th>PassengerId</th>\n",
       "      <th></th>\n",
       "      <th></th>\n",
       "      <th></th>\n",
       "      <th></th>\n",
       "      <th></th>\n",
       "      <th></th>\n",
       "      <th></th>\n",
       "      <th></th>\n",
       "      <th></th>\n",
       "      <th></th>\n",
       "      <th></th>\n",
       "    </tr>\n",
       "  </thead>\n",
       "  <tbody>\n",
       "    <tr>\n",
       "      <th>1</th>\n",
       "      <td>0</td>\n",
       "      <td>3</td>\n",
       "      <td>Braund, Mr. Owen Harris</td>\n",
       "      <td>male</td>\n",
       "      <td>22.0</td>\n",
       "      <td>1</td>\n",
       "      <td>0</td>\n",
       "      <td>A/5 21171</td>\n",
       "      <td>7.2500</td>\n",
       "      <td>NaN</td>\n",
       "      <td>S</td>\n",
       "    </tr>\n",
       "    <tr>\n",
       "      <th>2</th>\n",
       "      <td>1</td>\n",
       "      <td>1</td>\n",
       "      <td>Cumings, Mrs. John Bradley (Florence Briggs Th...</td>\n",
       "      <td>female</td>\n",
       "      <td>38.0</td>\n",
       "      <td>1</td>\n",
       "      <td>0</td>\n",
       "      <td>PC 17599</td>\n",
       "      <td>71.2833</td>\n",
       "      <td>C85</td>\n",
       "      <td>C</td>\n",
       "    </tr>\n",
       "    <tr>\n",
       "      <th>3</th>\n",
       "      <td>1</td>\n",
       "      <td>3</td>\n",
       "      <td>Heikkinen, Miss. Laina</td>\n",
       "      <td>female</td>\n",
       "      <td>26.0</td>\n",
       "      <td>0</td>\n",
       "      <td>0</td>\n",
       "      <td>STON/O2. 3101282</td>\n",
       "      <td>7.9250</td>\n",
       "      <td>NaN</td>\n",
       "      <td>S</td>\n",
       "    </tr>\n",
       "    <tr>\n",
       "      <th>4</th>\n",
       "      <td>1</td>\n",
       "      <td>1</td>\n",
       "      <td>Futrelle, Mrs. Jacques Heath (Lily May Peel)</td>\n",
       "      <td>female</td>\n",
       "      <td>35.0</td>\n",
       "      <td>1</td>\n",
       "      <td>0</td>\n",
       "      <td>113803</td>\n",
       "      <td>53.1000</td>\n",
       "      <td>C123</td>\n",
       "      <td>S</td>\n",
       "    </tr>\n",
       "    <tr>\n",
       "      <th>5</th>\n",
       "      <td>0</td>\n",
       "      <td>3</td>\n",
       "      <td>Allen, Mr. William Henry</td>\n",
       "      <td>male</td>\n",
       "      <td>35.0</td>\n",
       "      <td>0</td>\n",
       "      <td>0</td>\n",
       "      <td>373450</td>\n",
       "      <td>8.0500</td>\n",
       "      <td>NaN</td>\n",
       "      <td>S</td>\n",
       "    </tr>\n",
       "  </tbody>\n",
       "</table>\n",
       "</div>"
      ],
      "text/plain": [
       "             Survived  Pclass  \\\n",
       "PassengerId                     \n",
       "1                   0       3   \n",
       "2                   1       1   \n",
       "3                   1       3   \n",
       "4                   1       1   \n",
       "5                   0       3   \n",
       "\n",
       "                                                          Name     Sex   Age  \\\n",
       "PassengerId                                                                    \n",
       "1                                      Braund, Mr. Owen Harris    male  22.0   \n",
       "2            Cumings, Mrs. John Bradley (Florence Briggs Th...  female  38.0   \n",
       "3                                       Heikkinen, Miss. Laina  female  26.0   \n",
       "4                 Futrelle, Mrs. Jacques Heath (Lily May Peel)  female  35.0   \n",
       "5                                     Allen, Mr. William Henry    male  35.0   \n",
       "\n",
       "             SibSp  Parch            Ticket     Fare Cabin Embarked  \n",
       "PassengerId                                                          \n",
       "1                1      0         A/5 21171   7.2500   NaN        S  \n",
       "2                1      0          PC 17599  71.2833   C85        C  \n",
       "3                0      0  STON/O2. 3101282   7.9250   NaN        S  \n",
       "4                1      0            113803  53.1000  C123        S  \n",
       "5                0      0            373450   8.0500   NaN        S  "
      ]
     },
     "execution_count": 4,
     "metadata": {},
     "output_type": "execute_result"
    }
   ],
   "source": [
    "train = pd.read_csv('data/train.csv', index_col = 'PassengerId')\n",
    "test = pd.read_csv('data/test.csv', index_col = 'PassengerId')\n",
    "train.head()"
   ]
  },
  {
   "cell_type": "code",
   "execution_count": 5,
   "id": "e5260b4f-96d4-45df-8890-2f330e729613",
   "metadata": {},
   "outputs": [],
   "source": [
    "train[\"Survived\"] = train['Survived'].astype(\"str\")"
   ]
  },
  {
   "cell_type": "code",
   "execution_count": 6,
   "id": "c013e90f-9cd6-486b-9fec-7a3177e528f8",
   "metadata": {},
   "outputs": [
    {
     "name": "stdout",
     "output_type": "stream",
     "text": [
      "훈련 데이터 셋 크기 :  (891, 11)\n",
      "테스트 데이터 셋 크기 :  (418, 10)\n"
     ]
    }
   ],
   "source": [
    "# 크기 확인\n",
    "print('훈련 데이터 셋 크기 : ', train.shape)\n",
    "print('테스트 데이터 셋 크기 : ', test.shape)"
   ]
  },
  {
   "cell_type": "code",
   "execution_count": 7,
   "id": "fa94454c-21da-4f9e-ae29-f3b4a51b9ffd",
   "metadata": {},
   "outputs": [
    {
     "name": "stdout",
     "output_type": "stream",
     "text": [
      "<class 'pandas.core.frame.DataFrame'>\n",
      "Index: 891 entries, 1 to 891\n",
      "Data columns (total 11 columns):\n",
      " #   Column    Non-Null Count  Dtype  \n",
      "---  ------    --------------  -----  \n",
      " 0   Survived  891 non-null    object \n",
      " 1   Pclass    891 non-null    int64  \n",
      " 2   Name      891 non-null    object \n",
      " 3   Sex       891 non-null    object \n",
      " 4   Age       714 non-null    float64\n",
      " 5   SibSp     891 non-null    int64  \n",
      " 6   Parch     891 non-null    int64  \n",
      " 7   Ticket    891 non-null    object \n",
      " 8   Fare      891 non-null    float64\n",
      " 9   Cabin     204 non-null    object \n",
      " 10  Embarked  889 non-null    object \n",
      "dtypes: float64(2), int64(3), object(6)\n",
      "memory usage: 83.5+ KB\n"
     ]
    }
   ],
   "source": [
    "train.info()"
   ]
  },
  {
   "cell_type": "markdown",
   "id": "1c6946e1-7d7d-4b0c-94df-8e555a86115b",
   "metadata": {},
   "source": [
    "## 3. 데이터 전처리 및 데이터 탐색"
   ]
  },
  {
   "cell_type": "code",
   "execution_count": 8,
   "id": "72f1b600-7e8a-4f90-b662-3300e1247360",
   "metadata": {},
   "outputs": [
    {
     "name": "stdout",
     "output_type": "stream",
     "text": [
      "<class 'pandas.core.frame.DataFrame'>\n",
      "Index: 891 entries, 1 to 891\n",
      "Data columns (total 11 columns):\n",
      " #   Column    Non-Null Count  Dtype  \n",
      "---  ------    --------------  -----  \n",
      " 0   Survived  891 non-null    object \n",
      " 1   Pclass    891 non-null    int64  \n",
      " 2   Name      891 non-null    object \n",
      " 3   Sex       891 non-null    object \n",
      " 4   Age       714 non-null    float64\n",
      " 5   SibSp     891 non-null    int64  \n",
      " 6   Parch     891 non-null    int64  \n",
      " 7   Ticket    891 non-null    object \n",
      " 8   Fare      891 non-null    float64\n",
      " 9   Cabin     204 non-null    object \n",
      " 10  Embarked  889 non-null    object \n",
      "dtypes: float64(2), int64(3), object(6)\n",
      "memory usage: 83.5+ KB\n"
     ]
    }
   ],
   "source": [
    "# 훈련 데이터 셋 정보 확인\n",
    "train.info()\n",
    "# 결측치가 있는 컬럼 : Age, Cavin, Embarked\n",
    "# 데이터 타입 : 숫자(정수, 실수), 문자열\n",
    "# >> 모델은 문제 데이터가 숫자인 것만 인식 할 수 있다\n",
    "# 문자 > 숫자 : 인코딩(원핫 인코딩, 레이블 인코딩)"
   ]
  },
  {
   "cell_type": "code",
   "execution_count": 9,
   "id": "3af564be-4ad4-4426-888e-8d270672df7b",
   "metadata": {},
   "outputs": [
    {
     "name": "stdout",
     "output_type": "stream",
     "text": [
      "<class 'pandas.core.frame.DataFrame'>\n",
      "Index: 418 entries, 892 to 1309\n",
      "Data columns (total 10 columns):\n",
      " #   Column    Non-Null Count  Dtype  \n",
      "---  ------    --------------  -----  \n",
      " 0   Pclass    418 non-null    int64  \n",
      " 1   Name      418 non-null    object \n",
      " 2   Sex       418 non-null    object \n",
      " 3   Age       332 non-null    float64\n",
      " 4   SibSp     418 non-null    int64  \n",
      " 5   Parch     418 non-null    int64  \n",
      " 6   Ticket    418 non-null    object \n",
      " 7   Fare      417 non-null    float64\n",
      " 8   Cabin     91 non-null     object \n",
      " 9   Embarked  418 non-null    object \n",
      "dtypes: float64(2), int64(3), object(5)\n",
      "memory usage: 35.9+ KB\n"
     ]
    }
   ],
   "source": [
    "# 테스트용 데이터 셋 정보 확인하기\n",
    "test.info()\n",
    "# Survived 컬럼이 없다 -> 생존/사망 데이터가 없음\n",
    "# 결측치가 있는 컬럼 : Age, Fare, Cabin\n",
    "# 데이터 타입 : 숫자(정수, 실수), 문자열"
   ]
  },
  {
   "cell_type": "code",
   "execution_count": 10,
   "id": "868cd41d-f0fc-4063-a72d-5e17ccad3715",
   "metadata": {},
   "outputs": [
    {
     "data": {
      "text/plain": [
       "Index(['Survived', 'Pclass', 'Name', 'Sex', 'Age', 'SibSp', 'Parch', 'Ticket',\n",
       "       'Fare', 'Cabin', 'Embarked'],\n",
       "      dtype='object')"
      ]
     },
     "execution_count": 10,
     "metadata": {},
     "output_type": "execute_result"
    }
   ],
   "source": [
    "# 컬럼 정보 정리\n",
    "train.columns\n",
    "# 'Survived' : 생존/사망 결과 값이 담긴 컬럼(0:사망, 1:생존)\n",
    "# 'Pclass' : 승객의 등급(1:상위층, 2:중상위층, 3:하위층)\n",
    "# 'Name'\n",
    "# 'Sex'\n",
    "# 'Age'\n",
    "# 'SibSp' : 형제자매/배우자 수 (같이 탑승한)\n",
    "# 'Parch' : 부모/자식의 수(같이 탑승한)\n",
    "# 'Ticket' : 티켓의 번호\n",
    "# 'Fare' : 요금\n",
    "# 'Cabin' : 객실 번호\n",
    "# 'Embarked' : 승선항 (S, C, Q)\n",
    "# S = Southampton, C = Cherbourg, Q = Queenstown"
   ]
  },
  {
   "cell_type": "markdown",
   "id": "1d6e7a75-c407-4a2b-b61f-fbd49b661125",
   "metadata": {},
   "source": [
    "### 결측치 채우기\n",
    "- train : Age(v), Cabin, Embarked(v)\n",
    "- test : Age(v), Fare(v), Cabin"
   ]
  },
  {
   "cell_type": "code",
   "execution_count": 11,
   "id": "04b4284d-76b5-4f82-a68a-b6ed12003011",
   "metadata": {},
   "outputs": [],
   "source": [
    "# 결측치를 채우는 방법\n",
    "# 1. 결측치가 있는 행 전체를 삭제하는 방법\n",
    "# > 삭제하려는 데이터가 너무 많거나 모델링에 치명적이지 않은 데이터여야만 한다\n",
    "# > 데이터가 많을 수록 과대적합을 피할수 있는데 삭제해버리면 학습할 수 있는 데이터가 줄어들어 버림\n",
    "# 2. 결측치를 다른 값(대푯값)으로 대체하는 방법\n",
    "# > 평균값, 최빈값, 중앙값 등.."
   ]
  },
  {
   "cell_type": "code",
   "execution_count": 12,
   "id": "d89cdaef-50bf-49b4-a78b-4597b8fd8df6",
   "metadata": {},
   "outputs": [
    {
     "data": {
      "text/html": [
       "<div>\n",
       "<style scoped>\n",
       "    .dataframe tbody tr th:only-of-type {\n",
       "        vertical-align: middle;\n",
       "    }\n",
       "\n",
       "    .dataframe tbody tr th {\n",
       "        vertical-align: top;\n",
       "    }\n",
       "\n",
       "    .dataframe thead th {\n",
       "        text-align: right;\n",
       "    }\n",
       "</style>\n",
       "<table border=\"1\" class=\"dataframe\">\n",
       "  <thead>\n",
       "    <tr style=\"text-align: right;\">\n",
       "      <th></th>\n",
       "      <th>Survived</th>\n",
       "      <th>Pclass</th>\n",
       "      <th>Name</th>\n",
       "      <th>Sex</th>\n",
       "      <th>Age</th>\n",
       "      <th>SibSp</th>\n",
       "      <th>Parch</th>\n",
       "      <th>Ticket</th>\n",
       "      <th>Fare</th>\n",
       "      <th>Cabin</th>\n",
       "      <th>Embarked</th>\n",
       "    </tr>\n",
       "    <tr>\n",
       "      <th>PassengerId</th>\n",
       "      <th></th>\n",
       "      <th></th>\n",
       "      <th></th>\n",
       "      <th></th>\n",
       "      <th></th>\n",
       "      <th></th>\n",
       "      <th></th>\n",
       "      <th></th>\n",
       "      <th></th>\n",
       "      <th></th>\n",
       "      <th></th>\n",
       "    </tr>\n",
       "  </thead>\n",
       "  <tbody>\n",
       "    <tr>\n",
       "      <th>62</th>\n",
       "      <td>1</td>\n",
       "      <td>1</td>\n",
       "      <td>Icard, Miss. Amelie</td>\n",
       "      <td>female</td>\n",
       "      <td>38.0</td>\n",
       "      <td>0</td>\n",
       "      <td>0</td>\n",
       "      <td>113572</td>\n",
       "      <td>80.0</td>\n",
       "      <td>B28</td>\n",
       "      <td>NaN</td>\n",
       "    </tr>\n",
       "    <tr>\n",
       "      <th>830</th>\n",
       "      <td>1</td>\n",
       "      <td>1</td>\n",
       "      <td>Stone, Mrs. George Nelson (Martha Evelyn)</td>\n",
       "      <td>female</td>\n",
       "      <td>62.0</td>\n",
       "      <td>0</td>\n",
       "      <td>0</td>\n",
       "      <td>113572</td>\n",
       "      <td>80.0</td>\n",
       "      <td>B28</td>\n",
       "      <td>NaN</td>\n",
       "    </tr>\n",
       "  </tbody>\n",
       "</table>\n",
       "</div>"
      ],
      "text/plain": [
       "            Survived  Pclass                                       Name  \\\n",
       "PassengerId                                                               \n",
       "62                 1       1                        Icard, Miss. Amelie   \n",
       "830                1       1  Stone, Mrs. George Nelson (Martha Evelyn)   \n",
       "\n",
       "                Sex   Age  SibSp  Parch  Ticket  Fare Cabin Embarked  \n",
       "PassengerId                                                           \n",
       "62           female  38.0      0      0  113572  80.0   B28      NaN  \n",
       "830          female  62.0      0      0  113572  80.0   B28      NaN  "
      ]
     },
     "execution_count": 12,
     "metadata": {},
     "output_type": "execute_result"
    }
   ],
   "source": [
    "# train - Embarked(승선항) 컬럼 결측치 채우기\n",
    "train['Embarked'].value_counts()\n",
    "# Embarked 컬럼의 결측치는 ?\n",
    "train['Embarked'].isnull().sum()\n",
    "# train['Embared'] 결측치가 있는 데이터 출력하기\n",
    "train[train['Embarked'].isnull()]"
   ]
  },
  {
   "cell_type": "code",
   "execution_count": 13,
   "id": "e2085be8-4d63-4eda-88d4-f592fee1bf63",
   "metadata": {},
   "outputs": [],
   "source": [
    "# 두 사람의 데이터를 열어서 확인해봤더니\n",
    "# 이름, 나이를 제외하고는 데이터가 같다...\n",
    "# 같은 승선항에서 탔을 것이라고 가정\n",
    "# 사람이 가장 많이 탑승한 장소의 승선항 값으로 채워주기 - 최빈값\n",
    "# fillna('값') : S\n",
    "# 비어있는 데이터가 있다면 '값'으로 채워주는 함수\n",
    "train['Embarked'] = train['Embarked'].fillna('S')"
   ]
  },
  {
   "cell_type": "code",
   "execution_count": 14,
   "id": "d9d146e5-3b0e-4a06-b8af-673b1042ee4f",
   "metadata": {},
   "outputs": [
    {
     "data": {
      "text/plain": [
       "0"
      ]
     },
     "execution_count": 14,
     "metadata": {},
     "output_type": "execute_result"
    }
   ],
   "source": [
    "train['Embarked'].isnull().sum()"
   ]
  },
  {
   "cell_type": "code",
   "execution_count": 15,
   "id": "224353ea-d112-463f-b04e-90bdb88eb157",
   "metadata": {
    "scrolled": true
   },
   "outputs": [
    {
     "name": "stdout",
     "output_type": "stream",
     "text": [
      "<class 'pandas.core.frame.DataFrame'>\n",
      "Index: 891 entries, 1 to 891\n",
      "Data columns (total 11 columns):\n",
      " #   Column    Non-Null Count  Dtype  \n",
      "---  ------    --------------  -----  \n",
      " 0   Survived  891 non-null    object \n",
      " 1   Pclass    891 non-null    int64  \n",
      " 2   Name      891 non-null    object \n",
      " 3   Sex       891 non-null    object \n",
      " 4   Age       714 non-null    float64\n",
      " 5   SibSp     891 non-null    int64  \n",
      " 6   Parch     891 non-null    int64  \n",
      " 7   Ticket    891 non-null    object \n",
      " 8   Fare      891 non-null    float64\n",
      " 9   Cabin     204 non-null    object \n",
      " 10  Embarked  891 non-null    object \n",
      "dtypes: float64(2), int64(3), object(6)\n",
      "memory usage: 83.5+ KB\n"
     ]
    }
   ],
   "source": [
    "train.info()"
   ]
  },
  {
   "cell_type": "markdown",
   "id": "fa0c388e-3fc4-4b47-8429-170043c56b7f",
   "metadata": {},
   "source": [
    "- test : Fare컬럼의 결측치를 채우기"
   ]
  },
  {
   "cell_type": "code",
   "execution_count": 16,
   "id": "2bfd88d1-e530-4020-8c1d-014286d38d0e",
   "metadata": {},
   "outputs": [
    {
     "data": {
      "text/plain": [
       "count    417.000000\n",
       "mean      35.627188\n",
       "std       55.907576\n",
       "min        0.000000\n",
       "25%        7.895800\n",
       "50%       14.454200\n",
       "75%       31.500000\n",
       "max      512.329200\n",
       "Name: Fare, dtype: float64"
      ]
     },
     "execution_count": 16,
     "metadata": {},
     "output_type": "execute_result"
    }
   ],
   "source": [
    "# test 데이터 Fare를 인덱싱한 후 결측치가 존재하는 행 출력\n",
    "# isnull(), 불리언 인덱싱\n",
    "test[test['Fare'].isnull()]\n",
    "# 기술통계량 (describe)\n",
    "test['Fare'].describe()"
   ]
  },
  {
   "cell_type": "code",
   "execution_count": 17,
   "id": "0f114285-4322-4af3-a89d-950b48fc62de",
   "metadata": {},
   "outputs": [
    {
     "data": {
      "text/html": [
       "<div>\n",
       "<style scoped>\n",
       "    .dataframe tbody tr th:only-of-type {\n",
       "        vertical-align: middle;\n",
       "    }\n",
       "\n",
       "    .dataframe tbody tr th {\n",
       "        vertical-align: top;\n",
       "    }\n",
       "\n",
       "    .dataframe thead th {\n",
       "        text-align: right;\n",
       "    }\n",
       "</style>\n",
       "<table border=\"1\" class=\"dataframe\">\n",
       "  <thead>\n",
       "    <tr style=\"text-align: right;\">\n",
       "      <th></th>\n",
       "      <th>Pclass</th>\n",
       "      <th>Age</th>\n",
       "      <th>SibSp</th>\n",
       "      <th>Parch</th>\n",
       "      <th>Fare</th>\n",
       "    </tr>\n",
       "  </thead>\n",
       "  <tbody>\n",
       "    <tr>\n",
       "      <th>Pclass</th>\n",
       "      <td>1.000000</td>\n",
       "      <td>-0.492143</td>\n",
       "      <td>0.001087</td>\n",
       "      <td>0.018721</td>\n",
       "      <td>-0.577147</td>\n",
       "    </tr>\n",
       "    <tr>\n",
       "      <th>Age</th>\n",
       "      <td>-0.492143</td>\n",
       "      <td>1.000000</td>\n",
       "      <td>-0.091587</td>\n",
       "      <td>-0.061249</td>\n",
       "      <td>0.337932</td>\n",
       "    </tr>\n",
       "    <tr>\n",
       "      <th>SibSp</th>\n",
       "      <td>0.001087</td>\n",
       "      <td>-0.091587</td>\n",
       "      <td>1.000000</td>\n",
       "      <td>0.306895</td>\n",
       "      <td>0.171539</td>\n",
       "    </tr>\n",
       "    <tr>\n",
       "      <th>Parch</th>\n",
       "      <td>0.018721</td>\n",
       "      <td>-0.061249</td>\n",
       "      <td>0.306895</td>\n",
       "      <td>1.000000</td>\n",
       "      <td>0.230046</td>\n",
       "    </tr>\n",
       "    <tr>\n",
       "      <th>Fare</th>\n",
       "      <td>-0.577147</td>\n",
       "      <td>0.337932</td>\n",
       "      <td>0.171539</td>\n",
       "      <td>0.230046</td>\n",
       "      <td>1.000000</td>\n",
       "    </tr>\n",
       "  </tbody>\n",
       "</table>\n",
       "</div>"
      ],
      "text/plain": [
       "          Pclass       Age     SibSp     Parch      Fare\n",
       "Pclass  1.000000 -0.492143  0.001087  0.018721 -0.577147\n",
       "Age    -0.492143  1.000000 -0.091587 -0.061249  0.337932\n",
       "SibSp   0.001087 -0.091587  1.000000  0.306895  0.171539\n",
       "Parch   0.018721 -0.061249  0.306895  1.000000  0.230046\n",
       "Fare   -0.577147  0.337932  0.171539  0.230046  1.000000"
      ]
     },
     "execution_count": 17,
     "metadata": {},
     "output_type": "execute_result"
    }
   ],
   "source": [
    "# 혹시 Fare 컬럼과 연관성이 있는 컬럼이 있진 않을까?\n",
    "# 상관관계 확인\n",
    "test.corr(numeric_only = True) # 숫자로 된 컬럼 포함\n",
    "# 상관 계수 : -1 ~ 1 범위로 표현됨\n",
    "# -1, 1에 가까울수록 해당 컬럼과 상관이 높음, 관련성이 깊다\n",
    "# 0에 가까울수록 해당 컬럼과 상관이 없음 의미\n",
    "# Fare 컬럼과 Pclass 컬럼이 연관성이 가장 높구나!"
   ]
  },
  {
   "cell_type": "code",
   "execution_count": 18,
   "id": "09ccc094-2ad1-44b9-b464-3ce91dc2378d",
   "metadata": {},
   "outputs": [],
   "source": [
    "# test['Fare'] 결측치 채워주기 - Pclass : 3\n",
    "# test['Fare'] = test['Fare'].fillna(14.454200)\n",
    "# test['Fare'].isnull().sum()"
   ]
  },
  {
   "cell_type": "code",
   "execution_count": 19,
   "id": "bac2670f-d1f7-4a7e-93a5-218fb8d784f6",
   "metadata": {},
   "outputs": [
    {
     "data": {
      "text/plain": [
       "count    891.000000\n",
       "mean      32.204208\n",
       "std       49.693429\n",
       "min        0.000000\n",
       "25%        7.910400\n",
       "50%       14.454200\n",
       "75%       31.000000\n",
       "max      512.329200\n",
       "Name: Fare, dtype: float64"
      ]
     },
     "execution_count": 19,
     "metadata": {},
     "output_type": "execute_result"
    }
   ],
   "source": [
    "# train['Fare']를 확인해보자\n",
    "# 실제 모델이 학습을하는 데이터는 train데이터이기 때문\n",
    "train['Fare'].describe()"
   ]
  },
  {
   "cell_type": "code",
   "execution_count": 20,
   "id": "d92f699b-4d44-4f70-a7c5-9dd54a37ec5e",
   "metadata": {},
   "outputs": [
    {
     "data": {
      "text/html": [
       "<div>\n",
       "<style scoped>\n",
       "    .dataframe tbody tr th:only-of-type {\n",
       "        vertical-align: middle;\n",
       "    }\n",
       "\n",
       "    .dataframe tbody tr th {\n",
       "        vertical-align: top;\n",
       "    }\n",
       "\n",
       "    .dataframe thead th {\n",
       "        text-align: right;\n",
       "    }\n",
       "</style>\n",
       "<table border=\"1\" class=\"dataframe\">\n",
       "  <thead>\n",
       "    <tr style=\"text-align: right;\">\n",
       "      <th></th>\n",
       "      <th>Pclass</th>\n",
       "      <th>Age</th>\n",
       "      <th>SibSp</th>\n",
       "      <th>Parch</th>\n",
       "      <th>Fare</th>\n",
       "    </tr>\n",
       "  </thead>\n",
       "  <tbody>\n",
       "    <tr>\n",
       "      <th>Pclass</th>\n",
       "      <td>1.000000</td>\n",
       "      <td>-0.369226</td>\n",
       "      <td>0.083081</td>\n",
       "      <td>0.018443</td>\n",
       "      <td>-0.549500</td>\n",
       "    </tr>\n",
       "    <tr>\n",
       "      <th>Age</th>\n",
       "      <td>-0.369226</td>\n",
       "      <td>1.000000</td>\n",
       "      <td>-0.308247</td>\n",
       "      <td>-0.189119</td>\n",
       "      <td>0.096067</td>\n",
       "    </tr>\n",
       "    <tr>\n",
       "      <th>SibSp</th>\n",
       "      <td>0.083081</td>\n",
       "      <td>-0.308247</td>\n",
       "      <td>1.000000</td>\n",
       "      <td>0.414838</td>\n",
       "      <td>0.159651</td>\n",
       "    </tr>\n",
       "    <tr>\n",
       "      <th>Parch</th>\n",
       "      <td>0.018443</td>\n",
       "      <td>-0.189119</td>\n",
       "      <td>0.414838</td>\n",
       "      <td>1.000000</td>\n",
       "      <td>0.216225</td>\n",
       "    </tr>\n",
       "    <tr>\n",
       "      <th>Fare</th>\n",
       "      <td>-0.549500</td>\n",
       "      <td>0.096067</td>\n",
       "      <td>0.159651</td>\n",
       "      <td>0.216225</td>\n",
       "      <td>1.000000</td>\n",
       "    </tr>\n",
       "  </tbody>\n",
       "</table>\n",
       "</div>"
      ],
      "text/plain": [
       "          Pclass       Age     SibSp     Parch      Fare\n",
       "Pclass  1.000000 -0.369226  0.083081  0.018443 -0.549500\n",
       "Age    -0.369226  1.000000 -0.308247 -0.189119  0.096067\n",
       "SibSp   0.083081 -0.308247  1.000000  0.414838  0.159651\n",
       "Parch   0.018443 -0.189119  0.414838  1.000000  0.216225\n",
       "Fare   -0.549500  0.096067  0.159651  0.216225  1.000000"
      ]
     },
     "execution_count": 20,
     "metadata": {},
     "output_type": "execute_result"
    }
   ],
   "source": [
    "# train에서 Fare와 상관관계가 높은 컬럼을 찾아보자\n",
    "train.corr(numeric_only = True)"
   ]
  },
  {
   "cell_type": "code",
   "execution_count": 21,
   "id": "e02daeda-19b2-404a-a4a9-91dd6819e989",
   "metadata": {},
   "outputs": [
    {
     "data": {
      "text/plain": [
       "Fare      1.000000\n",
       "Pclass    0.549500\n",
       "Parch     0.216225\n",
       "SibSp     0.159651\n",
       "Age       0.096067\n",
       "Name: Fare, dtype: float64"
      ]
     },
     "execution_count": 21,
     "metadata": {},
     "output_type": "execute_result"
    }
   ],
   "source": [
    "train.corr(numeric_only = True)['Fare'].abs().sort_values(ascending = False)\n",
    "# 상관관계를 나타내는 표에서 Fare컬럼을 절대값으로 바꾸고 내림차순으로 확인해보자\n",
    "\n",
    "# train, test 'Fare'컬럼은 Pclass와 연관성이 상대적으로 높음"
   ]
  },
  {
   "cell_type": "code",
   "execution_count": 22,
   "id": "49aeb3d9-9542-4377-a7f4-0ecdc4274928",
   "metadata": {
    "scrolled": true
   },
   "outputs": [
    {
     "data": {
      "image/png": "[encoded data removed]",
      "text/plain": [
       "<Figure size 800x800 with 2 Axes>"
      ]
     },
     "metadata": {},
     "output_type": "display_data"
    }
   ],
   "source": [
    "# 그래프를 통해서도 상관관계를 확인할 수 있다.\n",
    "# 히트맵 표현\n",
    "plt.figure(figsize = (8,8))\n",
    "sns.heatmap(train.corr(numeric_only = True).abs(), annot = False, cmap = 'Oranges')\n",
    "# annot : 어노테이션\n",
    "# cmap : color map\n",
    "plt.show()"
   ]
  },
  {
   "cell_type": "code",
   "execution_count": 23,
   "id": "b3829cfd-b369-4ece-9ad2-4043abac43a7",
   "metadata": {},
   "outputs": [
    {
     "data": {
      "text/plain": [
       "array([3, 1, 2], dtype=int64)"
      ]
     },
     "execution_count": 23,
     "metadata": {},
     "output_type": "execute_result"
    }
   ],
   "source": [
    "# train Pclass 컬럼 인덱싱\n",
    "train['Pclass'].unique()\n",
    "# 3 : 하위층, 2 : 중위층, 1 : 상위층"
   ]
  },
  {
   "cell_type": "code",
   "execution_count": 24,
   "id": "2f51917b-4e4b-487c-8cd7-bb42ddc8b6a3",
   "metadata": {},
   "outputs": [
    {
     "data": {
      "text/html": [
       "<div>\n",
       "<style scoped>\n",
       "    .dataframe tbody tr th:only-of-type {\n",
       "        vertical-align: middle;\n",
       "    }\n",
       "\n",
       "    .dataframe tbody tr th {\n",
       "        vertical-align: top;\n",
       "    }\n",
       "\n",
       "    .dataframe thead th {\n",
       "        text-align: right;\n",
       "    }\n",
       "</style>\n",
       "<table border=\"1\" class=\"dataframe\">\n",
       "  <thead>\n",
       "    <tr style=\"text-align: right;\">\n",
       "      <th></th>\n",
       "      <th></th>\n",
       "      <th>Fare</th>\n",
       "    </tr>\n",
       "    <tr>\n",
       "      <th>Pclass</th>\n",
       "      <th>Sex</th>\n",
       "      <th></th>\n",
       "    </tr>\n",
       "  </thead>\n",
       "  <tbody>\n",
       "    <tr>\n",
       "      <th rowspan=\"2\" valign=\"top\">1</th>\n",
       "      <th>female</th>\n",
       "      <td>82.66455</td>\n",
       "    </tr>\n",
       "    <tr>\n",
       "      <th>male</th>\n",
       "      <td>41.26250</td>\n",
       "    </tr>\n",
       "    <tr>\n",
       "      <th rowspan=\"2\" valign=\"top\">2</th>\n",
       "      <th>female</th>\n",
       "      <td>22.00000</td>\n",
       "    </tr>\n",
       "    <tr>\n",
       "      <th>male</th>\n",
       "      <td>13.00000</td>\n",
       "    </tr>\n",
       "    <tr>\n",
       "      <th rowspan=\"2\" valign=\"top\">3</th>\n",
       "      <th>female</th>\n",
       "      <td>12.47500</td>\n",
       "    </tr>\n",
       "    <tr>\n",
       "      <th>male</th>\n",
       "      <td>7.92500</td>\n",
       "    </tr>\n",
       "  </tbody>\n",
       "</table>\n",
       "</div>"
      ],
      "text/plain": [
       "                   Fare\n",
       "Pclass Sex             \n",
       "1      female  82.66455\n",
       "       male    41.26250\n",
       "2      female  22.00000\n",
       "       male    13.00000\n",
       "3      female  12.47500\n",
       "       male     7.92500"
      ]
     },
     "execution_count": 24,
     "metadata": {},
     "output_type": "execute_result"
    }
   ],
   "source": [
    "# 승객 등급을 기준으로 그룹화, 요금 컬럼 집계함수 연결(median())\n",
    "train[['Pclass','Fare']].groupby('Pclass').median()\n",
    "# Pclass를 그룹핑하여 Fare의 중앙값을 살펴본 코드\n",
    "train[['Pclass','Sex','Fare']].groupby(['Pclass','Sex']).median()\n",
    "# Pclass, Sex 그룹핑하여 Fare의 중앙값을 확인해보기(실습)"
   ]
  },
  {
   "cell_type": "code",
   "execution_count": 25,
   "id": "79fe06ee-612a-4370-949c-4bb980d2067e",
   "metadata": {},
   "outputs": [
    {
     "data": {
      "text/html": [
       "<div>\n",
       "<style scoped>\n",
       "    .dataframe tbody tr th:only-of-type {\n",
       "        vertical-align: middle;\n",
       "    }\n",
       "\n",
       "    .dataframe tbody tr th {\n",
       "        vertical-align: top;\n",
       "    }\n",
       "\n",
       "    .dataframe thead th {\n",
       "        text-align: right;\n",
       "    }\n",
       "</style>\n",
       "<table border=\"1\" class=\"dataframe\">\n",
       "  <thead>\n",
       "    <tr style=\"text-align: right;\">\n",
       "      <th></th>\n",
       "      <th>Pclass</th>\n",
       "      <th>Name</th>\n",
       "      <th>Sex</th>\n",
       "      <th>Age</th>\n",
       "      <th>SibSp</th>\n",
       "      <th>Parch</th>\n",
       "      <th>Ticket</th>\n",
       "      <th>Fare</th>\n",
       "      <th>Cabin</th>\n",
       "      <th>Embarked</th>\n",
       "    </tr>\n",
       "    <tr>\n",
       "      <th>PassengerId</th>\n",
       "      <th></th>\n",
       "      <th></th>\n",
       "      <th></th>\n",
       "      <th></th>\n",
       "      <th></th>\n",
       "      <th></th>\n",
       "      <th></th>\n",
       "      <th></th>\n",
       "      <th></th>\n",
       "      <th></th>\n",
       "    </tr>\n",
       "  </thead>\n",
       "  <tbody>\n",
       "    <tr>\n",
       "      <th>1044</th>\n",
       "      <td>3</td>\n",
       "      <td>Storey, Mr. Thomas</td>\n",
       "      <td>male</td>\n",
       "      <td>60.5</td>\n",
       "      <td>0</td>\n",
       "      <td>0</td>\n",
       "      <td>3701</td>\n",
       "      <td>NaN</td>\n",
       "      <td>NaN</td>\n",
       "      <td>S</td>\n",
       "    </tr>\n",
       "  </tbody>\n",
       "</table>\n",
       "</div>"
      ],
      "text/plain": [
       "             Pclass                Name   Sex   Age  SibSp  Parch Ticket  \\\n",
       "PassengerId                                                                \n",
       "1044              3  Storey, Mr. Thomas  male  60.5      0      0   3701   \n",
       "\n",
       "             Fare Cabin Embarked  \n",
       "PassengerId                       \n",
       "1044          NaN   NaN        S  "
      ]
     },
     "execution_count": 25,
     "metadata": {},
     "output_type": "execute_result"
    }
   ],
   "source": [
    "# 결측치가 있는 행 출력해보기 : Fare\n",
    "test[test['Fare'].isnull()]"
   ]
  },
  {
   "cell_type": "code",
   "execution_count": 26,
   "id": "dbda9e1c-431d-4e27-8e89-89455f3fe9c0",
   "metadata": {},
   "outputs": [],
   "source": [
    "# fillna를 사용해서 결측치를 채워보자\n",
    "# 3등급, 남자 - 7.925\n",
    "test['Fare'] = test['Fare'].fillna(7.925)"
   ]
  },
  {
   "cell_type": "code",
   "execution_count": 27,
   "id": "488459a3-c75e-4b9e-8a3a-592c5759355c",
   "metadata": {
    "scrolled": true
   },
   "outputs": [
    {
     "name": "stdout",
     "output_type": "stream",
     "text": [
      "<class 'pandas.core.frame.DataFrame'>\n",
      "Index: 418 entries, 892 to 1309\n",
      "Data columns (total 10 columns):\n",
      " #   Column    Non-Null Count  Dtype  \n",
      "---  ------    --------------  -----  \n",
      " 0   Pclass    418 non-null    int64  \n",
      " 1   Name      418 non-null    object \n",
      " 2   Sex       418 non-null    object \n",
      " 3   Age       332 non-null    float64\n",
      " 4   SibSp     418 non-null    int64  \n",
      " 5   Parch     418 non-null    int64  \n",
      " 6   Ticket    418 non-null    object \n",
      " 7   Fare      418 non-null    float64\n",
      " 8   Cabin     91 non-null     object \n",
      " 9   Embarked  418 non-null    object \n",
      "dtypes: float64(2), int64(3), object(5)\n",
      "memory usage: 35.9+ KB\n"
     ]
    }
   ],
   "source": [
    "test.info() # Fare 결측치 다 채워졌는지 확인하기"
   ]
  },
  {
   "cell_type": "markdown",
   "id": "f0e60206-e9a1-4da7-9ade-1a52db98501e",
   "metadata": {},
   "source": [
    "- train, test Age 채우기\n",
    "    - 위에서 사용했던 Pclass, Sex컬럼을 그룹핑하여 Age의 집계를 확인하고 채워보자"
   ]
  },
  {
   "cell_type": "code",
   "execution_count": 28,
   "id": "a97941fe-05df-451e-be6f-0d8331a13b51",
   "metadata": {},
   "outputs": [
    {
     "data": {
      "text/plain": [
       "count    714.000000\n",
       "mean      29.699118\n",
       "std       14.526497\n",
       "min        0.420000\n",
       "25%       20.125000\n",
       "50%       28.000000\n",
       "75%       38.000000\n",
       "max       80.000000\n",
       "Name: Age, dtype: float64"
      ]
     },
     "execution_count": 28,
     "metadata": {},
     "output_type": "execute_result"
    }
   ],
   "source": [
    "# 중앙값을 쓸지, 평균값을 쓸지 판단하기 위해 Age 컬럼의 기술 통계량을 확인하기\n",
    "# 대표성이 있는 값은 뭘까?\n",
    "\n",
    "train['Age'].describe()\n",
    "# mean()을 활용해서 확인해보자"
   ]
  },
  {
   "cell_type": "code",
   "execution_count": 29,
   "id": "b44ca4a3-ff47-492d-8069-48a86b4683c2",
   "metadata": {},
   "outputs": [
    {
     "data": {
      "text/html": [
       "<div>\n",
       "<style scoped>\n",
       "    .dataframe tbody tr th:only-of-type {\n",
       "        vertical-align: middle;\n",
       "    }\n",
       "\n",
       "    .dataframe tbody tr th {\n",
       "        vertical-align: top;\n",
       "    }\n",
       "\n",
       "    .dataframe thead th {\n",
       "        text-align: right;\n",
       "    }\n",
       "</style>\n",
       "<table border=\"1\" class=\"dataframe\">\n",
       "  <thead>\n",
       "    <tr style=\"text-align: right;\">\n",
       "      <th></th>\n",
       "      <th></th>\n",
       "      <th>Age</th>\n",
       "    </tr>\n",
       "    <tr>\n",
       "      <th>Pclass</th>\n",
       "      <th>Sex</th>\n",
       "      <th></th>\n",
       "    </tr>\n",
       "  </thead>\n",
       "  <tbody>\n",
       "    <tr>\n",
       "      <th rowspan=\"2\" valign=\"top\">1</th>\n",
       "      <th>female</th>\n",
       "      <td>34.611765</td>\n",
       "    </tr>\n",
       "    <tr>\n",
       "      <th>male</th>\n",
       "      <td>41.281386</td>\n",
       "    </tr>\n",
       "    <tr>\n",
       "      <th rowspan=\"2\" valign=\"top\">2</th>\n",
       "      <th>female</th>\n",
       "      <td>28.722973</td>\n",
       "    </tr>\n",
       "    <tr>\n",
       "      <th>male</th>\n",
       "      <td>30.740707</td>\n",
       "    </tr>\n",
       "    <tr>\n",
       "      <th rowspan=\"2\" valign=\"top\">3</th>\n",
       "      <th>female</th>\n",
       "      <td>21.750000</td>\n",
       "    </tr>\n",
       "    <tr>\n",
       "      <th>male</th>\n",
       "      <td>26.507589</td>\n",
       "    </tr>\n",
       "  </tbody>\n",
       "</table>\n",
       "</div>"
      ],
      "text/plain": [
       "                     Age\n",
       "Pclass Sex              \n",
       "1      female  34.611765\n",
       "       male    41.281386\n",
       "2      female  28.722973\n",
       "       male    30.740707\n",
       "3      female  21.750000\n",
       "       male    26.507589"
      ]
     },
     "execution_count": 29,
     "metadata": {},
     "output_type": "execute_result"
    }
   ],
   "source": [
    "# Pclass, Sex을 그룹핑하여 Age의 평균 출력해보기 - train\n",
    "gb1 = train[['Pclass','Sex','Age']].groupby(['Pclass','Sex']).mean()\n",
    "gb1"
   ]
  },
  {
   "cell_type": "code",
   "execution_count": 30,
   "id": "369db40b-a2b4-4786-8b73-c5c66316f9c4",
   "metadata": {},
   "outputs": [
    {
     "data": {
      "text/plain": [
       "Age    30.740707\n",
       "Name: (2, male), dtype: float64"
      ]
     },
     "execution_count": 30,
     "metadata": {},
     "output_type": "execute_result"
    }
   ],
   "source": [
    "# gb1 - index 2개 - pclass, sex\n",
    "# 멀티 인덱스(중복인덱스)\n",
    "gb1.loc[(2,'male')]"
   ]
  },
  {
   "cell_type": "code",
   "execution_count": 31,
   "id": "563adf9b-ad0c-4e09-97bd-6a8ac66b5c9c",
   "metadata": {},
   "outputs": [
    {
     "data": {
      "text/plain": [
       "Age    21.75\n",
       "Name: (3, female), dtype: float64"
      ]
     },
     "execution_count": 31,
     "metadata": {},
     "output_type": "execute_result"
    }
   ],
   "source": [
    "# 3등급의 여성 나이 평균 접근해보자 (실습)\n",
    "gb1.loc[(3,'female')]"
   ]
  },
  {
   "cell_type": "code",
   "execution_count": 32,
   "id": "3c6d736f-4cd8-4e82-8a45-4a157ecefd60",
   "metadata": {
    "scrolled": true
   },
   "outputs": [
    {
     "data": {
      "text/html": [
       "<div>\n",
       "<style scoped>\n",
       "    .dataframe tbody tr th:only-of-type {\n",
       "        vertical-align: middle;\n",
       "    }\n",
       "\n",
       "    .dataframe tbody tr th {\n",
       "        vertical-align: top;\n",
       "    }\n",
       "\n",
       "    .dataframe thead th {\n",
       "        text-align: right;\n",
       "    }\n",
       "</style>\n",
       "<table border=\"1\" class=\"dataframe\">\n",
       "  <thead>\n",
       "    <tr style=\"text-align: right;\">\n",
       "      <th></th>\n",
       "      <th>Survived</th>\n",
       "      <th>Pclass</th>\n",
       "      <th>Name</th>\n",
       "      <th>Sex</th>\n",
       "      <th>Age</th>\n",
       "      <th>SibSp</th>\n",
       "      <th>Parch</th>\n",
       "      <th>Ticket</th>\n",
       "      <th>Fare</th>\n",
       "      <th>Cabin</th>\n",
       "      <th>Embarked</th>\n",
       "    </tr>\n",
       "    <tr>\n",
       "      <th>PassengerId</th>\n",
       "      <th></th>\n",
       "      <th></th>\n",
       "      <th></th>\n",
       "      <th></th>\n",
       "      <th></th>\n",
       "      <th></th>\n",
       "      <th></th>\n",
       "      <th></th>\n",
       "      <th></th>\n",
       "      <th></th>\n",
       "      <th></th>\n",
       "    </tr>\n",
       "  </thead>\n",
       "  <tbody>\n",
       "    <tr>\n",
       "      <th>6</th>\n",
       "      <td>0</td>\n",
       "      <td>3</td>\n",
       "      <td>Moran, Mr. James</td>\n",
       "      <td>male</td>\n",
       "      <td>NaN</td>\n",
       "      <td>0</td>\n",
       "      <td>0</td>\n",
       "      <td>330877</td>\n",
       "      <td>8.4583</td>\n",
       "      <td>NaN</td>\n",
       "      <td>Q</td>\n",
       "    </tr>\n",
       "    <tr>\n",
       "      <th>18</th>\n",
       "      <td>1</td>\n",
       "      <td>2</td>\n",
       "      <td>Williams, Mr. Charles Eugene</td>\n",
       "      <td>male</td>\n",
       "      <td>NaN</td>\n",
       "      <td>0</td>\n",
       "      <td>0</td>\n",
       "      <td>244373</td>\n",
       "      <td>13.0000</td>\n",
       "      <td>NaN</td>\n",
       "      <td>S</td>\n",
       "    </tr>\n",
       "    <tr>\n",
       "      <th>20</th>\n",
       "      <td>1</td>\n",
       "      <td>3</td>\n",
       "      <td>Masselmani, Mrs. Fatima</td>\n",
       "      <td>female</td>\n",
       "      <td>NaN</td>\n",
       "      <td>0</td>\n",
       "      <td>0</td>\n",
       "      <td>2649</td>\n",
       "      <td>7.2250</td>\n",
       "      <td>NaN</td>\n",
       "      <td>C</td>\n",
       "    </tr>\n",
       "    <tr>\n",
       "      <th>27</th>\n",
       "      <td>0</td>\n",
       "      <td>3</td>\n",
       "      <td>Emir, Mr. Farred Chehab</td>\n",
       "      <td>male</td>\n",
       "      <td>NaN</td>\n",
       "      <td>0</td>\n",
       "      <td>0</td>\n",
       "      <td>2631</td>\n",
       "      <td>7.2250</td>\n",
       "      <td>NaN</td>\n",
       "      <td>C</td>\n",
       "    </tr>\n",
       "    <tr>\n",
       "      <th>29</th>\n",
       "      <td>1</td>\n",
       "      <td>3</td>\n",
       "      <td>O'Dwyer, Miss. Ellen \"Nellie\"</td>\n",
       "      <td>female</td>\n",
       "      <td>NaN</td>\n",
       "      <td>0</td>\n",
       "      <td>0</td>\n",
       "      <td>330959</td>\n",
       "      <td>7.8792</td>\n",
       "      <td>NaN</td>\n",
       "      <td>Q</td>\n",
       "    </tr>\n",
       "    <tr>\n",
       "      <th>...</th>\n",
       "      <td>...</td>\n",
       "      <td>...</td>\n",
       "      <td>...</td>\n",
       "      <td>...</td>\n",
       "      <td>...</td>\n",
       "      <td>...</td>\n",
       "      <td>...</td>\n",
       "      <td>...</td>\n",
       "      <td>...</td>\n",
       "      <td>...</td>\n",
       "      <td>...</td>\n",
       "    </tr>\n",
       "    <tr>\n",
       "      <th>860</th>\n",
       "      <td>0</td>\n",
       "      <td>3</td>\n",
       "      <td>Razi, Mr. Raihed</td>\n",
       "      <td>male</td>\n",
       "      <td>NaN</td>\n",
       "      <td>0</td>\n",
       "      <td>0</td>\n",
       "      <td>2629</td>\n",
       "      <td>7.2292</td>\n",
       "      <td>NaN</td>\n",
       "      <td>C</td>\n",
       "    </tr>\n",
       "    <tr>\n",
       "      <th>864</th>\n",
       "      <td>0</td>\n",
       "      <td>3</td>\n",
       "      <td>Sage, Miss. Dorothy Edith \"Dolly\"</td>\n",
       "      <td>female</td>\n",
       "      <td>NaN</td>\n",
       "      <td>8</td>\n",
       "      <td>2</td>\n",
       "      <td>CA. 2343</td>\n",
       "      <td>69.5500</td>\n",
       "      <td>NaN</td>\n",
       "      <td>S</td>\n",
       "    </tr>\n",
       "    <tr>\n",
       "      <th>869</th>\n",
       "      <td>0</td>\n",
       "      <td>3</td>\n",
       "      <td>van Melkebeke, Mr. Philemon</td>\n",
       "      <td>male</td>\n",
       "      <td>NaN</td>\n",
       "      <td>0</td>\n",
       "      <td>0</td>\n",
       "      <td>345777</td>\n",
       "      <td>9.5000</td>\n",
       "      <td>NaN</td>\n",
       "      <td>S</td>\n",
       "    </tr>\n",
       "    <tr>\n",
       "      <th>879</th>\n",
       "      <td>0</td>\n",
       "      <td>3</td>\n",
       "      <td>Laleff, Mr. Kristo</td>\n",
       "      <td>male</td>\n",
       "      <td>NaN</td>\n",
       "      <td>0</td>\n",
       "      <td>0</td>\n",
       "      <td>349217</td>\n",
       "      <td>7.8958</td>\n",
       "      <td>NaN</td>\n",
       "      <td>S</td>\n",
       "    </tr>\n",
       "    <tr>\n",
       "      <th>889</th>\n",
       "      <td>0</td>\n",
       "      <td>3</td>\n",
       "      <td>Johnston, Miss. Catherine Helen \"Carrie\"</td>\n",
       "      <td>female</td>\n",
       "      <td>NaN</td>\n",
       "      <td>1</td>\n",
       "      <td>2</td>\n",
       "      <td>W./C. 6607</td>\n",
       "      <td>23.4500</td>\n",
       "      <td>NaN</td>\n",
       "      <td>S</td>\n",
       "    </tr>\n",
       "  </tbody>\n",
       "</table>\n",
       "<p>177 rows × 11 columns</p>\n",
       "</div>"
      ],
      "text/plain": [
       "            Survived  Pclass                                      Name  \\\n",
       "PassengerId                                                              \n",
       "6                  0       3                          Moran, Mr. James   \n",
       "18                 1       2              Williams, Mr. Charles Eugene   \n",
       "20                 1       3                   Masselmani, Mrs. Fatima   \n",
       "27                 0       3                   Emir, Mr. Farred Chehab   \n",
       "29                 1       3             O'Dwyer, Miss. Ellen \"Nellie\"   \n",
       "...              ...     ...                                       ...   \n",
       "860                0       3                          Razi, Mr. Raihed   \n",
       "864                0       3         Sage, Miss. Dorothy Edith \"Dolly\"   \n",
       "869                0       3               van Melkebeke, Mr. Philemon   \n",
       "879                0       3                        Laleff, Mr. Kristo   \n",
       "889                0       3  Johnston, Miss. Catherine Helen \"Carrie\"   \n",
       "\n",
       "                Sex  Age  SibSp  Parch      Ticket     Fare Cabin Embarked  \n",
       "PassengerId                                                                 \n",
       "6              male  NaN      0      0      330877   8.4583   NaN        Q  \n",
       "18             male  NaN      0      0      244373  13.0000   NaN        S  \n",
       "20           female  NaN      0      0        2649   7.2250   NaN        C  \n",
       "27             male  NaN      0      0        2631   7.2250   NaN        C  \n",
       "29           female  NaN      0      0      330959   7.8792   NaN        Q  \n",
       "...             ...  ...    ...    ...         ...      ...   ...      ...  \n",
       "860            male  NaN      0      0        2629   7.2292   NaN        C  \n",
       "864          female  NaN      8      2    CA. 2343  69.5500   NaN        S  \n",
       "869            male  NaN      0      0      345777   9.5000   NaN        S  \n",
       "879            male  NaN      0      0      349217   7.8958   NaN        S  \n",
       "889          female  NaN      1      2  W./C. 6607  23.4500   NaN        S  \n",
       "\n",
       "[177 rows x 11 columns]"
      ]
     },
     "execution_count": 32,
     "metadata": {},
     "output_type": "execute_result"
    }
   ],
   "source": [
    "# train Age 결측치가 있는 행 정보 모두 출력\n",
    "train[train['Age'].isnull()]"
   ]
  },
  {
   "cell_type": "code",
   "execution_count": 33,
   "id": "14d4095c-49b7-4eea-9b74-05400bee4bbd",
   "metadata": {},
   "outputs": [],
   "source": [
    "# 규칙에 맞게 Pclass와 Sex을 보면서 Age를 넣어보자\n",
    "def fill_age(row):\n",
    "    # print(row)\n",
    "    # print('*'*15)\n",
    "    # row 받아오는 행에 데이터에 대한 매개변수\n",
    "    # row에 Age가 결측치라면 gb1값을 인덱싱 해오도록 만들어주자!\n",
    "    # 만약에 나이가 결측치라면 gb1값을 인덱싱\n",
    "    if np.isnan(row['Age']):\n",
    "        return gb1.loc[(row['Pclass'],row['Sex'])]\n",
    "    # 결측치가 아니라면 원래 나이 값을 사용\n",
    "    else:\n",
    "        return row['Age']"
   ]
  },
  {
   "cell_type": "code",
   "execution_count": 34,
   "id": "fb38bb2c-7cdf-474b-8a18-ca88bf573aa8",
   "metadata": {},
   "outputs": [
    {
     "name": "stdout",
     "output_type": "stream",
     "text": [
      "<class 'pandas.core.series.Series'>\n",
      "Index: 891 entries, 1 to 891\n",
      "Series name: Age\n",
      "Non-Null Count  Dtype\n",
      "--------------  -----\n",
      "891 non-null    int64\n",
      "dtypes: int64(1)\n",
      "memory usage: 13.9 KB\n"
     ]
    },
    {
     "name": "stderr",
     "output_type": "stream",
     "text": [
      "C:\\Users\\ggg\\AppData\\Local\\Temp\\ipykernel_9808\\3905307048.py:1: FutureWarning: Calling int on a single element Series is deprecated and will raise a TypeError in the future. Use int(ser.iloc[0]) instead\n",
      "  train['Age'] = train.apply(fill_age, axis = 1).astype(np.int64)\n"
     ]
    }
   ],
   "source": [
    "train['Age'] = train.apply(fill_age, axis = 1).astype(np.int64)\n",
    "# axis = 0 (행방향, 열단위 처리)\n",
    "# axis = 1 (열방향, 행단위 처리)\n",
    "train['Age'].info()"
   ]
  },
  {
   "cell_type": "code",
   "execution_count": 35,
   "id": "6e3eff02-7c39-4081-914d-2345e30a25a9",
   "metadata": {},
   "outputs": [
    {
     "name": "stderr",
     "output_type": "stream",
     "text": [
      "C:\\Users\\ggg\\AppData\\Local\\Temp\\ipykernel_9808\\3623754524.py:4: FutureWarning: Calling int on a single element Series is deprecated and will raise a TypeError in the future. Use int(ser.iloc[0]) instead\n",
      "  test['Age'] = test.apply(fill_age, axis = 1).astype(np.int64)\n"
     ]
    }
   ],
   "source": [
    "# test Age 컬럼 결측치 해워보기\n",
    "# gb1을 기준으로 동일하게 적용\n",
    "# fill_age함수 test데이터에 적용\n",
    "test['Age'] = test.apply(fill_age, axis = 1).astype(np.int64)\n",
    "\n",
    "# apply, fill_age\n",
    "# 테스트 데이터를 행단위로 쪼갠거를 매개변수로 보내줘서 안쪽 로직이 동작하고\n",
    "# 결과값으로 Age를 채울수 있는 대표값을 하나 보내주는데\n",
    "# 형변환을 해서 test'Age'컬럼에 그대로 넣어준다!"
   ]
  },
  {
   "cell_type": "markdown",
   "id": "2f6b0f0f-07b1-4b6d-8c6a-97e23bac1eb9",
   "metadata": {},
   "source": [
    "- train, test Cabin 채우기\n",
    "    - Cabin 컬럼 데이터 확인, 의미 있는 데이터만 활용\n",
    "    - 임의의 값으로 결측치를 채워볼 예정"
   ]
  },
  {
   "cell_type": "code",
   "execution_count": 36,
   "id": "1654885a-b590-4162-b037-95ac15a4609c",
   "metadata": {},
   "outputs": [
    {
     "name": "stdout",
     "output_type": "stream",
     "text": [
      "<class 'pandas.core.series.Series'>\n",
      "Index: 891 entries, 1 to 891\n",
      "Series name: Cabin\n",
      "Non-Null Count  Dtype \n",
      "--------------  ----- \n",
      "204 non-null    object\n",
      "dtypes: object(1)\n",
      "memory usage: 13.9+ KB\n"
     ]
    }
   ],
   "source": [
    "# train 기준으로 데이터를 확인\n",
    "train['Cabin'].unique()\n",
    "train['Cabin'].info()\n",
    "\n",
    "# A, B, C... 층으로 배에는 표기를 한다. 뒤에있는 숫자까지 사용하면 범주가 \n",
    "# 너무 커질것 같으니 앞에있는 알파벳만 사용해보는건 어떨까?"
   ]
  },
  {
   "cell_type": "code",
   "execution_count": 37,
   "id": "39859626-059c-4738-99e7-db6f6f95a459",
   "metadata": {},
   "outputs": [],
   "source": [
    "# 우선 임의의 값으로 train, test Cavin 결측치를 채워보자\n",
    "# 'M'\n",
    "train['Cabin'] = train['Cabin'].fillna('M')\n",
    "test['Cabin'] = test['Cabin'].fillna('M')"
   ]
  },
  {
   "cell_type": "code",
   "execution_count": 38,
   "id": "9b0d6475-bbcf-4f1e-bea2-1e244082ce73",
   "metadata": {},
   "outputs": [
    {
     "name": "stdout",
     "output_type": "stream",
     "text": [
      "<class 'pandas.core.series.Series'>\n",
      "Index: 891 entries, 1 to 891\n",
      "Series name: Cabin\n",
      "Non-Null Count  Dtype \n",
      "--------------  ----- \n",
      "891 non-null    object\n",
      "dtypes: object(1)\n",
      "memory usage: 13.9+ KB\n"
     ]
    }
   ],
   "source": [
    "train['Cabin'].info()"
   ]
  },
  {
   "cell_type": "code",
   "execution_count": 39,
   "id": "690a4212-891f-480c-a569-c0ddf0644098",
   "metadata": {},
   "outputs": [
    {
     "data": {
      "text/plain": [
       "(Index(['Survived', 'Pclass', 'Name', 'Sex', 'Age', 'SibSp', 'Parch', 'Ticket',\n",
       "        'Fare', 'Cabin', 'Embarked', 'Deck'],\n",
       "       dtype='object'),\n",
       " Index(['Pclass', 'Name', 'Sex', 'Age', 'SibSp', 'Parch', 'Ticket', 'Fare',\n",
       "        'Cabin', 'Embarked', 'Deck'],\n",
       "       dtype='object'))"
      ]
     },
     "execution_count": 39,
     "metadata": {},
     "output_type": "execute_result"
    }
   ],
   "source": [
    "# 첫 글자 알파벳 1개만 추출하기\n",
    "# 문자열에 접근하려면 인덱싱, 슬라이싱\n",
    "train['Deck'] = train['Cabin'].str[0]\n",
    "# str : 데이터 내부 문자열에 접근하는 키워드\n",
    "# 혹시 나중에 숫자가 달려있는 데이터가 필요할 수 도 있으니, Deck라는 새로운 컬럼을 \n",
    "# 만들어서 알파벳 1개를 담아주자\n",
    "test['Deck'] = test['Cabin'].str[0]\n",
    "\n",
    "# column을 확인해보자\n",
    "train.columns, test.columns"
   ]
  },
  {
   "cell_type": "code",
   "execution_count": 40,
   "id": "1810b464-8d25-481e-b027-d9372a5d33c8",
   "metadata": {},
   "outputs": [],
   "source": [
    "# Cabin 컬럼 삭제하기 (train, test) - drop\n",
    "# train데이터와 test데이터에서 Cabin컬럼을 삭제하자\n",
    "# 데이터.drop(컬럼명, axis = , inplace = True)\n",
    "# axis = 0이면, 행삭제\n",
    "# axis = 1이면, 열삭제\n",
    "# 여러개의 데이터를 삭제하고 싶으면 데이터.drop([열이름, 열이름...], axis = 1)\n",
    "train.drop('Cabin', axis = 1, inplace = True)\n",
    "test.drop('Cabin', axis = 1, inplace = True)\n",
    "# inplace : 삭제를 데이터에 반영하는 속성"
   ]
  },
  {
   "cell_type": "code",
   "execution_count": 41,
   "id": "1f6232b8-be0d-4023-bc7d-c82bf6b6f7e4",
   "metadata": {},
   "outputs": [
    {
     "name": "stdout",
     "output_type": "stream",
     "text": [
      "<class 'pandas.core.frame.DataFrame'>\n",
      "Index: 891 entries, 1 to 891\n",
      "Data columns (total 11 columns):\n",
      " #   Column    Non-Null Count  Dtype  \n",
      "---  ------    --------------  -----  \n",
      " 0   Survived  891 non-null    object \n",
      " 1   Pclass    891 non-null    int64  \n",
      " 2   Name      891 non-null    object \n",
      " 3   Sex       891 non-null    object \n",
      " 4   Age       891 non-null    int64  \n",
      " 5   SibSp     891 non-null    int64  \n",
      " 6   Parch     891 non-null    int64  \n",
      " 7   Ticket    891 non-null    object \n",
      " 8   Fare      891 non-null    float64\n",
      " 9   Embarked  891 non-null    object \n",
      " 10  Deck      891 non-null    object \n",
      "dtypes: float64(1), int64(4), object(6)\n",
      "memory usage: 83.5+ KB\n",
      "<class 'pandas.core.frame.DataFrame'>\n",
      "Index: 418 entries, 892 to 1309\n",
      "Data columns (total 10 columns):\n",
      " #   Column    Non-Null Count  Dtype  \n",
      "---  ------    --------------  -----  \n",
      " 0   Pclass    418 non-null    int64  \n",
      " 1   Name      418 non-null    object \n",
      " 2   Sex       418 non-null    object \n",
      " 3   Age       418 non-null    int64  \n",
      " 4   SibSp     418 non-null    int64  \n",
      " 5   Parch     418 non-null    int64  \n",
      " 6   Ticket    418 non-null    object \n",
      " 7   Fare      418 non-null    float64\n",
      " 8   Embarked  418 non-null    object \n",
      " 9   Deck      418 non-null    object \n",
      "dtypes: float64(1), int64(4), object(5)\n",
      "memory usage: 35.9+ KB\n"
     ]
    }
   ],
   "source": [
    "# info() - 확인하기\n",
    "train.info()\n",
    "test.info()"
   ]
  },
  {
   "cell_type": "markdown",
   "id": "b5ef5cf1-8881-4277-bfc8-6a7991ec4dac",
   "metadata": {},
   "source": [
    "- Deck 시각화"
   ]
  },
  {
   "cell_type": "code",
   "execution_count": 42,
   "id": "bfb6a166-1806-4d8e-9827-1af6da82c7e1",
   "metadata": {
    "scrolled": true
   },
   "outputs": [
    {
     "data": {
      "image/png": "[encoded data removed]",
      "text/plain": [
       "<Figure size 640x480 with 1 Axes>"
      ]
     },
     "metadata": {},
     "output_type": "display_data"
    }
   ],
   "source": [
    "# sns 시각화 도구를 사용해서 범주형 데이터 Deck를 시각화 해보자\n",
    "sns.countplot(data = train, x = 'Deck', hue = 'Survived')\n",
    "plt.show()"
   ]
  },
  {
   "cell_type": "code",
   "execution_count": 43,
   "id": "0bb07722-81f8-48ca-b344-60fcece38c17",
   "metadata": {},
   "outputs": [],
   "source": [
    "# M층에서는 상대적으로 사망율이 높음\n",
    "# 근데 M은 임의로 채워놓은 값이기에 다시 다른 컬럼을 살펴보면서 값을 다시 생각해보자 "
   ]
  },
  {
   "cell_type": "markdown",
   "id": "d1501025-21b8-4db4-8798-624b1b050465",
   "metadata": {},
   "source": [
    "- Pclass에 따른 생존/사망 시각화"
   ]
  },
  {
   "cell_type": "code",
   "execution_count": 44,
   "id": "aa942e4b-23ed-4416-ad0e-fcad33ed370e",
   "metadata": {
    "scrolled": true
   },
   "outputs": [
    {
     "data": {
      "image/png": "[encoded data removed]",
      "text/plain": [
       "<Figure size 640x480 with 1 Axes>"
      ]
     },
     "metadata": {},
     "output_type": "display_data"
    }
   ],
   "source": [
    "# Pclass가 사망에 얼마나 많은 영향을 받았는지 위데 데이터처럼 시각화를 진행해보자\n",
    "sns.countplot(data = train, x = 'Pclass', hue = 'Survived')\n",
    "plt.show()"
   ]
  },
  {
   "cell_type": "code",
   "execution_count": 45,
   "id": "aa61622b-fd75-415a-8f41-abc3d2d174bd",
   "metadata": {},
   "outputs": [],
   "source": [
    "# 1 : 생존율이 상대적으로 높음\n",
    "# 2 : 사망율이 조금 높지만 생존률과 거의 비슷함\n",
    "# 3 : 사망율이 월등히 높음"
   ]
  },
  {
   "cell_type": "markdown",
   "id": "ce7b9d4a-a12d-4df0-8203-b15e518120eb",
   "metadata": {},
   "source": [
    "- Deck와 Pclass 시각화 연결\n",
    "- x 축 : Deck, hue : Pclass"
   ]
  },
  {
   "cell_type": "code",
   "execution_count": 46,
   "id": "436646de-f939-47eb-93c7-0ab4ce852e58",
   "metadata": {},
   "outputs": [],
   "source": [
    "train['Pclass'] = train['Pclass'].astype('str')"
   ]
  },
  {
   "cell_type": "code",
   "execution_count": 47,
   "id": "56e5dd1b-0fa2-432b-bdbd-f076d967dff7",
   "metadata": {
    "scrolled": true
   },
   "outputs": [
    {
     "data": {
      "image/png": "[encoded data removed]",
      "text/plain": [
       "<Figure size 640x480 with 1 Axes>"
      ]
     },
     "metadata": {},
     "output_type": "display_data"
    }
   ],
   "source": [
    "sns.countplot(data = train, x = 'Deck', hue = 'Pclass')\n",
    "plt.legend()\n",
    "plt.show()"
   ]
  },
  {
   "cell_type": "code",
   "execution_count": 48,
   "id": "4e44d684-e956-4d05-b3f9-51cfe4e92791",
   "metadata": {},
   "outputs": [],
   "source": [
    "# M층에는 3등급의 사람이 많았기 때문에 상대적으로 사망률이 높았음을 파악\n",
    "# M이라는 데이터는 더이상 신경쓰지 않아도 된다. 3등급이 많아서 사망률이 높았음을 파익"
   ]
  },
  {
   "cell_type": "markdown",
   "id": "1c3fb07b-a511-4e95-b119-62c2c1aeda4b",
   "metadata": {},
   "source": [
    "- Sex, Embared(범주형 데이터)에 따른 생존/사망 시각화해보기"
   ]
  },
  {
   "cell_type": "code",
   "execution_count": 49,
   "id": "1aebf50e-8171-4329-aa74-dc1fbbe18434",
   "metadata": {},
   "outputs": [
    {
     "data": {
      "image/png": "[encoded data removed]",
      "text/plain": [
       "<Figure size 640x480 with 1 Axes>"
      ]
     },
     "metadata": {},
     "output_type": "display_data"
    }
   ],
   "source": [
    "sns.countplot(data = train, x = 'Sex', hue = 'Survived')\n",
    "plt.show()"
   ]
  },
  {
   "cell_type": "code",
   "execution_count": 50,
   "id": "1c295dcb-5126-4da7-b74f-3c141a45f386",
   "metadata": {},
   "outputs": [],
   "source": [
    "# 남성 사망율이 높고, 여성 생존율이 상대적으로 높음!"
   ]
  },
  {
   "cell_type": "code",
   "execution_count": 51,
   "id": "aa464cf7-0b1b-4cc9-97cb-281ba29a4db3",
   "metadata": {
    "scrolled": true
   },
   "outputs": [
    {
     "data": {
      "image/png": "[encoded data removed]",
      "text/plain": [
       "<Figure size 640x480 with 1 Axes>"
      ]
     },
     "metadata": {},
     "output_type": "display_data"
    }
   ],
   "source": [
    "sns.countplot(data = train, x = 'Embarked', hue = 'Survived')\n",
    "plt.show()"
   ]
  },
  {
   "cell_type": "code",
   "execution_count": 52,
   "id": "dc8f02bb-f88c-42a0-96b0-b640a963132b",
   "metadata": {},
   "outputs": [
    {
     "data": {
      "image/png": "[encoded data removed]",
      "text/plain": [
       "<Figure size 640x480 with 1 Axes>"
      ]
     },
     "metadata": {},
     "output_type": "display_data"
    }
   ],
   "source": [
    "# S 승선항에서 Pclass가 3인사람이 많이 탄건 아닌가?\n",
    "sns.countplot(data = train, x = 'Embarked', hue = 'Pclass')\n",
    "plt.show()"
   ]
  },
  {
   "cell_type": "code",
   "execution_count": 53,
   "id": "70056215-f0a8-4c87-a538-98a1b02f7282",
   "metadata": {},
   "outputs": [
    {
     "data": {
      "image/png": "[encoded data removed]",
      "text/plain": [
       "<Figure size 640x480 with 1 Axes>"
      ]
     },
     "metadata": {},
     "output_type": "display_data"
    }
   ],
   "source": [
    "sns.countplot(data = train, x = 'Age', hue = 'Survived')\n",
    "plt.show()"
   ]
  },
  {
   "cell_type": "code",
   "execution_count": 54,
   "id": "b89452cc-56fa-4472-a593-49745329f683",
   "metadata": {},
   "outputs": [],
   "source": [
    "# 나이데이터를 countplot으로 시각화 했더니, 해석하기가 힘듬\n",
    "# violinplot을 활용해보자 : 수치형 데이터의 분포를 확인할 때 사용하는 그래프"
   ]
  },
  {
   "cell_type": "code",
   "execution_count": 55,
   "id": "45e27bba-343a-4e6c-8f04-7cdc4ae5d34d",
   "metadata": {},
   "outputs": [
    {
     "data": {
      "image/png": "[encoded data removed]",
      "text/plain": [
       "<Figure size 640x480 with 1 Axes>"
      ]
     },
     "metadata": {},
     "output_type": "display_data"
    }
   ],
   "source": [
    "# 바이올린 형태로 데이터의 분포와 밀도를 보기 좋게 곡선으로 표현한 그래프\n",
    "# 데이터가 많이 존재하는 부분은 두껍게\n",
    "# 데이터가 적게 존재하는 부분은 얇게\n",
    "\n",
    "# 성별과 나이에 따른 생존/사망자 수를 확인해보자\n",
    "sns.violinplot(\n",
    "    data = train,\n",
    "    x = 'Sex',\n",
    "    y = 'Age',\n",
    "    hue = 'Survived',\n",
    "    split = True,\n",
    "    inner = 'stick'\n",
    ")\n",
    "plt.ylim(0,80)\n",
    "plt.show()"
   ]
  },
  {
   "cell_type": "code",
   "execution_count": 56,
   "id": "a1137497-1c9a-49e3-a76c-dd9ef9c8389e",
   "metadata": {},
   "outputs": [
    {
     "data": {
      "image/png": "[encoded data removed]",
      "text/plain": [
       "<Figure size 640x480 with 1 Axes>"
      ]
     },
     "metadata": {},
     "output_type": "display_data"
    }
   ],
   "source": [
    "# Sex와 Fare에 따른 Survived를 시각화 해보자\n",
    "sns.violinplot(\n",
    "    data = train, \n",
    "    x = 'Sex',\n",
    "    y = 'Fare',\n",
    "    hue = 'Survived',\n",
    "    inner = 'stick',\n",
    "    split = True\n",
    ")\n",
    "plt.ylim(0,300)\n",
    "plt.show()"
   ]
  },
  {
   "cell_type": "code",
   "execution_count": 57,
   "id": "0b03d96e-2b7e-496b-aaec-47bdec82a714",
   "metadata": {},
   "outputs": [],
   "source": [
    "# 요금이 저렴한 사람은 사망률이 높다, 요금이 높은 사람은 생존율이 높다"
   ]
  },
  {
   "cell_type": "markdown",
   "id": "bff01057-11d3-4d45-aeea-ca5efe543582",
   "metadata": {},
   "source": [
    "- 특성공학 : 새로운 컬럼을 생성(transform)\n",
    "    - Parch, SibSp를 더해서 가족의 숫자라는 새로운 컬으로 생성해보자\n",
    "    - train, test 동일하게 적용하자"
   ]
  },
  {
   "cell_type": "code",
   "execution_count": 58,
   "id": "ea434f42-150a-410c-b2e7-83ca4e89fba0",
   "metadata": {},
   "outputs": [
    {
     "data": {
      "text/plain": [
       "PassengerId\n",
       "1      2\n",
       "2      2\n",
       "3      1\n",
       "4      2\n",
       "5      1\n",
       "      ..\n",
       "887    1\n",
       "888    1\n",
       "889    4\n",
       "890    1\n",
       "891    1\n",
       "Name: Family_Size, Length: 891, dtype: int64"
      ]
     },
     "execution_count": 58,
     "metadata": {},
     "output_type": "execute_result"
    }
   ],
   "source": [
    "train['Family_Size'] = train['Parch'] + train['SibSp'] + 1 # +1 : 본인을 포함\n",
    "train['Family_Size']"
   ]
  },
  {
   "cell_type": "code",
   "execution_count": 59,
   "id": "292b61c1-3448-4fcd-99b3-c343557d5810",
   "metadata": {},
   "outputs": [
    {
     "data": {
      "text/plain": [
       "PassengerId\n",
       "892     1\n",
       "893     2\n",
       "894     1\n",
       "895     1\n",
       "896     3\n",
       "       ..\n",
       "1305    1\n",
       "1306    1\n",
       "1307    1\n",
       "1308    1\n",
       "1309    3\n",
       "Name: Family_Size, Length: 418, dtype: int64"
      ]
     },
     "execution_count": 59,
     "metadata": {},
     "output_type": "execute_result"
    }
   ],
   "source": [
    "test['Family_Size'] = test['Parch'] + test['SibSp'] + 1 # +1 : 본인을 포함\n",
    "test['Family_Size']"
   ]
  },
  {
   "cell_type": "code",
   "execution_count": 60,
   "id": "70e76071-c96c-4b86-8fdb-09a7a8ea8268",
   "metadata": {
    "scrolled": true
   },
   "outputs": [
    {
     "data": {
      "image/png": "[encoded data removed]",
      "text/plain": [
       "<Figure size 640x480 with 1 Axes>"
      ]
     },
     "metadata": {},
     "output_type": "display_data"
    }
   ],
   "source": [
    "# 시각화\n",
    "sns.countplot(data = train, x = 'Family_Size', hue = 'Survived')\n",
    "plt.show()"
   ]
  },
  {
   "cell_type": "code",
   "execution_count": 61,
   "id": "719387f6-1633-4dda-9bb1-3d693a2a1e5b",
   "metadata": {},
   "outputs": [],
   "source": [
    "# 1명 일때는 사망율이 높음 - alone\n",
    "# 2명 - 4명일때는 생존율이 높음 - small\n",
    "# 5명 이상은 사망률이 높음 - large\n",
    "# 수치형 데이터를 범주형 데이터로 만들어서 갯수를 줄여보자 - binning\n",
    "# binning작업을 통해서 사소한 관찰의 오류를 줄여주자!"
   ]
  },
  {
   "cell_type": "markdown",
   "id": "13e13c6c-cea7-4411-8153-c4ddc255d60d",
   "metadata": {},
   "source": [
    "- 가족의 사이즈가 1이면 Alone, 2-4명이면 Small, 5명이상이면 Large로 바꿔주자\n",
    "- train, test 둘다 변경"
   ]
  },
  {
   "cell_type": "code",
   "execution_count": 62,
   "id": "91be73d5-2cca-45ef-a735-35a8f793c215",
   "metadata": {},
   "outputs": [],
   "source": [
    "bins = [0, 1, 4, 11]# 숫자 범위 설정\n",
    "# (0, 1] : 1 ~ 1, (1, 4] : 2 ~ 4, (4,11] : 5 ~ 11\n",
    "labels = ['Alone', 'Small', 'Large']\n",
    "# size는 뭔가 수치형 데이터를 포함하고 있는 것 같으니\n",
    "# group이라는 새로운 컬럼을 생성해보자!\n",
    "train['Family_group'] = pd.cut(train['Family_Size'], bins = bins, labels = labels)\n",
    "test['Family_group'] = pd.cut(test['Family_Size'], bins = bins, labels = labels)"
   ]
  },
  {
   "cell_type": "code",
   "execution_count": 63,
   "id": "cb62f680-902c-4255-a4d0-8b2e11757d37",
   "metadata": {
    "scrolled": true
   },
   "outputs": [
    {
     "name": "stderr",
     "output_type": "stream",
     "text": [
      "C:\\Users\\ggg\\anaconda3\\Lib\\site-packages\\seaborn\\categorical.py:641: FutureWarning: The default of observed=False is deprecated and will be changed to True in a future version of pandas. Pass observed=False to retain current behavior or observed=True to adopt the future default and silence this warning.\n",
      "  grouped_vals = vals.groupby(grouper)\n",
      "C:\\Users\\ggg\\anaconda3\\Lib\\site-packages\\seaborn\\categorical.py:641: FutureWarning: The default of observed=False is deprecated and will be changed to True in a future version of pandas. Pass observed=False to retain current behavior or observed=True to adopt the future default and silence this warning.\n",
      "  grouped_vals = vals.groupby(grouper)\n"
     ]
    },
    {
     "data": {
      "image/png": "[encoded data removed]",
      "text/plain": [
       "<Figure size 640x480 with 1 Axes>"
      ]
     },
     "metadata": {},
     "output_type": "display_data"
    }
   ],
   "source": [
    "# Family_group 컬럼에 따른 Survived(생존자/사망자)를 시각화 - countplot\n",
    "sns.countplot(\n",
    "    data = train, \n",
    "    x = 'Family_group',\n",
    "    hue = 'Survived',# count가 되는 컬럼\n",
    ")\n",
    "plt.show()"
   ]
  },
  {
   "cell_type": "markdown",
   "id": "20f30c25-9cb4-4e12-8d32-9875e78228d7",
   "metadata": {},
   "source": [
    "1) 불필요한 컬럼 삭제\n",
    "   - drop 버리기\n",
    "   - 전처리 대상에서 제외된 컬럼과 특성공학 후 불필요해진 컬럼"
   ]
  },
  {
   "cell_type": "code",
   "execution_count": 64,
   "id": "c04f7c93-a6e7-4498-b237-18f08d732a01",
   "metadata": {
    "scrolled": true
   },
   "outputs": [
    {
     "name": "stdout",
     "output_type": "stream",
     "text": [
      "<class 'pandas.core.frame.DataFrame'>\n",
      "Index: 891 entries, 1 to 891\n",
      "Data columns (total 13 columns):\n",
      " #   Column        Non-Null Count  Dtype   \n",
      "---  ------        --------------  -----   \n",
      " 0   Survived      891 non-null    object  \n",
      " 1   Pclass        891 non-null    object  \n",
      " 2   Name          891 non-null    object  \n",
      " 3   Sex           891 non-null    object  \n",
      " 4   Age           891 non-null    int64   \n",
      " 5   SibSp         891 non-null    int64   \n",
      " 6   Parch         891 non-null    int64   \n",
      " 7   Ticket        891 non-null    object  \n",
      " 8   Fare          891 non-null    float64 \n",
      " 9   Embarked      891 non-null    object  \n",
      " 10  Deck          891 non-null    object  \n",
      " 11  Family_Size   891 non-null    int64   \n",
      " 12  Family_group  891 non-null    category\n",
      "dtypes: category(1), float64(1), int64(4), object(7)\n",
      "memory usage: 91.5+ KB\n"
     ]
    }
   ],
   "source": [
    "train.info() \n",
    "# train 데이터에서 전처리를 하지 않았던 컬럼\n",
    "# 전처리후 필요가 없어진 컬럼"
   ]
  },
  {
   "cell_type": "code",
   "execution_count": 65,
   "id": "6c9a9d66-3ffe-4e0c-a4f5-07207cd2f079",
   "metadata": {
    "scrolled": true
   },
   "outputs": [
    {
     "name": "stdout",
     "output_type": "stream",
     "text": [
      "<class 'pandas.core.frame.DataFrame'>\n",
      "Index: 418 entries, 892 to 1309\n",
      "Data columns (total 12 columns):\n",
      " #   Column        Non-Null Count  Dtype   \n",
      "---  ------        --------------  -----   \n",
      " 0   Pclass        418 non-null    int64   \n",
      " 1   Name          418 non-null    object  \n",
      " 2   Sex           418 non-null    object  \n",
      " 3   Age           418 non-null    int64   \n",
      " 4   SibSp         418 non-null    int64   \n",
      " 5   Parch         418 non-null    int64   \n",
      " 6   Ticket        418 non-null    object  \n",
      " 7   Fare          418 non-null    float64 \n",
      " 8   Embarked      418 non-null    object  \n",
      " 9   Deck          418 non-null    object  \n",
      " 10  Family_Size   418 non-null    int64   \n",
      " 11  Family_group  418 non-null    category\n",
      "dtypes: category(1), float64(1), int64(5), object(5)\n",
      "memory usage: 39.7+ KB\n"
     ]
    }
   ],
   "source": [
    "test.info()"
   ]
  },
  {
   "cell_type": "code",
   "execution_count": 66,
   "id": "dc708228-ffb2-42cf-89a2-389f50ca8dfc",
   "metadata": {},
   "outputs": [],
   "source": [
    "# drop, axis = 1, inplace = True\n",
    "train.drop(['Name','Ticket','SibSp','Parch','Family_Size'], axis = 1, inplace = True)\n",
    "test.drop(['Name','Ticket','SibSp','Parch','Family_Size'], axis = 1, inplace = True)"
   ]
  },
  {
   "cell_type": "code",
   "execution_count": 67,
   "id": "3fbd9704-3e37-4d85-826b-18768490a2bf",
   "metadata": {},
   "outputs": [
    {
     "data": {
      "text/plain": [
       "(Index(['Survived', 'Pclass', 'Sex', 'Age', 'Fare', 'Embarked', 'Deck',\n",
       "        'Family_group'],\n",
       "       dtype='object'),\n",
       " Index(['Pclass', 'Sex', 'Age', 'Fare', 'Embarked', 'Deck', 'Family_group'], dtype='object'))"
      ]
     },
     "execution_count": 67,
     "metadata": {},
     "output_type": "execute_result"
    }
   ],
   "source": [
    "train.columns, test.columns"
   ]
  },
  {
   "cell_type": "markdown",
   "id": "6b6b1077-34b3-4381-b24a-54396771ad46",
   "metadata": {},
   "source": [
    "- 전처리 과정은 마무리가 되었다!\n",
    "- train에는 정답데이터와 문제데이터가 하나의 프레임으로 들어있는 상태\n",
    "  (X_train, y_train으로 분리)\n",
    "- test는 원래 정답을 제공하지 않음 (X_test)"
   ]
  },
  {
   "cell_type": "code",
   "execution_count": 68,
   "id": "9b19b722-758a-4039-a389-1fbbc18d7447",
   "metadata": {},
   "outputs": [
    {
     "name": "stdout",
     "output_type": "stream",
     "text": [
      "(891, 7) (891,)\n",
      "(418, 7)\n"
     ]
    }
   ],
   "source": [
    "X_train = train.drop('Survived', axis = 1)\n",
    "# train.iloc[:,1:], train[:,'Pclass':] - 2차원\n",
    "y_train = train['Survived'] # 훈련용 정답데이터\n",
    "\n",
    "X_test = test\n",
    "\n",
    "print(X_train.shape, y_train.shape)\n",
    "print(X_test.shape)"
   ]
  },
  {
   "cell_type": "code",
   "execution_count": 69,
   "id": "f78eecf5-973a-434f-977d-dbd3391b48c4",
   "metadata": {},
   "outputs": [
    {
     "data": {
      "text/plain": [
       "Index(['Pclass', 'Sex', 'Age', 'Fare', 'Embarked', 'Deck', 'Family_group'], dtype='object')"
      ]
     },
     "execution_count": 69,
     "metadata": {},
     "output_type": "execute_result"
    }
   ],
   "source": [
    "X_train.columns"
   ]
  },
  {
   "cell_type": "markdown",
   "id": "6bacef72-92f8-414e-ada6-55c5a8c59de0",
   "metadata": {},
   "source": [
    "## 다시 전처리 단계로 넘어가서\n",
    "- 범주형 데이터는 학습용으로 사용할 수 없으니 수치형으로 바꿔주자\n",
    "- Encoding\n",
    "  1) 레이블 인코딩(label Encoding) : 값에 우선순위를 주고싶을때 사용하는 방법\n",
    "  2) 원-핫 인코딩(one-hot Encoding) : 값에 우선순위를 주고싶지 않고 구분하는 용도로만 사용하는 방법\n",
    "- 우리는 구분용도를 위해 one-hot Encoding으로 진행해보자"
   ]
  },
  {
   "cell_type": "code",
   "execution_count": 70,
   "id": "ef5af138-5c42-40f9-b12c-3f8c88e0d75d",
   "metadata": {},
   "outputs": [
    {
     "data": {
      "text/plain": [
       "((891, 7), (418, 7))"
      ]
     },
     "execution_count": 70,
     "metadata": {},
     "output_type": "execute_result"
    }
   ],
   "source": [
    "X_train.shape, X_test.shape"
   ]
  },
  {
   "cell_type": "code",
   "execution_count": 71,
   "id": "c4fd5b88-e7fc-4994-9574-b1002c88c5ca",
   "metadata": {},
   "outputs": [],
   "source": [
    "X_train[\"Pclass\"] = X_train[\"Pclass\"].astype(np.int64)"
   ]
  },
  {
   "cell_type": "code",
   "execution_count": 72,
   "id": "eaa01599-a24c-40c7-a7d1-3cf93d9f4f75",
   "metadata": {},
   "outputs": [],
   "source": [
    "X_train_one_hot = pd.get_dummies(X_train)\n",
    "X_test_one_hot = pd.get_dummies(X_test)"
   ]
  },
  {
   "cell_type": "code",
   "execution_count": 73,
   "id": "791ce964-17f7-43f0-bc57-d87d313e36aa",
   "metadata": {},
   "outputs": [
    {
     "data": {
      "text/plain": [
       "(891, 20)"
      ]
     },
     "execution_count": 73,
     "metadata": {},
     "output_type": "execute_result"
    }
   ],
   "source": [
    "X_train_one_hot.shape"
   ]
  },
  {
   "cell_type": "code",
   "execution_count": 74,
   "id": "78e40b01-cc9f-40d2-8993-fc366693bfea",
   "metadata": {},
   "outputs": [
    {
     "data": {
      "text/plain": [
       "(418, 19)"
      ]
     },
     "execution_count": 74,
     "metadata": {},
     "output_type": "execute_result"
    }
   ],
   "source": [
    "X_test_one_hot.shape"
   ]
  },
  {
   "cell_type": "code",
   "execution_count": 75,
   "id": "923b68a1-fc4d-4709-a2b3-9f116b365847",
   "metadata": {},
   "outputs": [
    {
     "data": {
      "text/plain": [
       "{'Deck_T'}"
      ]
     },
     "execution_count": 75,
     "metadata": {},
     "output_type": "execute_result"
    }
   ],
   "source": [
    "set(X_train_one_hot) - set(X_test_one_hot)"
   ]
  },
  {
   "cell_type": "markdown",
   "id": "a344417f-970a-4fdf-a7b7-dbf95ab5798d",
   "metadata": {},
   "source": [
    "```python\n",
    "# int와 float를 제외하고 다른 데이터를 선택할 수 있는 방법\n",
    "# 카테고리 필터링을 진행해보자\n",
    "cat_filter = (X_train.dtypes != 'int64') & (X_train.dtypes != 'float64')\n",
    "# X_train에서 컬럼중에 데이터타입이 int가 아닌 컬럼들을 변수에 담아주는 코드\n",
    "cat_filter\n",
    "\n",
    "cat_choice = X_train.columns[cat_filter]\n",
    "cat_choice\n",
    "# X_train[cat_choice].head(2)\n",
    "# X_train에서 cat_choice에 해당하는 컬럼들을 원핫인코딩을 진행하자!\n",
    "```"
   ]
  },
  {
   "cell_type": "code",
   "execution_count": 76,
   "id": "9fa38beb-6bff-4c18-bb6f-f5ef77c8b085",
   "metadata": {},
   "outputs": [
    {
     "data": {
      "text/plain": [
       "Index(['Pclass', 'Age', 'Fare', 'Sex_female', 'Sex_male', 'Embarked_C',\n",
       "       'Embarked_Q', 'Embarked_S', 'Deck_A', 'Deck_B', 'Deck_C', 'Deck_D',\n",
       "       'Deck_E', 'Deck_F', 'Deck_G', 'Deck_M', 'Deck_T', 'Family_group_Alone',\n",
       "       'Family_group_Small', 'Family_group_Large'],\n",
       "      dtype='object')"
      ]
     },
     "execution_count": 76,
     "metadata": {},
     "output_type": "execute_result"
    }
   ],
   "source": [
    "X_train_one_hot.columns"
   ]
  },
  {
   "cell_type": "code",
   "execution_count": 77,
   "id": "41381253-51c3-4248-8802-4adb74c5265e",
   "metadata": {},
   "outputs": [
    {
     "data": {
      "text/plain": [
       "Index(['Pclass', 'Age', 'Fare', 'Sex_female', 'Sex_male', 'Embarked_C',\n",
       "       'Embarked_Q', 'Embarked_S', 'Deck_A', 'Deck_B', 'Deck_C', 'Deck_D',\n",
       "       'Deck_E', 'Deck_F', 'Deck_G', 'Deck_M', 'Family_group_Alone',\n",
       "       'Family_group_Small', 'Family_group_Large'],\n",
       "      dtype='object')"
      ]
     },
     "execution_count": 77,
     "metadata": {},
     "output_type": "execute_result"
    }
   ],
   "source": [
    "X_test_one_hot.columns"
   ]
  },
  {
   "cell_type": "markdown",
   "id": "1b6c0b7a-2219-4d23-b398-d277436e544a",
   "metadata": {},
   "source": [
    "```python\n",
    "# 해당 cat_choice 컬럼을 인코딩해서 기존 train,test데이터와 병합\n",
    "# 1) 원핫인코딩(cat_choice) pd.get_dummies(데이터)\n",
    "X_train_c_oh = pd.get_dummies(X_train[cat_choice])\n",
    "X_test_c_oh = pd.get_dummies(X_test[cat_choice])\n",
    "# 2) 병합 concat , X_train과 X_train_c_oh를 병합 concat(병합할 두개의 데이터, axis = 1)\n",
    "X_train = pd.concat([X_train, X_train_c_oh], axis = 1)\n",
    "X_test = pd.concat([X_test, X_test_c_oh], axis = 1)\n",
    "# 3) 기존 컬럼(범주형데이터가 들어가있는 컬럼 : cat_choice)은 삭제한다 - drop axis = ?\n",
    "X_train = X_train.drop(cat_choice, axis = 1)\n",
    "X_test = X_test.drop(cat_choice, axis = 1)\n",
    "```"
   ]
  },
  {
   "cell_type": "code",
   "execution_count": 78,
   "id": "90918760-50a2-46ef-b15b-6dfdba43c605",
   "metadata": {},
   "outputs": [
    {
     "data": {
      "text/plain": [
       "(Index(['Pclass', 'Age', 'Fare', 'Sex_female', 'Sex_male', 'Embarked_C',\n",
       "        'Embarked_Q', 'Embarked_S', 'Deck_A', 'Deck_B', 'Deck_C', 'Deck_D',\n",
       "        'Deck_E', 'Deck_F', 'Deck_G', 'Deck_M', 'Deck_T', 'Family_group_Alone',\n",
       "        'Family_group_Small', 'Family_group_Large'],\n",
       "       dtype='object'),\n",
       " Index(['Pclass', 'Age', 'Fare', 'Sex_female', 'Sex_male', 'Embarked_C',\n",
       "        'Embarked_Q', 'Embarked_S', 'Deck_A', 'Deck_B', 'Deck_C', 'Deck_D',\n",
       "        'Deck_E', 'Deck_F', 'Deck_G', 'Deck_M', 'Family_group_Alone',\n",
       "        'Family_group_Small', 'Family_group_Large'],\n",
       "       dtype='object'))"
      ]
     },
     "execution_count": 78,
     "metadata": {},
     "output_type": "execute_result"
    }
   ],
   "source": [
    "# 문제의 개수가 다르니 train만 가지고 있는 특성은 뭔지 확인해보자!\n",
    "X_train_one_hot.columns, X_test_one_hot.columns"
   ]
  },
  {
   "cell_type": "markdown",
   "id": "e95bfd6c-fcbd-48e8-895c-cd56677c77b9",
   "metadata": {},
   "source": [
    "- 특성 개수 맞추기\n",
    "    - 부족한 컬럼명을 확인해서 추가하기\n",
    "      1) 컬럼명을 확인해서 다른점 찾기\n",
    "      2) set() 집합 자료구조 활용해서 찾아보기"
   ]
  },
  {
   "cell_type": "code",
   "execution_count": 79,
   "id": "519b5364-8b03-45c5-ab75-81bc0228e89d",
   "metadata": {},
   "outputs": [
    {
     "data": {
      "text/plain": [
       "{'Deck_T'}"
      ]
     },
     "execution_count": 79,
     "metadata": {},
     "output_type": "execute_result"
    }
   ],
   "source": [
    "set(X_train_one_hot.columns) - set(X_test_one_hot.columns) # 차집합"
   ]
  },
  {
   "cell_type": "code",
   "execution_count": 80,
   "id": "ed6c3017-ba40-42da-8a6f-b57452c2ed0c",
   "metadata": {},
   "outputs": [
    {
     "data": {
      "text/plain": [
       "PassengerId\n",
       "892     0\n",
       "893     0\n",
       "894     0\n",
       "895     0\n",
       "896     0\n",
       "       ..\n",
       "1305    0\n",
       "1306    0\n",
       "1307    0\n",
       "1308    0\n",
       "1309    0\n",
       "Name: Deck_T, Length: 418, dtype: int64"
      ]
     },
     "execution_count": 80,
     "metadata": {},
     "output_type": "execute_result"
    }
   ],
   "source": [
    "# X_test에 Deck_T라는 컬럼을 새롭게 만들어주자\n",
    "# X_test에는 T값을 가진 행이 없으므로 다 ~ 0으로 초기화를 시켜주자\n",
    "X_test_one_hot['Deck_T'] = 0\n",
    "X_test_one_hot['Deck_T']"
   ]
  },
  {
   "cell_type": "code",
   "execution_count": 81,
   "id": "d2ceb901-2c64-43a6-92ac-fc2050f9870c",
   "metadata": {
    "scrolled": true
   },
   "outputs": [
    {
     "name": "stdout",
     "output_type": "stream",
     "text": [
      "<class 'pandas.core.frame.DataFrame'>\n",
      "Index: 418 entries, 892 to 1309\n",
      "Data columns (total 20 columns):\n",
      " #   Column              Non-Null Count  Dtype  \n",
      "---  ------              --------------  -----  \n",
      " 0   Pclass              418 non-null    int64  \n",
      " 1   Age                 418 non-null    int64  \n",
      " 2   Fare                418 non-null    float64\n",
      " 3   Sex_female          418 non-null    bool   \n",
      " 4   Sex_male            418 non-null    bool   \n",
      " 5   Embarked_C          418 non-null    bool   \n",
      " 6   Embarked_Q          418 non-null    bool   \n",
      " 7   Embarked_S          418 non-null    bool   \n",
      " 8   Deck_A              418 non-null    bool   \n",
      " 9   Deck_B              418 non-null    bool   \n",
      " 10  Deck_C              418 non-null    bool   \n",
      " 11  Deck_D              418 non-null    bool   \n",
      " 12  Deck_E              418 non-null    bool   \n",
      " 13  Deck_F              418 non-null    bool   \n",
      " 14  Deck_G              418 non-null    bool   \n",
      " 15  Deck_M              418 non-null    bool   \n",
      " 16  Family_group_Alone  418 non-null    bool   \n",
      " 17  Family_group_Small  418 non-null    bool   \n",
      " 18  Family_group_Large  418 non-null    bool   \n",
      " 19  Deck_T              418 non-null    int64  \n",
      "dtypes: bool(16), float64(1), int64(3)\n",
      "memory usage: 22.9 KB\n",
      "<class 'pandas.core.frame.DataFrame'>\n",
      "Index: 891 entries, 1 to 891\n",
      "Data columns (total 20 columns):\n",
      " #   Column              Non-Null Count  Dtype  \n",
      "---  ------              --------------  -----  \n",
      " 0   Pclass              891 non-null    int64  \n",
      " 1   Age                 891 non-null    int64  \n",
      " 2   Fare                891 non-null    float64\n",
      " 3   Sex_female          891 non-null    bool   \n",
      " 4   Sex_male            891 non-null    bool   \n",
      " 5   Embarked_C          891 non-null    bool   \n",
      " 6   Embarked_Q          891 non-null    bool   \n",
      " 7   Embarked_S          891 non-null    bool   \n",
      " 8   Deck_A              891 non-null    bool   \n",
      " 9   Deck_B              891 non-null    bool   \n",
      " 10  Deck_C              891 non-null    bool   \n",
      " 11  Deck_D              891 non-null    bool   \n",
      " 12  Deck_E              891 non-null    bool   \n",
      " 13  Deck_F              891 non-null    bool   \n",
      " 14  Deck_G              891 non-null    bool   \n",
      " 15  Deck_M              891 non-null    bool   \n",
      " 16  Deck_T              891 non-null    bool   \n",
      " 17  Family_group_Alone  891 non-null    bool   \n",
      " 18  Family_group_Small  891 non-null    bool   \n",
      " 19  Family_group_Large  891 non-null    bool   \n",
      "dtypes: bool(17), float64(1), int64(2)\n",
      "memory usage: 42.6 KB\n"
     ]
    }
   ],
   "source": [
    "X_test_one_hot.info()\n",
    "X_train_one_hot.info()"
   ]
  },
  {
   "cell_type": "code",
   "execution_count": 82,
   "id": "16134d01-4bf0-4c2e-91fa-d6a0ccb2dc22",
   "metadata": {},
   "outputs": [],
   "source": [
    "# X_train의 컬럼의 순서, X_test의 컬럼의 순서가 다름\n",
    "# X_train 컬럼 순서대로 자동 인덱싱\n",
    "X_test_one_hot = X_test_one_hot[X_train_one_hot.columns]"
   ]
  },
  {
   "cell_type": "code",
   "execution_count": 83,
   "id": "ee65df4b-a65b-4d76-a918-9c3b9f3b0572",
   "metadata": {},
   "outputs": [
    {
     "name": "stdout",
     "output_type": "stream",
     "text": [
      "(891, 20) (891,)\n",
      "(418, 20)\n"
     ]
    }
   ],
   "source": [
    "print(X_train_one_hot.shape, y_train.shape)\n",
    "print(X_test_one_hot.shape)"
   ]
  },
  {
   "cell_type": "code",
   "execution_count": 84,
   "id": "0acb3a52-484f-4d02-9d01-06518e72213c",
   "metadata": {},
   "outputs": [],
   "source": [
    "# sklearn에서 제공되는 모델들은 전부 입력값을 숫자로 입력받음!\n",
    "y_train = y_train.astype(np.int64)"
   ]
  },
  {
   "cell_type": "markdown",
   "id": "3e534557-c914-499e-9163-c5095181b7a4",
   "metadata": {},
   "source": [
    "---"
   ]
  },
  {
   "cell_type": "markdown",
   "id": "8d929a65-b9b3-45a2-a72b-4d632d3c68b4",
   "metadata": {},
   "source": [
    "### 모델 선택 및 학습"
   ]
  },
  {
   "cell_type": "code",
   "execution_count": 85,
   "id": "90ed0ae2-04a8-42bf-99be-35459c373ccc",
   "metadata": {},
   "outputs": [],
   "source": [
    "# 필요한 라이브러리 가져오기\n",
    "from sklearn.tree import DecisionTreeClassifier\n",
    "# 교차검증\n",
    "from sklearn.model_selection import cross_val_score # 교차검증"
   ]
  },
  {
   "cell_type": "code",
   "execution_count": 86,
   "id": "75171e1a-68a8-4169-937a-a36270bf8afc",
   "metadata": {},
   "outputs": [],
   "source": [
    "# 모델 객체 생성\n",
    "# 하이퍼 파라미터 설정 x\n",
    "tree_model = DecisionTreeClassifier()"
   ]
  },
  {
   "cell_type": "code",
   "execution_count": 87,
   "id": "46d86e4c-2411-4e28-b0af-6d31dd4037a7",
   "metadata": {},
   "outputs": [
    {
     "data": {
      "text/plain": [
       "0.7834410896993284"
      ]
     },
     "execution_count": 87,
     "metadata": {},
     "output_type": "execute_result"
    }
   ],
   "source": [
    "# 어느정도의 성능을 내는지 교차검증 5번을 통해 확인 (일반화)\n",
    "cv_result = cross_val_score(tree_model, X_train_one_hot, y_train, cv = 5)\n",
    "cv_result.mean()\n",
    "# 평균적으로 78%의 성능을 내고 있군\n",
    "# test데이터에서는 조금 더 정확도 떨어질 수도 있겠다..."
   ]
  },
  {
   "cell_type": "code",
   "execution_count": 88,
   "id": "9bd63b13-9ec8-4e15-bf3b-fc10014429c6",
   "metadata": {},
   "outputs": [],
   "source": [
    "# 학습 - 학습용\n",
    "tree_model.fit(X_train_one_hot, y_train)\n",
    "# 예측 - 테스트용\n",
    "pre = tree_model.predict(X_test_one_hot)\n",
    "# Kaggle 제출 - submission.csv 불러오기\n",
    "# submission , Survived 컬럼이있는데 pre값 대입시켜주기\n",
    "# csv로 저장 (index = False) - tree_model_01.csv \n",
    "result = pd.read_csv('data/gender_submission.csv')\n",
    "result['Survived'] = pre\n",
    "result.to_csv('data/tree_model_01.csv', index = False)"
   ]
  },
  {
   "cell_type": "markdown",
   "id": "6a1bcb3f-ed2b-474f-bb72-bbe70018d052",
   "metadata": {},
   "source": [
    "- tree model의 하이퍼 파라미터를 조정 (max_depth : 최대 깊이)"
   ]
  },
  {
   "cell_type": "code",
   "execution_count": 89,
   "id": "c1a690cc-5c89-494b-ab36-3979d688f613",
   "metadata": {},
   "outputs": [
    {
     "name": "stdout",
     "output_type": "stream",
     "text": [
      "depth:1 0.7867365513778168\n",
      "depth:2 0.773316176009039\n",
      "depth:3 0.8024606113866047\n",
      "depth:4 0.807005209967987\n",
      "depth:5 0.8136965664427844\n",
      "depth:6 0.8170736300295023\n",
      "depth:7 0.8159437574540206\n",
      "depth:8 0.8181909484652564\n",
      "depth:9 0.8047266336074319\n"
     ]
    }
   ],
   "source": [
    "# 교차검증을 하면서 하이퍼 파라미터 조정 확인해보기! (1 ~ 9)\n",
    "for md in range(1,10) :\n",
    "    tree_model = DecisionTreeClassifier(max_depth = md)\n",
    "    result = cross_val_score(tree_model, X_train_one_hot, y_train, cv = 5) # 5개의 정확도\n",
    "    print(f'depth:{md}', result.mean())\n",
    "    "
   ]
  },
  {
   "cell_type": "code",
   "execution_count": 90,
   "id": "68b23ab0-4578-4852-8111-67dbe1be75e8",
   "metadata": {},
   "outputs": [],
   "source": [
    "# tree_model2를 객체생성\n",
    "# 하이퍼 파라미터 max_depth를 위에서 가장 높은 정확도를 내고있는 값으로 설정 - 6\n",
    "tree_model2 = DecisionTreeClassifier(max_depth = 6)"
   ]
  },
  {
   "cell_type": "code",
   "execution_count": 91,
   "id": "bb240bc9-c165-4572-ac85-1bb67cc22067",
   "metadata": {},
   "outputs": [],
   "source": [
    "# 학습\n",
    "tree_model2.fit(X_train_one_hot, y_train)\n",
    "# 예측\n",
    "pre2 = tree_model2.predict(X_test_one_hot)\n",
    "# 모델 답안지 초기화 - tree_model_02.csv\n",
    "result2 = pd.read_csv('data/gender_submission.csv')\n",
    "result2['Survived'] = pre2\n",
    "result2.to_csv('data/tree_model_03.csv', index = False)\n",
    "# 정확도 캡쳐해서 올려보기"
   ]
  },
  {
   "cell_type": "code",
   "execution_count": 92,
   "id": "c44390b8-b320-4c20-a3e1-fdc0e113102e",
   "metadata": {},
   "outputs": [
    {
     "data": {
      "text/plain": [
       "array([0.12587444, 0.11648766, 0.0840553 , 0.50258411, 0.        ,\n",
       "       0.00301714, 0.        , 0.0083284 , 0.        , 0.        ,\n",
       "       0.        , 0.        , 0.01510388, 0.        , 0.        ,\n",
       "       0.05694591, 0.        , 0.        , 0.02776957, 0.05983358])"
      ]
     },
     "execution_count": 92,
     "metadata": {},
     "output_type": "execute_result"
    }
   ],
   "source": [
    "# tree_model2가 어떤 특성을 중요하게 생각하는지 특성 중요도 그래프\n",
    "fi = tree_model2.feature_importances_\n",
    "fi"
   ]
  },
  {
   "cell_type": "code",
   "execution_count": 93,
   "id": "c83aa22c-e3fc-401a-a968-b610368d2a7c",
   "metadata": {
    "scrolled": true
   },
   "outputs": [
    {
     "data": {
      "text/plain": [
       "Pclass                0.125874\n",
       "Age                   0.116488\n",
       "Fare                  0.084055\n",
       "Sex_female            0.502584\n",
       "Sex_male              0.000000\n",
       "Embarked_C            0.003017\n",
       "Embarked_Q            0.000000\n",
       "Embarked_S            0.008328\n",
       "Deck_A                0.000000\n",
       "Deck_B                0.000000\n",
       "Deck_C                0.000000\n",
       "Deck_D                0.000000\n",
       "Deck_E                0.015104\n",
       "Deck_F                0.000000\n",
       "Deck_G                0.000000\n",
       "Deck_M                0.056946\n",
       "Deck_T                0.000000\n",
       "Family_group_Alone    0.000000\n",
       "Family_group_Small    0.027770\n",
       "Family_group_Large    0.059834\n",
       "dtype: float64"
      ]
     },
     "execution_count": 93,
     "metadata": {},
     "output_type": "execute_result"
    }
   ],
   "source": [
    "fi_s = pd.Series(fi, index = X_train_one_hot.columns)\n",
    "fi_s"
   ]
  },
  {
   "cell_type": "code",
   "execution_count": 94,
   "id": "81c0e693-cf05-4c1b-ac99-5bd68b9a7914",
   "metadata": {},
   "outputs": [
    {
     "data": {
      "image/png": "[encoded data removed]",
      "text/plain": [
       "<Figure size 500x700 with 1 Axes>"
      ]
     },
     "metadata": {},
     "output_type": "display_data"
    }
   ],
   "source": [
    "plt.figure(figsize = (5,7))\n",
    "fi_s.sort_values(ascending = True).plot.barh()\n",
    "plt.show()"
   ]
  },
  {
   "cell_type": "markdown",
   "id": "e323558e-3817-4d80-b90f-f519140cf48c",
   "metadata": {},
   "source": [
    "- KNN Model을 사용해서 정확도를 확인해보자"
   ]
  },
  {
   "cell_type": "code",
   "execution_count": 95,
   "id": "e225c5f7-6cf9-47cf-b2f9-0466cbf209d0",
   "metadata": {},
   "outputs": [
    {
     "name": "stdout",
     "output_type": "stream",
     "text": [
      "[0.67039106 0.66853933 0.70224719 0.71348315 0.71348315]\n"
     ]
    }
   ],
   "source": [
    "# KNN 라이브러리 가져오기\n",
    "from sklearn.neighbors import KNeighborsClassifier\n",
    "# KNN 모델을 생성\n",
    "knn_model = KNeighborsClassifier()\n",
    "# KNN 모델 하이퍼 파라미터는 따로 조정하지 않겠습니다.\n",
    "\n",
    "# 교차검증 5번 - 정확도 평균 print\n",
    "result2 = cross_val_score(knn_model, X_train_one_hot, y_train, cv= 5)\n",
    "print(result2)\n",
    "# 학습\n",
    "knn_model.fit(X_train_one_hot, y_train)\n",
    "# 예측결과 - pre\n",
    "pre = knn_model.predict(X_test_one_hot)\n",
    "# summision.csv - 답안지 - data폴더에 파일 빼주는 작업\n",
    "sm = pd.read_csv('data/gender_submission.csv')\n",
    "sm['Survived'] = pre\n",
    "sm.to_csv('data/knn_model_01.csv', index= False)\n",
    "# Kaggle 제출"
   ]
  },
  {
   "cell_type": "markdown",
   "id": "51d1dd0c-933d-4def-8c16-a5163095acfd",
   "metadata": {},
   "source": [
    "## 결과\n",
    "- KNN : 64%\n",
    "- DT : 72.24%\n",
    "- 결과 해석 : 성능 개선\n",
    "    - 데이터의 양을 늘리기\n",
    "    - 전처리 방식 수정\n",
    "    - 모델의 하이퍼 파라미터 조절(5% 내외로 성능이 올라감)\n",
    "    - 더 성능이 좋은 모델을 선택"
   ]
  },
  {
   "cell_type": "code",
   "execution_count": 96,
   "id": "56b670cd-899f-4faa-b8fc-c5e01feec8ef",
   "metadata": {},
   "outputs": [],
   "source": [
    "# KNN 모델은 알고리즘이 간단한 대신에 성능이 좋지 못하다\n",
    "# train에서는 70% 정도의 성능 실제로 평가를 진행했을 때 64%의 성능\n",
    "# 보이는 것으로 보아 과소 적합의 현상이 일어나고있다.\n",
    "\n",
    "# DT train은 어느정도 높은 성을 내고 있으나, 평가를 진행했을 때 갑자기\n",
    "# 15~18%정도 떨어지는 정확도를 확인할 수 있었다. 이를 통해 DT같은 경우\n",
    "# 과대적합이 일어나고 있다."
   ]
  },
  {
   "cell_type": "markdown",
   "id": "25238f1c-bc06-4275-84a0-ed7fa392a35a",
   "metadata": {},
   "source": [
    "### 데이터 스케일링\n",
    "- 데이터의 범위를 조정\n",
    "\n",
    "- feature들의 데이터 분포, 범위를 동일하게 조정하는 작업\n",
    "- 거리, 수치 기반의 학습을 진행하는 모델에게 적용\n",
    "\n",
    "- 장점 : 범위를 일정하게 맞추어 모델이 데이터를 더 쉽게 처리하고, 모델 성능 향상으로 이어질 수 있다\n",
    "- 단점 : 원래 데이터가 가지고 있는 값이 변경되기 때문에 왜곡될 수 있다.\n",
    "(원래 범위를 유지하는게 더 좋다고 판단이 된다면 스케일링을 스케일링을 하지않는게 왜곡을 방지 할 수 있음)"
   ]
  },
  {
   "cell_type": "markdown",
   "id": "4286c3ed-a80d-4449-93f9-b045074613ab",
   "metadata": {},
   "source": [
    "1) StandardScaler\n",
    "   - 분산의 정도를 1로 평균은 0으로 맞춰주는 도구\n",
    "   - 정규분포인 경우 효율적임\n",
    "2) MinMaxScaler\n",
    "   - 일정한 범위의 값 (0 ~ 1)으로 조정하는 도구\n",
    "   - 비정규분포인 경우 효율적"
   ]
  },
  {
   "cell_type": "markdown",
   "id": "8bb586af-483e-438e-b95b-440a14a9ffbf",
   "metadata": {},
   "source": [
    "``` Python\n",
    "# 라이브러리 가져오기\n",
    "from sklearn.preprocessing import StandardScaler, MinMaxScaler\n",
    "\n",
    "st_sc = StandardScaler()\n",
    "mm_sc = MinMaxScaler()\n",
    "\n",
    "# st_sc, mm_sc가 데이터에 대해 이해할 수 있도록 학습 - fit\n",
    "st_sc.fit(X_train)\n",
    "mm_sc.fit(X_train)\n",
    "\n",
    "# 스케일러가 데이터에 대한 이해가 완료되었으면, 변환하는 작업 - transform\n",
    "st_X_train = st_sc.transform(X_train)\n",
    "mm_X_train = mm_sc.transform(X_train) # fare 0 ~ 1\n",
    "\n",
    "# train데이터가 범위 조정이 되었으면, test 데이터도 같이 범위 조정이 되어져야한다!\n",
    "st_X_test = st_sc.transform(X_test)\n",
    "mm_X_test = mm_sc.transform(X_test)\n",
    "\n",
    "# 스케일링은 거리계산, 확률계산을 하는 모델에 적용할 수있는 개념으로써 위에 만들어 놨던\n",
    "# knn모델을 사용해서 교차검증을 진행해보자!\n",
    "\n",
    "st_result = cross_val_score(knn_model, st_X_train, y_train, cv = 5)\n",
    "mm_result = cross_val_score(knn_model, mm_X_train, y_train, cv = 5)\n",
    "\n",
    "print(st_result, st_result.mean())\n",
    "print(mm_result, mm_result.mean())\n",
    "```"
   ]
  },
  {
   "cell_type": "markdown",
   "id": "d0a1e154-b7b1-458e-baca-6c77a437da09",
   "metadata": {},
   "source": [
    "## 앙상블\n",
    "- 여러 모델을 결합하는 방식으로 활용하며, 성능을 올리는 기법\n",
    "  1) 보팅(Voting)\n",
    "     - 여러 개의 **다른 종류의 모델**이 예측한 결과를 *투표* 혹은 *평균*을 통해 최종 결정을 하는 방식\n",
    "       1. 하드보팅(Hard-Voting) : 투표(다수결)\n",
    "       2. 소프트보팅(Soft-Voting) : 확률값을 통한 결정\n",
    "  2) 배깅(Bagging - Boostrap Aggregation)\n",
    "     - 여러 개의 **같은 종류의 모델**이 예측한 결과를 *투표* 혹은 *평균*을 통해 최종 결정을 하는 방식\n",
    "     - 대표 모델 : RandomForest (Decision Tree를 여러 개 사용하는 모델)\n",
    "  3) 부스팅(Boosting)\n",
    "     - 여러 모델을 순차적으로 학습을 시켜 이전 모델의 오류를 보정한다.\n",
    "     - AdaBoost, GradientBoost\n",
    "     - 후속 모델이 이전 모델의 잘못된 예측을 수정하면서 성능이 점점 좋아지는 현상"
   ]
  },
  {
   "cell_type": "code",
   "execution_count": 97,
   "id": "3790e25c-f971-4fe3-beff-212d2beeffa3",
   "metadata": {},
   "outputs": [],
   "source": [
    "# 보팅 도구 불러오기\n",
    "from sklearn.ensemble import VotingClassifier\n",
    "# 확률값을 계산하는 모델들도 같이 불러오기\n",
    "from sklearn.linear_model import LogisticRegression # 선영 분류 모델\n",
    "from sklearn.svm import SVC # 서포트 벡터 머신"
   ]
  },
  {
   "cell_type": "code",
   "execution_count": 98,
   "id": "fbfdf4f8-ba89-4bcb-854f-8e4e4c2220bc",
   "metadata": {},
   "outputs": [],
   "source": [
    "# 로지스틱 회귀 (분류만 가능한 모델)\n",
    "# 분류 알고리즘 중 하나로, 주어진 데이터가 특정 분류에 속할 확류을 추정\n",
    "# 결과값이 0~2 사이의 값, 0.5를 기준으로 특정 클래스에 속할 확률을 나타낸다.\n",
    "# max_iter 알고리즘이 수렴할 때까지 반복하는 최대 횟수를 지정 (ㅎ학습의 빈도수를 지정)\n",
    "\n",
    "# 서포트 벡터 머신\n",
    "# 결정 경계선(또는 면)을 만들어서 새로운 데이터의 포인트가 어느 클래스에 속하는 지 예측하는 모델\n",
    "# 확률값을 제공하지 않음\n",
    "# probability true로 바꿔주면 확률값을 확인할 수 있다!\n",
    "\n",
    "log_clf = LogisticRegression(max_iter = 10000)\n",
    "svm_clf = SVC(probability=True)#확률을 확인해보자\n"
   ]
  },
  {
   "cell_type": "code",
   "execution_count": 99,
   "id": "61cbdd14-3e54-4f18-a0c6-47ead42d6846",
   "metadata": {},
   "outputs": [
    {
     "data": {
      "text/plain": [
       "0.7060071558596447"
      ]
     },
     "execution_count": 99,
     "metadata": {},
     "output_type": "execute_result"
    }
   ],
   "source": [
    "# 하드 보팅 분류기\n",
    "hard_voting_clf = VotingClassifier(\n",
    "    # 모델\n",
    "    estimators = [('lr', log_clf),('svc', svm_clf)],\n",
    "    # 보팅 방식 지정(hard)\n",
    "    voting = 'hard'\n",
    ")\n",
    "# 학습\n",
    "hard_voting_clf.fit(X_train_one_hot, y_train)\n",
    "# 검증\n",
    "cross_val_score(hard_voting_clf, X_train_one_hot, y_train, cv = 5).mean()"
   ]
  },
  {
   "cell_type": "code",
   "execution_count": 100,
   "id": "9acbfffb-c89c-4192-a491-69979b38710e",
   "metadata": {},
   "outputs": [
    {
     "data": {
      "text/plain": [
       "0.7778796058000126"
      ]
     },
     "execution_count": 100,
     "metadata": {},
     "output_type": "execute_result"
    }
   ],
   "source": [
    "# 소프트 보팅 분류기\n",
    "soft_voting_clf = VotingClassifier(\n",
    "    # 모델\n",
    "    estimators = [('lr', log_clf),('svc', svm_clf)],\n",
    "    # 보팅 방식 지정(soft)\n",
    "    voting = 'soft'\n",
    ")\n",
    "# 학습\n",
    "# soft_voting_clf.fit(X_train_one_hot, y_train)\n",
    "# 검증\n",
    "cross_val_score(soft_voting_clf, X_train_one_hot, y_train, cv = 5).mean()\n",
    "\n",
    "# => 하드 보팅보다 소프트 보팅 결과값이 좀 더 디테일하게 잘 맞춤"
   ]
  },
  {
   "cell_type": "code",
   "execution_count": 101,
   "id": "6b2bf3b0-19d6-40a9-8aa1-fd12a2005da1",
   "metadata": {},
   "outputs": [],
   "source": [
    "# Bagging : 같은 종류의 여러 모델이 예측한 결과를 투표(평균)을 통해 최종 결정하는 방식\n",
    "# 대표 모델 : RandomForest\n",
    "\n",
    "from sklearn.ensemble import RandomForestClassifier"
   ]
  },
  {
   "cell_type": "code",
   "execution_count": 102,
   "id": "0b1cc08d-16de-453d-8a76-a33f1c827d52",
   "metadata": {},
   "outputs": [
    {
     "data": {
      "text/plain": [
       "0.8114493754315486"
      ]
     },
     "execution_count": 102,
     "metadata": {},
     "output_type": "execute_result"
    }
   ],
   "source": [
    "# 검증\n",
    "cross_val_score(RandomForestClassifier(), X_train_one_hot, y_train, cv = 5).mean()"
   ]
  },
  {
   "cell_type": "markdown",
   "id": "61a93546-68df-49e6-82e4-3424a612fb7f",
   "metadata": {},
   "source": [
    "#### 복습\n",
    "##### 단계\n",
    "1. 문제정의\n",
    "2. 데이터 수집\n",
    "3. 전처리\n",
    "   - 결측치 제거 , 대체\n",
    "   - 이상치 제거 , 대체\n",
    "   - 변수처리\n",
    "   - train/test 분리\n",
    "4. EDA(탐색적 데이터 분석)\n",
    "   - 시각화\n",
    "5. 모델 선택(교차검증) , 하이퍼 파라미터 조정(3 ~ 5% ↑)\n",
    "6. 학습\n",
    "7. 평가(metrics)\n",
    "---\n",
    "##### 성능 판단\n",
    "  - 일반화 : train set 중상 , test set 중상\n",
    "  - 과대적합 : train set 상 , test set 중하 ~ 중\n",
    "  - 과소적합 : train set 하 , test set 하"
   ]
  },
  {
   "cell_type": "markdown",
   "id": "24182812-9eba-48ea-9136-cf323a2e6193",
   "metadata": {},
   "source": [
    "#### GridSearchCV 적용해서 최적의 하이퍼 파라미터 찾기"
   ]
  },
  {
   "cell_type": "code",
   "execution_count": 103,
   "id": "20c5d579-56a0-493a-bce7-bc6ff127a508",
   "metadata": {},
   "outputs": [],
   "source": [
    "# 도구 불러오기\n",
    "from sklearn.model_selection import GridSearchCV"
   ]
  },
  {
   "cell_type": "code",
   "execution_count": 104,
   "id": "ffd4129c-c279-4376-b5c1-3cce7b66cd78",
   "metadata": {},
   "outputs": [
    {
     "data": {
      "text/html": [
       "<style>#sk-container-id-1 {color: black;background-color: white;}#sk-container-id-1 pre{padding: 0;}#sk-container-id-1 div.sk-toggleable {background-color: white;}#sk-container-id-1 label.sk-toggleable__label {cursor: pointer;display: block;width: 100%;margin-bottom: 0;padding: 0.3em;box-sizing: border-box;text-align: center;}#sk-container-id-1 label.sk-toggleable__label-arrow:before {content: \"▸\";float: left;margin-right: 0.25em;color: #696969;}#sk-container-id-1 label.sk-toggleable__label-arrow:hover:before {color: black;}#sk-container-id-1 div.sk-estimator:hover label.sk-toggleable__label-arrow:before {color: black;}#sk-container-id-1 div.sk-toggleable__content {max-height: 0;max-width: 0;overflow: hidden;text-align: left;background-color: #f0f8ff;}#sk-container-id-1 div.sk-toggleable__content pre {margin: 0.2em;color: black;border-radius: 0.25em;background-color: #f0f8ff;}#sk-container-id-1 input.sk-toggleable__control:checked~div.sk-toggleable__content {max-height: 200px;max-width: 100%;overflow: auto;}#sk-container-id-1 input.sk-toggleable__control:checked~label.sk-toggleable__label-arrow:before {content: \"▾\";}#sk-container-id-1 div.sk-estimator input.sk-toggleable__control:checked~label.sk-toggleable__label {background-color: #d4ebff;}#sk-container-id-1 div.sk-label input.sk-toggleable__control:checked~label.sk-toggleable__label {background-color: #d4ebff;}#sk-container-id-1 input.sk-hidden--visually {border: 0;clip: rect(1px 1px 1px 1px);clip: rect(1px, 1px, 1px, 1px);height: 1px;margin: -1px;overflow: hidden;padding: 0;position: absolute;width: 1px;}#sk-container-id-1 div.sk-estimator {font-family: monospace;background-color: #f0f8ff;border: 1px dotted black;border-radius: 0.25em;box-sizing: border-box;margin-bottom: 0.5em;}#sk-container-id-1 div.sk-estimator:hover {background-color: #d4ebff;}#sk-container-id-1 div.sk-parallel-item::after {content: \"\";width: 100%;border-bottom: 1px solid gray;flex-grow: 1;}#sk-container-id-1 div.sk-label:hover label.sk-toggleable__label {background-color: #d4ebff;}#sk-container-id-1 div.sk-serial::before {content: \"\";position: absolute;border-left: 1px solid gray;box-sizing: border-box;top: 0;bottom: 0;left: 50%;z-index: 0;}#sk-container-id-1 div.sk-serial {display: flex;flex-direction: column;align-items: center;background-color: white;padding-right: 0.2em;padding-left: 0.2em;position: relative;}#sk-container-id-1 div.sk-item {position: relative;z-index: 1;}#sk-container-id-1 div.sk-parallel {display: flex;align-items: stretch;justify-content: center;background-color: white;position: relative;}#sk-container-id-1 div.sk-item::before, #sk-container-id-1 div.sk-parallel-item::before {content: \"\";position: absolute;border-left: 1px solid gray;box-sizing: border-box;top: 0;bottom: 0;left: 50%;z-index: -1;}#sk-container-id-1 div.sk-parallel-item {display: flex;flex-direction: column;z-index: 1;position: relative;background-color: white;}#sk-container-id-1 div.sk-parallel-item:first-child::after {align-self: flex-end;width: 50%;}#sk-container-id-1 div.sk-parallel-item:last-child::after {align-self: flex-start;width: 50%;}#sk-container-id-1 div.sk-parallel-item:only-child::after {width: 0;}#sk-container-id-1 div.sk-dashed-wrapped {border: 1px dashed gray;margin: 0 0.4em 0.5em 0.4em;box-sizing: border-box;padding-bottom: 0.4em;background-color: white;}#sk-container-id-1 div.sk-label label {font-family: monospace;font-weight: bold;display: inline-block;line-height: 1.2em;}#sk-container-id-1 div.sk-label-container {text-align: center;}#sk-container-id-1 div.sk-container {/* jupyter's `normalize.less` sets `[hidden] { display: none; }` but bootstrap.min.css set `[hidden] { display: none !important; }` so we also need the `!important` here to be able to override the default hidden behavior on the sphinx rendered scikit-learn.org. See: https://github.com/scikit-learn/scikit-learn/issues/21755 */display: inline-block !important;position: relative;}#sk-container-id-1 div.sk-text-repr-fallback {display: none;}</style><div id=\"sk-container-id-1\" class=\"sk-top-container\"><div class=\"sk-text-repr-fallback\"><pre>GridSearchCV(cv=5, estimator=RandomForestClassifier(random_state=2024),\n",
       "             n_jobs=-1,\n",
       "             param_grid={&#x27;max_depth&#x27;: [3, 5, 7], &#x27;min_samples_split&#x27;: [3, 5, 7],\n",
       "                         &#x27;n_estimators&#x27;: [50, 100, 200]})</pre><b>In a Jupyter environment, please rerun this cell to show the HTML representation or trust the notebook. <br />On GitHub, the HTML representation is unable to render, please try loading this page with nbviewer.org.</b></div><div class=\"sk-container\" hidden><div class=\"sk-item sk-dashed-wrapped\"><div class=\"sk-label-container\"><div class=\"sk-label sk-toggleable\"><input class=\"sk-toggleable__control sk-hidden--visually\" id=\"sk-estimator-id-1\" type=\"checkbox\" ><label for=\"sk-estimator-id-1\" class=\"sk-toggleable__label sk-toggleable__label-arrow\">GridSearchCV</label><div class=\"sk-toggleable__content\"><pre>GridSearchCV(cv=5, estimator=RandomForestClassifier(random_state=2024),\n",
       "             n_jobs=-1,\n",
       "             param_grid={&#x27;max_depth&#x27;: [3, 5, 7], &#x27;min_samples_split&#x27;: [3, 5, 7],\n",
       "                         &#x27;n_estimators&#x27;: [50, 100, 200]})</pre></div></div></div><div class=\"sk-parallel\"><div class=\"sk-parallel-item\"><div class=\"sk-item\"><div class=\"sk-label-container\"><div class=\"sk-label sk-toggleable\"><input class=\"sk-toggleable__control sk-hidden--visually\" id=\"sk-estimator-id-2\" type=\"checkbox\" ><label for=\"sk-estimator-id-2\" class=\"sk-toggleable__label sk-toggleable__label-arrow\">estimator: RandomForestClassifier</label><div class=\"sk-toggleable__content\"><pre>RandomForestClassifier(random_state=2024)</pre></div></div></div><div class=\"sk-serial\"><div class=\"sk-item\"><div class=\"sk-estimator sk-toggleable\"><input class=\"sk-toggleable__control sk-hidden--visually\" id=\"sk-estimator-id-3\" type=\"checkbox\" ><label for=\"sk-estimator-id-3\" class=\"sk-toggleable__label sk-toggleable__label-arrow\">RandomForestClassifier</label><div class=\"sk-toggleable__content\"><pre>RandomForestClassifier(random_state=2024)</pre></div></div></div></div></div></div></div></div></div></div>"
      ],
      "text/plain": [
       "GridSearchCV(cv=5, estimator=RandomForestClassifier(random_state=2024),\n",
       "             n_jobs=-1,\n",
       "             param_grid={'max_depth': [3, 5, 7], 'min_samples_split': [3, 5, 7],\n",
       "                         'n_estimators': [50, 100, 200]})"
      ]
     },
     "execution_count": 104,
     "metadata": {},
     "output_type": "execute_result"
    }
   ],
   "source": [
    "# 1. 하이퍼 파라미터(초 매개변수) 경우의 수 설정\n",
    "params = { # 딕셔너리로 만들기 - 하이퍼파라미터 경우의 수\n",
    "    'n_estimators' : [50, 100, 200],   # 트리 개수 설정\n",
    "    'max_depth' : [3, 5, 7],           # 트리 최대 깊이 제한(사전 가재 치기)\n",
    "    'min_samples_split' : [3, 5, 7]    # 노드를 분할하기 위한 최소 샘플 수 지정\n",
    "}\n",
    "\n",
    "# 2. 해당 모델 초기화(생성)\n",
    "rf_clf = RandomForestClassifier(random_state = 2024)   # 결과의 재현성을 위해서 난수(랜덤수) 고정시키기\n",
    "\n",
    "# 3. gridsearch 옵션 설정\n",
    "grid = GridSearchCV(\n",
    "    rf_clf,\n",
    "    params,       # 하이퍼파라미터 경우의 수\n",
    "    cv = 5,       # 내부에서 교차검증을 통해 성능 비교 => k겹 설정 해줌\n",
    "    n_jobs = -1   # 사용 가능한 모든 CPU 코어를 사용하여 병렬 처리로 수행\n",
    ")\n",
    "\n",
    "# 4. 실행 => 찾아라!\n",
    "grid.fit(X_train_one_hot, y_train)"
   ]
  },
  {
   "cell_type": "code",
   "execution_count": 105,
   "id": "59d29606-32be-437d-8e8c-413ce86ea160",
   "metadata": {},
   "outputs": [
    {
     "data": {
      "text/plain": [
       "{'max_depth': 7, 'min_samples_split': 7, 'n_estimators': 50}"
      ]
     },
     "execution_count": 105,
     "metadata": {},
     "output_type": "execute_result"
    }
   ],
   "source": [
    "# 최적의 하이퍼파라미터 조합 확인\n",
    "grid.best_params_"
   ]
  },
  {
   "cell_type": "code",
   "execution_count": 106,
   "id": "c4616417-e5bb-404a-8dc3-bb5cc5731466",
   "metadata": {},
   "outputs": [
    {
     "data": {
      "text/plain": [
       "0.8260561170045821"
      ]
     },
     "execution_count": 106,
     "metadata": {},
     "output_type": "execute_result"
    }
   ],
   "source": [
    "# 최적의 하이퍼 파라미터로 예측을 수행한 성능값(accuracy, 정확도-비율)\n",
    "grid.best_score_"
   ]
  },
  {
   "cell_type": "code",
   "execution_count": 107,
   "id": "dd2e1286-664c-4341-8ca3-ffbdf5c45318",
   "metadata": {},
   "outputs": [],
   "source": [
    "# 최적의 하이퍼 파라미터로 세팅된 모델\n",
    "best_rf_clf = grid.best_estimator_"
   ]
  },
  {
   "cell_type": "code",
   "execution_count": 108,
   "id": "b7106ed2-1fd3-4e75-a2fc-57654c2cc85e",
   "metadata": {},
   "outputs": [
    {
     "data": {
      "text/plain": [
       "array([0, 0, 0, 0, 1, 0, 0, 0, 1, 0, 0, 0, 1, 0, 1, 1, 0, 0, 0, 1, 0, 1,\n",
       "       1, 0, 1, 0, 1, 0, 0, 0, 0, 0, 1, 0, 0, 0, 0, 0, 0, 0, 0, 0, 0, 1,\n",
       "       1, 0, 0, 0, 1, 1, 0, 0, 1, 1, 0, 0, 0, 0, 0, 1, 0, 0, 0, 1, 0, 1,\n",
       "       1, 0, 1, 1, 1, 0, 0, 0, 1, 1, 0, 1, 0, 1, 1, 0, 0, 0, 0, 0, 1, 0,\n",
       "       1, 1, 1, 0, 1, 0, 0, 0, 1, 0, 1, 0, 1, 0, 0, 0, 1, 0, 0, 0, 0, 0,\n",
       "       0, 1, 1, 1, 1, 0, 0, 1, 1, 1, 1, 0, 1, 0, 0, 1, 0, 1, 0, 0, 0, 0,\n",
       "       0, 0, 0, 0, 0, 0, 0, 0, 0, 1, 0, 0, 0, 0, 1, 0, 0, 0, 1, 0, 0, 1,\n",
       "       0, 0, 1, 1, 0, 1, 1, 1, 1, 0, 0, 1, 0, 0, 1, 0, 0, 0, 0, 0, 0, 1,\n",
       "       1, 0, 1, 1, 0, 1, 1, 0, 1, 0, 1, 0, 0, 0, 0, 0, 0, 0, 1, 0, 1, 1,\n",
       "       0, 0, 1, 1, 0, 1, 0, 0, 0, 0, 1, 0, 0, 0, 0, 1, 0, 0, 1, 0, 1, 0,\n",
       "       1, 0, 1, 0, 1, 0, 0, 1, 0, 0, 0, 1, 0, 0, 0, 0, 0, 0, 1, 1, 1, 1,\n",
       "       0, 0, 0, 0, 1, 0, 1, 0, 1, 0, 0, 0, 0, 0, 0, 0, 1, 0, 0, 0, 1, 1,\n",
       "       0, 0, 0, 0, 0, 0, 0, 0, 1, 1, 0, 1, 0, 0, 0, 0, 0, 1, 1, 1, 1, 0,\n",
       "       0, 0, 0, 0, 0, 0, 0, 0, 0, 0, 1, 0, 0, 0, 0, 0, 0, 0, 1, 1, 0, 1,\n",
       "       0, 0, 0, 0, 0, 0, 1, 1, 0, 0, 0, 0, 0, 0, 0, 0, 1, 0, 1, 0, 0, 0,\n",
       "       1, 0, 0, 1, 0, 0, 0, 0, 0, 0, 0, 0, 0, 1, 0, 1, 0, 1, 0, 1, 1, 0,\n",
       "       0, 0, 1, 0, 1, 0, 0, 1, 0, 1, 1, 0, 1, 0, 0, 0, 1, 0, 0, 1, 0, 0,\n",
       "       1, 1, 0, 0, 0, 0, 0, 0, 0, 1, 0, 1, 0, 0, 0, 0, 0, 1, 0, 0, 0, 1,\n",
       "       0, 1, 0, 0, 1, 0, 1, 0, 0, 0, 0, 0, 1, 1, 1, 1, 0, 0, 1, 0, 0, 0],\n",
       "      dtype=int64)"
      ]
     },
     "execution_count": 108,
     "metadata": {},
     "output_type": "execute_result"
    }
   ],
   "source": [
    "best_rf_clf.predict(X_test_one_hot)"
   ]
  },
  {
   "cell_type": "code",
   "execution_count": 109,
   "id": "d14d8688-43f9-4881-bc2a-a679cdfd2fed",
   "metadata": {},
   "outputs": [
    {
     "data": {
      "text/plain": [
       "0.8260561170045821"
      ]
     },
     "execution_count": 109,
     "metadata": {},
     "output_type": "execute_result"
    }
   ],
   "source": [
    "# 검증\n",
    "cross_val_score(best_rf_clf, X_train_one_hot, y_train, cv = 5).mean()"
   ]
  },
  {
   "cell_type": "code",
   "execution_count": null,
   "id": "9af643bf-7d73-4987-a909-04ead4f02390",
   "metadata": {},
   "outputs": [],
   "source": []
  },
  {
   "cell_type": "code",
   "execution_count": null,
   "id": "fc029dd4-e6d7-44c5-94aa-dfc2459c57c4",
   "metadata": {},
   "outputs": [],
   "source": []
  }
 ],
 "metadata": {
  "kernelspec": {
   "display_name": "Python 3 (ipykernel)",
   "language": "python",
   "name": "python3"
  },
  "language_info": {
   "codemirror_mode": {
    "name": "ipython",
    "version": 3
   },
   "file_extension": ".py",
   "mimetype": "text/x-python",
   "name": "python",
   "nbconvert_exporter": "python",
   "pygments_lexer": "ipython3",
   "version": "3.11.7"
  }
 },
 "nbformat": 4,
 "nbformat_minor": 5
}
