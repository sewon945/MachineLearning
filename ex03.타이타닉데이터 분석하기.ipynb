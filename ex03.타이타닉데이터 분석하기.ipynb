{
 "cells": [
  {
   "cell_type": "markdown",
   "id": "08a1c331-ccd0-4ffd-ac79-38cea5e2697b",
   "metadata": {},
   "source": [
    "## 목표\n",
    "- 타이타닉 데이터를 학습해서 생존/사망 예측하기\n",
    "- 머신러닝의 전체 과정 진행하기"
   ]
  },
  {
   "cell_type": "markdown",
   "id": "508d8861-d2a4-4d04-97c4-597efb84a86e",
   "metadata": {},
   "source": [
    "### 머신러닝 전체 과정 (7단계)\n",
    "1) 문제 정의\n",
    "2) 데이터 수집 (목적성과 맞게)\n",
    "   - 파일 다운, 크롤링, 데이터 저장되어있는 거 가져오기, 설문 등\n",
    "3) 데이터 전처리\n",
    "   - info 단계에서 결측치가 없으면 전처리 단계 건너뛰기\n",
    "4) EDA(탐색적 데이터 분석)\n",
    "   - 전처리 단계로 넘어갈 수 있음\n",
    "5) 모델 선택 및 하이퍼 파라미터 조정\n",
    "6) 모델 학습\n",
    "\n",
    "7) 모델 평가"
   ]
  },
  {
   "cell_type": "markdown",
   "id": "979fb7a5-94a7-4f89-907f-9ca7b5612b8d",
   "metadata": {},
   "source": [
    "### 1. 문제 정의\n",
    "- Kaggle에서 제공하는 titanic 데이터를 사용해 승객의 생존 여부 예측\n",
    "- 지도 학습 사용 (train.csv - Survived)\n",
    "- Survived 컬럼의 데이터 값은 수치형이지만 0과 1로 생존 여부만 구분하고 있기에 우선 순위는 없음\n",
    "- 지도 학습 => 분류"
   ]
  },
  {
   "cell_type": "code",
   "execution_count": 139,
   "id": "e36123a4-1824-4f05-884d-44ddb9904cf4",
   "metadata": {},
   "outputs": [],
   "source": [
    "# 필요한 라이브러리 가져오기 (환경 세팅)\n",
    "import numpy as np\n",
    "import pandas as pd\n",
    "import matplotlib.pyplot as plt\n",
    "import seaborn as sns   # 시각화 도구"
   ]
  },
  {
   "cell_type": "markdown",
   "id": "de9e094f-0185-4909-a059-09e5e77583e3",
   "metadata": {},
   "source": [
    "#### 실습 1\n",
    "- 타이타닉 train 데이터와 test 데이터를 변수 train, test에 저장하기\n",
    "- 단, passengerId 컬럼을 인덱스로 설정해서 불러오기"
   ]
  },
  {
   "cell_type": "markdown",
   "id": "0afe7a8c-db36-4908-83bb-50104405fb31",
   "metadata": {},
   "source": [
    "### 2. 데이터 수집"
   ]
  },
  {
   "cell_type": "code",
   "execution_count": 140,
   "id": "96666dfc-c3cc-403d-abab-57660caccfba",
   "metadata": {},
   "outputs": [
    {
     "data": {
      "text/html": [
       "<div>\n",
       "<style scoped>\n",
       "    .dataframe tbody tr th:only-of-type {\n",
       "        vertical-align: middle;\n",
       "    }\n",
       "\n",
       "    .dataframe tbody tr th {\n",
       "        vertical-align: top;\n",
       "    }\n",
       "\n",
       "    .dataframe thead th {\n",
       "        text-align: right;\n",
       "    }\n",
       "</style>\n",
       "<table border=\"1\" class=\"dataframe\">\n",
       "  <thead>\n",
       "    <tr style=\"text-align: right;\">\n",
       "      <th></th>\n",
       "      <th>Survived</th>\n",
       "      <th>Pclass</th>\n",
       "      <th>Name</th>\n",
       "      <th>Sex</th>\n",
       "      <th>Age</th>\n",
       "      <th>SibSp</th>\n",
       "      <th>Parch</th>\n",
       "      <th>Ticket</th>\n",
       "      <th>Fare</th>\n",
       "      <th>Cabin</th>\n",
       "      <th>Embarked</th>\n",
       "    </tr>\n",
       "    <tr>\n",
       "      <th>PassengerId</th>\n",
       "      <th></th>\n",
       "      <th></th>\n",
       "      <th></th>\n",
       "      <th></th>\n",
       "      <th></th>\n",
       "      <th></th>\n",
       "      <th></th>\n",
       "      <th></th>\n",
       "      <th></th>\n",
       "      <th></th>\n",
       "      <th></th>\n",
       "    </tr>\n",
       "  </thead>\n",
       "  <tbody>\n",
       "    <tr>\n",
       "      <th>1</th>\n",
       "      <td>0</td>\n",
       "      <td>3</td>\n",
       "      <td>Braund, Mr. Owen Harris</td>\n",
       "      <td>male</td>\n",
       "      <td>22.0</td>\n",
       "      <td>1</td>\n",
       "      <td>0</td>\n",
       "      <td>A/5 21171</td>\n",
       "      <td>7.2500</td>\n",
       "      <td>NaN</td>\n",
       "      <td>S</td>\n",
       "    </tr>\n",
       "    <tr>\n",
       "      <th>2</th>\n",
       "      <td>1</td>\n",
       "      <td>1</td>\n",
       "      <td>Cumings, Mrs. John Bradley (Florence Briggs Th...</td>\n",
       "      <td>female</td>\n",
       "      <td>38.0</td>\n",
       "      <td>1</td>\n",
       "      <td>0</td>\n",
       "      <td>PC 17599</td>\n",
       "      <td>71.2833</td>\n",
       "      <td>C85</td>\n",
       "      <td>C</td>\n",
       "    </tr>\n",
       "    <tr>\n",
       "      <th>3</th>\n",
       "      <td>1</td>\n",
       "      <td>3</td>\n",
       "      <td>Heikkinen, Miss. Laina</td>\n",
       "      <td>female</td>\n",
       "      <td>26.0</td>\n",
       "      <td>0</td>\n",
       "      <td>0</td>\n",
       "      <td>STON/O2. 3101282</td>\n",
       "      <td>7.9250</td>\n",
       "      <td>NaN</td>\n",
       "      <td>S</td>\n",
       "    </tr>\n",
       "    <tr>\n",
       "      <th>4</th>\n",
       "      <td>1</td>\n",
       "      <td>1</td>\n",
       "      <td>Futrelle, Mrs. Jacques Heath (Lily May Peel)</td>\n",
       "      <td>female</td>\n",
       "      <td>35.0</td>\n",
       "      <td>1</td>\n",
       "      <td>0</td>\n",
       "      <td>113803</td>\n",
       "      <td>53.1000</td>\n",
       "      <td>C123</td>\n",
       "      <td>S</td>\n",
       "    </tr>\n",
       "    <tr>\n",
       "      <th>5</th>\n",
       "      <td>0</td>\n",
       "      <td>3</td>\n",
       "      <td>Allen, Mr. William Henry</td>\n",
       "      <td>male</td>\n",
       "      <td>35.0</td>\n",
       "      <td>0</td>\n",
       "      <td>0</td>\n",
       "      <td>373450</td>\n",
       "      <td>8.0500</td>\n",
       "      <td>NaN</td>\n",
       "      <td>S</td>\n",
       "    </tr>\n",
       "  </tbody>\n",
       "</table>\n",
       "</div>"
      ],
      "text/plain": [
       "             Survived  Pclass  \\\n",
       "PassengerId                     \n",
       "1                   0       3   \n",
       "2                   1       1   \n",
       "3                   1       3   \n",
       "4                   1       1   \n",
       "5                   0       3   \n",
       "\n",
       "                                                          Name     Sex   Age  \\\n",
       "PassengerId                                                                    \n",
       "1                                      Braund, Mr. Owen Harris    male  22.0   \n",
       "2            Cumings, Mrs. John Bradley (Florence Briggs Th...  female  38.0   \n",
       "3                                       Heikkinen, Miss. Laina  female  26.0   \n",
       "4                 Futrelle, Mrs. Jacques Heath (Lily May Peel)  female  35.0   \n",
       "5                                     Allen, Mr. William Henry    male  35.0   \n",
       "\n",
       "             SibSp  Parch            Ticket     Fare Cabin Embarked  \n",
       "PassengerId                                                          \n",
       "1                1      0         A/5 21171   7.2500   NaN        S  \n",
       "2                1      0          PC 17599  71.2833   C85        C  \n",
       "3                0      0  STON/O2. 3101282   7.9250   NaN        S  \n",
       "4                1      0            113803  53.1000  C123        S  \n",
       "5                0      0            373450   8.0500   NaN        S  "
      ]
     },
     "execution_count": 140,
     "metadata": {},
     "output_type": "execute_result"
    }
   ],
   "source": [
    "train = pd.read_csv('data/train.csv', index_col = 'PassengerId')\n",
    "test = pd.read_csv('data/test.csv', index_col = 'PassengerId')\n",
    "train.head()"
   ]
  },
  {
   "cell_type": "code",
   "execution_count": 141,
   "id": "45c88449-5528-42d4-986c-d8cd00f65f46",
   "metadata": {},
   "outputs": [],
   "source": [
    "# 에러 뜨는 거 막아주는 코드\n",
    "train[\"Survived\"] = train['Survived'].astype(\"str\")"
   ]
  },
  {
   "cell_type": "code",
   "execution_count": 142,
   "id": "5d5c58bf-9dca-4287-9fbf-b836fc706773",
   "metadata": {},
   "outputs": [
    {
     "name": "stdout",
     "output_type": "stream",
     "text": [
      "훈련 데이터 셋 크기 :  (891, 11)\n",
      "테스트 데이터 셋 크기 :  (418, 10)\n"
     ]
    }
   ],
   "source": [
    "# shape 확인하기 (데이터 크기 확인)\n",
    "print('훈련 데이터 셋 크기 : ', train.shape)\n",
    "print('테스트 데이터 셋 크기 : ', test.shape)\n",
    "\n",
    "# 훈련 데이턴와 테스트 데이터 셋 크기의 컬럼 개수 차이? => test 데이터에는 Survived(y_test, 정답) 컬럼이 없음"
   ]
  },
  {
   "cell_type": "code",
   "execution_count": 143,
   "id": "f947b465-8d0b-45b3-b644-ed60475b8779",
   "metadata": {},
   "outputs": [
    {
     "name": "stdout",
     "output_type": "stream",
     "text": [
      "<class 'pandas.core.frame.DataFrame'>\n",
      "Index: 891 entries, 1 to 891\n",
      "Data columns (total 11 columns):\n",
      " #   Column    Non-Null Count  Dtype  \n",
      "---  ------    --------------  -----  \n",
      " 0   Survived  891 non-null    object \n",
      " 1   Pclass    891 non-null    int64  \n",
      " 2   Name      891 non-null    object \n",
      " 3   Sex       891 non-null    object \n",
      " 4   Age       714 non-null    float64\n",
      " 5   SibSp     891 non-null    int64  \n",
      " 6   Parch     891 non-null    int64  \n",
      " 7   Ticket    891 non-null    object \n",
      " 8   Fare      891 non-null    float64\n",
      " 9   Cabin     204 non-null    object \n",
      " 10  Embarked  889 non-null    object \n",
      "dtypes: float64(2), int64(3), object(6)\n",
      "memory usage: 83.5+ KB\n"
     ]
    }
   ],
   "source": [
    "train.info()"
   ]
  },
  {
   "cell_type": "markdown",
   "id": "18de142b-7bb7-4de8-9204-deb63cda9079",
   "metadata": {},
   "source": [
    "## 3. 데이터 전처리 및 데이터 탐색"
   ]
  },
  {
   "cell_type": "code",
   "execution_count": 144,
   "id": "3be4226d-e6a8-46ec-89e5-cde39206b309",
   "metadata": {},
   "outputs": [
    {
     "name": "stdout",
     "output_type": "stream",
     "text": [
      "<class 'pandas.core.frame.DataFrame'>\n",
      "Index: 891 entries, 1 to 891\n",
      "Data columns (total 11 columns):\n",
      " #   Column    Non-Null Count  Dtype  \n",
      "---  ------    --------------  -----  \n",
      " 0   Survived  891 non-null    object \n",
      " 1   Pclass    891 non-null    int64  \n",
      " 2   Name      891 non-null    object \n",
      " 3   Sex       891 non-null    object \n",
      " 4   Age       714 non-null    float64\n",
      " 5   SibSp     891 non-null    int64  \n",
      " 6   Parch     891 non-null    int64  \n",
      " 7   Ticket    891 non-null    object \n",
      " 8   Fare      891 non-null    float64\n",
      " 9   Cabin     204 non-null    object \n",
      " 10  Embarked  889 non-null    object \n",
      "dtypes: float64(2), int64(3), object(6)\n",
      "memory usage: 83.5+ KB\n"
     ]
    }
   ],
   "source": [
    "# 훈련 데이터 셋 정보 확인\n",
    "train.info()\n",
    "\n",
    "# => 4, 9, 10은 891이 아니기에 결측치가 있다\n",
    "# 결측치가 있는 컬럼 : Age, Cavin, Embarked \n",
    "# 데이터 타입 : 숫자(정수/실수), 문자열\n",
    "# >> 모델은 문제 데이터가 숫자인 것만 인식할 수 있기에 문자 데이터를 숫자로 바꿔주는 인코딩(원핫/레이블) 작업 필요\n",
    "# 인코딩은 데이터 특성을 보고 원핫 인코딩을 할 건지 레이블 인코딩을 할 건지 결정하기"
   ]
  },
  {
   "cell_type": "code",
   "execution_count": 145,
   "id": "29bf857e-346f-4ad7-8358-9101692691a9",
   "metadata": {},
   "outputs": [
    {
     "name": "stdout",
     "output_type": "stream",
     "text": [
      "<class 'pandas.core.frame.DataFrame'>\n",
      "Index: 418 entries, 892 to 1309\n",
      "Data columns (total 10 columns):\n",
      " #   Column    Non-Null Count  Dtype  \n",
      "---  ------    --------------  -----  \n",
      " 0   Pclass    418 non-null    int64  \n",
      " 1   Name      418 non-null    object \n",
      " 2   Sex       418 non-null    object \n",
      " 3   Age       332 non-null    float64\n",
      " 4   SibSp     418 non-null    int64  \n",
      " 5   Parch     418 non-null    int64  \n",
      " 6   Ticket    418 non-null    object \n",
      " 7   Fare      417 non-null    float64\n",
      " 8   Cabin     91 non-null     object \n",
      " 9   Embarked  418 non-null    object \n",
      "dtypes: float64(2), int64(3), object(5)\n",
      "memory usage: 35.9+ KB\n"
     ]
    }
   ],
   "source": [
    "# 테스트용 데이터 셋 정보 확인하기\n",
    "test.info()\n",
    "\n",
    "# Survived 컬럼이 없다 => 생존/사망 데이터가 \n",
    "# 데이터 타입 : 숫자(정수/실수), 문자열"
   ]
  },
  {
   "cell_type": "code",
   "execution_count": 146,
   "id": "fc2dd18e-5eb2-4ee5-97f7-3ffb91a8e895",
   "metadata": {},
   "outputs": [
    {
     "data": {
      "text/plain": [
       "Index(['Survived', 'Pclass', 'Name', 'Sex', 'Age', 'SibSp', 'Parch', 'Ticket',\n",
       "       'Fare', 'Cabin', 'Embarked'],\n",
       "      dtype='object')"
      ]
     },
     "execution_count": 146,
     "metadata": {},
     "output_type": "execute_result"
    }
   ],
   "source": [
    "# 컬럼의 정보 정리하기\n",
    "train.columns\n",
    "\n",
    "# => 총 11개\n",
    "# 'Survived' : 생존/사망 결과 값이 담긴 컬럼 (0: 사망, 1: 생존)\n",
    "# 'Pclass' : 승객의 등급 (1: 상위층, 2: 중상위층, 3: 하위층)\n",
    "# 'Name' : 이름\n",
    "# 'Sex' : 성별\n",
    "# 'Age' : 나이\n",
    "# 'SibSp' : 형제 자매/배우자 수 (조건: 같이 탑승한)\n",
    "# 'Parch' : 부모/자식의 수 (조건: 같이 탑승한)\n",
    "# 'Ticket' : 티켓의 번호\n",
    "# 'Fare' : 요금\n",
    "# 'Cabin' : 객실 번호\n",
    "# 'Embarked' : (3개의) 승선함 => S, C, Q (이 사람이 어디서 탑승했는지)\n",
    "# S = Southampton , C = CHerbourg , Q = Queenstown"
   ]
  },
  {
   "cell_type": "markdown",
   "id": "03531bae-e6c7-4feb-92fc-fe0269a845d2",
   "metadata": {},
   "source": [
    "### 결측치 채우는 작업\n",
    "- train : Age, Cabin, Embarked\n",
    "- test : Age, Fare, Cabin\n",
    "----\n",
    "- 아래에서 결측치 다 채워줌"
   ]
  },
  {
   "cell_type": "markdown",
   "id": "fae7ba0a-ce7d-486e-aff3-a39984cc81d9",
   "metadata": {},
   "source": [
    "#### 결측치를 채우는 방법 (2가지)\n",
    "1. 결측치가 있는 행 전체를 삭제하는 방법\n",
    "   - 삭제하려는 데이터가 너무 많거나 모델링에 치명적이지 않는 데이터여야만 한다\n",
    "   - 데이터가 많을 수록 과대적합을 피할 수 있는데 삭제해버리면 학습할 수 있는 데이터가 줄어들어 버린다\n",
    "2. 결측치를 다른 값(대표값)으로 대체하는 방법\n",
    "   - 평균값, 최빈값, 중앙값 등..."
   ]
  },
  {
   "cell_type": "markdown",
   "id": "4a6ad666-7f3d-4d95-a360-b4ff58ab4e18",
   "metadata": {},
   "source": [
    "- train : Embarked 컬럼의 결측치 채우기"
   ]
  },
  {
   "cell_type": "code",
   "execution_count": 147,
   "id": "88558dd3-175e-47e9-962b-78f2a9b95422",
   "metadata": {},
   "outputs": [
    {
     "data": {
      "text/html": [
       "<div>\n",
       "<style scoped>\n",
       "    .dataframe tbody tr th:only-of-type {\n",
       "        vertical-align: middle;\n",
       "    }\n",
       "\n",
       "    .dataframe tbody tr th {\n",
       "        vertical-align: top;\n",
       "    }\n",
       "\n",
       "    .dataframe thead th {\n",
       "        text-align: right;\n",
       "    }\n",
       "</style>\n",
       "<table border=\"1\" class=\"dataframe\">\n",
       "  <thead>\n",
       "    <tr style=\"text-align: right;\">\n",
       "      <th></th>\n",
       "      <th>Survived</th>\n",
       "      <th>Pclass</th>\n",
       "      <th>Name</th>\n",
       "      <th>Sex</th>\n",
       "      <th>Age</th>\n",
       "      <th>SibSp</th>\n",
       "      <th>Parch</th>\n",
       "      <th>Ticket</th>\n",
       "      <th>Fare</th>\n",
       "      <th>Cabin</th>\n",
       "      <th>Embarked</th>\n",
       "    </tr>\n",
       "    <tr>\n",
       "      <th>PassengerId</th>\n",
       "      <th></th>\n",
       "      <th></th>\n",
       "      <th></th>\n",
       "      <th></th>\n",
       "      <th></th>\n",
       "      <th></th>\n",
       "      <th></th>\n",
       "      <th></th>\n",
       "      <th></th>\n",
       "      <th></th>\n",
       "      <th></th>\n",
       "    </tr>\n",
       "  </thead>\n",
       "  <tbody>\n",
       "    <tr>\n",
       "      <th>62</th>\n",
       "      <td>1</td>\n",
       "      <td>1</td>\n",
       "      <td>Icard, Miss. Amelie</td>\n",
       "      <td>female</td>\n",
       "      <td>38.0</td>\n",
       "      <td>0</td>\n",
       "      <td>0</td>\n",
       "      <td>113572</td>\n",
       "      <td>80.0</td>\n",
       "      <td>B28</td>\n",
       "      <td>NaN</td>\n",
       "    </tr>\n",
       "    <tr>\n",
       "      <th>830</th>\n",
       "      <td>1</td>\n",
       "      <td>1</td>\n",
       "      <td>Stone, Mrs. George Nelson (Martha Evelyn)</td>\n",
       "      <td>female</td>\n",
       "      <td>62.0</td>\n",
       "      <td>0</td>\n",
       "      <td>0</td>\n",
       "      <td>113572</td>\n",
       "      <td>80.0</td>\n",
       "      <td>B28</td>\n",
       "      <td>NaN</td>\n",
       "    </tr>\n",
       "  </tbody>\n",
       "</table>\n",
       "</div>"
      ],
      "text/plain": [
       "            Survived  Pclass                                       Name  \\\n",
       "PassengerId                                                               \n",
       "62                 1       1                        Icard, Miss. Amelie   \n",
       "830                1       1  Stone, Mrs. George Nelson (Martha Evelyn)   \n",
       "\n",
       "                Sex   Age  SibSp  Parch  Ticket  Fare Cabin Embarked  \n",
       "PassengerId                                                           \n",
       "62           female  38.0      0      0  113572  80.0   B28      NaN  \n",
       "830          female  62.0      0      0  113572  80.0   B28      NaN  "
      ]
     },
     "execution_count": 147,
     "metadata": {},
     "output_type": "execute_result"
    }
   ],
   "source": [
    "# train - Embarked(승선함) 컬럼 결측치 채우기\n",
    "train['Embarked'].value_counts()   # value_counts를 통해서 Embarked의 S, C, Q가 몇 개 있는 지 확인하기\n",
    "\n",
    "# 'Embarked 컬럼의 결측치는 총 몇 개인가?\n",
    "train['Embarked'].isnull().sum()   # sum을 통해 null값을 가지고 있는 행이 몇 개인지 확인하기\n",
    "\n",
    "# train['Embarked'] 결측치가 있는 데이터 출력하기\n",
    "train[train['Embarked'].isnull()]   # isnull 데이터 출력하기(Embarked 보면 NaN)"
   ]
  },
  {
   "cell_type": "code",
   "execution_count": 148,
   "id": "8d4b95a4-9530-44cc-9e8d-f0b8196bdf35",
   "metadata": {},
   "outputs": [],
   "source": [
    "# => 두 사람의 데이터를 열어서 확인해봤더니 이름, 나이를 제외하고는 데이터가 모두 같다\n",
    "# 같은 승선항에서 탔을 것이라고 가정\n",
    "# 사람이 가장 많이 탑승한 장소의 승선항 값으로 채워주기 - 최빈값으로\n",
    "# fillna('내가 채워주고 싶은 값') 함수를 사용해서 값 채워주기\n",
    "# fillna('값') : S\n",
    "# 비어있는 데이터가 있다면 '값'으로 채워주는 함수\n",
    "train['Embarked'] = train['Embarked'].fillna('S')   # 결측치가 채워지는 작업이 마무리가 됨 (채웠으면 Embarked 컬럼에 다시 넣어주기)"
   ]
  },
  {
   "cell_type": "code",
   "execution_count": 149,
   "id": "4fd6a311-e0b4-4c59-ad6f-0d5b86f38bb4",
   "metadata": {},
   "outputs": [
    {
     "data": {
      "text/plain": [
       "0"
      ]
     },
     "execution_count": 149,
     "metadata": {},
     "output_type": "execute_result"
    }
   ],
   "source": [
    "train['Embarked'].isnull().sum()\n",
    "# => 결측치가 S라는 값으로 채워짐으로써 0으로 나옴"
   ]
  },
  {
   "cell_type": "code",
   "execution_count": 150,
   "id": "1310786b-e0be-4e73-b429-22facfe51305",
   "metadata": {},
   "outputs": [
    {
     "name": "stdout",
     "output_type": "stream",
     "text": [
      "<class 'pandas.core.frame.DataFrame'>\n",
      "Index: 891 entries, 1 to 891\n",
      "Data columns (total 11 columns):\n",
      " #   Column    Non-Null Count  Dtype  \n",
      "---  ------    --------------  -----  \n",
      " 0   Survived  891 non-null    object \n",
      " 1   Pclass    891 non-null    int64  \n",
      " 2   Name      891 non-null    object \n",
      " 3   Sex       891 non-null    object \n",
      " 4   Age       714 non-null    float64\n",
      " 5   SibSp     891 non-null    int64  \n",
      " 6   Parch     891 non-null    int64  \n",
      " 7   Ticket    891 non-null    object \n",
      " 8   Fare      891 non-null    float64\n",
      " 9   Cabin     204 non-null    object \n",
      " 10  Embarked  891 non-null    object \n",
      "dtypes: float64(2), int64(3), object(6)\n",
      "memory usage: 83.5+ KB\n"
     ]
    }
   ],
   "source": [
    "train.info()\n",
    "# => Embarked 결측치 없음"
   ]
  },
  {
   "cell_type": "markdown",
   "id": "733490db-5985-4115-884a-f9e933f717fc",
   "metadata": {},
   "source": [
    "- test : Fare 컬럼의 결측치 채우기"
   ]
  },
  {
   "cell_type": "code",
   "execution_count": 151,
   "id": "572b2552-19fb-4bce-8d90-9ff33a2abe66",
   "metadata": {},
   "outputs": [
    {
     "data": {
      "text/plain": [
       "count    417.000000\n",
       "mean      35.627188\n",
       "std       55.907576\n",
       "min        0.000000\n",
       "25%        7.895800\n",
       "50%       14.454200\n",
       "75%       31.500000\n",
       "max      512.329200\n",
       "Name: Fare, dtype: float64"
      ]
     },
     "execution_count": 151,
     "metadata": {},
     "output_type": "execute_result"
    }
   ],
   "source": [
    "# test 데이터 Fare를 인덱싱 한 후 결측치가 존재하는 행 출력\n",
    "# isnull(), 불리언 인덱싱\n",
    "test[test['Fare'].isnull()]\n",
    "\n",
    "# 기술통계량 확인 (describe)\n",
    "test['Fare'].describe()\n",
    "\n",
    "# => 평균값은 하위층들에게는 너무 높기에 대표값을 중앙갑(50%)으로 사용"
   ]
  },
  {
   "cell_type": "code",
   "execution_count": 152,
   "id": "7b6fbe81-bae4-4b25-b1a1-42b8e353709c",
   "metadata": {},
   "outputs": [
    {
     "data": {
      "text/html": [
       "<div>\n",
       "<style scoped>\n",
       "    .dataframe tbody tr th:only-of-type {\n",
       "        vertical-align: middle;\n",
       "    }\n",
       "\n",
       "    .dataframe tbody tr th {\n",
       "        vertical-align: top;\n",
       "    }\n",
       "\n",
       "    .dataframe thead th {\n",
       "        text-align: right;\n",
       "    }\n",
       "</style>\n",
       "<table border=\"1\" class=\"dataframe\">\n",
       "  <thead>\n",
       "    <tr style=\"text-align: right;\">\n",
       "      <th></th>\n",
       "      <th>Pclass</th>\n",
       "      <th>Age</th>\n",
       "      <th>SibSp</th>\n",
       "      <th>Parch</th>\n",
       "      <th>Fare</th>\n",
       "    </tr>\n",
       "  </thead>\n",
       "  <tbody>\n",
       "    <tr>\n",
       "      <th>Pclass</th>\n",
       "      <td>1.000000</td>\n",
       "      <td>-0.492143</td>\n",
       "      <td>0.001087</td>\n",
       "      <td>0.018721</td>\n",
       "      <td>-0.577147</td>\n",
       "    </tr>\n",
       "    <tr>\n",
       "      <th>Age</th>\n",
       "      <td>-0.492143</td>\n",
       "      <td>1.000000</td>\n",
       "      <td>-0.091587</td>\n",
       "      <td>-0.061249</td>\n",
       "      <td>0.337932</td>\n",
       "    </tr>\n",
       "    <tr>\n",
       "      <th>SibSp</th>\n",
       "      <td>0.001087</td>\n",
       "      <td>-0.091587</td>\n",
       "      <td>1.000000</td>\n",
       "      <td>0.306895</td>\n",
       "      <td>0.171539</td>\n",
       "    </tr>\n",
       "    <tr>\n",
       "      <th>Parch</th>\n",
       "      <td>0.018721</td>\n",
       "      <td>-0.061249</td>\n",
       "      <td>0.306895</td>\n",
       "      <td>1.000000</td>\n",
       "      <td>0.230046</td>\n",
       "    </tr>\n",
       "    <tr>\n",
       "      <th>Fare</th>\n",
       "      <td>-0.577147</td>\n",
       "      <td>0.337932</td>\n",
       "      <td>0.171539</td>\n",
       "      <td>0.230046</td>\n",
       "      <td>1.000000</td>\n",
       "    </tr>\n",
       "  </tbody>\n",
       "</table>\n",
       "</div>"
      ],
      "text/plain": [
       "          Pclass       Age     SibSp     Parch      Fare\n",
       "Pclass  1.000000 -0.492143  0.001087  0.018721 -0.577147\n",
       "Age    -0.492143  1.000000 -0.091587 -0.061249  0.337932\n",
       "SibSp   0.001087 -0.091587  1.000000  0.306895  0.171539\n",
       "Parch   0.018721 -0.061249  0.306895  1.000000  0.230046\n",
       "Fare   -0.577147  0.337932  0.171539  0.230046  1.000000"
      ]
     },
     "execution_count": 152,
     "metadata": {},
     "output_type": "execute_result"
    }
   ],
   "source": [
    "# 연관성 확인하기\n",
    "# 혹시 Fare 컬럼과 연관성이 있는 컬럼이 있지는 않을까? 라는 의문이 듦\n",
    "# 상관관계 확인\n",
    "test.corr(numeric_only = True)   # 숫자로 된 컬럼 포함\n",
    "# 여기에 표현 되어있는 소주점 => 상관 계수 : -1 ~ 1 범위로 표현됨\n",
    "# -1, 1에 가까울 수록 해당 컬럼과 상관이 높고 관련성이 깊다\n",
    "# 0에 가까울 수록 해당 컬럼과 상관이 없음을 의미함\n",
    "\n",
    "# => Pclass 컬럼과 Fare 컬럼이 연관성이 가장 높다는 걸 알 수 있음"
   ]
  },
  {
   "cell_type": "code",
   "execution_count": 153,
   "id": "758318c3-0ebf-4b70-904e-5a1c64085cde",
   "metadata": {},
   "outputs": [],
   "source": [
    "# test['Fare'] 컬럼의 결측치 채워주기 - Pclass : 3 이라는 걸 test['Fare'].describe()로 확인함\n",
    "# test['Fare'] = test['Fare'].fillna(14.454200)\n",
    "# test['Fare'].isnull().sum()\n",
    "\n",
    "# => 결측치가 중앙값으로 채워짐"
   ]
  },
  {
   "cell_type": "code",
   "execution_count": 154,
   "id": "bd4c3505-7ee5-4109-9345-78c56cf93613",
   "metadata": {},
   "outputs": [
    {
     "data": {
      "text/plain": [
       "count    891.000000\n",
       "mean      32.204208\n",
       "std       49.693429\n",
       "min        0.000000\n",
       "25%        7.910400\n",
       "50%       14.454200\n",
       "75%       31.000000\n",
       "max      512.329200\n",
       "Name: Fare, dtype: float64"
      ]
     },
     "execution_count": 154,
     "metadata": {},
     "output_type": "execute_result"
    }
   ],
   "source": [
    "# train['Fare'] 확인해보기\n",
    "# 실제 모델이 학습을 하는 데이터는 train 데이터이기 때문에\n",
    "train['Fare'].describe()"
   ]
  },
  {
   "cell_type": "code",
   "execution_count": 155,
   "id": "070278a7-1349-4065-bcc4-baa7ef154aee",
   "metadata": {},
   "outputs": [
    {
     "data": {
      "text/html": [
       "<div>\n",
       "<style scoped>\n",
       "    .dataframe tbody tr th:only-of-type {\n",
       "        vertical-align: middle;\n",
       "    }\n",
       "\n",
       "    .dataframe tbody tr th {\n",
       "        vertical-align: top;\n",
       "    }\n",
       "\n",
       "    .dataframe thead th {\n",
       "        text-align: right;\n",
       "    }\n",
       "</style>\n",
       "<table border=\"1\" class=\"dataframe\">\n",
       "  <thead>\n",
       "    <tr style=\"text-align: right;\">\n",
       "      <th></th>\n",
       "      <th>Pclass</th>\n",
       "      <th>Age</th>\n",
       "      <th>SibSp</th>\n",
       "      <th>Parch</th>\n",
       "      <th>Fare</th>\n",
       "    </tr>\n",
       "  </thead>\n",
       "  <tbody>\n",
       "    <tr>\n",
       "      <th>Pclass</th>\n",
       "      <td>1.000000</td>\n",
       "      <td>-0.369226</td>\n",
       "      <td>0.083081</td>\n",
       "      <td>0.018443</td>\n",
       "      <td>-0.549500</td>\n",
       "    </tr>\n",
       "    <tr>\n",
       "      <th>Age</th>\n",
       "      <td>-0.369226</td>\n",
       "      <td>1.000000</td>\n",
       "      <td>-0.308247</td>\n",
       "      <td>-0.189119</td>\n",
       "      <td>0.096067</td>\n",
       "    </tr>\n",
       "    <tr>\n",
       "      <th>SibSp</th>\n",
       "      <td>0.083081</td>\n",
       "      <td>-0.308247</td>\n",
       "      <td>1.000000</td>\n",
       "      <td>0.414838</td>\n",
       "      <td>0.159651</td>\n",
       "    </tr>\n",
       "    <tr>\n",
       "      <th>Parch</th>\n",
       "      <td>0.018443</td>\n",
       "      <td>-0.189119</td>\n",
       "      <td>0.414838</td>\n",
       "      <td>1.000000</td>\n",
       "      <td>0.216225</td>\n",
       "    </tr>\n",
       "    <tr>\n",
       "      <th>Fare</th>\n",
       "      <td>-0.549500</td>\n",
       "      <td>0.096067</td>\n",
       "      <td>0.159651</td>\n",
       "      <td>0.216225</td>\n",
       "      <td>1.000000</td>\n",
       "    </tr>\n",
       "  </tbody>\n",
       "</table>\n",
       "</div>"
      ],
      "text/plain": [
       "          Pclass       Age     SibSp     Parch      Fare\n",
       "Pclass  1.000000 -0.369226  0.083081  0.018443 -0.549500\n",
       "Age    -0.369226  1.000000 -0.308247 -0.189119  0.096067\n",
       "SibSp   0.083081 -0.308247  1.000000  0.414838  0.159651\n",
       "Parch   0.018443 -0.189119  0.414838  1.000000  0.216225\n",
       "Fare   -0.549500  0.096067  0.159651  0.216225  1.000000"
      ]
     },
     "execution_count": 155,
     "metadata": {},
     "output_type": "execute_result"
    }
   ],
   "source": [
    "# train 데이터에서 Fare와 상관관계가 높은 컬럼 찾아보기\n",
    "train.corr(numeric_only = True)\n",
    "\n",
    "\n",
    "\n",
    "# train, test의 결측치를 채우는 기준이  되는 데이터 : train\n",
    "# why? Model이 학습하는 데이터는 train데이터 ( test데이터를 train데이터에 맞춰준다면 model의 정확도가 더 좋아질 확률이 높다)\n",
    "# Fare(test) : train데이터의 Fare 컬럼의 상관관계를 확인\n",
    "# 상관관계 : 얼마나 연관성이 있는 지 수치화를 시켜서 확인\n",
    "# 상관계수 : 수치화의 값\n",
    "# 상관계수 => -1 ~ 1 사이의 값을 가지고 있으며 -1 or 1에 가까울 수록 상관성이 높다, 관련성이 깊다 / 0에 가까우면 해당 컬럼과 관련성이 떨어진다"
   ]
  },
  {
   "cell_type": "code",
   "execution_count": 156,
   "id": "a6ee4a13-29ac-4256-9629-d231fd4ee741",
   "metadata": {},
   "outputs": [
    {
     "data": {
      "text/plain": [
       "Fare      1.000000\n",
       "Pclass    0.549500\n",
       "Parch     0.216225\n",
       "SibSp     0.159651\n",
       "Age       0.096067\n",
       "Name: Fare, dtype: float64"
      ]
     },
     "execution_count": 156,
     "metadata": {},
     "output_type": "execute_result"
    }
   ],
   "source": [
    "# 상관관계를 나타내는 표에서 Fare컬럼을 절대값으로 바꾸고 내림차순으로 확인해보자\n",
    "train.corr(numeric_only = True)['Fare'].abs().sort_values(ascending = False)\n",
    "\n",
    "# corr로 확인할 수 있는 것은 train, test 'Fare' 컬럼은 Pclass와 연관성이 상대적으로 높음\n",
    "# 상관계수가 자기자신 빼고 Pclass가 가장 높다"
   ]
  },
  {
   "cell_type": "code",
   "execution_count": 157,
   "id": "847a8660-f736-4023-833b-409b041690a3",
   "metadata": {},
   "outputs": [
    {
     "data": {
      "image/png": "[encoded data removed]",
      "text/plain": [
       "<Figure size 800x800 with 2 Axes>"
      ]
     },
     "metadata": {},
     "output_type": "display_data"
    }
   ],
   "source": [
    "# 그래프를 통해서도 상관관계를 확인할 수 있다\n",
    "# 히트맵 표현\n",
    "# 상관관계는 시각화를 시켜서 확인할 수 있다 - 히트맵 표현\n",
    "plt.figure(figsize = (8,8))\n",
    "sns.heatmap(train.corr(numeric_only = True).abs(), annot = False, cmap = 'Oranges')\n",
    "# abs() : 절대값 확인\n",
    "# annot : 어노테이션\n",
    "# cmap  : color map\n",
    "plt.show()"
   ]
  },
  {
   "cell_type": "code",
   "execution_count": 158,
   "id": "589f8fcd-118b-48c7-9d44-c3b6d2e4f505",
   "metadata": {},
   "outputs": [
    {
     "data": {
      "text/plain": [
       "array([3, 1, 2], dtype=int64)"
      ]
     },
     "execution_count": 158,
     "metadata": {},
     "output_type": "execute_result"
    }
   ],
   "source": [
    "# train Pclass 컬럼 인덱싱 후 확인\n",
    "train['Pclass'].unique()\n",
    "# train['Pclass'] : 인덱싱\n",
    "# 3 : 하위층 , 2 : 중위층 , 1 : 상위층"
   ]
  },
  {
   "cell_type": "code",
   "execution_count": 159,
   "id": "bb9cb4a6-439a-4ce0-8a7c-ef604541eb7e",
   "metadata": {},
   "outputs": [
    {
     "data": {
      "text/html": [
       "<div>\n",
       "<style scoped>\n",
       "    .dataframe tbody tr th:only-of-type {\n",
       "        vertical-align: middle;\n",
       "    }\n",
       "\n",
       "    .dataframe tbody tr th {\n",
       "        vertical-align: top;\n",
       "    }\n",
       "\n",
       "    .dataframe thead th {\n",
       "        text-align: right;\n",
       "    }\n",
       "</style>\n",
       "<table border=\"1\" class=\"dataframe\">\n",
       "  <thead>\n",
       "    <tr style=\"text-align: right;\">\n",
       "      <th></th>\n",
       "      <th>Fare</th>\n",
       "    </tr>\n",
       "    <tr>\n",
       "      <th>Pclass</th>\n",
       "      <th></th>\n",
       "    </tr>\n",
       "  </thead>\n",
       "  <tbody>\n",
       "    <tr>\n",
       "      <th>1</th>\n",
       "      <td>60.2875</td>\n",
       "    </tr>\n",
       "    <tr>\n",
       "      <th>2</th>\n",
       "      <td>14.2500</td>\n",
       "    </tr>\n",
       "    <tr>\n",
       "      <th>3</th>\n",
       "      <td>8.0500</td>\n",
       "    </tr>\n",
       "  </tbody>\n",
       "</table>\n",
       "</div>"
      ],
      "text/plain": [
       "           Fare\n",
       "Pclass         \n",
       "1       60.2875\n",
       "2       14.2500\n",
       "3        8.0500"
      ]
     },
     "execution_count": 159,
     "metadata": {},
     "output_type": "execute_result"
    }
   ],
   "source": [
    "# 승객 등급을 기준으로 그룹화 진행 , 요금 컬럼 집계함수 연결(median())\n",
    "\n",
    "# Pclass를 그룹핑하여 Fare(요금)의 중앙값을 살펴본 코드\n",
    "train[['Pclass','Fare']].groupby('Pclass').median()\n",
    "# 연관성을 보고 싶은 두 개의 컬럼 인덱싱. 그룹화 진행. 중앙값이 출력될 수 있도록 집계함수 연결"
   ]
  },
  {
   "cell_type": "markdown",
   "id": "18203287-e5b8-49f3-9b89-245493105601",
   "metadata": {},
   "source": [
    "#### 실습"
   ]
  },
  {
   "cell_type": "code",
   "execution_count": 160,
   "id": "415f93e5-8245-4b80-a8f0-599954a3f161",
   "metadata": {},
   "outputs": [
    {
     "data": {
      "text/html": [
       "<div>\n",
       "<style scoped>\n",
       "    .dataframe tbody tr th:only-of-type {\n",
       "        vertical-align: middle;\n",
       "    }\n",
       "\n",
       "    .dataframe tbody tr th {\n",
       "        vertical-align: top;\n",
       "    }\n",
       "\n",
       "    .dataframe thead th {\n",
       "        text-align: right;\n",
       "    }\n",
       "</style>\n",
       "<table border=\"1\" class=\"dataframe\">\n",
       "  <thead>\n",
       "    <tr style=\"text-align: right;\">\n",
       "      <th></th>\n",
       "      <th></th>\n",
       "      <th>Fare</th>\n",
       "    </tr>\n",
       "    <tr>\n",
       "      <th>Pclass</th>\n",
       "      <th>Sex</th>\n",
       "      <th></th>\n",
       "    </tr>\n",
       "  </thead>\n",
       "  <tbody>\n",
       "    <tr>\n",
       "      <th rowspan=\"2\" valign=\"top\">1</th>\n",
       "      <th>female</th>\n",
       "      <td>82.66455</td>\n",
       "    </tr>\n",
       "    <tr>\n",
       "      <th>male</th>\n",
       "      <td>41.26250</td>\n",
       "    </tr>\n",
       "    <tr>\n",
       "      <th rowspan=\"2\" valign=\"top\">2</th>\n",
       "      <th>female</th>\n",
       "      <td>22.00000</td>\n",
       "    </tr>\n",
       "    <tr>\n",
       "      <th>male</th>\n",
       "      <td>13.00000</td>\n",
       "    </tr>\n",
       "    <tr>\n",
       "      <th rowspan=\"2\" valign=\"top\">3</th>\n",
       "      <th>female</th>\n",
       "      <td>12.47500</td>\n",
       "    </tr>\n",
       "    <tr>\n",
       "      <th>male</th>\n",
       "      <td>7.92500</td>\n",
       "    </tr>\n",
       "  </tbody>\n",
       "</table>\n",
       "</div>"
      ],
      "text/plain": [
       "                   Fare\n",
       "Pclass Sex             \n",
       "1      female  82.66455\n",
       "       male    41.26250\n",
       "2      female  22.00000\n",
       "       male    13.00000\n",
       "3      female  12.47500\n",
       "       male     7.92500"
      ]
     },
     "execution_count": 160,
     "metadata": {},
     "output_type": "execute_result"
    }
   ],
   "source": [
    "# 실습) Pclass, Sex 그룹핑하여 Fare(요금)의 중앙값 확인해보기\n",
    "train[['Pclass','Sex','Fare']].groupby(['Pclass','Sex']).median()\n",
    "\n",
    "# 상관관계에서 Fare와 Pclass가 가장 관련성이 높다라는 걸 확인 (연관성)\n",
    "# => train에 있는 Fare, Pclass의 그룹핑을 진행해 본 결과\n",
    "# => Sex 추가 그룹핑\n",
    "# 결과값 : 등급, 성별에 따른 요금의 중앙값 확인(1등급의 female의 요금은 82.66455$)"
   ]
  },
  {
   "cell_type": "code",
   "execution_count": 161,
   "id": "5f41b10f-bbdd-48c4-a4b0-27cf2c7aba79",
   "metadata": {},
   "outputs": [
    {
     "name": "stdout",
     "output_type": "stream",
     "text": [
      "(1, 'female')\n",
      "             Pclass     Sex      Fare\n",
      "PassengerId                          \n",
      "2                 1  female   71.2833\n",
      "4                 1  female   53.1000\n",
      "12                1  female   26.5500\n",
      "32                1  female  146.5208\n",
      "53                1  female   76.7292\n",
      "...             ...     ...       ...\n",
      "857               1  female  164.8667\n",
      "863               1  female   25.9292\n",
      "872               1  female   52.5542\n",
      "880               1  female   83.1583\n",
      "888               1  female   30.0000\n",
      "\n",
      "[94 rows x 3 columns]\n",
      "\n",
      "(1, 'male')\n",
      "             Pclass   Sex      Fare\n",
      "PassengerId                        \n",
      "7                 1  male   51.8625\n",
      "24                1  male   35.5000\n",
      "28                1  male  263.0000\n",
      "31                1  male   27.7208\n",
      "35                1  male   82.1708\n",
      "...             ...   ...       ...\n",
      "840               1  male   29.7000\n",
      "858               1  male   26.5500\n",
      "868               1  male   50.4958\n",
      "873               1  male    5.0000\n",
      "890               1  male   30.0000\n",
      "\n",
      "[122 rows x 3 columns]\n",
      "\n",
      "(2, 'female')\n",
      "             Pclass     Sex     Fare\n",
      "PassengerId                         \n",
      "10                2  female  30.0708\n",
      "16                2  female  16.0000\n",
      "42                2  female  21.0000\n",
      "44                2  female  41.5792\n",
      "54                2  female  26.0000\n",
      "...             ...     ...      ...\n",
      "855               2  female  26.0000\n",
      "866               2  female  13.0000\n",
      "867               2  female  13.8583\n",
      "875               2  female  24.0000\n",
      "881               2  female  26.0000\n",
      "\n",
      "[76 rows x 3 columns]\n",
      "\n",
      "(2, 'male')\n",
      "             Pclass   Sex  Fare\n",
      "PassengerId                    \n",
      "18                2  male  13.0\n",
      "21                2  male  26.0\n",
      "22                2  male  13.0\n",
      "34                2  male  10.5\n",
      "71                2  male  10.5\n",
      "...             ...   ...   ...\n",
      "849               2  male  33.0\n",
      "862               2  male  11.5\n",
      "865               2  male  13.0\n",
      "884               2  male  10.5\n",
      "887               2  male  13.0\n",
      "\n",
      "[108 rows x 3 columns]\n",
      "\n",
      "(3, 'female')\n",
      "             Pclass     Sex     Fare\n",
      "PassengerId                         \n",
      "3                 3  female   7.9250\n",
      "9                 3  female  11.1333\n",
      "11                3  female  16.7000\n",
      "15                3  female   7.8542\n",
      "19                3  female  18.0000\n",
      "...             ...     ...      ...\n",
      "864               3  female  69.5500\n",
      "876               3  female   7.2250\n",
      "883               3  female  10.5167\n",
      "886               3  female  29.1250\n",
      "889               3  female  23.4500\n",
      "\n",
      "[144 rows x 3 columns]\n",
      "\n",
      "(3, 'male')\n",
      "             Pclass   Sex     Fare\n",
      "PassengerId                       \n",
      "1                 3  male   7.2500\n",
      "5                 3  male   8.0500\n",
      "6                 3  male   8.4583\n",
      "8                 3  male  21.0750\n",
      "13                3  male   8.0500\n",
      "...             ...   ...      ...\n",
      "878               3  male   7.8958\n",
      "879               3  male   7.8958\n",
      "882               3  male   7.8958\n",
      "885               3  male   7.0500\n",
      "891               3  male   7.7500\n",
      "\n",
      "[347 rows x 3 columns]\n",
      "\n"
     ]
    }
   ],
   "source": [
    "# 위의 실습을 그룹화 따로따로 진행한 것\n",
    "grouped = train[['Pclass', 'Sex', 'Fare']].groupby(['Pclass', 'Sex'])\n",
    "for name, group in grouped:\n",
    "    print(name)\n",
    "    print(group)\n",
    "    print()"
   ]
  },
  {
   "cell_type": "code",
   "execution_count": 162,
   "id": "667d31b7-5dc8-4cd3-82aa-373ce5aedb13",
   "metadata": {},
   "outputs": [
    {
     "data": {
      "text/html": [
       "<div>\n",
       "<style scoped>\n",
       "    .dataframe tbody tr th:only-of-type {\n",
       "        vertical-align: middle;\n",
       "    }\n",
       "\n",
       "    .dataframe tbody tr th {\n",
       "        vertical-align: top;\n",
       "    }\n",
       "\n",
       "    .dataframe thead th {\n",
       "        text-align: right;\n",
       "    }\n",
       "</style>\n",
       "<table border=\"1\" class=\"dataframe\">\n",
       "  <thead>\n",
       "    <tr style=\"text-align: right;\">\n",
       "      <th></th>\n",
       "      <th>Pclass</th>\n",
       "      <th>Name</th>\n",
       "      <th>Sex</th>\n",
       "      <th>Age</th>\n",
       "      <th>SibSp</th>\n",
       "      <th>Parch</th>\n",
       "      <th>Ticket</th>\n",
       "      <th>Fare</th>\n",
       "      <th>Cabin</th>\n",
       "      <th>Embarked</th>\n",
       "    </tr>\n",
       "    <tr>\n",
       "      <th>PassengerId</th>\n",
       "      <th></th>\n",
       "      <th></th>\n",
       "      <th></th>\n",
       "      <th></th>\n",
       "      <th></th>\n",
       "      <th></th>\n",
       "      <th></th>\n",
       "      <th></th>\n",
       "      <th></th>\n",
       "      <th></th>\n",
       "    </tr>\n",
       "  </thead>\n",
       "  <tbody>\n",
       "    <tr>\n",
       "      <th>1044</th>\n",
       "      <td>3</td>\n",
       "      <td>Storey, Mr. Thomas</td>\n",
       "      <td>male</td>\n",
       "      <td>60.5</td>\n",
       "      <td>0</td>\n",
       "      <td>0</td>\n",
       "      <td>3701</td>\n",
       "      <td>NaN</td>\n",
       "      <td>NaN</td>\n",
       "      <td>S</td>\n",
       "    </tr>\n",
       "  </tbody>\n",
       "</table>\n",
       "</div>"
      ],
      "text/plain": [
       "             Pclass                Name   Sex   Age  SibSp  Parch Ticket  \\\n",
       "PassengerId                                                                \n",
       "1044              3  Storey, Mr. Thomas  male  60.5      0      0   3701   \n",
       "\n",
       "             Fare Cabin Embarked  \n",
       "PassengerId                       \n",
       "1044          NaN   NaN        S  "
      ]
     },
     "execution_count": 162,
     "metadata": {},
     "output_type": "execute_result"
    }
   ],
   "source": [
    "# 결측치가 있는 행 출력해보기 : Fare\n",
    "test[test['Fare'].isnull()]"
   ]
  },
  {
   "cell_type": "code",
   "execution_count": 163,
   "id": "4c24b956-ae97-4754-8a82-8679c0ec8e17",
   "metadata": {},
   "outputs": [],
   "source": [
    "# fillna를 사용해서 결측치를 채워보자\n",
    "# 3등급, 남자 - 7.925\n",
    "test['Fare'] = test['Fare'].fillna(7.925)"
   ]
  },
  {
   "cell_type": "code",
   "execution_count": 164,
   "id": "b23d11ed-e659-44d2-853e-9f9f2090d472",
   "metadata": {},
   "outputs": [
    {
     "name": "stdout",
     "output_type": "stream",
     "text": [
      "<class 'pandas.core.frame.DataFrame'>\n",
      "Index: 418 entries, 892 to 1309\n",
      "Data columns (total 10 columns):\n",
      " #   Column    Non-Null Count  Dtype  \n",
      "---  ------    --------------  -----  \n",
      " 0   Pclass    418 non-null    int64  \n",
      " 1   Name      418 non-null    object \n",
      " 2   Sex       418 non-null    object \n",
      " 3   Age       332 non-null    float64\n",
      " 4   SibSp     418 non-null    int64  \n",
      " 5   Parch     418 non-null    int64  \n",
      " 6   Ticket    418 non-null    object \n",
      " 7   Fare      418 non-null    float64\n",
      " 8   Cabin     91 non-null     object \n",
      " 9   Embarked  418 non-null    object \n",
      "dtypes: float64(2), int64(3), object(5)\n",
      "memory usage: 35.9+ KB\n"
     ]
    }
   ],
   "source": [
    "# Fare 결측치 다 채워졌는 지 확인하기\n",
    "test.info()"
   ]
  },
  {
   "cell_type": "markdown",
   "id": "70346794-fca5-4dcc-9a55-bacfd5235484",
   "metadata": {},
   "source": [
    "- train, test Age 컬럼 채우기\n",
    "  - 위에서 사용했던 Pclass, Sex 컬럼들을 그룹핑하여 Age의 집계를 확인하고 채워보자"
   ]
  },
  {
   "cell_type": "code",
   "execution_count": 165,
   "id": "14d10b0a-687e-4ec0-99e2-7e60c4484544",
   "metadata": {},
   "outputs": [
    {
     "data": {
      "text/plain": [
       "count    714.000000\n",
       "mean      29.699118\n",
       "std       14.526497\n",
       "min        0.420000\n",
       "25%       20.125000\n",
       "50%       28.000000\n",
       "75%       38.000000\n",
       "max       80.000000\n",
       "Name: Age, dtype: float64"
      ]
     },
     "execution_count": 165,
     "metadata": {},
     "output_type": "execute_result"
    }
   ],
   "source": [
    "# 중앙값을 쓸 지, 평균값을 쓸 지 판단하기 위해 Age 컬럼의 기술 통계량 확인하기\n",
    "# 대표성이 있는 값은 뭘까?\n",
    "\n",
    "train['Age'].describe()\n",
    "# => 평균값과 중앙값 비슷함 => 평균값으로 사용\n",
    "# mean()을 활용하여 집계를 확인해보자\n",
    "\n",
    "# train, test에 Age 결측치 채우기\n",
    "# 가장 먼저, 중앙값을 채울지, 평균값을 채울지 고민\n",
    "# 1) Age컬럼의 기술통계량 확인 - 대표값으로 사용할 수 있는 값이 무엇인지 찾아내기 위해서\n",
    "# 기술통계량을 확인했을 때 결론 : 평균값과 중앙값이 많이 차이가 나지 않았음 => 이상치가 없는 것 같음 => 그래서 대표값을 *평균값*으로 사용하기로 결정"
   ]
  },
  {
   "cell_type": "code",
   "execution_count": 166,
   "id": "fa512436-70e7-410f-904e-736f2e604c7a",
   "metadata": {},
   "outputs": [
    {
     "data": {
      "text/html": [
       "<div>\n",
       "<style scoped>\n",
       "    .dataframe tbody tr th:only-of-type {\n",
       "        vertical-align: middle;\n",
       "    }\n",
       "\n",
       "    .dataframe tbody tr th {\n",
       "        vertical-align: top;\n",
       "    }\n",
       "\n",
       "    .dataframe thead th {\n",
       "        text-align: right;\n",
       "    }\n",
       "</style>\n",
       "<table border=\"1\" class=\"dataframe\">\n",
       "  <thead>\n",
       "    <tr style=\"text-align: right;\">\n",
       "      <th></th>\n",
       "      <th></th>\n",
       "      <th>Age</th>\n",
       "    </tr>\n",
       "    <tr>\n",
       "      <th>Pclass</th>\n",
       "      <th>Sex</th>\n",
       "      <th></th>\n",
       "    </tr>\n",
       "  </thead>\n",
       "  <tbody>\n",
       "    <tr>\n",
       "      <th rowspan=\"2\" valign=\"top\">1</th>\n",
       "      <th>female</th>\n",
       "      <td>34.611765</td>\n",
       "    </tr>\n",
       "    <tr>\n",
       "      <th>male</th>\n",
       "      <td>41.281386</td>\n",
       "    </tr>\n",
       "    <tr>\n",
       "      <th rowspan=\"2\" valign=\"top\">2</th>\n",
       "      <th>female</th>\n",
       "      <td>28.722973</td>\n",
       "    </tr>\n",
       "    <tr>\n",
       "      <th>male</th>\n",
       "      <td>30.740707</td>\n",
       "    </tr>\n",
       "    <tr>\n",
       "      <th rowspan=\"2\" valign=\"top\">3</th>\n",
       "      <th>female</th>\n",
       "      <td>21.750000</td>\n",
       "    </tr>\n",
       "    <tr>\n",
       "      <th>male</th>\n",
       "      <td>26.507589</td>\n",
       "    </tr>\n",
       "  </tbody>\n",
       "</table>\n",
       "</div>"
      ],
      "text/plain": [
       "                     Age\n",
       "Pclass Sex              \n",
       "1      female  34.611765\n",
       "       male    41.281386\n",
       "2      female  28.722973\n",
       "       male    30.740707\n",
       "3      female  21.750000\n",
       "       male    26.507589"
      ]
     },
     "execution_count": 166,
     "metadata": {},
     "output_type": "execute_result"
    }
   ],
   "source": [
    "# Pclass, Sex를 그룹핑하여 Age의 평균을 출력해보기 - train\n",
    "gb1 = train[['Pclass','Sex','Age']].groupby(['Pclass','Sex']).mean()\n",
    "gb1\n",
    "\n",
    "# 2) Age, Pclass, Sex를 그룹핑 - Pclass와 Sex에 따른 Age의 평균값\n",
    "# 결측치가 없는 컬럼(Pclass, Sex)을 잡아서 Age를 채워나가자"
   ]
  },
  {
   "cell_type": "code",
   "execution_count": 167,
   "id": "e703c58d-f63e-4f5d-bea1-de84f08cf16b",
   "metadata": {},
   "outputs": [
    {
     "data": {
      "text/plain": [
       "Age    30.740707\n",
       "Name: (2, male), dtype: float64"
      ]
     },
     "execution_count": 167,
     "metadata": {},
     "output_type": "execute_result"
    }
   ],
   "source": [
    "# gb1 - index 2개 => Pclass, sex\n",
    "# 멀티 인덱스(중복 인덱스)\n",
    "# pclass에서 꺼내온 2등급과 sex에서 꺼내온 male\n",
    "gb1.loc[(2,'male')]"
   ]
  },
  {
   "cell_type": "code",
   "execution_count": 168,
   "id": "bcf54aa0-3762-4765-9cea-a87cdea0256f",
   "metadata": {},
   "outputs": [
    {
     "data": {
      "text/plain": [
       "Age    21.75\n",
       "Name: (3, female), dtype: float64"
      ]
     },
     "execution_count": 168,
     "metadata": {},
     "output_type": "execute_result"
    }
   ],
   "source": [
    "# 실습) 3등급의 여성 나이 평균 접근해보기\n",
    "gb1.loc[(3,'female')]"
   ]
  },
  {
   "cell_type": "code",
   "execution_count": 169,
   "id": "8417935a-9ca9-4566-8104-c1b6397ed555",
   "metadata": {},
   "outputs": [
    {
     "data": {
      "text/html": [
       "<div>\n",
       "<style scoped>\n",
       "    .dataframe tbody tr th:only-of-type {\n",
       "        vertical-align: middle;\n",
       "    }\n",
       "\n",
       "    .dataframe tbody tr th {\n",
       "        vertical-align: top;\n",
       "    }\n",
       "\n",
       "    .dataframe thead th {\n",
       "        text-align: right;\n",
       "    }\n",
       "</style>\n",
       "<table border=\"1\" class=\"dataframe\">\n",
       "  <thead>\n",
       "    <tr style=\"text-align: right;\">\n",
       "      <th></th>\n",
       "      <th>Survived</th>\n",
       "      <th>Pclass</th>\n",
       "      <th>Name</th>\n",
       "      <th>Sex</th>\n",
       "      <th>Age</th>\n",
       "      <th>SibSp</th>\n",
       "      <th>Parch</th>\n",
       "      <th>Ticket</th>\n",
       "      <th>Fare</th>\n",
       "      <th>Cabin</th>\n",
       "      <th>Embarked</th>\n",
       "    </tr>\n",
       "    <tr>\n",
       "      <th>PassengerId</th>\n",
       "      <th></th>\n",
       "      <th></th>\n",
       "      <th></th>\n",
       "      <th></th>\n",
       "      <th></th>\n",
       "      <th></th>\n",
       "      <th></th>\n",
       "      <th></th>\n",
       "      <th></th>\n",
       "      <th></th>\n",
       "      <th></th>\n",
       "    </tr>\n",
       "  </thead>\n",
       "  <tbody>\n",
       "    <tr>\n",
       "      <th>6</th>\n",
       "      <td>0</td>\n",
       "      <td>3</td>\n",
       "      <td>Moran, Mr. James</td>\n",
       "      <td>male</td>\n",
       "      <td>NaN</td>\n",
       "      <td>0</td>\n",
       "      <td>0</td>\n",
       "      <td>330877</td>\n",
       "      <td>8.4583</td>\n",
       "      <td>NaN</td>\n",
       "      <td>Q</td>\n",
       "    </tr>\n",
       "    <tr>\n",
       "      <th>18</th>\n",
       "      <td>1</td>\n",
       "      <td>2</td>\n",
       "      <td>Williams, Mr. Charles Eugene</td>\n",
       "      <td>male</td>\n",
       "      <td>NaN</td>\n",
       "      <td>0</td>\n",
       "      <td>0</td>\n",
       "      <td>244373</td>\n",
       "      <td>13.0000</td>\n",
       "      <td>NaN</td>\n",
       "      <td>S</td>\n",
       "    </tr>\n",
       "    <tr>\n",
       "      <th>20</th>\n",
       "      <td>1</td>\n",
       "      <td>3</td>\n",
       "      <td>Masselmani, Mrs. Fatima</td>\n",
       "      <td>female</td>\n",
       "      <td>NaN</td>\n",
       "      <td>0</td>\n",
       "      <td>0</td>\n",
       "      <td>2649</td>\n",
       "      <td>7.2250</td>\n",
       "      <td>NaN</td>\n",
       "      <td>C</td>\n",
       "    </tr>\n",
       "    <tr>\n",
       "      <th>27</th>\n",
       "      <td>0</td>\n",
       "      <td>3</td>\n",
       "      <td>Emir, Mr. Farred Chehab</td>\n",
       "      <td>male</td>\n",
       "      <td>NaN</td>\n",
       "      <td>0</td>\n",
       "      <td>0</td>\n",
       "      <td>2631</td>\n",
       "      <td>7.2250</td>\n",
       "      <td>NaN</td>\n",
       "      <td>C</td>\n",
       "    </tr>\n",
       "    <tr>\n",
       "      <th>29</th>\n",
       "      <td>1</td>\n",
       "      <td>3</td>\n",
       "      <td>O'Dwyer, Miss. Ellen \"Nellie\"</td>\n",
       "      <td>female</td>\n",
       "      <td>NaN</td>\n",
       "      <td>0</td>\n",
       "      <td>0</td>\n",
       "      <td>330959</td>\n",
       "      <td>7.8792</td>\n",
       "      <td>NaN</td>\n",
       "      <td>Q</td>\n",
       "    </tr>\n",
       "    <tr>\n",
       "      <th>...</th>\n",
       "      <td>...</td>\n",
       "      <td>...</td>\n",
       "      <td>...</td>\n",
       "      <td>...</td>\n",
       "      <td>...</td>\n",
       "      <td>...</td>\n",
       "      <td>...</td>\n",
       "      <td>...</td>\n",
       "      <td>...</td>\n",
       "      <td>...</td>\n",
       "      <td>...</td>\n",
       "    </tr>\n",
       "    <tr>\n",
       "      <th>860</th>\n",
       "      <td>0</td>\n",
       "      <td>3</td>\n",
       "      <td>Razi, Mr. Raihed</td>\n",
       "      <td>male</td>\n",
       "      <td>NaN</td>\n",
       "      <td>0</td>\n",
       "      <td>0</td>\n",
       "      <td>2629</td>\n",
       "      <td>7.2292</td>\n",
       "      <td>NaN</td>\n",
       "      <td>C</td>\n",
       "    </tr>\n",
       "    <tr>\n",
       "      <th>864</th>\n",
       "      <td>0</td>\n",
       "      <td>3</td>\n",
       "      <td>Sage, Miss. Dorothy Edith \"Dolly\"</td>\n",
       "      <td>female</td>\n",
       "      <td>NaN</td>\n",
       "      <td>8</td>\n",
       "      <td>2</td>\n",
       "      <td>CA. 2343</td>\n",
       "      <td>69.5500</td>\n",
       "      <td>NaN</td>\n",
       "      <td>S</td>\n",
       "    </tr>\n",
       "    <tr>\n",
       "      <th>869</th>\n",
       "      <td>0</td>\n",
       "      <td>3</td>\n",
       "      <td>van Melkebeke, Mr. Philemon</td>\n",
       "      <td>male</td>\n",
       "      <td>NaN</td>\n",
       "      <td>0</td>\n",
       "      <td>0</td>\n",
       "      <td>345777</td>\n",
       "      <td>9.5000</td>\n",
       "      <td>NaN</td>\n",
       "      <td>S</td>\n",
       "    </tr>\n",
       "    <tr>\n",
       "      <th>879</th>\n",
       "      <td>0</td>\n",
       "      <td>3</td>\n",
       "      <td>Laleff, Mr. Kristo</td>\n",
       "      <td>male</td>\n",
       "      <td>NaN</td>\n",
       "      <td>0</td>\n",
       "      <td>0</td>\n",
       "      <td>349217</td>\n",
       "      <td>7.8958</td>\n",
       "      <td>NaN</td>\n",
       "      <td>S</td>\n",
       "    </tr>\n",
       "    <tr>\n",
       "      <th>889</th>\n",
       "      <td>0</td>\n",
       "      <td>3</td>\n",
       "      <td>Johnston, Miss. Catherine Helen \"Carrie\"</td>\n",
       "      <td>female</td>\n",
       "      <td>NaN</td>\n",
       "      <td>1</td>\n",
       "      <td>2</td>\n",
       "      <td>W./C. 6607</td>\n",
       "      <td>23.4500</td>\n",
       "      <td>NaN</td>\n",
       "      <td>S</td>\n",
       "    </tr>\n",
       "  </tbody>\n",
       "</table>\n",
       "<p>177 rows × 11 columns</p>\n",
       "</div>"
      ],
      "text/plain": [
       "            Survived  Pclass                                      Name  \\\n",
       "PassengerId                                                              \n",
       "6                  0       3                          Moran, Mr. James   \n",
       "18                 1       2              Williams, Mr. Charles Eugene   \n",
       "20                 1       3                   Masselmani, Mrs. Fatima   \n",
       "27                 0       3                   Emir, Mr. Farred Chehab   \n",
       "29                 1       3             O'Dwyer, Miss. Ellen \"Nellie\"   \n",
       "...              ...     ...                                       ...   \n",
       "860                0       3                          Razi, Mr. Raihed   \n",
       "864                0       3         Sage, Miss. Dorothy Edith \"Dolly\"   \n",
       "869                0       3               van Melkebeke, Mr. Philemon   \n",
       "879                0       3                        Laleff, Mr. Kristo   \n",
       "889                0       3  Johnston, Miss. Catherine Helen \"Carrie\"   \n",
       "\n",
       "                Sex  Age  SibSp  Parch      Ticket     Fare Cabin Embarked  \n",
       "PassengerId                                                                 \n",
       "6              male  NaN      0      0      330877   8.4583   NaN        Q  \n",
       "18             male  NaN      0      0      244373  13.0000   NaN        S  \n",
       "20           female  NaN      0      0        2649   7.2250   NaN        C  \n",
       "27             male  NaN      0      0        2631   7.2250   NaN        C  \n",
       "29           female  NaN      0      0      330959   7.8792   NaN        Q  \n",
       "...             ...  ...    ...    ...         ...      ...   ...      ...  \n",
       "860            male  NaN      0      0        2629   7.2292   NaN        C  \n",
       "864          female  NaN      8      2    CA. 2343  69.5500   NaN        S  \n",
       "869            male  NaN      0      0      345777   9.5000   NaN        S  \n",
       "879            male  NaN      0      0      349217   7.8958   NaN        S  \n",
       "889          female  NaN      1      2  W./C. 6607  23.4500   NaN        S  \n",
       "\n",
       "[177 rows x 11 columns]"
      ]
     },
     "execution_count": 169,
     "metadata": {},
     "output_type": "execute_result"
    }
   ],
   "source": [
    "# train 데이터에서 Age 결측치가 있는 행 정보 모두 출력\n",
    "train[train['Age'].isnull()]\n",
    "# => 177개의 결측치가 출력됨"
   ]
  },
  {
   "cell_type": "code",
   "execution_count": 170,
   "id": "dae95439-56a7-40f4-94d7-662b707379fe",
   "metadata": {},
   "outputs": [],
   "source": [
    "# 규칙에 맞게 Pclass와 Sex를 보면서 Age를 넣어보자\n",
    "def fill_age(row):   # 819개의 행 데이터를 하나 씩 불러옴\n",
    "    # print(row)\n",
    "    # print('*' * 15)\n",
    "    # row는 받아오는 행의 데이터에 대한 매개변수\n",
    "    # row에 Age가 결측치라면 gb1값을 인덱싱 해오도록 만들어주자\n",
    "    # 만약에 나이가 결측치라면 gb1값을 인덱싱\n",
    "    if np.isnan(row['Age']):\n",
    "        return gb1.loc[(row['Pclass'],row['Sex'])]    \n",
    "    # 결측치가 아니라면 원래 나이 값을 사용\n",
    "    else:\n",
    "        return row['Age']    \n",
    "# fill_age가 가져야할 기능"
   ]
  },
  {
   "attachments": {
    "52e370df-bafc-41c8-8037-7df715b3c45f.png": {
     "image/png": "[encoded data removed]"
    }
   },
   "cell_type": "markdown",
   "id": "eb54c758-0d55-4835-ba2c-038bbe68196b",
   "metadata": {},
   "source": [
    "#### 위의 설명\n",
    "![image.png](attachment:52e370df-bafc-41c8-8037-7df715b3c45f.png)"
   ]
  },
  {
   "cell_type": "code",
   "execution_count": 171,
   "id": "044c4852-832c-4413-adbd-bd238c6da7e5",
   "metadata": {},
   "outputs": [
    {
     "name": "stdout",
     "output_type": "stream",
     "text": [
      "<class 'pandas.core.series.Series'>\n",
      "Index: 891 entries, 1 to 891\n",
      "Series name: Age\n",
      "Non-Null Count  Dtype\n",
      "--------------  -----\n",
      "891 non-null    int64\n",
      "dtypes: int64(1)\n",
      "memory usage: 13.9 KB\n"
     ]
    },
    {
     "name": "stderr",
     "output_type": "stream",
     "text": [
      "C:\\Users\\ggg\\AppData\\Local\\Temp\\ipykernel_7344\\2511529401.py:1: FutureWarning: Calling int on a single element Series is deprecated and will raise a TypeError in the future. Use int(ser.iloc[0]) instead\n",
      "  train['Age'] = train.apply(fill_age, axis = 1).astype(np.int64)\n"
     ]
    }
   ],
   "source": [
    "train['Age'] = train.apply(fill_age, axis = 1).astype(np.int64)\n",
    "# astype('int64') int로 형변환 시켜주는 것\n",
    "# axis = 0 (행 방향, 열 단위 처리\n",
    "# axis = 1 (열 방향, 행 단위 처리) 인지에 따라서 처리되는 방향도 달라짐\n",
    "# 15개의 별까지 행단위로 print(row)를 하고있음\n",
    "train['Age'].info()\n",
    "\n",
    "# 2) Age, Pclass, Sex를 그룹핑 - Pclass와 Sex에 따른 Age의 평균값 (gb1에 담음)\n",
    "# 결측치가 없는 컬럼(Pclass, Sex)을 잡아서 Age를 채워나가자\n",
    "# train, test 데이터에 있는 age 결측치를 gb1에 있는 평균값으로 채워나감\n",
    "# 함수를 사용해서 train, test데이터에 age결측치가 있는 컬럼의 Pclass와 Sex을 확인한 다음 gb1에 있는 값으로 채워 나감(fill_age)\n",
    "# fill_age가 받아오는 결과값을 astype으로 형변환을 시켜줌 - 나이 데이터는 실수형으로 사용하는 것보다 정수형으로 사용하는 게 자연스럽기 때문에 int"
   ]
  },
  {
   "cell_type": "code",
   "execution_count": 172,
   "id": "7f7e10d8-973d-4511-8e47-f5f25e40a90a",
   "metadata": {},
   "outputs": [
    {
     "name": "stderr",
     "output_type": "stream",
     "text": [
      "C:\\Users\\ggg\\AppData\\Local\\Temp\\ipykernel_7344\\2138973538.py:4: FutureWarning: Calling int on a single element Series is deprecated and will raise a TypeError in the future. Use int(ser.iloc[0]) instead\n",
      "  test['Age'] = test.apply(fill_age, axis = 1).astype(np.int64)\n"
     ]
    }
   ],
   "source": [
    "# test 데이터의 Age 컬럼 결측치 채워보기\n",
    "# gb1을 디준으로 동일하게 적용시키기\n",
    "# fill_age함수 test데이터에 적용\n",
    "test['Age'] = test.apply(fill_age, axis = 1).astype(np.int64)\n",
    "# test['Age'].info()\n",
    "\n",
    "# apply, fill_age 관계 동작 확인\n",
    "# 테스트 데이터를 행 단위로 쪼갠 거를 매개변수로 보내줘서 안 쪽 로직이 동작하고 \n",
    "# 결과 값으로 Age를 채울 수 있는 대표값을 하나 보내주는데\n",
    "# 형변환을 해서 test 데이터의 'Age' 컬럼에 그대로 넣어준다!"
   ]
  },
  {
   "cell_type": "markdown",
   "id": "95678cad-7b56-49e1-86db-5836aacaf2f7",
   "metadata": {},
   "source": [
    "- train, test Cabin 채우기\n",
    "  - Cabin 컬럼 데이터 확인, 의미있는 데이터만 활용\n",
    "  - 임의의 값으로 결측치를 채워볼 예정"
   ]
  },
  {
   "cell_type": "code",
   "execution_count": 173,
   "id": "29b08250-281a-421f-baaf-0856b336fd67",
   "metadata": {},
   "outputs": [
    {
     "name": "stdout",
     "output_type": "stream",
     "text": [
      "<class 'pandas.core.series.Series'>\n",
      "Index: 891 entries, 1 to 891\n",
      "Series name: Cabin\n",
      "Non-Null Count  Dtype \n",
      "--------------  ----- \n",
      "204 non-null    object\n",
      "dtypes: object(1)\n",
      "memory usage: 13.9+ KB\n"
     ]
    }
   ],
   "source": [
    "# train 기준으로 데이터 확인\n",
    "train['Cabin'].unique()\n",
    "train['Cabin'].info()\n",
    "\n",
    "# A, B, C... 층으로 배에는 표기를 한다. 뒤에 있는 숫자까지 사용하면 범주가 너무 커질 것 같으니 옆에 있는 알파벳만 사용해 보는 건 어떨까?\n",
    "\n",
    "#train, test에 Cabin 결측치 채우기\n",
    "# 채워진 데이터보다 결측치가 훨씬 더 많아서 채워진 데이터를 기준으로 결측치를 채우는 게 이른상으로 신뢰성 있는 데이터가 만들어질 확률이 적음\n",
    "# 우선 임의의 값으로 \"M\" train, test의 Cabin 결측치를 채워주는 작업 진행\n",
    "# => M이 채워져있으면 결측치였구나"
   ]
  },
  {
   "cell_type": "code",
   "execution_count": 174,
   "id": "88e3f44f-d95d-46e5-abce-b11432dc4b8f",
   "metadata": {},
   "outputs": [],
   "source": [
    "# 우선 임의의 값으로 train, test Cavin 결측치를 채워보자\n",
    "# 'M' 이라고 임의의 값 넣기 - 구분할 수 있는 용도로 새로운 데이터 넣어주기\n",
    "train['Cabin'] = train['Cabin'].fillna('M')   # train['Cabin'] = 이렇게 재할당 해주기\n",
    "test['Cabin'] = test['Cabin'].fillna('M')"
   ]
  },
  {
   "cell_type": "code",
   "execution_count": 175,
   "id": "90c5d1fe-895b-4ae4-be53-dc4a6202a0ab",
   "metadata": {},
   "outputs": [
    {
     "name": "stdout",
     "output_type": "stream",
     "text": [
      "<class 'pandas.core.series.Series'>\n",
      "Index: 891 entries, 1 to 891\n",
      "Series name: Cabin\n",
      "Non-Null Count  Dtype \n",
      "--------------  ----- \n",
      "891 non-null    object\n",
      "dtypes: object(1)\n",
      "memory usage: 13.9+ KB\n"
     ]
    }
   ],
   "source": [
    "train['Cabin'].info()"
   ]
  },
  {
   "cell_type": "code",
   "execution_count": 176,
   "id": "98103216-b121-4ce6-bfbd-20d6acba1cb4",
   "metadata": {},
   "outputs": [
    {
     "data": {
      "text/plain": [
       "(Index(['Survived', 'Pclass', 'Name', 'Sex', 'Age', 'SibSp', 'Parch', 'Ticket',\n",
       "        'Fare', 'Cabin', 'Embarked', 'Deck'],\n",
       "       dtype='object'),\n",
       " Index(['Pclass', 'Name', 'Sex', 'Age', 'SibSp', 'Parch', 'Ticket', 'Fare',\n",
       "        'Cabin', 'Embarked', 'Deck'],\n",
       "       dtype='object'))"
      ]
     },
     "execution_count": 176,
     "metadata": {},
     "output_type": "execute_result"
    }
   ],
   "source": [
    "# Cabin 값의 첫 글자 알파벳 1개만 추출하기\n",
    "# 문자열에 접근하려면 인덱싱, 슬라이싱 해주기\n",
    "train['Deck'] = train['Cabin'].str[0]\n",
    "# str : 데이터 내부 문자열에 접근하는 키워드\n",
    "# 혹시 나중에 숫자가 달려있는 데이터가 필요할 수도 있으니, Deck라는 새로운 컬럼을 만들어서 알파벳 1개를 담아주자\n",
    "test['Deck'] = test['Cabin'].str[0]\n",
    "\n",
    "# column을 확인해보자\n",
    "train.columns, test.columns\n",
    "\n",
    "# 처음에 Cabin의 유니크한 값을 살펴본 결과 => 범주가 너무 많았음, 문자열 인덱싱인 A, B, C로 Cabin을 구분해보자\n",
    "# 문자열을 인덱싱 해서 새로운 컬럼 Deck를 만들어 냄 (transform 진행)"
   ]
  },
  {
   "cell_type": "code",
   "execution_count": 177,
   "id": "adfb8f21-b92c-4711-bb79-31809bad8e94",
   "metadata": {},
   "outputs": [],
   "source": [
    "# Cabin 컬럼 삭제하기 (train데이터, test데이터) - drop\n",
    "# train데이터와 trest데이터에서 Cabin컬럼 삭제하기\n",
    "# 데이터.drop(컬럼명, axis = (0 or 1), inplace = True)\n",
    "# axis = 0 이면, 행 삭제\n",
    "# axis = 1 이면, 열 삭제\n",
    "# 여러 개의 데이터를 삭제하고 싶으면 데이터.drop([열이름, 열이름...], axis = 1)\n",
    "\n",
    "# inplace 속성 : 삭제를 데이터에 반영하는 속성"
   ]
  },
  {
   "cell_type": "code",
   "execution_count": 178,
   "id": "29b90396-3c5b-476d-ad0c-7bdbf202869b",
   "metadata": {},
   "outputs": [],
   "source": [
    "train.drop('Cabin', axis = 1, inplace = True)"
   ]
  },
  {
   "cell_type": "code",
   "execution_count": 179,
   "id": "c5a3f16c-9dfe-428d-9a7f-233704c81936",
   "metadata": {},
   "outputs": [],
   "source": [
    "test.drop('Cabin', axis = 1, inplace = True)"
   ]
  },
  {
   "cell_type": "code",
   "execution_count": 180,
   "id": "1a136b2c-8a62-472f-b506-dfac89f2beaa",
   "metadata": {},
   "outputs": [
    {
     "data": {
      "text/plain": [
       "(Index(['Survived', 'Pclass', 'Name', 'Sex', 'Age', 'SibSp', 'Parch', 'Ticket',\n",
       "        'Fare', 'Embarked', 'Deck'],\n",
       "       dtype='object'),\n",
       " Index(['Pclass', 'Name', 'Sex', 'Age', 'SibSp', 'Parch', 'Ticket', 'Fare',\n",
       "        'Embarked', 'Deck'],\n",
       "       dtype='object'))"
      ]
     },
     "execution_count": 180,
     "metadata": {},
     "output_type": "execute_result"
    }
   ],
   "source": [
    "train.columns , test.columns"
   ]
  },
  {
   "cell_type": "code",
   "execution_count": 181,
   "id": "310a001b-5346-4045-9ac3-e0ff6e0f5010",
   "metadata": {},
   "outputs": [
    {
     "name": "stdout",
     "output_type": "stream",
     "text": [
      "<class 'pandas.core.frame.DataFrame'>\n",
      "Index: 891 entries, 1 to 891\n",
      "Data columns (total 11 columns):\n",
      " #   Column    Non-Null Count  Dtype  \n",
      "---  ------    --------------  -----  \n",
      " 0   Survived  891 non-null    object \n",
      " 1   Pclass    891 non-null    int64  \n",
      " 2   Name      891 non-null    object \n",
      " 3   Sex       891 non-null    object \n",
      " 4   Age       891 non-null    int64  \n",
      " 5   SibSp     891 non-null    int64  \n",
      " 6   Parch     891 non-null    int64  \n",
      " 7   Ticket    891 non-null    object \n",
      " 8   Fare      891 non-null    float64\n",
      " 9   Embarked  891 non-null    object \n",
      " 10  Deck      891 non-null    object \n",
      "dtypes: float64(1), int64(4), object(6)\n",
      "memory usage: 83.5+ KB\n",
      "<class 'pandas.core.frame.DataFrame'>\n",
      "Index: 418 entries, 892 to 1309\n",
      "Data columns (total 10 columns):\n",
      " #   Column    Non-Null Count  Dtype  \n",
      "---  ------    --------------  -----  \n",
      " 0   Pclass    418 non-null    int64  \n",
      " 1   Name      418 non-null    object \n",
      " 2   Sex       418 non-null    object \n",
      " 3   Age       418 non-null    int64  \n",
      " 4   SibSp     418 non-null    int64  \n",
      " 5   Parch     418 non-null    int64  \n",
      " 6   Ticket    418 non-null    object \n",
      " 7   Fare      418 non-null    float64\n",
      " 8   Embarked  418 non-null    object \n",
      " 9   Deck      418 non-null    object \n",
      "dtypes: float64(1), int64(4), object(5)\n",
      "memory usage: 35.9+ KB\n"
     ]
    }
   ],
   "source": [
    "# info() - 확인하기\n",
    "train.info()\n",
    "test.info()"
   ]
  },
  {
   "cell_type": "markdown",
   "id": "395d43b6-07f4-46b2-8f99-a8b03d28c9d9",
   "metadata": {},
   "source": [
    "## Deck 시각화"
   ]
  },
  {
   "cell_type": "code",
   "execution_count": 182,
   "id": "4d62be39-3f3f-49e9-ab46-604b305e2f8a",
   "metadata": {},
   "outputs": [
    {
     "data": {
      "image/png": "[encoded data removed]",
      "text/plain": [
       "<Figure size 640x480 with 1 Axes>"
      ]
     },
     "metadata": {},
     "output_type": "display_data"
    }
   ],
   "source": [
    "# 결측치를 다 채워줬으면\n",
    "# sns 시각화 도구를 사용하여 범주형 데이터 Deck를 시각화 해보자\n",
    "sns.countplot(data = train, x = 'Deck', hue = 'Survived')\n",
    "plt.show()\n",
    "\n",
    "# M 데크에는 사람 수도 많고 사망률도 높다"
   ]
  },
  {
   "cell_type": "code",
   "execution_count": 183,
   "id": "15a82007-35e2-4a05-9081-be45fd1e4106",
   "metadata": {},
   "outputs": [],
   "source": [
    "# M층에서는 상대적으로 사망율이 높음\n",
    "# 근데 M은 임의로 채워놓은 값이기에 다시 다른 컬럼을 살폐보면서 값을 다시 생각해보자"
   ]
  },
  {
   "cell_type": "markdown",
   "id": "5435ed03-725c-4c4c-8af8-8a8a76674c1c",
   "metadata": {},
   "source": [
    "- Pclass에 따른 생존/사망 시각화\n"
   ]
  },
  {
   "cell_type": "code",
   "execution_count": 184,
   "id": "5a552884-afab-4a0c-af97-39564aeb2781",
   "metadata": {},
   "outputs": [
    {
     "data": {
      "image/png": "[encoded data removed]",
      "text/plain": [
       "<Figure size 640x480 with 1 Axes>"
      ]
     },
     "metadata": {},
     "output_type": "display_data"
    }
   ],
   "source": [
    "# Pclass와 M데크를 연관짓기 이전에\n",
    "# Pclass가 사망에 얼마나 많은 영향을 받았는 지 위에 데이터처럼 시각화를 진행해보자\n",
    "sns.countplot(data = train, x = 'Pclass', hue = 'Survived')\n",
    "plt.show()\n",
    "# 3등급에 있는 사람들이 사망율 높음"
   ]
  },
  {
   "cell_type": "code",
   "execution_count": 185,
   "id": "70c25ba0-9ea7-4fc1-8ec6-53f661fbd4ea",
   "metadata": {},
   "outputs": [],
   "source": [
    "# 1번 Pclass : 생존율이 상대적으로 높음\n",
    "# 2 : 사망율이 조금 높지만 생존률과 거의 비슷\n",
    "# 3 : 사망율이 월등히 높음"
   ]
  },
  {
   "cell_type": "markdown",
   "id": "53e4fffc-07d8-4761-b8e0-e5bad621cf18",
   "metadata": {},
   "source": [
    "- Deck와 Pclass 시각화 연결\n",
    "- x 축 : Deck, hue : Pclass 연결"
   ]
  },
  {
   "cell_type": "code",
   "execution_count": 186,
   "id": "126ad907-eabc-408c-b5f3-7e45027078f8",
   "metadata": {},
   "outputs": [],
   "source": [
    "train['Pclass'] = train['Pclass'].astype('str')"
   ]
  },
  {
   "cell_type": "code",
   "execution_count": 187,
   "id": "7d1756c6-ea46-4e60-91fc-b5a1d27ecae8",
   "metadata": {},
   "outputs": [
    {
     "data": {
      "image/png": "[encoded data removed]",
      "text/plain": [
       "<Figure size 640x480 with 1 Axes>"
      ]
     },
     "metadata": {},
     "output_type": "display_data"
    }
   ],
   "source": [
    "# Deck 와 Pclass 연결\n",
    "sns.countplot(data = train, x = 'Deck', hue = 'Pclass')\n",
    "plt.legend()\n",
    "plt.show()\n",
    "# 파랑: 1 Pclass , 주황 2 Pclass , 초록 3 Pclass\n",
    "\n",
    "# 3등급의 사람들 가장 많아서 사망율 가장 높음"
   ]
  },
  {
   "cell_type": "code",
   "execution_count": 188,
   "id": "ba9d88f5-011a-469b-b13b-dabfc302db22",
   "metadata": {},
   "outputs": [],
   "source": [
    "# M층에는 3등급의 사람이 많았기때문에 상대적으로 사망률이 높았음을 파악\n",
    "# M이라는 데이터는 더이상 신경쓰지 않아도 됨 => 3등급이 많아서 사망률이 높았음을 시각화를 통해서 파악\n",
    "# => M이라는 데이터는 전처리 하지 않음"
   ]
  },
  {
   "cell_type": "markdown",
   "id": "59251146-ab47-460f-b167-a70e7b2c15b2",
   "metadata": {},
   "source": [
    "- Sex, Embarked(범주형 데이터)에 따른 생존/사망 시각화 해보기"
   ]
  },
  {
   "cell_type": "code",
   "execution_count": 189,
   "id": "6a6e82ac-b9a6-4dc7-8d34-6da472f8d0f4",
   "metadata": {},
   "outputs": [
    {
     "data": {
      "image/png": "[encoded data removed]",
      "text/plain": [
       "<Figure size 640x480 with 1 Axes>"
      ]
     },
     "metadata": {},
     "output_type": "display_data"
    }
   ],
   "source": [
    "sns.countplot(data = train, x = 'Sex', hue = 'Survived')\n",
    "plt.show()"
   ]
  },
  {
   "cell_type": "code",
   "execution_count": 190,
   "id": "8092789e-c35a-4817-a162-c6bb6d5f3835",
   "metadata": {},
   "outputs": [],
   "source": [
    "# 남성 사망율이 높고, 여성 생존율이 상대적으로 높음!"
   ]
  },
  {
   "cell_type": "code",
   "execution_count": 191,
   "id": "10638e64-d459-4dbe-8d65-a23b098a644c",
   "metadata": {},
   "outputs": [
    {
     "data": {
      "image/png": "[encoded data removed]",
      "text/plain": [
       "<Figure size 640x480 with 1 Axes>"
      ]
     },
     "metadata": {},
     "output_type": "display_data"
    }
   ],
   "source": [
    "sns.countplot(data = train, x = 'Embarked', hue = 'Survived')\n",
    "plt.show()\n",
    "\n",
    "# => S(영국에서 탑승한 사람들이)에서 사망율이 가장 높았음"
   ]
  },
  {
   "cell_type": "code",
   "execution_count": 192,
   "id": "5e6632e5-4d9f-45bf-8775-5338411c60b3",
   "metadata": {},
   "outputs": [
    {
     "data": {
      "image/png": "[encoded data removed]",
      "text/plain": [
       "<Figure size 640x480 with 1 Axes>"
      ]
     },
     "metadata": {},
     "output_type": "display_data"
    }
   ],
   "source": [
    "# Embared와 Pclass 시각화 시키기\n",
    "# S 승선항에서 Pclass가 3인 사람이 많이 탄 건 아닌가?\n",
    "sns.countplot(data = train, x ='Embarked', hue = 'Pclass')\n",
    "plt.show()\n",
    "\n",
    "# S에서 3등급인 탑승한 사람들이 굉장히 많아서 사망율이 높음"
   ]
  },
  {
   "cell_type": "code",
   "execution_count": 193,
   "id": "1f7c0f47-b65f-4589-b5ed-5deb4ca4dd11",
   "metadata": {},
   "outputs": [
    {
     "data": {
      "image/png": "[encoded data removed]",
      "text/plain": [
       "<Figure size 640x480 with 1 Axes>"
      ]
     },
     "metadata": {},
     "output_type": "display_data"
    }
   ],
   "source": [
    "sns.countplot(data = train, x = 'Age', hue = 'Survived')\n",
    "plt.show()"
   ]
  },
  {
   "cell_type": "code",
   "execution_count": 194,
   "id": "cf3a35e9-c850-45c7-acfd-a3a89758b1d2",
   "metadata": {},
   "outputs": [],
   "source": [
    "# 나이데이터를 countplot으로 시각화 했더니, 해석하기가 힘듦\n",
    "# violinplot을 활용해보자 : 수치형 데이터의 분포를 확인할 때 사용하는 그래프"
   ]
  },
  {
   "cell_type": "code",
   "execution_count": 195,
   "id": "1bae2e86-24f1-4d06-b4bd-82e3b329ff52",
   "metadata": {},
   "outputs": [
    {
     "data": {
      "image/png": "[encoded data removed]",
      "text/plain": [
       "<Figure size 640x480 with 1 Axes>"
      ]
     },
     "metadata": {},
     "output_type": "display_data"
    }
   ],
   "source": [
    "# violinplot : 바이올린 형태로 데이터의 분포와 밀도를 보기 좋게 곡선으로 표현한 그래프\n",
    "# 데이터가 많이 존재하는 부분은 두껍게\n",
    "# 데이터가 적게 존재하는 부분은 얇게 표현되어 있음\n",
    "\n",
    "# 성별과 나이에 따른 생존/사망자 수를 확인해보자\n",
    "sns.violinplot(\n",
    "    data = train, \n",
    "    x = 'Sex',\n",
    "    y = 'Age',\n",
    "    hue = 'Survived',\n",
    "    split = True,\n",
    "    inner = 'stick'\n",
    ")\n",
    "plt.ylim(0, 80)\n",
    "plt.show()\n",
    "\n",
    "# inner = 'stick'\n",
    "# 실제 있는 데이터가 아니라 그냥 바이올린 형태로 만들어놓은 것\n",
    "# => 가로 선이 있는 것이 실제 데이터가 있는 것\n",
    "\n",
    "# plt.ylim(y축, 80) : 줌인해서 가까이 보여줌\n",
    "\n",
    "# => 남성의 사망율이 높고 여성의 생존율이 높다 , 남자 아이의 생존율이 높고, 여자 아이의 생존율이 낮다"
   ]
  },
  {
   "cell_type": "code",
   "execution_count": 196,
   "id": "b6087090-da80-4fba-9f50-19c8445642fe",
   "metadata": {},
   "outputs": [
    {
     "data": {
      "image/png": "[encoded data removed]",
      "text/plain": [
       "<Figure size 640x480 with 1 Axes>"
      ]
     },
     "metadata": {},
     "output_type": "display_data"
    }
   ],
   "source": [
    "# Sex와 Fare에 따른 Survived를 시각화 해보자\n",
    "sns.violinplot(\n",
    "    data = train,\n",
    "    x = 'Sex',\n",
    "    y = 'Fare',\n",
    "    hue = 'Survived',\n",
    "    inner = 'stick',\n",
    "    split = True\n",
    ")\n",
    "plt.ylim(0,300)\n",
    "plt.show()\n",
    "\n",
    "# 아래로 내려갈 수록 요금을 적게 낸 사람들(하위층) - 높은 사망율\n",
    "# 요금을 많이 낸 사람들 - 적은 사망율\n",
    "# => 요금이 저렴한 사람은 사망율이 높다, 요금이 높은 사람은 생존율이 높다"
   ]
  },
  {
   "cell_type": "markdown",
   "id": "1f029f05-2919-4b25-a652-25966f719a15",
   "metadata": {},
   "source": [
    "- 특성공학 : 새로운 컬럼 생성 (transform 작업)\n",
    "  - Parch, SibSp를 더해서 가족의 숫자라는 새로운 컬럼으로 생성하기\n",
    "  - train, test 동일하게 적용해줘야 함"
   ]
  },
  {
   "cell_type": "code",
   "execution_count": 197,
   "id": "dc114d22-3e42-4394-95bb-fab444c21b34",
   "metadata": {},
   "outputs": [
    {
     "data": {
      "text/plain": [
       "PassengerId\n",
       "1      2\n",
       "2      2\n",
       "3      1\n",
       "4      2\n",
       "5      1\n",
       "      ..\n",
       "887    1\n",
       "888    1\n",
       "889    4\n",
       "890    1\n",
       "891    1\n",
       "Name: Family_Size, Length: 891, dtype: int64"
      ]
     },
     "execution_count": 197,
     "metadata": {},
     "output_type": "execute_result"
    }
   ],
   "source": [
    "train['Family_Size'] = train['Parch'] + train['SibSp'] + 1   # +1 : 본인을 포함하기 위해서\n",
    "train['Family_Size']"
   ]
  },
  {
   "cell_type": "code",
   "execution_count": 198,
   "id": "0e387057-ddd4-47c4-9e90-fc75bde01244",
   "metadata": {},
   "outputs": [
    {
     "data": {
      "text/plain": [
       "PassengerId\n",
       "892     1\n",
       "893     2\n",
       "894     1\n",
       "895     1\n",
       "896     3\n",
       "       ..\n",
       "1305    1\n",
       "1306    1\n",
       "1307    1\n",
       "1308    1\n",
       "1309    3\n",
       "Name: Family_Size, Length: 418, dtype: int64"
      ]
     },
     "execution_count": 198,
     "metadata": {},
     "output_type": "execute_result"
    }
   ],
   "source": [
    "test['Family_Size'] = test['Parch'] + test['SibSp'] + 1   # +1 : 본인을 포함하기 위해서\n",
    "test['Family_Size']"
   ]
  },
  {
   "cell_type": "code",
   "execution_count": 199,
   "id": "0d2d4594-eb6f-4978-9898-d909a5a3d856",
   "metadata": {},
   "outputs": [
    {
     "data": {
      "image/png": "[encoded data removed]",
      "text/plain": [
       "<Figure size 640x480 with 1 Axes>"
      ]
     },
     "metadata": {},
     "output_type": "display_data"
    }
   ],
   "source": [
    "# 시각화\n",
    "sns.countplot(data = train, x = 'Family_Size', hue = 'Survived')\n",
    "plt.show()\n",
    "# => 가족 단위의 수를 통한 사망율을 보여줌 => 2, 3, 4인 가족은 생존률이 더 높음\n",
    "# => 혼자 온 사람의 경우 - 사망율 높음 , 5명 이상부터도 사망율 높음\n",
    "\n",
    "# 1명 일 때는 사망율이 높음 - small (family)\n",
    "# 2명 ~ 4명 일 때는 생존율이 높음 - normal\n",
    "# 5명 이상은 사망율이 높음 - large\n",
    "# => 범주를 줄여보자"
   ]
  },
  {
   "cell_type": "markdown",
   "id": "4d56cbd8-407f-44ab-8d92-1a71bda984bc",
   "metadata": {},
   "source": [
    "#### 복습 ( 24.7.4 )\n",
    "- train, test의 결측치를 채우는 기준이  되는 데이터 : train\n",
    "- why? Model이 학습하는 데이터는 train데이터 (test데이터를 train데이터에 맞춰준다면 model의 정확도가 더 좋아질 확률이 높다)\n",
    "-----\n",
    "- Fare(test) : train데이터의 Fare 컬럼의 상관관계를 확인\n",
    "- 상관관계 : 얼마나 연관성이 있는 지 수치화를 시켜서 확인\n",
    "- 상관계수 : 수치화의 값\n",
    "- 상관계수 => -1 ~ 1 사이의 값을 가지고 있으며 -1 or 1에 가까울 수록 상관성이 높다, 관련성이 깊다 / 0에 가까우면 해당 컬럼과 관련성이 떨어진다\n",
    "- 상관관계는 시각화를 시켜서 확인할 수 있다 - 히트맵 표현\n",
    "-----\n",
    "-  상관관계에서 Fare와 Pclass가 가장 관련성이 높다라는 걸 확인 (연관성)\n",
    "- => train에 있는 Fare, Pclass의 그룹핑을 진행해 본 결과\n",
    "- => Sex 추가 그룹핑\n",
    "- 결과값 : 등급, 성별에 따른 요금의 중앙값 확인(1등급의 female의 요금은 82.66455$)\n",
    "-----\n",
    "-  train, test에 Age 결측치 채우기\n",
    "- 가장 먼저, 중앙값을 채울지, 평균값을 채울지 고민\n",
    "- 1) Age컬럼의 기술통계량 확인 - 대표값으로 사용할 수 있는 값이 무엇인지 찾아내기 위해서\n",
    "- 기술통계량을 확인했을 때 결론 : 평균값과 중앙값이 많이 차이가 나지 않았음 => 이상치가 없는 것 같음 => 그래서 대표값을 *평균값*으로 사용하기로 결정\n",
    "- 2) Age, Pclass, Sex를 그룹핑 - Pclass와 Sex에 따른 Age의 평균값 (gb1에 담음)\n",
    "- 결측치가 없는 컬럼(Pclass, Sex)을 잡아서 Age를 채워나가자\n",
    "- train, test 데이터에 있는 age 결측치를 gb1에 있는 평균값으로 채워나감\n",
    "- 함수를 사용해서 train, test데이터에 age결측치가 있는 컬럼의 Pclass와 Sex을 확인한 다음 gb1에 있는 값으로 채워 나감(fill_age)\n",
    "- fill_age가 받아오는 결과값을 astype으로 형변환을 시켜줌 - 나이 데이터는 실수형으로 사용하는 것보다 정수형으로 사용하는 게 자연스럽기 때문에 int\n",
    "-----\n",
    "- train, test에 Cabin 결측치 채우기\n",
    "- 채워진 데이터보다 결측치가 훨씬 더 많아서 채워진 데이터를 기준으로 결측치를 채우는 게 이른상으로 신뢰성 있는 데이터가 만들어질 확률이 적음\n",
    "- 우선 임의의 값으로 \"M\" train, test의 Cabin 결측치를 채워주는 작업 진행\n",
    "- => M이 채워져있으면 결측치였구나~~\n",
    "-----\n",
    "- 처음에 Cabin의 유니크한 값을 살펴본 결과 => 범주가 너무 많았음, 문자열 인덱싱인 A, B, C로 Cabin을 구분해보자\n",
    "- 문자열을 인덱싱 해서 새로운 컬럼 Deck를 만들어 냄 (transform 진행)"
   ]
  },
  {
   "cell_type": "code",
   "execution_count": 200,
   "id": "6015012b-e43a-466b-aaed-2fee372b64b9",
   "metadata": {},
   "outputs": [],
   "source": [
    "# 가족 사이즈가 1명 일 때는 사망율이 높음 - alone\n",
    "# 2명 ~ 4명 일 때는 생존율이 높음 - small\n",
    "# 5명 이상은 사망율이 높음 - large\n",
    "# => 범주를 줄여보자\n",
    "# 수치형 데이터를 범주형 데이터로 만들어서 개수를 줄여보자\n",
    "# binning : 수치형 데이터를 범주형 데이터로 만드는 것\n",
    "# 인코딩 : 범주형 -> 수치형\n",
    "# binning 작업을 통해서 사소한 관찰의 오류를 줄여주자"
   ]
  },
  {
   "cell_type": "markdown",
   "id": "786981d2-2826-43c8-9f60-09066b3a9f68",
   "metadata": {},
   "source": [
    "- 가족의 사이즈가 1 이면 Alone, 2 ~ 4명이면 Small, 5명 이상이면 Large로 바꿔주자\n",
    "- train, test 둘 다 변경"
   ]
  },
  {
   "cell_type": "code",
   "execution_count": 201,
   "id": "ae028449-72c6-4433-97b6-5c3c87956efe",
   "metadata": {},
   "outputs": [],
   "source": [
    "bins = [0, 1, 4, 11]   # 숫자 범위 설정\n",
    "# (0, 1]  : 소괄호인 0은 포함하지 않고, 대괄호인 1은 1 포함한다 => 1 ~ 1 이라는 뜻\n",
    "# (1, 4] : 숫자 범위 => 2 ~ 4\n",
    "#(4, 11] : 5 ~ 11\n",
    "labels = ['Alone', 'Small', 'Large']\n",
    "\n",
    "# size는 수치형 데이터를 포함하고 있는 것 같으니 group 이라는 새로운 컬럼을 생성해보자\n",
    "train['Family_group'] = pd.cut(train['Family_Size'], bins = bins, labels = labels)   # family_size가 바이닝 되고 있고 이 바이닝 된 family_size가 Family_froup에 들어감\n",
    "test['Family_group'] = pd.cut(test['Family_Size'], bins = bins, labels = labels)\n",
    "\n",
    "# fammily_size 시각화 그래프\n",
    "# 1명 : 사망률 높다 => Alone\n",
    "# 2명 ~ 4명 : 생존률 높다 => Small\n",
    "# 5명 이상 : 사망률 높다 => Large\n",
    "# => 같은 특성의 데이터 또는 같은 패턴을 가진 데이터들끼리 다시 한 번 더 묶어주는 작업\n",
    "\n",
    "# 수치형 데이터를 범주형 데이터로 : Binning\n",
    "\n",
    "# Binning해서 Family Group이라는 새로운 컬럼을 생성해서 데이터를 저장 - train, test"
   ]
  },
  {
   "cell_type": "code",
   "execution_count": 202,
   "id": "21a90f4e-0e62-47cb-8df2-12c0e76392f5",
   "metadata": {},
   "outputs": [
    {
     "name": "stderr",
     "output_type": "stream",
     "text": [
      "C:\\Users\\ggg\\anaconda3\\Lib\\site-packages\\seaborn\\categorical.py:641: FutureWarning: The default of observed=False is deprecated and will be changed to True in a future version of pandas. Pass observed=False to retain current behavior or observed=True to adopt the future default and silence this warning.\n",
      "  grouped_vals = vals.groupby(grouper)\n",
      "C:\\Users\\ggg\\anaconda3\\Lib\\site-packages\\seaborn\\categorical.py:641: FutureWarning: The default of observed=False is deprecated and will be changed to True in a future version of pandas. Pass observed=False to retain current behavior or observed=True to adopt the future default and silence this warning.\n",
      "  grouped_vals = vals.groupby(grouper)\n"
     ]
    },
    {
     "data": {
      "image/png": "[encoded data removed]",
      "text/plain": [
       "<Figure size 640x480 with 1 Axes>"
      ]
     },
     "metadata": {},
     "output_type": "display_data"
    }
   ],
   "source": [
    "# Family_group 컬럼에 따른 Survived(생존자/사망자)를 시각화 - countplot\n",
    "sns.countplot(\n",
    "    data = train, \n",
    "    x = 'Family_group', \n",
    "    hue = 'Survived'   # 카운트(count)가 되는 컬럼\n",
    ")\n",
    "plt.show()"
   ]
  },
  {
   "cell_type": "markdown",
   "id": "f71c97a2-14ae-438c-82d1-5d7b25c8e4b6",
   "metadata": {},
   "source": [
    "1) 불필요한 컬럼 삭제\n",
    "   - drop 버리기\n",
    "   - 전처리 대상에서 제외된 컬럼과 특성공학 후 불필요해진 컬럼 삭제"
   ]
  },
  {
   "cell_type": "code",
   "execution_count": 203,
   "id": "dbf21cdf-eafc-4a2a-b98b-47480ebeab04",
   "metadata": {},
   "outputs": [
    {
     "name": "stdout",
     "output_type": "stream",
     "text": [
      "<class 'pandas.core.frame.DataFrame'>\n",
      "Index: 891 entries, 1 to 891\n",
      "Data columns (total 13 columns):\n",
      " #   Column        Non-Null Count  Dtype   \n",
      "---  ------        --------------  -----   \n",
      " 0   Survived      891 non-null    object  \n",
      " 1   Pclass        891 non-null    object  \n",
      " 2   Name          891 non-null    object  \n",
      " 3   Sex           891 non-null    object  \n",
      " 4   Age           891 non-null    int64   \n",
      " 5   SibSp         891 non-null    int64   \n",
      " 6   Parch         891 non-null    int64   \n",
      " 7   Ticket        891 non-null    object  \n",
      " 8   Fare          891 non-null    float64 \n",
      " 9   Embarked      891 non-null    object  \n",
      " 10  Deck          891 non-null    object  \n",
      " 11  Family_Size   891 non-null    int64   \n",
      " 12  Family_group  891 non-null    category\n",
      "dtypes: category(1), float64(1), int64(4), object(7)\n",
      "memory usage: 91.5+ KB\n"
     ]
    }
   ],
   "source": [
    "train.info()   \n",
    "# train데이터에서 전처리를 하지 않았던 데이터 => Name, Ticket\n",
    "# 전처리 후 필요가 없어진 컬럼 찾기 => SibSp, Parch, Family_Size \n",
    "\n",
    "# 필요없는 컬럼을 삭제하는 기준\n",
    "# 1) 전처리를 하지 않은 컬럼\n",
    "# - Name, Ticket\n",
    "# 2) 데이터 전처리 과정을 통해 새롭게 생성한 컬럼으로 인해 더 이상 필요가 없어진 컬럼\n",
    "# -SipSp, Parch, FamilySize\n",
    "# => Family_group이 위에 컬럼을 통해 새로 생겨난 컬럼"
   ]
  },
  {
   "cell_type": "code",
   "execution_count": 204,
   "id": "76c64407-eccd-411a-b8c6-c82feb9ff6c8",
   "metadata": {},
   "outputs": [
    {
     "name": "stdout",
     "output_type": "stream",
     "text": [
      "<class 'pandas.core.frame.DataFrame'>\n",
      "Index: 418 entries, 892 to 1309\n",
      "Data columns (total 12 columns):\n",
      " #   Column        Non-Null Count  Dtype   \n",
      "---  ------        --------------  -----   \n",
      " 0   Pclass        418 non-null    int64   \n",
      " 1   Name          418 non-null    object  \n",
      " 2   Sex           418 non-null    object  \n",
      " 3   Age           418 non-null    int64   \n",
      " 4   SibSp         418 non-null    int64   \n",
      " 5   Parch         418 non-null    int64   \n",
      " 6   Ticket        418 non-null    object  \n",
      " 7   Fare          418 non-null    float64 \n",
      " 8   Embarked      418 non-null    object  \n",
      " 9   Deck          418 non-null    object  \n",
      " 10  Family_Size   418 non-null    int64   \n",
      " 11  Family_group  418 non-null    category\n",
      "dtypes: category(1), float64(1), int64(5), object(5)\n",
      "memory usage: 39.7+ KB\n"
     ]
    }
   ],
   "source": [
    "test.info()\n",
    "# test데이터에서 전처리를 하지 않았던 데이터 => Name, Ticket\n",
    "# 전처리 후 필요가 없어진 컬럼 찾기 => SibSp, Parch, Family_Size "
   ]
  },
  {
   "cell_type": "code",
   "execution_count": 205,
   "id": "41ece177-5e99-46f1-a112-49ff5ca3b129",
   "metadata": {},
   "outputs": [],
   "source": [
    "# 컬럼 삭제 - drop, axis = 1, inplace = True\n",
    "train.drop(['Name', 'Ticket', 'SibSp', 'Parch', 'Family_Size'], axis = 1 , inplace = True)\n",
    "test.drop(['Name', 'Ticket', 'SibSp', 'Parch', 'Family_Size'], axis = 1 , inplace = True)"
   ]
  },
  {
   "cell_type": "code",
   "execution_count": 206,
   "id": "45118a6c-6cbf-4b4e-92f9-809b3919ab7c",
   "metadata": {},
   "outputs": [
    {
     "data": {
      "text/plain": [
       "(Index(['Survived', 'Pclass', 'Sex', 'Age', 'Fare', 'Embarked', 'Deck',\n",
       "        'Family_group'],\n",
       "       dtype='object'),\n",
       " Index(['Pclass', 'Sex', 'Age', 'Fare', 'Embarked', 'Deck', 'Family_group'], dtype='object'))"
      ]
     },
     "execution_count": 206,
     "metadata": {},
     "output_type": "execute_result"
    }
   ],
   "source": [
    "train.columns, test.columns\n",
    "# => Survived가 문제가 됨 "
   ]
  },
  {
   "cell_type": "code",
   "execution_count": 207,
   "id": "38191d08-7a32-490d-aa12-37653d231a2e",
   "metadata": {},
   "outputs": [
    {
     "name": "stdout",
     "output_type": "stream",
     "text": [
      "<class 'pandas.core.frame.DataFrame'>\n",
      "Index: 891 entries, 1 to 891\n",
      "Data columns (total 8 columns):\n",
      " #   Column        Non-Null Count  Dtype   \n",
      "---  ------        --------------  -----   \n",
      " 0   Survived      891 non-null    object  \n",
      " 1   Pclass        891 non-null    object  \n",
      " 2   Sex           891 non-null    object  \n",
      " 3   Age           891 non-null    int64   \n",
      " 4   Fare          891 non-null    float64 \n",
      " 5   Embarked      891 non-null    object  \n",
      " 6   Deck          891 non-null    object  \n",
      " 7   Family_group  891 non-null    category\n",
      "dtypes: category(1), float64(1), int64(1), object(5)\n",
      "memory usage: 56.7+ KB\n",
      "<class 'pandas.core.frame.DataFrame'>\n",
      "Index: 418 entries, 892 to 1309\n",
      "Data columns (total 7 columns):\n",
      " #   Column        Non-Null Count  Dtype   \n",
      "---  ------        --------------  -----   \n",
      " 0   Pclass        418 non-null    int64   \n",
      " 1   Sex           418 non-null    object  \n",
      " 2   Age           418 non-null    int64   \n",
      " 3   Fare          418 non-null    float64 \n",
      " 4   Embarked      418 non-null    object  \n",
      " 5   Deck          418 non-null    object  \n",
      " 6   Family_group  418 non-null    category\n",
      "dtypes: category(1), float64(1), int64(2), object(3)\n",
      "memory usage: 23.4+ KB\n"
     ]
    }
   ],
   "source": [
    "train.info()    # 정답과 문제로 나눠질 수 있도록\n",
    "test.info()"
   ]
  },
  {
   "cell_type": "markdown",
   "id": "e5218416-f6aa-4cf7-a72b-8bed49557a56",
   "metadata": {},
   "source": [
    "#### 전처리 과정 마무리 됨\n",
    "- train에는 정답 데이터와 문제 데이터가 하나의 프레임으로 들어있는 상태\n",
    "  - X_train, y_train으로 분리\n",
    "- test는 원래 정답을 제공하지 않음 (X_test)"
   ]
  },
  {
   "cell_type": "code",
   "execution_count": 208,
   "id": "35b3a899-9e5a-4ecf-89d2-5bbf0dda07c1",
   "metadata": {},
   "outputs": [
    {
     "name": "stdout",
     "output_type": "stream",
     "text": [
      "(891, 7) (891,)\n",
      "(418, 7)\n"
     ]
    }
   ],
   "source": [
    "X_train = train.drop('Survived', axis = 1)    # Survived를 제외한 나머지가 들어갈 수 있도록 나머지를 train에서 X_train으로 넘겨줌\n",
    "# train.iloc[ : 1], train[ : , 'Pclass': ] - 2차원\n",
    "y_train = train['Survived']   # 훈련용 정답 데이터\n",
    "\n",
    "X_test = test\n",
    "\n",
    "print(X_train.shape, y_train.shape)   \n",
    "print(X_test.shape)\n",
    "# X_train와 X_test 문제 개수 7개로 동일 => 전처리 잘 됨"
   ]
  },
  {
   "cell_type": "code",
   "execution_count": 209,
   "id": "77eef177-aaf6-43de-82ab-47fec4ebc0b2",
   "metadata": {},
   "outputs": [
    {
     "data": {
      "text/plain": [
       "Index(['Pclass', 'Sex', 'Age', 'Fare', 'Embarked', 'Deck', 'Family_group'], dtype='object')"
      ]
     },
     "execution_count": 209,
     "metadata": {},
     "output_type": "execute_result"
    }
   ],
   "source": [
    "X_train.columns"
   ]
  },
  {
   "cell_type": "markdown",
   "id": "37b71ff2-8efa-4973-ae7f-cf13da3011c5",
   "metadata": {},
   "source": [
    "## 다시 전처리 단계로 넘어가서\n",
    "- 범주형 데이터는 학습용으로 사용할 수 없으니 수치형으로 바꿔주자\n",
    "- Encoding\n",
    "  1) 레이블 인코딩(label Encoding) : 값에 우선순위를 주고 싶을 때 사용하는 방법\n",
    "  2) 원-핫 인코딩(one-hot Encoding) : 값에 우선순위를 주고 싶지 않고 구분하는 용도로만 사용하는 방법\n",
    "- 우리는 구분 용도를 위해 one-hot Encoding으로 진행해보자"
   ]
  },
  {
   "cell_type": "code",
   "execution_count": 210,
   "id": "a810c765-8baa-4e6c-8693-d04b70072f85",
   "metadata": {},
   "outputs": [
    {
     "data": {
      "text/plain": [
       "((891, 7), (418, 7))"
      ]
     },
     "execution_count": 210,
     "metadata": {},
     "output_type": "execute_result"
    }
   ],
   "source": [
    "X_train.shape, X_test.shape"
   ]
  },
  {
   "cell_type": "code",
   "execution_count": 211,
   "id": "5cdcfa53-0c3c-4d0d-be5f-1143c7f8d88b",
   "metadata": {},
   "outputs": [],
   "source": [
    "X_train[\"Pclass\"] = X_train[\"Pclass\"].astype(np.int64)"
   ]
  },
  {
   "cell_type": "code",
   "execution_count": 212,
   "id": "af1cae1d-8361-4d59-ac50-93a3ea0c3f28",
   "metadata": {},
   "outputs": [],
   "source": [
    "X_train_one_hot = pd.get_dummies(X_train)\n",
    "X_test_one_hot = pd.get_dummies(X_test)"
   ]
  },
  {
   "cell_type": "code",
   "execution_count": 213,
   "id": "50fa9341-083c-411a-8845-fa8c3c719aa5",
   "metadata": {},
   "outputs": [
    {
     "data": {
      "text/plain": [
       "(891, 20)"
      ]
     },
     "execution_count": 213,
     "metadata": {},
     "output_type": "execute_result"
    }
   ],
   "source": [
    "X_train_one_hot.shape"
   ]
  },
  {
   "cell_type": "code",
   "execution_count": 214,
   "id": "fedcbb8c-bdf5-4f6c-b0af-679ff551431d",
   "metadata": {},
   "outputs": [
    {
     "data": {
      "text/plain": [
       "(418, 19)"
      ]
     },
     "execution_count": 214,
     "metadata": {},
     "output_type": "execute_result"
    }
   ],
   "source": [
    "X_test_one_hot.shape"
   ]
  },
  {
   "cell_type": "code",
   "execution_count": 215,
   "id": "388d0de1-61c7-4352-801d-469e874f1279",
   "metadata": {},
   "outputs": [
    {
     "data": {
      "text/plain": [
       "{'Deck_T'}"
      ]
     },
     "execution_count": 215,
     "metadata": {},
     "output_type": "execute_result"
    }
   ],
   "source": [
    "# 차집합\n",
    "set(X_train_one_hot) - set(X_test_one_hot)"
   ]
  },
  {
   "cell_type": "markdown",
   "id": "dbfade39-436a-4b3b-8805-0b95228481e7",
   "metadata": {},
   "source": [
    "``` python\n",
    "# int와 float을 제외하고 다른 데이터를 선택할 수 있는 방법\n",
    "# 카테고리 필터링을 진행해보자\n",
    "cat_filter = (X_train.dtypes != 'int64') & (X_train.dtypes != 'float64')\n",
    "# X_train에서 컬럼 중에 데이터 타입이 int가 아닌 컬럼들을 변수에 담아주는 코드\n",
    "cat_filter\n",
    "# (X_train.dtypes != 'float64') 이걸 하기 전에는 Fare은 True가 뜸\n",
    "# 문자열 데이터는 True라고 뜸\n",
    "\n",
    "cat_choice = X_train.columns[cat_filter]   # 불리언 인덱싱을 통해서 cat_choice로 담아줌\n",
    "cat_choice\n",
    "# X_train[cat_choice].head(2)   # 두 개의 문자열 데이터만 확인 (Sex, Embarked, Deck,Family_group)\n",
    "\n",
    "# cat_choice 데이터들만 원핫 인코딩 진행\n",
    "# X_train에서 cat_choice에 해당하는 컬럼들을 원핫인코딩 진행하자\n",
    "#X_train\n",
    "\n",
    "# X_train, X_test, y_train 데이터를 분리해주는 작업\n",
    "# => y_test가 없는 이유는 타이타닉 데이터는 Kaggle에 제출해야 실제 정답과 비교가 되는 데이터 셋이 구비가 되어있기 때문\n",
    "\n",
    "# X_train과 X_tset의 범주형 데이터를 학습용으로 사용하기 위해 수치형 데이터로 바꿔주는 작업 진행 : Encoding\n",
    "# 1) 레이블 인코딩 : 우선순위 부여\n",
    "# 2) 원핫 인코딩 : 우선순위 X, 0 or 1\n",
    "\n",
    "# 원핫인코딩 선택\n",
    "# - 타이타닉 데이터는 숫자형 데이터, 문자형 데이터 컬럼이 섞여있다 => 문자열 데이터로 된 컬럼만 필터링 작업 진행\n",
    "```"
   ]
  },
  {
   "cell_type": "code",
   "execution_count": 216,
   "id": "88b4bf5f-868f-415b-9b0a-c87f881f3ebe",
   "metadata": {},
   "outputs": [],
   "source": [
    "# cat_filter"
   ]
  },
  {
   "cell_type": "code",
   "execution_count": 217,
   "id": "a841d7ae-0490-4ab8-b95c-94d69fd735d5",
   "metadata": {},
   "outputs": [
    {
     "data": {
      "text/plain": [
       "Index(['Pclass', 'Age', 'Fare', 'Sex_female', 'Sex_male', 'Embarked_C',\n",
       "       'Embarked_Q', 'Embarked_S', 'Deck_A', 'Deck_B', 'Deck_C', 'Deck_D',\n",
       "       'Deck_E', 'Deck_F', 'Deck_G', 'Deck_M', 'Deck_T', 'Family_group_Alone',\n",
       "       'Family_group_Small', 'Family_group_Large'],\n",
       "      dtype='object')"
      ]
     },
     "execution_count": 217,
     "metadata": {},
     "output_type": "execute_result"
    }
   ],
   "source": [
    "X_train_one_hot.columns"
   ]
  },
  {
   "cell_type": "code",
   "execution_count": 218,
   "id": "b799abfc-1231-45a7-a43c-7e6177149c47",
   "metadata": {},
   "outputs": [
    {
     "data": {
      "text/plain": [
       "Index(['Pclass', 'Age', 'Fare', 'Sex_female', 'Sex_male', 'Embarked_C',\n",
       "       'Embarked_Q', 'Embarked_S', 'Deck_A', 'Deck_B', 'Deck_C', 'Deck_D',\n",
       "       'Deck_E', 'Deck_F', 'Deck_G', 'Deck_M', 'Family_group_Alone',\n",
       "       'Family_group_Small', 'Family_group_Large'],\n",
       "      dtype='object')"
      ]
     },
     "execution_count": 218,
     "metadata": {},
     "output_type": "execute_result"
    }
   ],
   "source": [
    "X_test_one_hot.columns"
   ]
  },
  {
   "cell_type": "markdown",
   "id": "3a19c17e-5ff6-4741-aa84-691197b5c60e",
   "metadata": {},
   "source": [
    "``` python\n",
    "# 해당 cat_choice 컬럼을 인코딩해서 기존 train, test 데이터와 병합\n",
    "\n",
    "# 1) 원핫 인코딩 진행 - cat_choice => pd.get_dummies(원핫 인코딩을 진행할 데이터)\n",
    "X_train_c_oh = pd.get_dummies(X_train[cat_choice])   # X_train만 원핫인코딩을 하면 name sex ticket embarked deck만 나옴\n",
    "X_test_c_oh = pd.get_dummies(X_test[cat_choice])\n",
    "\n",
    "# 2) 병합 진행 - concat 함수 사용, X_train과 X_train_c_oh 병합해주기 => concat(병합할 두 개의 데이터, axis = 1)\n",
    "X_train = pd.concat([X_train, X_train_c_oh], axis = 1)\n",
    "X_test = pd.concat([X_test, X_test_c_oh], axis = 1 )\n",
    "\n",
    "# 3) 기존 컬럼 - 즉, 범주형 데이터가 들어가 있는 컬럼(cat_choice)은 삭제한다 => drop(실제 버리고 싶은 컬럼의 이름), axis = ?\n",
    "X_train = X_train.drop(cat_choice, axis = 1)\n",
    "X_test = X_test.drop(cat_choice, axis = 1)\n",
    "```"
   ]
  },
  {
   "cell_type": "markdown",
   "id": "4c377763-cae3-448c-af07-1618ab59b7df",
   "metadata": {},
   "source": [
    "``` python\n",
    "print(X_train.shape)\n",
    "print(X_test.shape)\n",
    "# => Deck_T라는 컬럼이 train 데이터에만 포함되어있음\n",
    "```"
   ]
  },
  {
   "cell_type": "code",
   "execution_count": 219,
   "id": "22db25fd-b7f8-47f3-887a-3a761e4d111d",
   "metadata": {},
   "outputs": [
    {
     "data": {
      "text/plain": [
       "(Index(['Pclass', 'Age', 'Fare', 'Sex_female', 'Sex_male', 'Embarked_C',\n",
       "        'Embarked_Q', 'Embarked_S', 'Deck_A', 'Deck_B', 'Deck_C', 'Deck_D',\n",
       "        'Deck_E', 'Deck_F', 'Deck_G', 'Deck_M', 'Deck_T', 'Family_group_Alone',\n",
       "        'Family_group_Small', 'Family_group_Large'],\n",
       "       dtype='object'),\n",
       " Index(['Pclass', 'Age', 'Fare', 'Sex_female', 'Sex_male', 'Embarked_C',\n",
       "        'Embarked_Q', 'Embarked_S', 'Deck_A', 'Deck_B', 'Deck_C', 'Deck_D',\n",
       "        'Deck_E', 'Deck_F', 'Deck_G', 'Deck_M', 'Family_group_Alone',\n",
       "        'Family_group_Small', 'Family_group_Large'],\n",
       "       dtype='object'))"
      ]
     },
     "execution_count": 219,
     "metadata": {},
     "output_type": "execute_result"
    }
   ],
   "source": [
    "# 문제의 개수가 다르니 train만 가지고 있는 특성은 뭔지 확인해보자\n",
    "X_train_one_hot.columns, X_test_one_hot.columns"
   ]
  },
  {
   "cell_type": "markdown",
   "id": "3946f2d5-ca38-43f3-9654-092ce1353762",
   "metadata": {},
   "source": [
    "#### 특성 개수 맞추기\n",
    "- 부족한 컬럼명을 확인해서 추가하기\n",
    "  1) 컬럼명을 일일이 확인해서 다른 점 찾기\n",
    "  2) set() 집합 자료구조 활용해서 찾아보기"
   ]
  },
  {
   "attachments": {
    "4c4ed300-dacc-4702-bd4c-c7272600a781.png": {
     "image/png": "[encoded data removed]"
    }
   },
   "cell_type": "markdown",
   "id": "0a0ebbf2-2769-4765-b6bf-fc66e45bf20d",
   "metadata": {},
   "source": [
    "#### 차집합\n",
    "![image.png](attachment:4c4ed300-dacc-4702-bd4c-c7272600a781.png)"
   ]
  },
  {
   "cell_type": "code",
   "execution_count": 220,
   "id": "d0ff3430-0840-4f8c-9eb3-1516c355217d",
   "metadata": {},
   "outputs": [
    {
     "data": {
      "text/plain": [
       "{'Deck_T'}"
      ]
     },
     "execution_count": 220,
     "metadata": {},
     "output_type": "execute_result"
    }
   ],
   "source": [
    "set(X_train_one_hot.columns) - set(X_test_one_hot.columns)   # 차집합\n",
    "# => X_train-X_test를 뺐을 때 남는 컬럼만 출력"
   ]
  },
  {
   "cell_type": "markdown",
   "id": "0a932b5d-a1ff-4ac6-8894-70ef1ce69f86",
   "metadata": {},
   "source": [
    "# X_train_one_hot['Deck_T']\n",
    "# 내가 잘못 썼나??????????????  train => test"
   ]
  },
  {
   "cell_type": "code",
   "execution_count": 221,
   "id": "80d05660-470e-44cb-8912-fabb9d6461f0",
   "metadata": {},
   "outputs": [
    {
     "data": {
      "text/plain": [
       "PassengerId\n",
       "1      False\n",
       "2      False\n",
       "3      False\n",
       "4      False\n",
       "5      False\n",
       "       ...  \n",
       "887    False\n",
       "888    False\n",
       "889    False\n",
       "890    False\n",
       "891    False\n",
       "Name: Deck_T, Length: 891, dtype: bool"
      ]
     },
     "execution_count": 221,
     "metadata": {},
     "output_type": "execute_result"
    }
   ],
   "source": [
    "# X_test에 Deck_T라는 컬럼을 새롭게 만들어주자\n",
    "# X_test에는 T값을 가진 행이 없으므로 다 0으로 초기화를 시켜주자\n",
    "X_test_one_hot['Deck_T'] = 0\n",
    "X_train_one_hot['Deck_T']"
   ]
  },
  {
   "cell_type": "code",
   "execution_count": 222,
   "id": "ee66c6bf-8a1c-42fb-aaf4-a6ec3a5c5ade",
   "metadata": {
    "scrolled": true
   },
   "outputs": [
    {
     "name": "stdout",
     "output_type": "stream",
     "text": [
      "<class 'pandas.core.frame.DataFrame'>\n",
      "Index: 418 entries, 892 to 1309\n",
      "Data columns (total 20 columns):\n",
      " #   Column              Non-Null Count  Dtype  \n",
      "---  ------              --------------  -----  \n",
      " 0   Pclass              418 non-null    int64  \n",
      " 1   Age                 418 non-null    int64  \n",
      " 2   Fare                418 non-null    float64\n",
      " 3   Sex_female          418 non-null    bool   \n",
      " 4   Sex_male            418 non-null    bool   \n",
      " 5   Embarked_C          418 non-null    bool   \n",
      " 6   Embarked_Q          418 non-null    bool   \n",
      " 7   Embarked_S          418 non-null    bool   \n",
      " 8   Deck_A              418 non-null    bool   \n",
      " 9   Deck_B              418 non-null    bool   \n",
      " 10  Deck_C              418 non-null    bool   \n",
      " 11  Deck_D              418 non-null    bool   \n",
      " 12  Deck_E              418 non-null    bool   \n",
      " 13  Deck_F              418 non-null    bool   \n",
      " 14  Deck_G              418 non-null    bool   \n",
      " 15  Deck_M              418 non-null    bool   \n",
      " 16  Family_group_Alone  418 non-null    bool   \n",
      " 17  Family_group_Small  418 non-null    bool   \n",
      " 18  Family_group_Large  418 non-null    bool   \n",
      " 19  Deck_T              418 non-null    int64  \n",
      "dtypes: bool(16), float64(1), int64(3)\n",
      "memory usage: 22.9 KB\n",
      "<class 'pandas.core.frame.DataFrame'>\n",
      "Index: 891 entries, 1 to 891\n",
      "Data columns (total 20 columns):\n",
      " #   Column              Non-Null Count  Dtype  \n",
      "---  ------              --------------  -----  \n",
      " 0   Pclass              891 non-null    int64  \n",
      " 1   Age                 891 non-null    int64  \n",
      " 2   Fare                891 non-null    float64\n",
      " 3   Sex_female          891 non-null    bool   \n",
      " 4   Sex_male            891 non-null    bool   \n",
      " 5   Embarked_C          891 non-null    bool   \n",
      " 6   Embarked_Q          891 non-null    bool   \n",
      " 7   Embarked_S          891 non-null    bool   \n",
      " 8   Deck_A              891 non-null    bool   \n",
      " 9   Deck_B              891 non-null    bool   \n",
      " 10  Deck_C              891 non-null    bool   \n",
      " 11  Deck_D              891 non-null    bool   \n",
      " 12  Deck_E              891 non-null    bool   \n",
      " 13  Deck_F              891 non-null    bool   \n",
      " 14  Deck_G              891 non-null    bool   \n",
      " 15  Deck_M              891 non-null    bool   \n",
      " 16  Deck_T              891 non-null    bool   \n",
      " 17  Family_group_Alone  891 non-null    bool   \n",
      " 18  Family_group_Small  891 non-null    bool   \n",
      " 19  Family_group_Large  891 non-null    bool   \n",
      "dtypes: bool(17), float64(1), int64(2)\n",
      "memory usage: 42.6 KB\n"
     ]
    }
   ],
   "source": [
    "X_test_one_hot.info()\n",
    "X_train_one_hot.info()\n",
    "\n",
    "# test도 Deck_T라는 컬럼을 가질 수 있도록 새롭게 생성\n",
    "# 초기화는 0으로 진행"
   ]
  },
  {
   "cell_type": "code",
   "execution_count": 223,
   "id": "028fe9b9-02dc-4030-a7de-95ac16112b61",
   "metadata": {},
   "outputs": [],
   "source": [
    "# info를 통해서 확인해 봤더니 X_train의 컬럼의 순서와 X_test의 컬럼의 순서가 다름\n",
    "# X_train 컬럼 순서대로 자동 인덱싱 진행\n",
    "X_test_one_hot = X_test_one_hot[X_train_one_hot.columns]"
   ]
  },
  {
   "cell_type": "code",
   "execution_count": 224,
   "id": "23abe76c-4eda-4755-95ee-ced7d27c89e6",
   "metadata": {},
   "outputs": [
    {
     "name": "stdout",
     "output_type": "stream",
     "text": [
      "(891, 20) (891,)\n",
      "(418, 20)\n"
     ]
    }
   ],
   "source": [
    "print(X_train_one_hot.shape, y_train.shape)\n",
    "print(X_test_one_hot.shape)"
   ]
  },
  {
   "cell_type": "code",
   "execution_count": 225,
   "id": "997b5ac6-de52-41a1-9ed6-fc09df0bf850",
   "metadata": {},
   "outputs": [],
   "source": [
    "# sklearn에서 제공되는 모델들은 전부 입력값을 숫자로 입력받음!\n",
    "y_train = y_train.astype(np.int64)"
   ]
  },
  {
   "cell_type": "markdown",
   "id": "e8fd9ac8-47bc-4897-a867-6ee960040c6d",
   "metadata": {},
   "source": [
    "### 모델 선택 및 학습"
   ]
  },
  {
   "cell_type": "code",
   "execution_count": 226,
   "id": "0a39dcd9-fbec-45a6-891a-93bb265c3550",
   "metadata": {},
   "outputs": [],
   "source": [
    "# 필요한 라이브러리 가져오기\n",
    "from sklearn.tree import DecisionTreeClassifier\n",
    "# 교차검증\n",
    "from sklearn.model_selection import cross_val_score   # 교차검증"
   ]
  },
  {
   "cell_type": "code",
   "execution_count": 227,
   "id": "4ef41cce-da72-42d5-ace7-3837d57a08f7",
   "metadata": {},
   "outputs": [],
   "source": [
    "# 모델 객체 생성\n",
    "# 하이퍼 파라미터 설정 X\n",
    "tree_model = DecisionTreeClassifier()"
   ]
  },
  {
   "cell_type": "code",
   "execution_count": 228,
   "id": "8d759c40-f0df-4943-8db5-bf17feadc35d",
   "metadata": {},
   "outputs": [
    {
     "data": {
      "text/plain": [
       "0.7811876216182287"
      ]
     },
     "execution_count": 228,
     "metadata": {},
     "output_type": "execute_result"
    }
   ],
   "source": [
    "# 모델이 어느정도의 성능을 내는 지 교차검증 5번을 통해 확인 (일반화가 됐는 지)\n",
    "cv_result = cross_val_score(tree_model, X_train_one_hot, y_train, cv = 5)\n",
    "cv_result.mean()\n",
    "# 평균적으로 78%의 성능을 내고 있음 - test 데이터에서는 조금 더 정확도가 떨어질 수도 있겠다."
   ]
  },
  {
   "cell_type": "code",
   "execution_count": 229,
   "id": "27ec0d69-5b4d-42b5-9782-5d98131d5a47",
   "metadata": {},
   "outputs": [],
   "source": [
    "# 모델 학습 - 학습용 데이터\n",
    "tree_model.fit(X_train_one_hot, y_train)\n",
    "# 예측 결과값(pre) - 테스트용 데이터 predict 함수 사용\n",
    "pre = tree_model.predict(X_test_one_hot)\n",
    "# Kaggle 제출 - submission.csv 불러오기\n",
    "# submission - Survived 컬럼에 pre값 대입 시켜주기\n",
    "# csv로 저장 - to_csv (index = False) - tree_model_01.csv\n",
    "result = pd.read_csv('data/gender_submission.csv')\n",
    "result['Survived'] = pre  \n",
    "result.to_csv('data/tree_model_01.csv', index = False)\n",
    "\n",
    "# => Kaggle 사이트 들어가서 타이타닉에 데이터 저장하면 72% 정도 나옴"
   ]
  },
  {
   "cell_type": "markdown",
   "id": "3ce99a03-8c0c-4f1a-ae57-b546f8cc7c64",
   "metadata": {},
   "source": [
    "- tree model의 하이퍼 파라미터를 조정 (max_depth : 최대 깊이)"
   ]
  },
  {
   "cell_type": "code",
   "execution_count": 230,
   "id": "c25fc5ed-5a54-4b8f-a4fc-bf531d6bcdce",
   "metadata": {},
   "outputs": [
    {
     "name": "stdout",
     "output_type": "stream",
     "text": [
      "depth:1 0.7867365513778168\n",
      "depth:2 0.773316176009039\n",
      "depth:3 0.8013370158809867\n",
      "depth:4 0.8092524009792228\n",
      "depth:5 0.8136965664427844\n",
      "depth:6 0.813709120582512\n",
      "depth:7 0.8024794425961961\n",
      "depth:8 0.8181909484652564\n",
      "depth:9 0.8092272926997677\n"
     ]
    }
   ],
   "source": [
    "# 교차검증을 하면서 하이퍼 파라미터 조정 확인해보기! (1 ~ 9)\n",
    "for md in range(1, 10) :\n",
    "    tree_model = DecisionTreeClassifier(max_depth = md)   # md로 해줘야 범위가 1-9로 바뀜\n",
    "    result = cross_val_score(tree_model, X_train_one_hot, y_train, cv = 5)   # result에 5개의 정확도\n",
    "    print(f'depth:{md}', result.mean())"
   ]
  },
  {
   "cell_type": "code",
   "execution_count": 231,
   "id": "8a656425-5c55-470f-b586-154bc5cf4747",
   "metadata": {},
   "outputs": [],
   "source": [
    "# tree_model2 객체 생성\n",
    "# 하이퍼 파라미터 max_depth(깊이)를 위에서 가장 높은 정확도를 내고 있는 값으로 설정\n",
    "tree_model2 = DecisionTreeClassifier(max_depth = 6)    # n_neighbors : KNN에서 사용"
   ]
  },
  {
   "cell_type": "code",
   "execution_count": 232,
   "id": "cb1dae7b-f423-4cc8-a44b-13133aedb356",
   "metadata": {
    "scrolled": true
   },
   "outputs": [],
   "source": [
    "# 학습\n",
    "tree_model2.fit(X_train_one_hot, y_train)\n",
    "# 예측\n",
    "pre2 = tree_model2.predict(X_test_one_hot)\n",
    "# 모델 답안지 초기화 - tree_model_02.csv\n",
    "result2 = pd.read_csv('data/gender_submission.csv')\n",
    "result2['Survived'] = pre2\n",
    "result2.to_csv('data/tree_model_02.csv', index = False)"
   ]
  },
  {
   "cell_type": "code",
   "execution_count": 233,
   "id": "a21995eb-c0e6-417f-89ee-ed374bb4a615",
   "metadata": {},
   "outputs": [
    {
     "data": {
      "text/plain": [
       "array([0.12587444, 0.11648766, 0.08001609, 0.        , 0.50258411,\n",
       "       0.00301714, 0.        , 0.0083284 , 0.        , 0.        ,\n",
       "       0.00403921, 0.        , 0.01510388, 0.        , 0.        ,\n",
       "       0.05694591, 0.        , 0.        , 0.02776957, 0.05983358])"
      ]
     },
     "execution_count": 233,
     "metadata": {},
     "output_type": "execute_result"
    }
   ],
   "source": [
    "# tree_model2가 어떤 특성을 중요하게 생각하는 지 특성 중요도 그래프\n",
    "fi = tree_model2.feature_importances_\n",
    "fi"
   ]
  },
  {
   "cell_type": "code",
   "execution_count": 234,
   "id": "45d29cf3-6b11-4bc4-9f93-b287420a1575",
   "metadata": {},
   "outputs": [
    {
     "data": {
      "text/plain": [
       "Pclass                0.125874\n",
       "Age                   0.116488\n",
       "Fare                  0.080016\n",
       "Sex_female            0.000000\n",
       "Sex_male              0.502584\n",
       "Embarked_C            0.003017\n",
       "Embarked_Q            0.000000\n",
       "Embarked_S            0.008328\n",
       "Deck_A                0.000000\n",
       "Deck_B                0.000000\n",
       "Deck_C                0.004039\n",
       "Deck_D                0.000000\n",
       "Deck_E                0.015104\n",
       "Deck_F                0.000000\n",
       "Deck_G                0.000000\n",
       "Deck_M                0.056946\n",
       "Deck_T                0.000000\n",
       "Family_group_Alone    0.000000\n",
       "Family_group_Small    0.027770\n",
       "Family_group_Large    0.059834\n",
       "dtype: float64"
      ]
     },
     "execution_count": 234,
     "metadata": {},
     "output_type": "execute_result"
    }
   ],
   "source": [
    "fi_s = pd.Series(fi, index = X_train_one_hot.columns)   # 시리즈로 확인시키기\n",
    "fi_s"
   ]
  },
  {
   "cell_type": "code",
   "execution_count": 235,
   "id": "bbd9846a-e654-42c7-bf3a-9dc6c8792171",
   "metadata": {},
   "outputs": [
    {
     "data": {
      "image/png": "[encoded data removed]",
      "text/plain": [
       "<Figure size 500x700 with 1 Axes>"
      ]
     },
     "metadata": {},
     "output_type": "display_data"
    }
   ],
   "source": [
    "plt.figure(figsize = (5,7))\n",
    "fi_s.sort_values(ascending = True).plot.barh()\n",
    "plt.show()"
   ]
  },
  {
   "cell_type": "markdown",
   "id": "ee29f0b4-e059-4779-becc-767dc82828bf",
   "metadata": {},
   "source": [
    "- 모델 스케일링(범위)\n",
    "- 앙상블 (모델 여러 개를 한 번에 사용해서)"
   ]
  },
  {
   "cell_type": "markdown",
   "id": "c9adfafc-d5ab-433b-a173-cf84b5e221a1",
   "metadata": {},
   "source": [
    "#### 복습( 24.7.5 )\n",
    "1. fammily_size 시각화 그래프\n",
    "    - 1명 : 사망률 높다 => Alone\n",
    "    - 2명 ~ 4명 : 생존률 높다 => Small\n",
    "    - 5명 이상 : 사망률 높다 => Large\n",
    "- => 같은 특성의 데이터 또는 같은 패턴을 가진 데이터들끼리 다시 한 번 더 묶어주는 작업\n",
    "\n",
    "- 수치형 데이터를 범주형 데이터로 : Binning\n",
    "\n",
    "2. Binning해서 Family Group이라는 새로운 컬럼을 생성해서 데이터를 저장 - train, test\n",
    "\n",
    "3. 필요없는 컬럼을 삭제하는 기준\n",
    "    1) 전처리를 하지 않은 컬럼\n",
    "     - Name, Ticket\n",
    "    2) 데이터 전처리 과정을 통해 새롭게 생성한 컬럼으로 인해 더 이상 필요가 없어진 컬럼\n",
    "     - SipSp, Parch, FamilySize\n",
    "- => Family_group이 위에 컬럼을 통해 새로 생겨난 컬럼\n",
    "\n",
    "\n",
    "\n",
    "4. cat_choice 데이터들만 원핫 인코딩 진행\n",
    "- X_train에서 cat_choice에 해당하는 컬럼들을 원핫인코딩 진행하자\n",
    "\n",
    "5. X_train, X_test, y_train 데이터를 분리해주는 작업\n",
    "- => y_test가 없는 이유는 타이타닉 데이터는 Kaggle에 제출해야 실제 정답과 비교가 되는 데이터 셋이 구비가 되어있기 때문\n",
    "\n",
    "6. X_train과 X_tset의 범주형 데이터를 학습용으로 사용하기 위해 수치형 데이터로 바꿔주는 작업 진행 : Encoding\n",
    "     1) 레이블 인코딩 : 우선순위 부여\n",
    "     2) 원핫 인코딩 : 우선순위 X, 0 or 1\n",
    "\n",
    "7. 원핫인코딩 선택\n",
    "- 타이타닉 데이터는 숫자형 데이터, 문자형 데이터 컬럼이 섞여있다 => 문자열 데이터로 된 컬럼만 필터링 작업 진행"
   ]
  },
  {
   "cell_type": "markdown",
   "id": "0f318387-f02c-48e3-9164-2b42e77072bb",
   "metadata": {},
   "source": [
    "#### KNN Model을 사용해서 정확도를 확인해보자"
   ]
  },
  {
   "cell_type": "code",
   "execution_count": 236,
   "id": "3594196d-ba9c-458f-8173-4db2a5277a32",
   "metadata": {},
   "outputs": [
    {
     "name": "stdout",
     "output_type": "stream",
     "text": [
      "[0.67039106 0.66853933 0.70224719 0.71348315 0.71348315]\n"
     ]
    }
   ],
   "source": [
    "# KNN 라이브러리 가져오기\n",
    "from sklearn.neighbors import KNeighborsClassifier\n",
    "\n",
    "# KNN 모델 생성\n",
    "# KNN 모델 하이퍼 파라미터는 따로 조정하지 않는다\n",
    "knn_model = KNeighborsClassifier()\n",
    "\n",
    "# 교차검증 5번 - 정확도 평균 print\n",
    "result2 = cross_val_score(knn_model, X_train_one_hot, y_train, cv = 5)\n",
    "print(result2)\n",
    "# print(result2.mean())\n",
    "\n",
    "# 학습\n",
    "knn_model.fit(X_train_one_hot, y_train)\n",
    "\n",
    "# 예측결과 - pre\n",
    "pre = knn_model.predict(X_test_one_hot)\n",
    "# summission.csv - 답안지 - data 폴더에 파일 빼주는 작업 진행\n",
    "sm = pd.read_csv('data/gender_submission.csv')\n",
    "sm['Survived'] = pre   # sm의 Survived를 pre 대입\n",
    "sm.to_csv('data/knn_model_01.csv', index = False)\n",
    "\n",
    "# Kaggle 제출\n",
    "\n",
    "# => 정확도 0.64354"
   ]
  },
  {
   "cell_type": "markdown",
   "id": "ce4fd509-d8d6-4934-8cf5-3c387d51f7e4",
   "metadata": {},
   "source": [
    "## 결과\n",
    "- KNN : 64%의 정확도\n",
    "- DT : 72.24%의 정확도\n",
    "- 결과 해성 : 성능 개선\n",
    "  - 데이터의 양 늘리기\n",
    "  - 전처리 방식 수정\n",
    "  - 모델의 하이퍼 파라미터 조절(최대 5% 내외로 성능 올라감)\n",
    "  - 성능이 더 좋은 모델 선택하기"
   ]
  },
  {
   "cell_type": "code",
   "execution_count": 237,
   "id": "ecaaedc8-7974-495a-8aab-f589827e56d3",
   "metadata": {},
   "outputs": [],
   "source": [
    "# KNN 모델은 알고리즘이 간단한 대신에 성능이 좋지 못하다.\n",
    "# train에서는 70정도의 성능을 보이는데 실제로 평가를 진행했을 때 64%의 성능을 보이는 것으로 보아 과소 적합의 현상이 일어나고 있다.\n",
    "\n",
    "# DT train은 어느정도 높은 성을 내고 있으나, 평가를 진행했을 때 갑자기 15 ~ 18% 정도 정확도를 확인할 수 있었다.\n",
    "# 이를 통해 DT 같은 경우 과대적합이 일어나고 있다."
   ]
  },
  {
   "cell_type": "markdown",
   "id": "2a2fee10-5fac-46e2-b119-6410f531a15b",
   "metadata": {},
   "source": [
    "### 데이터 스케일링(4가지 방법)\n",
    "- 데이터의 범위 조정\n",
    "\n",
    "- feature들의 데이터 분포, 범위를 동일하게 조정하는 작업\n",
    "- 거리, 수치 기반의 학습을 진행하는 모델에게 적용되는 방법\n",
    "\n",
    "- 장점 : 범위를 일정하게 맞추어 모델이 데이터를 더 쉽게 처리하고, 모델 성능 향상으로 이어질 수 있다\n",
    "- 단점 : 원래 데이터가 가지고 있는 값이 변경되기 때문에 왜곡될 수 있다\n",
    "  - 원래 범위를 유지하는 게 더 좋다고 판단이 된다면 스케일링을 하지 않는 게 왜곡을 방지할 수 있다"
   ]
  },
  {
   "cell_type": "markdown",
   "id": "ba3562b6-52db-4d7a-8883-6a718ae60ab4",
   "metadata": {},
   "source": [
    "1) StandardScaler (스텐다드스케일러)\n",
    "   - 분산의 정도를 1로 평균은 0으로 맞춰주는 작업\n",
    "   - 민감도가 높다\n",
    "2) MinMaxScaler (민맥스스케일러)\n",
    "   - 분산의 정도를 0으로 평균은 1로 맞춰주는 작업\n",
    "   - 민감도가 낮다\n",
    "   - 최소값은 0, 최대값은 1로 줘서 흩어져있는 데이터를 모아주는 게 특징이다"
   ]
  },
  {
   "cell_type": "markdown",
   "id": "260c0824-b415-4e76-a380-f2c7ac9439db",
   "metadata": {},
   "source": [
    "``` python\n",
    "# 라이브러리 가져오기\n",
    "from sklearn.preprocessing import StandardScaler, MinMaxScaler   #preprocessing-전처리\n",
    "\n",
    "st_sc = StandardScaler()\n",
    "mm_sc = MinMaxScaler()\n",
    "\n",
    "# st_sc, mm_sc가 데이터에 대해 이해할 수 있도록 학습 시켜주기 - fit 함수\n",
    "st_sc.fit(X_train)\n",
    "mm_sc.fit(X_train)\n",
    "\n",
    "# 스케일러가 데이터에 대한 이해가 완료되었으면, 변환하는 작업 진행 - transform 함수 => 범위 조정\n",
    "st_X_train = st_sc.transform(X_train)\n",
    "mm_X_train = mm_sc.transform(X_train)   # fare 0 ~ 1\n",
    "\n",
    "# train 데이터가 범위 조정이 되었으면, test 데이터도 같이 범위 조정이 되어져야 한다\n",
    "st_X_test = st_sc.transform(X_test)\n",
    "mm_X_test = mm_sc.transform(X_test)\n",
    "\n",
    "# 스케일링은 거리 계산, 확률 계산을 하는 모델에 적용할 수 있는 개념으로써 위에 만들어 놨던 knn모델을 사용하여 교차검증을 진행해보자\n",
    "st_result = cross_val_score(knn_model, st_X_train, y_train, cv = 5)\n",
    "mm_result = cross_val_score(knn_model, mm_X_train, y_train, cv = 5)\n",
    "\n",
    "print(st_result, st_result.mean())\n",
    "print(mm_result, mm_result.mean())\n",
    "```"
   ]
  },
  {
   "cell_type": "markdown",
   "id": "ac71e6da-cc6d-42dc-aea1-b63f29eef333",
   "metadata": {},
   "source": [
    "## 앙상블\n",
    "- 여러 모델을 결합하는 방식으로 활용하며, 성능을 올리는 기법\n",
    "  1. 보팅(Voting)\n",
    "     - 여러 개의 다른 종류의 모델이 예측한 결과를 투표 혹은 평균을 통해 최종 결정을 하는 방식\n",
    "       1) 하드보팅(Hard-Voting) : 투표(다수결)\n",
    "       2) 소프트보팅(Soft-Voting) : 확률값을 통한 결정\n",
    "    2. 배깅(Bagging)\n",
    "       - 여러 개의 같은 종류의 모델이 예측한 결과를 투표 혹은 평균을 통해 최종 결정을 하는 방식\n",
    "       - 대표 모델 : RandomForest (Decision Tree를 여러 개 사용하는 모델)\n",
    "    3. 부스팅(Boosting)\n",
    "       - 여러 모델을 순차적으로 학습시켜 이전 모델의 오류를 보정하는 방식\n",
    "       - AdaBoost, GradientBoost\n",
    "       - 후속 모델이 이전 모델의 잘못된 예측을 수정하면서 성능이 점점 좋아지는 현상 발생"
   ]
  },
  {
   "cell_type": "code",
   "execution_count": 238,
   "id": "1b9482da-ac0f-45d2-bd2c-2de54345eca1",
   "metadata": {},
   "outputs": [],
   "source": [
    "# 보팅 도구 불러오기\n",
    "from sklearn.ensemble import VotingClassifier\n",
    "# 확률값을 계산하는 모델들도 같이 불러오기\n",
    "from sklearn.linear_model import LogisticRegression   # 선영 분류 모델\n",
    "from sklearn.svm import SVC   # 서포트 벡터 머신"
   ]
  },
  {
   "cell_type": "code",
   "execution_count": 239,
   "id": "b1e82479-22cd-4295-ad22-9af8800ae57d",
   "metadata": {},
   "outputs": [],
   "source": [
    "# 로지스틱 회귀 (분류만 가능한 모델)\n",
    "# 분류 알고리즘 중 하나로, 주어진 데이터가 특정 분류에 속할 확률을 추정\n",
    "# 결과값이 0 ~ 2 사이의 값, 0.5를 기준으로 특정 클래스에 속할 확률을 나타낸다.\n",
    "# max_iter 알고리즘이 수렴할 때까지 반복하는 최대 횟수를 지정 (학습의 빈도수를 지정하는 하이퍼 파라미터)\n",
    "\n",
    "# 서포트 벡터 머신\n",
    "# 결정 경계선(or 면)을 만들어서 새로운 데이터의 포인트가 어느 클래스에 속하는 지 예측하는 모델\n",
    "# 확률값을 제공하지 않음\n",
    "# probability를 true로 바꿔주면 확률값을 확인할 수 있다\n",
    "\n",
    "# 객체 생성\n",
    "log_clf = LogisticRegression(max_iter = 10000)\n",
    "svm_clf = SVC(probability=True)   # probability를 true로 줘서 확률을 확인해보자"
   ]
  },
  {
   "cell_type": "code",
   "execution_count": 240,
   "id": "22b718da-6454-473b-a9fa-e3f8cc6ca60b",
   "metadata": {},
   "outputs": [
    {
     "data": {
      "text/plain": [
       "0.7060071558596447"
      ]
     },
     "execution_count": 240,
     "metadata": {},
     "output_type": "execute_result"
    }
   ],
   "source": [
    "# 하드 보팅 분류기\n",
    "hard_voting_clf = VotingClassifier(\n",
    "    # 하드 보팅의 모델 지정(2개)\n",
    "    estimators = [('lr', log_clf),('svc', svm_clf)],\n",
    "    # 보팅 방식 지정(hard)\n",
    "    voting = 'hard'\n",
    ")\n",
    "# 학습\n",
    "hard_voting_clf.fit(X_train_one_hot, y_train)\n",
    "# 검증\n",
    "cross_val_score(hard_voting_clf, X_train_one_hot, y_train, cv = 5).mean()"
   ]
  },
  {
   "cell_type": "code",
   "execution_count": 241,
   "id": "97b0ec37-f336-4ad9-95d6-c8c8d01d2cd6",
   "metadata": {},
   "outputs": [
    {
     "data": {
      "text/plain": [
       "0.7801205197413847"
      ]
     },
     "execution_count": 241,
     "metadata": {},
     "output_type": "execute_result"
    }
   ],
   "source": [
    "# 소프트 보팅 분류기\n",
    "soft_voting_clf = VotingClassifier(\n",
    "    # 모델\n",
    "    estimators = [('lr', log_clf),('svc', svm_clf)],\n",
    "    # 보팅 방식 지정(soft)\n",
    "    voting = 'soft'\n",
    ")\n",
    "# 학습\n",
    "# soft_voting_clf.fit(X_train_one_hot, y_train)\n",
    "# 검증\n",
    "cross_val_score(soft_voting_clf, X_train_one_hot, y_train, cv = 5).mean()\n",
    "\n",
    "# => 하드 보팅보다 소프트 보팅 결과값이 좀 더 디테일하게 잘 맞춤"
   ]
  },
  {
   "cell_type": "code",
   "execution_count": 242,
   "id": "9d7c8f5b-950c-4d48-bc5a-74f07a24ae15",
   "metadata": {},
   "outputs": [],
   "source": [
    "# Bagging : 같은 종류의 여러 모델이 예측한 결과를 투표(평균)을 통해 최종 결정하는 방식\n",
    "# 대표 모델 : RandomForest\n",
    "\n",
    "from sklearn.ensemble import RandomForestClassifier"
   ]
  },
  {
   "cell_type": "code",
   "execution_count": 243,
   "id": "2715815f-dfdb-4357-9b4c-c4c00ca630af",
   "metadata": {},
   "outputs": [
    {
     "data": {
      "text/plain": [
       "0.8114430983616847"
      ]
     },
     "execution_count": 243,
     "metadata": {},
     "output_type": "execute_result"
    }
   ],
   "source": [
    "# 검증\n",
    "cross_val_score(RandomForestClassifier(), X_train_one_hot, y_train, cv = 5).mean()"
   ]
  },
  {
   "cell_type": "markdown",
   "id": "cff1c778-7c5d-4c18-98b7-e39e194ee2d0",
   "metadata": {},
   "source": [
    "### 복습\n",
    "#### 단계\n",
    "1. 문제정의\n",
    "2. 데이터 수집\n",
    "3. 전처리\n",
    "   - 결측치 제거 , 대체\n",
    "   - 이상치 제거 , 대체\n",
    "   - 변수처리\n",
    "   - train/test 분리\n",
    "4. EDA(탐색적 데이터 분석)\n",
    "   - 시각화\n",
    "5. 모델 선택(교차검증) , 하이퍼 파라미터 조정(3 ~ 5% ↑)\n",
    "6. 학습\n",
    "7. 평가(metrics)\n",
    "---\n",
    "#### 성능 판단\n",
    "  - 일반화 : train set 중상 , test set 중상\n",
    "  - 과대적합 : train set 상 , test set 중하 ~ 중\n",
    "  - 과소적합 : train set 하 , test set 하"
   ]
  },
  {
   "cell_type": "markdown",
   "id": "65da3a8c-792b-4f8c-95e5-c1bfabd740a9",
   "metadata": {},
   "source": [
    "#### GridSearchCV 적용해서 최적의 하이퍼 파라미터 찾기"
   ]
  },
  {
   "cell_type": "code",
   "execution_count": 244,
   "id": "bf188eef-cfa4-43bf-8cb8-40ac8801c138",
   "metadata": {},
   "outputs": [],
   "source": [
    "# 도구 불러오기\n",
    "from sklearn.model_selection import GridSearchCV"
   ]
  },
  {
   "cell_type": "code",
   "execution_count": 245,
   "id": "8c52c533-a70c-4784-9fff-28c764e7fc24",
   "metadata": {},
   "outputs": [
    {
     "data": {
      "text/html": [
       "<style>#sk-container-id-2 {color: black;background-color: white;}#sk-container-id-2 pre{padding: 0;}#sk-container-id-2 div.sk-toggleable {background-color: white;}#sk-container-id-2 label.sk-toggleable__label {cursor: pointer;display: block;width: 100%;margin-bottom: 0;padding: 0.3em;box-sizing: border-box;text-align: center;}#sk-container-id-2 label.sk-toggleable__label-arrow:before {content: \"▸\";float: left;margin-right: 0.25em;color: #696969;}#sk-container-id-2 label.sk-toggleable__label-arrow:hover:before {color: black;}#sk-container-id-2 div.sk-estimator:hover label.sk-toggleable__label-arrow:before {color: black;}#sk-container-id-2 div.sk-toggleable__content {max-height: 0;max-width: 0;overflow: hidden;text-align: left;background-color: #f0f8ff;}#sk-container-id-2 div.sk-toggleable__content pre {margin: 0.2em;color: black;border-radius: 0.25em;background-color: #f0f8ff;}#sk-container-id-2 input.sk-toggleable__control:checked~div.sk-toggleable__content {max-height: 200px;max-width: 100%;overflow: auto;}#sk-container-id-2 input.sk-toggleable__control:checked~label.sk-toggleable__label-arrow:before {content: \"▾\";}#sk-container-id-2 div.sk-estimator input.sk-toggleable__control:checked~label.sk-toggleable__label {background-color: #d4ebff;}#sk-container-id-2 div.sk-label input.sk-toggleable__control:checked~label.sk-toggleable__label {background-color: #d4ebff;}#sk-container-id-2 input.sk-hidden--visually {border: 0;clip: rect(1px 1px 1px 1px);clip: rect(1px, 1px, 1px, 1px);height: 1px;margin: -1px;overflow: hidden;padding: 0;position: absolute;width: 1px;}#sk-container-id-2 div.sk-estimator {font-family: monospace;background-color: #f0f8ff;border: 1px dotted black;border-radius: 0.25em;box-sizing: border-box;margin-bottom: 0.5em;}#sk-container-id-2 div.sk-estimator:hover {background-color: #d4ebff;}#sk-container-id-2 div.sk-parallel-item::after {content: \"\";width: 100%;border-bottom: 1px solid gray;flex-grow: 1;}#sk-container-id-2 div.sk-label:hover label.sk-toggleable__label {background-color: #d4ebff;}#sk-container-id-2 div.sk-serial::before {content: \"\";position: absolute;border-left: 1px solid gray;box-sizing: border-box;top: 0;bottom: 0;left: 50%;z-index: 0;}#sk-container-id-2 div.sk-serial {display: flex;flex-direction: column;align-items: center;background-color: white;padding-right: 0.2em;padding-left: 0.2em;position: relative;}#sk-container-id-2 div.sk-item {position: relative;z-index: 1;}#sk-container-id-2 div.sk-parallel {display: flex;align-items: stretch;justify-content: center;background-color: white;position: relative;}#sk-container-id-2 div.sk-item::before, #sk-container-id-2 div.sk-parallel-item::before {content: \"\";position: absolute;border-left: 1px solid gray;box-sizing: border-box;top: 0;bottom: 0;left: 50%;z-index: -1;}#sk-container-id-2 div.sk-parallel-item {display: flex;flex-direction: column;z-index: 1;position: relative;background-color: white;}#sk-container-id-2 div.sk-parallel-item:first-child::after {align-self: flex-end;width: 50%;}#sk-container-id-2 div.sk-parallel-item:last-child::after {align-self: flex-start;width: 50%;}#sk-container-id-2 div.sk-parallel-item:only-child::after {width: 0;}#sk-container-id-2 div.sk-dashed-wrapped {border: 1px dashed gray;margin: 0 0.4em 0.5em 0.4em;box-sizing: border-box;padding-bottom: 0.4em;background-color: white;}#sk-container-id-2 div.sk-label label {font-family: monospace;font-weight: bold;display: inline-block;line-height: 1.2em;}#sk-container-id-2 div.sk-label-container {text-align: center;}#sk-container-id-2 div.sk-container {/* jupyter's `normalize.less` sets `[hidden] { display: none; }` but bootstrap.min.css set `[hidden] { display: none !important; }` so we also need the `!important` here to be able to override the default hidden behavior on the sphinx rendered scikit-learn.org. See: https://github.com/scikit-learn/scikit-learn/issues/21755 */display: inline-block !important;position: relative;}#sk-container-id-2 div.sk-text-repr-fallback {display: none;}</style><div id=\"sk-container-id-2\" class=\"sk-top-container\"><div class=\"sk-text-repr-fallback\"><pre>GridSearchCV(cv=5, estimator=RandomForestClassifier(random_state=2024),\n",
       "             n_jobs=-1,\n",
       "             param_grid={&#x27;max_depth&#x27;: [3, 5, 7], &#x27;min_samples_split&#x27;: [3, 5, 7],\n",
       "                         &#x27;n_estimators&#x27;: [50, 100, 200]})</pre><b>In a Jupyter environment, please rerun this cell to show the HTML representation or trust the notebook. <br />On GitHub, the HTML representation is unable to render, please try loading this page with nbviewer.org.</b></div><div class=\"sk-container\" hidden><div class=\"sk-item sk-dashed-wrapped\"><div class=\"sk-label-container\"><div class=\"sk-label sk-toggleable\"><input class=\"sk-toggleable__control sk-hidden--visually\" id=\"sk-estimator-id-4\" type=\"checkbox\" ><label for=\"sk-estimator-id-4\" class=\"sk-toggleable__label sk-toggleable__label-arrow\">GridSearchCV</label><div class=\"sk-toggleable__content\"><pre>GridSearchCV(cv=5, estimator=RandomForestClassifier(random_state=2024),\n",
       "             n_jobs=-1,\n",
       "             param_grid={&#x27;max_depth&#x27;: [3, 5, 7], &#x27;min_samples_split&#x27;: [3, 5, 7],\n",
       "                         &#x27;n_estimators&#x27;: [50, 100, 200]})</pre></div></div></div><div class=\"sk-parallel\"><div class=\"sk-parallel-item\"><div class=\"sk-item\"><div class=\"sk-label-container\"><div class=\"sk-label sk-toggleable\"><input class=\"sk-toggleable__control sk-hidden--visually\" id=\"sk-estimator-id-5\" type=\"checkbox\" ><label for=\"sk-estimator-id-5\" class=\"sk-toggleable__label sk-toggleable__label-arrow\">estimator: RandomForestClassifier</label><div class=\"sk-toggleable__content\"><pre>RandomForestClassifier(random_state=2024)</pre></div></div></div><div class=\"sk-serial\"><div class=\"sk-item\"><div class=\"sk-estimator sk-toggleable\"><input class=\"sk-toggleable__control sk-hidden--visually\" id=\"sk-estimator-id-6\" type=\"checkbox\" ><label for=\"sk-estimator-id-6\" class=\"sk-toggleable__label sk-toggleable__label-arrow\">RandomForestClassifier</label><div class=\"sk-toggleable__content\"><pre>RandomForestClassifier(random_state=2024)</pre></div></div></div></div></div></div></div></div></div></div>"
      ],
      "text/plain": [
       "GridSearchCV(cv=5, estimator=RandomForestClassifier(random_state=2024),\n",
       "             n_jobs=-1,\n",
       "             param_grid={'max_depth': [3, 5, 7], 'min_samples_split': [3, 5, 7],\n",
       "                         'n_estimators': [50, 100, 200]})"
      ]
     },
     "execution_count": 245,
     "metadata": {},
     "output_type": "execute_result"
    }
   ],
   "source": [
    "# 1. 하이퍼 파라미터(초 매개변수) 경우의 수 설정\n",
    "params = { # 딕셔너리로 만들기 - 하이퍼파라미터 경우의 수\n",
    "    'n_estimators' : [50, 100, 200],   # 트리 개수 설정\n",
    "    'max_depth' : [3, 5, 7],           # 트리 최대 깊이 제한(사전 가재 치기)\n",
    "    'min_samples_split' : [3, 5, 7]    # 노드를 분할하기 위한 최소 샘플 수 지정\n",
    "}\n",
    "\n",
    "# 2. 해당 모델 초기화(생성)\n",
    "rf_clf = RandomForestClassifier(random_state = 2024)   # 결과의 재현성을 위해서 난수(랜덤수) 고정시키기\n",
    "\n",
    "# 3. gridsearch 옵션 설정\n",
    "grid = GridSearchCV(\n",
    "    rf_clf,\n",
    "    params,       # 하이퍼파라미터 경우의 수\n",
    "    cv = 5,       # 내부에서 교차검증을 통해 성능 비교 => k겹 설정 해줌\n",
    "    n_jobs = -1   # 사용 가능한 모든 CPU 코어를 사용하여 병렬 처리로 수행\n",
    ")\n",
    "\n",
    "# 4. 실행 => 찾아라!\n",
    "grid.fit(X_train_one_hot, y_train)"
   ]
  },
  {
   "cell_type": "code",
   "execution_count": 246,
   "id": "b7346b8b-6173-4ab3-b5fc-99b58db19b11",
   "metadata": {},
   "outputs": [
    {
     "data": {
      "text/plain": [
       "{'max_depth': 7, 'min_samples_split': 7, 'n_estimators': 50}"
      ]
     },
     "execution_count": 246,
     "metadata": {},
     "output_type": "execute_result"
    }
   ],
   "source": [
    "# 최적의 하이퍼파라미터 조합 확인\n",
    "grid.best_params_"
   ]
  },
  {
   "cell_type": "code",
   "execution_count": 247,
   "id": "d40ce241-4086-4d70-a753-e945082839aa",
   "metadata": {},
   "outputs": [
    {
     "data": {
      "text/plain": [
       "0.8260561170045821"
      ]
     },
     "execution_count": 247,
     "metadata": {},
     "output_type": "execute_result"
    }
   ],
   "source": [
    "# 최적의 하이퍼 파라미터로 예측을 수행한 성능값(accuracy, 정확도-비율)\n",
    "grid.best_score_"
   ]
  },
  {
   "cell_type": "code",
   "execution_count": 248,
   "id": "0def448e-0c3d-4beb-90de-7b85ec2db598",
   "metadata": {},
   "outputs": [],
   "source": [
    "# 최적의 하이퍼 파라미터로 세팅된 모델\n",
    "best_rf_clf = grid.best_estimator_"
   ]
  },
  {
   "cell_type": "code",
   "execution_count": 249,
   "id": "e6423414-1aff-496a-95ad-b9bd1e06001e",
   "metadata": {},
   "outputs": [
    {
     "data": {
      "text/plain": [
       "array([0, 0, 0, 0, 1, 0, 0, 0, 1, 0, 0, 0, 1, 0, 1, 1, 0, 0, 0, 1, 0, 1,\n",
       "       1, 0, 1, 0, 1, 0, 0, 0, 0, 0, 1, 0, 0, 0, 0, 0, 0, 0, 0, 0, 0, 1,\n",
       "       1, 0, 0, 0, 1, 1, 0, 0, 1, 1, 0, 0, 0, 0, 0, 1, 0, 0, 0, 1, 0, 1,\n",
       "       1, 0, 1, 1, 1, 0, 0, 0, 1, 1, 0, 1, 0, 1, 1, 0, 0, 0, 0, 0, 1, 0,\n",
       "       1, 1, 1, 0, 1, 0, 0, 0, 1, 0, 1, 0, 1, 0, 0, 0, 1, 0, 0, 0, 0, 0,\n",
       "       0, 1, 1, 1, 1, 0, 0, 1, 1, 1, 1, 0, 1, 0, 0, 1, 0, 1, 0, 0, 0, 0,\n",
       "       0, 0, 0, 0, 0, 0, 0, 0, 0, 1, 0, 0, 0, 0, 1, 0, 0, 0, 1, 0, 0, 1,\n",
       "       0, 0, 1, 1, 0, 1, 1, 1, 1, 0, 0, 1, 0, 0, 1, 0, 0, 0, 0, 0, 0, 1,\n",
       "       1, 0, 1, 1, 0, 1, 1, 0, 1, 0, 1, 0, 0, 0, 0, 0, 0, 0, 1, 0, 1, 1,\n",
       "       0, 0, 1, 1, 0, 1, 0, 0, 0, 0, 1, 0, 0, 0, 0, 1, 0, 0, 1, 0, 1, 0,\n",
       "       1, 0, 1, 0, 1, 0, 0, 1, 0, 0, 0, 1, 0, 0, 0, 0, 0, 0, 1, 1, 1, 1,\n",
       "       0, 0, 0, 0, 1, 0, 1, 0, 1, 0, 0, 0, 0, 0, 0, 0, 1, 0, 0, 0, 1, 1,\n",
       "       0, 0, 0, 0, 0, 0, 0, 0, 1, 1, 0, 1, 0, 0, 0, 0, 0, 1, 1, 1, 1, 0,\n",
       "       0, 0, 0, 0, 0, 0, 0, 0, 0, 0, 1, 0, 0, 0, 0, 0, 0, 0, 1, 1, 0, 1,\n",
       "       0, 0, 0, 0, 0, 0, 1, 1, 0, 0, 0, 0, 0, 0, 0, 0, 1, 0, 1, 0, 0, 0,\n",
       "       1, 0, 0, 1, 0, 0, 0, 0, 0, 0, 0, 0, 0, 1, 0, 1, 0, 1, 0, 1, 1, 0,\n",
       "       0, 0, 1, 0, 1, 0, 0, 1, 0, 1, 1, 0, 1, 0, 0, 0, 1, 0, 0, 1, 0, 0,\n",
       "       1, 1, 0, 0, 0, 0, 0, 0, 0, 1, 0, 1, 0, 0, 0, 0, 0, 1, 0, 0, 0, 1,\n",
       "       0, 1, 0, 0, 1, 0, 1, 0, 0, 0, 0, 0, 1, 1, 1, 1, 0, 0, 1, 0, 0, 0],\n",
       "      dtype=int64)"
      ]
     },
     "execution_count": 249,
     "metadata": {},
     "output_type": "execute_result"
    }
   ],
   "source": [
    "best_rf_clf.predict(X_test_one_hot)"
   ]
  },
  {
   "cell_type": "code",
   "execution_count": 250,
   "id": "549343b5-d936-4df1-8c5d-8bd259fa6cae",
   "metadata": {},
   "outputs": [
    {
     "data": {
      "text/plain": [
       "0.8260561170045821"
      ]
     },
     "execution_count": 250,
     "metadata": {},
     "output_type": "execute_result"
    }
   ],
   "source": [
    "# 검증\n",
    "cross_val_score(best_rf_clf, X_train_one_hot, y_train, cv = 5).mean()"
   ]
  },
  {
   "cell_type": "code",
   "execution_count": null,
   "id": "f56565da-6e67-4250-a45b-59483e8e4c32",
   "metadata": {},
   "outputs": [],
   "source": []
  },
  {
   "cell_type": "code",
   "execution_count": null,
   "id": "08685e56-52d2-4cf2-8776-6b26b507f806",
   "metadata": {},
   "outputs": [],
   "source": []
  },
  {
   "cell_type": "code",
   "execution_count": null,
   "id": "2cfdc5cb-af0d-4ed1-a01c-c94409687b42",
   "metadata": {},
   "outputs": [],
   "source": []
  },
  {
   "cell_type": "code",
   "execution_count": null,
   "id": "ed10b6e3-26a2-4602-89d5-3d27854e48dd",
   "metadata": {},
   "outputs": [],
   "source": []
  },
  {
   "cell_type": "code",
   "execution_count": null,
   "id": "7931e8b9-1e8f-4852-9a77-521335dcbcca",
   "metadata": {},
   "outputs": [],
   "source": []
  }
 ],
 "metadata": {
  "kernelspec": {
   "display_name": "Python 3 (ipykernel)",
   "language": "python",
   "name": "python3"
  },
  "language_info": {
   "codemirror_mode": {
    "name": "ipython",
    "version": 3
   },
   "file_extension": ".py",
   "mimetype": "text/x-python",
   "name": "python",
   "nbconvert_exporter": "python",
   "pygments_lexer": "ipython3",
   "version": "3.11.7"
  }
 },
 "nbformat": 4,
 "nbformat_minor": 5
}
