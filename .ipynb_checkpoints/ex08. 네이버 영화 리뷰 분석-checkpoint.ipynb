{
 "cells": [
  {
   "cell_type": "markdown",
   "id": "0c6b0772-1fe1-49b6-952f-3bee9da0f702",
   "metadata": {},
   "source": [
    "### 한글 영화 리뷰 데이터셋 → 긍/부정 분류기, 감정 분석"
   ]
  },
  {
   "cell_type": "code",
   "execution_count": 1,
   "id": "37387105-6c74-4e6f-9c53-cbddfa6d1dd3",
   "metadata": {},
   "outputs": [],
   "source": [
    "import numpy as np\n",
    "import pandas as pd"
   ]
  },
  {
   "cell_type": "code",
   "execution_count": 2,
   "id": "0398a208-f4e3-4704-a8f5-67e1d0709f85",
   "metadata": {},
   "outputs": [],
   "source": [
    "text_train = pd.read_csv(\"./data/ratings_train.txt\", delimiter = \"\\t\")\n",
    "text_test = pd.read_csv(\"./data/ratings_test.txt\", delimiter = \"\\t\")"
   ]
  },
  {
   "cell_type": "code",
   "execution_count": 3,
   "id": "d48e1955-dfba-4123-a235-bf4b39fd75d3",
   "metadata": {},
   "outputs": [
    {
     "name": "stdout",
     "output_type": "stream",
     "text": [
      "<class 'pandas.core.frame.DataFrame'>\n",
      "RangeIndex: 150000 entries, 0 to 149999\n",
      "Data columns (total 3 columns):\n",
      " #   Column    Non-Null Count   Dtype \n",
      "---  ------    --------------   ----- \n",
      " 0   id        150000 non-null  int64 \n",
      " 1   document  149995 non-null  object\n",
      " 2   label     150000 non-null  int64 \n",
      "dtypes: int64(2), object(1)\n",
      "memory usage: 3.4+ MB\n"
     ]
    }
   ],
   "source": [
    "text_train.info()\n",
    "# => 데이터의 결측치 존재(1 document 149995)"
   ]
  },
  {
   "cell_type": "code",
   "execution_count": 4,
   "id": "a2e988ef-e437-4c03-87db-7dd64e880bb4",
   "metadata": {},
   "outputs": [
    {
     "name": "stdout",
     "output_type": "stream",
     "text": [
      "<class 'pandas.core.frame.DataFrame'>\n",
      "RangeIndex: 50000 entries, 0 to 49999\n",
      "Data columns (total 3 columns):\n",
      " #   Column    Non-Null Count  Dtype \n",
      "---  ------    --------------  ----- \n",
      " 0   id        50000 non-null  int64 \n",
      " 1   document  49997 non-null  object\n",
      " 2   label     50000 non-null  int64 \n",
      "dtypes: int64(2), object(1)\n",
      "memory usage: 1.1+ MB\n"
     ]
    }
   ],
   "source": [
    "text_test.info()\n",
    "# => 데이터의 결측치 존재(1 document 49997)"
   ]
  },
  {
   "cell_type": "code",
   "execution_count": 5,
   "id": "9e7622d3-8e5d-4032-9b68-40fc29fd5eac",
   "metadata": {},
   "outputs": [
    {
     "data": {
      "text/html": [
       "<div>\n",
       "<style scoped>\n",
       "    .dataframe tbody tr th:only-of-type {\n",
       "        vertical-align: middle;\n",
       "    }\n",
       "\n",
       "    .dataframe tbody tr th {\n",
       "        vertical-align: top;\n",
       "    }\n",
       "\n",
       "    .dataframe thead th {\n",
       "        text-align: right;\n",
       "    }\n",
       "</style>\n",
       "<table border=\"1\" class=\"dataframe\">\n",
       "  <thead>\n",
       "    <tr style=\"text-align: right;\">\n",
       "      <th></th>\n",
       "      <th>id</th>\n",
       "      <th>document</th>\n",
       "      <th>label</th>\n",
       "    </tr>\n",
       "  </thead>\n",
       "  <tbody>\n",
       "    <tr>\n",
       "      <th>25857</th>\n",
       "      <td>2172111</td>\n",
       "      <td>NaN</td>\n",
       "      <td>1</td>\n",
       "    </tr>\n",
       "    <tr>\n",
       "      <th>55737</th>\n",
       "      <td>6369843</td>\n",
       "      <td>NaN</td>\n",
       "      <td>1</td>\n",
       "    </tr>\n",
       "    <tr>\n",
       "      <th>110014</th>\n",
       "      <td>1034280</td>\n",
       "      <td>NaN</td>\n",
       "      <td>0</td>\n",
       "    </tr>\n",
       "    <tr>\n",
       "      <th>126782</th>\n",
       "      <td>5942978</td>\n",
       "      <td>NaN</td>\n",
       "      <td>0</td>\n",
       "    </tr>\n",
       "    <tr>\n",
       "      <th>140721</th>\n",
       "      <td>1034283</td>\n",
       "      <td>NaN</td>\n",
       "      <td>0</td>\n",
       "    </tr>\n",
       "  </tbody>\n",
       "</table>\n",
       "</div>"
      ],
      "text/plain": [
       "             id document  label\n",
       "25857   2172111      NaN      1\n",
       "55737   6369843      NaN      1\n",
       "110014  1034280      NaN      0\n",
       "126782  5942978      NaN      0\n",
       "140721  1034283      NaN      0"
      ]
     },
     "execution_count": 5,
     "metadata": {},
     "output_type": "execute_result"
    }
   ],
   "source": [
    "# 결측치 존재함!\n",
    "\n",
    "# 확인하기! => text_train에서 document에 접근 isnull 함수로 확인 -> 결측치 데이터 인덱싱\n",
    "text_train[text_train['document'].isnull()]"
   ]
  },
  {
   "cell_type": "code",
   "execution_count": 6,
   "id": "99ed4163-bba1-4c80-8bab-c59f1fe909ec",
   "metadata": {},
   "outputs": [
    {
     "data": {
      "text/html": [
       "<div>\n",
       "<style scoped>\n",
       "    .dataframe tbody tr th:only-of-type {\n",
       "        vertical-align: middle;\n",
       "    }\n",
       "\n",
       "    .dataframe tbody tr th {\n",
       "        vertical-align: top;\n",
       "    }\n",
       "\n",
       "    .dataframe thead th {\n",
       "        text-align: right;\n",
       "    }\n",
       "</style>\n",
       "<table border=\"1\" class=\"dataframe\">\n",
       "  <thead>\n",
       "    <tr style=\"text-align: right;\">\n",
       "      <th></th>\n",
       "      <th>id</th>\n",
       "      <th>document</th>\n",
       "      <th>label</th>\n",
       "    </tr>\n",
       "  </thead>\n",
       "  <tbody>\n",
       "    <tr>\n",
       "      <th>5746</th>\n",
       "      <td>402110</td>\n",
       "      <td>NaN</td>\n",
       "      <td>1</td>\n",
       "    </tr>\n",
       "    <tr>\n",
       "      <th>7899</th>\n",
       "      <td>5026896</td>\n",
       "      <td>NaN</td>\n",
       "      <td>0</td>\n",
       "    </tr>\n",
       "    <tr>\n",
       "      <th>27097</th>\n",
       "      <td>511097</td>\n",
       "      <td>NaN</td>\n",
       "      <td>1</td>\n",
       "    </tr>\n",
       "  </tbody>\n",
       "</table>\n",
       "</div>"
      ],
      "text/plain": [
       "            id document  label\n",
       "5746    402110      NaN      1\n",
       "7899   5026896      NaN      0\n",
       "27097   511097      NaN      1"
      ]
     },
     "execution_count": 6,
     "metadata": {},
     "output_type": "execute_result"
    }
   ],
   "source": [
    "text_test[text_test['document'].isnull()]\n",
    "# => id랑 label만 있고 document는 비어있음"
   ]
  },
  {
   "cell_type": "code",
   "execution_count": 7,
   "id": "0789540a-eb25-431a-b343-1388e73e1e3e",
   "metadata": {},
   "outputs": [],
   "source": [
    "# 결측치 제거하기 - dropna() : 결측치 제거해주는 함수 , inpalce = True : (결측치 제거한 것을) 반영하겠다\n",
    "text_train.dropna(inplace = True)\n",
    "text_test.dropna(inplace = True)"
   ]
  },
  {
   "cell_type": "code",
   "execution_count": 8,
   "id": "43753d19-ba6a-49af-a49e-d4fc3fff6cb1",
   "metadata": {},
   "outputs": [
    {
     "name": "stdout",
     "output_type": "stream",
     "text": [
      "<class 'pandas.core.frame.DataFrame'>\n",
      "Index: 149995 entries, 0 to 149999\n",
      "Data columns (total 3 columns):\n",
      " #   Column    Non-Null Count   Dtype \n",
      "---  ------    --------------   ----- \n",
      " 0   id        149995 non-null  int64 \n",
      " 1   document  149995 non-null  object\n",
      " 2   label     149995 non-null  int64 \n",
      "dtypes: int64(2), object(1)\n",
      "memory usage: 4.6+ MB\n"
     ]
    }
   ],
   "source": [
    "text_train.info()"
   ]
  },
  {
   "cell_type": "code",
   "execution_count": 9,
   "id": "96c01149-6e5b-4c2a-865e-78f1523e9993",
   "metadata": {},
   "outputs": [
    {
     "name": "stdout",
     "output_type": "stream",
     "text": [
      "<class 'pandas.core.frame.DataFrame'>\n",
      "Index: 49997 entries, 0 to 49999\n",
      "Data columns (total 3 columns):\n",
      " #   Column    Non-Null Count  Dtype \n",
      "---  ------    --------------  ----- \n",
      " 0   id        49997 non-null  int64 \n",
      " 1   document  49997 non-null  object\n",
      " 2   label     49997 non-null  int64 \n",
      "dtypes: int64(2), object(1)\n",
      "memory usage: 1.5+ MB\n"
     ]
    }
   ],
   "source": [
    "text_test.info()"
   ]
  },
  {
   "cell_type": "markdown",
   "id": "ceec8a86-d83c-404f-9e5e-1b7f3a5d43e5",
   "metadata": {},
   "source": [
    "#### **토큰화** 다뤄보기\n",
    "- 형태소 분석기 : konlpy\n",
    "- 토큰화 도구 : TF-IDF"
   ]
  },
  {
   "cell_type": "markdown",
   "id": "e6cdd40a-a69f-4c0d-8400-66ff5524f866",
   "metadata": {},
   "source": [
    "### **TF-IDF**\n",
    "- 개별 문서에서 자주 등장하는 단어는 가중치를 높게 주되(TF),\n",
    "- 모든 문서에서 자주 등장하는 단어에는 패널티(IDF)를 주는 방식으로 가중치를 연산\n",
    "  - '**단어의 중요도**'라고 하는 수치값으로 벡터화"
   ]
  },
  {
   "attachments": {
    "046ad97d-ce14-4356-a862-3d236b816f5b.png": {
     "image/png": "[encoded data removed]"
    }
   },
   "cell_type": "markdown",
   "id": "3f1a61d2-fe63-415f-bcbd-2b0984c481a6",
   "metadata": {},
   "source": [
    "![image.png](attachment:046ad97d-ce14-4356-a862-3d236b816f5b.png)\n",
    "- 빨간 네모 박스 - 가중치"
   ]
  },
  {
   "cell_type": "code",
   "execution_count": 10,
   "id": "62ed015f-c522-46bc-8d03-2a235fc99d08",
   "metadata": {},
   "outputs": [],
   "source": [
    "from sklearn.feature_extraction.text import TfidfVectorizer   # TF-IDF 객체\n",
    "from konlpy.tag import Okt"
   ]
  },
  {
   "cell_type": "code",
   "execution_count": 11,
   "id": "8d270616-3517-4967-8718-d6df39ef949f",
   "metadata": {},
   "outputs": [],
   "source": [
    "# 샘플 데이터를 활용해서 TF-IDF를 파악해보자\n",
    "# 벡터화 수행하기 전에 맛보기로 샘플데이터 생성!\n",
    "sample_text = [\"나는 오늘 점심에 삼계탕을 먹었다 왜\", \n",
    "               \"너 저녁에 운동갈꺼야?\", \n",
    "               \"나는 오늘 저녁에 운동하러 갈꺼야\", \n",
    "               \"좋겠다. 나는 저녁에 야간 자율 학습 하러 갈건데...\"]"
   ]
  },
  {
   "cell_type": "code",
   "execution_count": 12,
   "id": "22c4a38f-f810-4a45-aa2a-a7de140a9a62",
   "metadata": {},
   "outputs": [],
   "source": [
    "# TfIdf 객체 초기화\n",
    "sample_tfidf = TfidfVectorizer()"
   ]
  },
  {
   "cell_type": "code",
   "execution_count": 13,
   "id": "c06b350d-41dd-44eb-82eb-81218064215d",
   "metadata": {},
   "outputs": [
    {
     "data": {
      "text/html": [
       "<style>#sk-container-id-1 {color: black;background-color: white;}#sk-container-id-1 pre{padding: 0;}#sk-container-id-1 div.sk-toggleable {background-color: white;}#sk-container-id-1 label.sk-toggleable__label {cursor: pointer;display: block;width: 100%;margin-bottom: 0;padding: 0.3em;box-sizing: border-box;text-align: center;}#sk-container-id-1 label.sk-toggleable__label-arrow:before {content: \"▸\";float: left;margin-right: 0.25em;color: #696969;}#sk-container-id-1 label.sk-toggleable__label-arrow:hover:before {color: black;}#sk-container-id-1 div.sk-estimator:hover label.sk-toggleable__label-arrow:before {color: black;}#sk-container-id-1 div.sk-toggleable__content {max-height: 0;max-width: 0;overflow: hidden;text-align: left;background-color: #f0f8ff;}#sk-container-id-1 div.sk-toggleable__content pre {margin: 0.2em;color: black;border-radius: 0.25em;background-color: #f0f8ff;}#sk-container-id-1 input.sk-toggleable__control:checked~div.sk-toggleable__content {max-height: 200px;max-width: 100%;overflow: auto;}#sk-container-id-1 input.sk-toggleable__control:checked~label.sk-toggleable__label-arrow:before {content: \"▾\";}#sk-container-id-1 div.sk-estimator input.sk-toggleable__control:checked~label.sk-toggleable__label {background-color: #d4ebff;}#sk-container-id-1 div.sk-label input.sk-toggleable__control:checked~label.sk-toggleable__label {background-color: #d4ebff;}#sk-container-id-1 input.sk-hidden--visually {border: 0;clip: rect(1px 1px 1px 1px);clip: rect(1px, 1px, 1px, 1px);height: 1px;margin: -1px;overflow: hidden;padding: 0;position: absolute;width: 1px;}#sk-container-id-1 div.sk-estimator {font-family: monospace;background-color: #f0f8ff;border: 1px dotted black;border-radius: 0.25em;box-sizing: border-box;margin-bottom: 0.5em;}#sk-container-id-1 div.sk-estimator:hover {background-color: #d4ebff;}#sk-container-id-1 div.sk-parallel-item::after {content: \"\";width: 100%;border-bottom: 1px solid gray;flex-grow: 1;}#sk-container-id-1 div.sk-label:hover label.sk-toggleable__label {background-color: #d4ebff;}#sk-container-id-1 div.sk-serial::before {content: \"\";position: absolute;border-left: 1px solid gray;box-sizing: border-box;top: 0;bottom: 0;left: 50%;z-index: 0;}#sk-container-id-1 div.sk-serial {display: flex;flex-direction: column;align-items: center;background-color: white;padding-right: 0.2em;padding-left: 0.2em;position: relative;}#sk-container-id-1 div.sk-item {position: relative;z-index: 1;}#sk-container-id-1 div.sk-parallel {display: flex;align-items: stretch;justify-content: center;background-color: white;position: relative;}#sk-container-id-1 div.sk-item::before, #sk-container-id-1 div.sk-parallel-item::before {content: \"\";position: absolute;border-left: 1px solid gray;box-sizing: border-box;top: 0;bottom: 0;left: 50%;z-index: -1;}#sk-container-id-1 div.sk-parallel-item {display: flex;flex-direction: column;z-index: 1;position: relative;background-color: white;}#sk-container-id-1 div.sk-parallel-item:first-child::after {align-self: flex-end;width: 50%;}#sk-container-id-1 div.sk-parallel-item:last-child::after {align-self: flex-start;width: 50%;}#sk-container-id-1 div.sk-parallel-item:only-child::after {width: 0;}#sk-container-id-1 div.sk-dashed-wrapped {border: 1px dashed gray;margin: 0 0.4em 0.5em 0.4em;box-sizing: border-box;padding-bottom: 0.4em;background-color: white;}#sk-container-id-1 div.sk-label label {font-family: monospace;font-weight: bold;display: inline-block;line-height: 1.2em;}#sk-container-id-1 div.sk-label-container {text-align: center;}#sk-container-id-1 div.sk-container {/* jupyter's `normalize.less` sets `[hidden] { display: none; }` but bootstrap.min.css set `[hidden] { display: none !important; }` so we also need the `!important` here to be able to override the default hidden behavior on the sphinx rendered scikit-learn.org. See: https://github.com/scikit-learn/scikit-learn/issues/21755 */display: inline-block !important;position: relative;}#sk-container-id-1 div.sk-text-repr-fallback {display: none;}</style><div id=\"sk-container-id-1\" class=\"sk-top-container\"><div class=\"sk-text-repr-fallback\"><pre>TfidfVectorizer()</pre><b>In a Jupyter environment, please rerun this cell to show the HTML representation or trust the notebook. <br />On GitHub, the HTML representation is unable to render, please try loading this page with nbviewer.org.</b></div><div class=\"sk-container\" hidden><div class=\"sk-item\"><div class=\"sk-estimator sk-toggleable\"><input class=\"sk-toggleable__control sk-hidden--visually\" id=\"sk-estimator-id-1\" type=\"checkbox\" checked><label for=\"sk-estimator-id-1\" class=\"sk-toggleable__label sk-toggleable__label-arrow\">TfidfVectorizer</label><div class=\"sk-toggleable__content\"><pre>TfidfVectorizer()</pre></div></div></div></div></div>"
      ],
      "text/plain": [
       "TfidfVectorizer()"
      ]
     },
     "execution_count": 13,
     "metadata": {},
     "output_type": "execute_result"
    }
   ],
   "source": [
    "# 단어사전 구축\n",
    "sample_tfidf.fit(sample_text)"
   ]
  },
  {
   "cell_type": "code",
   "execution_count": 14,
   "id": "da1e650a-2f98-4600-929a-366b0cc120af",
   "metadata": {},
   "outputs": [
    {
     "data": {
      "text/plain": [
       "{'나는': 2,\n",
       " '오늘': 6,\n",
       " '점심에': 11,\n",
       " '삼계탕을': 4,\n",
       " '먹었다': 3,\n",
       " '저녁에': 10,\n",
       " '운동갈꺼야': 7,\n",
       " '운동하러': 8,\n",
       " '갈꺼야': 1,\n",
       " '좋겠다': 12,\n",
       " '야간': 5,\n",
       " '자율': 9,\n",
       " '학습': 14,\n",
       " '하러': 13,\n",
       " '갈건데': 0}"
      ]
     },
     "execution_count": 14,
     "metadata": {},
     "output_type": "execute_result"
    }
   ],
   "source": [
    "# 단어사전 확인\n",
    "sample_tfidf.vocabulary_"
   ]
  },
  {
   "cell_type": "code",
   "execution_count": 15,
   "id": "56d85b2b-9338-4e29-8db7-27e8e58dbcdc",
   "metadata": {},
   "outputs": [],
   "source": [
    "okt = Okt()"
   ]
  },
  {
   "cell_type": "code",
   "execution_count": 16,
   "id": "a14f16f5-6d7e-4aa9-a7e4-e0e733b826c1",
   "metadata": {},
   "outputs": [
    {
     "data": {
      "text/plain": [
       "['나', '는', '오늘', '점심', '에', '삼계탕', '을', '먹었다', '왜']"
      ]
     },
     "execution_count": 16,
     "metadata": {},
     "output_type": "execute_result"
    }
   ],
   "source": [
    "okt.morphs(sample_text[0])"
   ]
  },
  {
   "cell_type": "code",
   "execution_count": 17,
   "id": "8b5a0117-09a8-45f6-803a-a6ab796fb34e",
   "metadata": {},
   "outputs": [
    {
     "data": {
      "text/plain": [
       "[('나', 'Noun'),\n",
       " ('는', 'Josa'),\n",
       " ('오늘', 'Noun'),\n",
       " ('점심', 'Noun'),\n",
       " ('에', 'Josa'),\n",
       " ('삼계탕', 'Noun'),\n",
       " ('을', 'Josa'),\n",
       " ('먹었다', 'Verb'),\n",
       " ('왜', 'Noun')]"
      ]
     },
     "execution_count": 17,
     "metadata": {},
     "output_type": "execute_result"
    }
   ],
   "source": [
    "okt.pos(sample_text[0])"
   ]
  },
  {
   "cell_type": "code",
   "execution_count": 18,
   "id": "1eb3ed3a-2aa3-4a03-8931-b98846d8adf5",
   "metadata": {},
   "outputs": [
    {
     "data": {
      "text/plain": [
       "['나', '오늘', '점심', '삼계탕', '왜']"
      ]
     },
     "execution_count": 18,
     "metadata": {},
     "output_type": "execute_result"
    }
   ],
   "source": [
    "# 명사만 추출!\n",
    "okt.nouns(sample_text[0])"
   ]
  },
  {
   "cell_type": "code",
   "execution_count": 19,
   "id": "a866c11f-8ea5-4388-9afe-7826cdc6293c",
   "metadata": {},
   "outputs": [],
   "source": [
    "# BOW, TFIDF는 기본적으로 \"공백\" 기준으로 토큰화 수행됨\n",
    "# 토큰의 단위를 형태소 분석기를 응용하여 설정"
   ]
  },
  {
   "cell_type": "code",
   "execution_count": 20,
   "id": "a18cac0a-0849-4746-a717-04d48a62452d",
   "metadata": {},
   "outputs": [],
   "source": [
    "# 토큰화 도구 만들기(사용자 정의 함수)\n",
    "def my_tokenizer(text) :     # 문장 형태가 나오면\n",
    "    return okt.nouns(text)   # 명사만 뽑아내서 반환시켜주는 함수"
   ]
  },
  {
   "cell_type": "code",
   "execution_count": 21,
   "id": "eca7b5b8-695e-4562-8a49-95639581b79e",
   "metadata": {},
   "outputs": [],
   "source": [
    "tfidf_okt = TfidfVectorizer(tokenizer = my_tokenizer, token_pattern = None)   # 인자값 넣기(함수명만)"
   ]
  },
  {
   "cell_type": "code",
   "execution_count": 22,
   "id": "898e878e-6b24-43b4-95d6-21b6618b02f5",
   "metadata": {},
   "outputs": [
    {
     "data": {
      "text/html": [
       "<style>#sk-container-id-2 {color: black;background-color: white;}#sk-container-id-2 pre{padding: 0;}#sk-container-id-2 div.sk-toggleable {background-color: white;}#sk-container-id-2 label.sk-toggleable__label {cursor: pointer;display: block;width: 100%;margin-bottom: 0;padding: 0.3em;box-sizing: border-box;text-align: center;}#sk-container-id-2 label.sk-toggleable__label-arrow:before {content: \"▸\";float: left;margin-right: 0.25em;color: #696969;}#sk-container-id-2 label.sk-toggleable__label-arrow:hover:before {color: black;}#sk-container-id-2 div.sk-estimator:hover label.sk-toggleable__label-arrow:before {color: black;}#sk-container-id-2 div.sk-toggleable__content {max-height: 0;max-width: 0;overflow: hidden;text-align: left;background-color: #f0f8ff;}#sk-container-id-2 div.sk-toggleable__content pre {margin: 0.2em;color: black;border-radius: 0.25em;background-color: #f0f8ff;}#sk-container-id-2 input.sk-toggleable__control:checked~div.sk-toggleable__content {max-height: 200px;max-width: 100%;overflow: auto;}#sk-container-id-2 input.sk-toggleable__control:checked~label.sk-toggleable__label-arrow:before {content: \"▾\";}#sk-container-id-2 div.sk-estimator input.sk-toggleable__control:checked~label.sk-toggleable__label {background-color: #d4ebff;}#sk-container-id-2 div.sk-label input.sk-toggleable__control:checked~label.sk-toggleable__label {background-color: #d4ebff;}#sk-container-id-2 input.sk-hidden--visually {border: 0;clip: rect(1px 1px 1px 1px);clip: rect(1px, 1px, 1px, 1px);height: 1px;margin: -1px;overflow: hidden;padding: 0;position: absolute;width: 1px;}#sk-container-id-2 div.sk-estimator {font-family: monospace;background-color: #f0f8ff;border: 1px dotted black;border-radius: 0.25em;box-sizing: border-box;margin-bottom: 0.5em;}#sk-container-id-2 div.sk-estimator:hover {background-color: #d4ebff;}#sk-container-id-2 div.sk-parallel-item::after {content: \"\";width: 100%;border-bottom: 1px solid gray;flex-grow: 1;}#sk-container-id-2 div.sk-label:hover label.sk-toggleable__label {background-color: #d4ebff;}#sk-container-id-2 div.sk-serial::before {content: \"\";position: absolute;border-left: 1px solid gray;box-sizing: border-box;top: 0;bottom: 0;left: 50%;z-index: 0;}#sk-container-id-2 div.sk-serial {display: flex;flex-direction: column;align-items: center;background-color: white;padding-right: 0.2em;padding-left: 0.2em;position: relative;}#sk-container-id-2 div.sk-item {position: relative;z-index: 1;}#sk-container-id-2 div.sk-parallel {display: flex;align-items: stretch;justify-content: center;background-color: white;position: relative;}#sk-container-id-2 div.sk-item::before, #sk-container-id-2 div.sk-parallel-item::before {content: \"\";position: absolute;border-left: 1px solid gray;box-sizing: border-box;top: 0;bottom: 0;left: 50%;z-index: -1;}#sk-container-id-2 div.sk-parallel-item {display: flex;flex-direction: column;z-index: 1;position: relative;background-color: white;}#sk-container-id-2 div.sk-parallel-item:first-child::after {align-self: flex-end;width: 50%;}#sk-container-id-2 div.sk-parallel-item:last-child::after {align-self: flex-start;width: 50%;}#sk-container-id-2 div.sk-parallel-item:only-child::after {width: 0;}#sk-container-id-2 div.sk-dashed-wrapped {border: 1px dashed gray;margin: 0 0.4em 0.5em 0.4em;box-sizing: border-box;padding-bottom: 0.4em;background-color: white;}#sk-container-id-2 div.sk-label label {font-family: monospace;font-weight: bold;display: inline-block;line-height: 1.2em;}#sk-container-id-2 div.sk-label-container {text-align: center;}#sk-container-id-2 div.sk-container {/* jupyter's `normalize.less` sets `[hidden] { display: none; }` but bootstrap.min.css set `[hidden] { display: none !important; }` so we also need the `!important` here to be able to override the default hidden behavior on the sphinx rendered scikit-learn.org. See: https://github.com/scikit-learn/scikit-learn/issues/21755 */display: inline-block !important;position: relative;}#sk-container-id-2 div.sk-text-repr-fallback {display: none;}</style><div id=\"sk-container-id-2\" class=\"sk-top-container\"><div class=\"sk-text-repr-fallback\"><pre>TfidfVectorizer(token_pattern=None,\n",
       "                tokenizer=&lt;function my_tokenizer at 0x00000158E2476520&gt;)</pre><b>In a Jupyter environment, please rerun this cell to show the HTML representation or trust the notebook. <br />On GitHub, the HTML representation is unable to render, please try loading this page with nbviewer.org.</b></div><div class=\"sk-container\" hidden><div class=\"sk-item\"><div class=\"sk-estimator sk-toggleable\"><input class=\"sk-toggleable__control sk-hidden--visually\" id=\"sk-estimator-id-2\" type=\"checkbox\" checked><label for=\"sk-estimator-id-2\" class=\"sk-toggleable__label sk-toggleable__label-arrow\">TfidfVectorizer</label><div class=\"sk-toggleable__content\"><pre>TfidfVectorizer(token_pattern=None,\n",
       "                tokenizer=&lt;function my_tokenizer at 0x00000158E2476520&gt;)</pre></div></div></div></div></div>"
      ],
      "text/plain": [
       "TfidfVectorizer(token_pattern=None,\n",
       "                tokenizer=<function my_tokenizer at 0x00000158E2476520>)"
      ]
     },
     "execution_count": 22,
     "metadata": {},
     "output_type": "execute_result"
    }
   ],
   "source": [
    "# 단어사전 구축\n",
    "tfidf_okt.fit(sample_text)\n",
    "# 위에서 token_pattern = None 써주면 원인 메세지 사라짐"
   ]
  },
  {
   "cell_type": "code",
   "execution_count": 23,
   "id": "98419711-d33c-4130-a3cd-969f3320c36c",
   "metadata": {},
   "outputs": [
    {
     "data": {
      "text/plain": [
       "{'나': 0,\n",
       " '오늘': 4,\n",
       " '점심': 9,\n",
       " '삼계탕': 2,\n",
       " '왜': 5,\n",
       " '너': 1,\n",
       " '저녁': 8,\n",
       " '운동': 6,\n",
       " '야간': 3,\n",
       " '자율': 7,\n",
       " '학습': 10}"
      ]
     },
     "execution_count": 23,
     "metadata": {},
     "output_type": "execute_result"
    }
   ],
   "source": [
    "# 단어사전 확인\n",
    "tfidf_okt.vocabulary_"
   ]
  },
  {
   "cell_type": "code",
   "execution_count": 24,
   "id": "0b7ab62c-9726-4206-a96d-bdd92e45e8a5",
   "metadata": {},
   "outputs": [
    {
     "data": {
      "text/plain": [
       "['나는 오늘 점심에 삼계탕을 먹었다 왜',\n",
       " '너 저녁에 운동갈꺼야?',\n",
       " '나는 오늘 저녁에 운동하러 갈꺼야',\n",
       " '좋겠다. 나는 저녁에 야간 자율 학습 하러 갈건데...']"
      ]
     },
     "execution_count": 24,
     "metadata": {},
     "output_type": "execute_result"
    }
   ],
   "source": [
    "sample_text"
   ]
  },
  {
   "cell_type": "code",
   "execution_count": 25,
   "id": "9ff82a00-da87-489c-935a-6eabf32c387a",
   "metadata": {},
   "outputs": [
    {
     "data": {
      "text/html": [
       "<div>\n",
       "<style scoped>\n",
       "    .dataframe tbody tr th:only-of-type {\n",
       "        vertical-align: middle;\n",
       "    }\n",
       "\n",
       "    .dataframe tbody tr th {\n",
       "        vertical-align: top;\n",
       "    }\n",
       "\n",
       "    .dataframe thead th {\n",
       "        text-align: right;\n",
       "    }\n",
       "</style>\n",
       "<table border=\"1\" class=\"dataframe\">\n",
       "  <thead>\n",
       "    <tr style=\"text-align: right;\">\n",
       "      <th></th>\n",
       "      <th>0</th>\n",
       "      <th>1</th>\n",
       "      <th>2</th>\n",
       "      <th>3</th>\n",
       "      <th>4</th>\n",
       "      <th>5</th>\n",
       "      <th>6</th>\n",
       "      <th>7</th>\n",
       "      <th>8</th>\n",
       "      <th>9</th>\n",
       "      <th>10</th>\n",
       "    </tr>\n",
       "  </thead>\n",
       "  <tbody>\n",
       "    <tr>\n",
       "      <th>0</th>\n",
       "      <td>나</td>\n",
       "      <td>너</td>\n",
       "      <td>삼계탕</td>\n",
       "      <td>야간</td>\n",
       "      <td>오늘</td>\n",
       "      <td>왜</td>\n",
       "      <td>운동</td>\n",
       "      <td>자율</td>\n",
       "      <td>저녁</td>\n",
       "      <td>점심</td>\n",
       "      <td>학습</td>\n",
       "    </tr>\n",
       "    <tr>\n",
       "      <th>0</th>\n",
       "      <td>0.317993</td>\n",
       "      <td>0.0</td>\n",
       "      <td>0.498197</td>\n",
       "      <td>0.0</td>\n",
       "      <td>0.392784</td>\n",
       "      <td>0.498197</td>\n",
       "      <td>0.0</td>\n",
       "      <td>0.0</td>\n",
       "      <td>0.0</td>\n",
       "      <td>0.498197</td>\n",
       "      <td>0.0</td>\n",
       "    </tr>\n",
       "    <tr>\n",
       "      <th>1</th>\n",
       "      <td>0.0</td>\n",
       "      <td>0.702035</td>\n",
       "      <td>0.0</td>\n",
       "      <td>0.0</td>\n",
       "      <td>0.0</td>\n",
       "      <td>0.0</td>\n",
       "      <td>0.553492</td>\n",
       "      <td>0.0</td>\n",
       "      <td>0.4481</td>\n",
       "      <td>0.0</td>\n",
       "      <td>0.0</td>\n",
       "    </tr>\n",
       "    <tr>\n",
       "      <th>2</th>\n",
       "      <td>0.444931</td>\n",
       "      <td>0.0</td>\n",
       "      <td>0.0</td>\n",
       "      <td>0.0</td>\n",
       "      <td>0.549578</td>\n",
       "      <td>0.0</td>\n",
       "      <td>0.549578</td>\n",
       "      <td>0.0</td>\n",
       "      <td>0.444931</td>\n",
       "      <td>0.0</td>\n",
       "      <td>0.0</td>\n",
       "    </tr>\n",
       "    <tr>\n",
       "      <th>3</th>\n",
       "      <td>0.326798</td>\n",
       "      <td>0.0</td>\n",
       "      <td>0.0</td>\n",
       "      <td>0.511992</td>\n",
       "      <td>0.0</td>\n",
       "      <td>0.0</td>\n",
       "      <td>0.0</td>\n",
       "      <td>0.511992</td>\n",
       "      <td>0.326798</td>\n",
       "      <td>0.0</td>\n",
       "      <td>0.511992</td>\n",
       "    </tr>\n",
       "  </tbody>\n",
       "</table>\n",
       "</div>"
      ],
      "text/plain": [
       "          0         1         2         3         4         5         6  \\\n",
       "0         나         너       삼계탕        야간        오늘         왜        운동   \n",
       "0  0.317993       0.0  0.498197       0.0  0.392784  0.498197       0.0   \n",
       "1       0.0  0.702035       0.0       0.0       0.0       0.0  0.553492   \n",
       "2  0.444931       0.0       0.0       0.0  0.549578       0.0  0.549578   \n",
       "3  0.326798       0.0       0.0  0.511992       0.0       0.0       0.0   \n",
       "\n",
       "          7         8         9        10  \n",
       "0        자율        저녁        점심        학습  \n",
       "0       0.0       0.0  0.498197       0.0  \n",
       "1       0.0    0.4481       0.0       0.0  \n",
       "2       0.0  0.444931       0.0       0.0  \n",
       "3  0.511992  0.326798       0.0  0.511992  "
      ]
     },
     "execution_count": 25,
     "metadata": {},
     "output_type": "execute_result"
    }
   ],
   "source": [
    "# 각각의 키값과 values 값을 리스트 형태로 묶어주기\n",
    "df = pd.DataFrame([tfidf_okt.vocabulary_.keys(), tfidf_okt.vocabulary_.values()]).T\n",
    "df = df.sort_values(by = 1).set_index(1).T\n",
    "# => 인덱스별로 정렬됨\n",
    "\n",
    "pd.concat([df, pd.DataFrame(tfidf_okt.transform(sample_text).toarray())])\n",
    "# concat에 이어붙일 객체 df 넣어주기\n",
    "# => 단어사전들이 나타내는 가중치 값 - 가중치값은 단어가 많으면 많을 수록 정확해짐\n",
    "# => 위의 sample_text랑 비교\n",
    "# 첫 문장이랑 세 번째 문장 둘 다 \"나\"라는 단어가 있는데 첫 문장의 \"나\"가 세 번째 문장의 \"나\"보다 희소성(중요성)이 떨어진다는 걸 알 수 있음"
   ]
  },
  {
   "cell_type": "markdown",
   "id": "f21c3f1a-8566-4e75-b4ef-1f9e6fe2e65f",
   "metadata": {},
   "source": [
    "#### 실제 데이터에 적용하기"
   ]
  },
  {
   "cell_type": "code",
   "execution_count": 26,
   "id": "49fd988a-233d-46a2-9ed2-aeef8a82ec42",
   "metadata": {},
   "outputs": [
    {
     "name": "stdout",
     "output_type": "stream",
     "text": [
      "<class 'pandas.core.frame.DataFrame'>\n",
      "Index: 149995 entries, 0 to 149999\n",
      "Data columns (total 3 columns):\n",
      " #   Column    Non-Null Count   Dtype \n",
      "---  ------    --------------   ----- \n",
      " 0   id        149995 non-null  int64 \n",
      " 1   document  149995 non-null  object\n",
      " 2   label     149995 non-null  int64 \n",
      "dtypes: int64(2), object(1)\n",
      "memory usage: 4.6+ MB\n"
     ]
    }
   ],
   "source": [
    "text_train.info()"
   ]
  },
  {
   "cell_type": "code",
   "execution_count": 27,
   "id": "53e2afda-7462-4eda-a23a-d7d8106b424d",
   "metadata": {},
   "outputs": [],
   "source": [
    "# 데이터 나누기(문제와 답 나누기)\n",
    "X_train = text_train['document']\n",
    "X_test = text_test['document']\n",
    "y_train = text_train['label']\n",
    "y_test = text_test['label']"
   ]
  },
  {
   "cell_type": "code",
   "execution_count": 28,
   "id": "699044cf-df03-45b0-8c62-70590582f0a4",
   "metadata": {},
   "outputs": [
    {
     "data": {
      "text/plain": [
       "((149995,), (49997,), (149995,), (49997,))"
      ]
     },
     "execution_count": 28,
     "metadata": {},
     "output_type": "execute_result"
    }
   ],
   "source": [
    "X_train.shape, X_test.shape, y_train.shape, y_test.shape\n",
    "# => X 데이터는 1차원 리스트의 데이터형임"
   ]
  },
  {
   "cell_type": "markdown",
   "id": "54719007-39cd-463e-abed-3388b553a9f4",
   "metadata": {},
   "source": [
    "- tfidf + okt 활용해서 토큰화\n",
    "- LogisticRegression 모델 사용해서 모델링 분석 수행\n",
    "- pipepine 기능 연결"
   ]
  },
  {
   "cell_type": "code",
   "execution_count": 29,
   "id": "4ee50cd6-2c9d-4119-88d7-cadb0cb52f3f",
   "metadata": {},
   "outputs": [],
   "source": [
    "from sklearn.pipeline import make_pipeline   # 기능 연결 도구\n",
    "from sklearn.linear_model import LogisticRegression   # 선형 분류 모델 불러오기"
   ]
  },
  {
   "cell_type": "code",
   "execution_count": 30,
   "id": "d74d3ed8-88b1-4be4-8979-d6a6ff2afc91",
   "metadata": {},
   "outputs": [],
   "source": [
    "pipe_model = make_pipeline(\n",
    "    TfidfVectorizer(tokenizer = my_tokenizer,   # 사용자 정의 토크나이저 지정\n",
    "                   token_pattern = None,        # 기본 세팅 제거\n",
    "                   ngram_range = (1, 2)),       # 1-gram, 2-gram을 단어사전으로 채탣\n",
    "    LogisticRegression(max_iter = 10000)     \n",
    ")"
   ]
  },
  {
   "cell_type": "code",
   "execution_count": 31,
   "id": "1bf9a6ef-d8c2-4322-b922-4e728d4fcfd9",
   "metadata": {},
   "outputs": [],
   "source": [
    "# 데이터 개수 낮추기(슬라이싱 - 컬럼기호 사용하기)\n",
    "# 데이터가 너무 커서 임의로 잘라옴\n",
    "X_train = X_train[:10000]\n",
    "X_test = X_test[:10000]\n",
    "y_train = y_train[:10000]\n",
    "y_test = y_test[:10000]"
   ]
  },
  {
   "cell_type": "code",
   "execution_count": 32,
   "id": "8f280973-66eb-4557-9c9b-bd70141eb9e5",
   "metadata": {},
   "outputs": [
    {
     "data": {
      "text/plain": [
       "((10000,), (10000,), (10000,), (10000,))"
      ]
     },
     "execution_count": 32,
     "metadata": {},
     "output_type": "execute_result"
    }
   ],
   "source": [
    "X_train.shape, X_test.shape, y_train.shape, y_test.shape"
   ]
  },
  {
   "cell_type": "code",
   "execution_count": 33,
   "id": "ed699688-4973-4092-9d88-ff87cc294ecb",
   "metadata": {},
   "outputs": [
    {
     "data": {
      "text/html": [
       "<style>#sk-container-id-3 {color: black;background-color: white;}#sk-container-id-3 pre{padding: 0;}#sk-container-id-3 div.sk-toggleable {background-color: white;}#sk-container-id-3 label.sk-toggleable__label {cursor: pointer;display: block;width: 100%;margin-bottom: 0;padding: 0.3em;box-sizing: border-box;text-align: center;}#sk-container-id-3 label.sk-toggleable__label-arrow:before {content: \"▸\";float: left;margin-right: 0.25em;color: #696969;}#sk-container-id-3 label.sk-toggleable__label-arrow:hover:before {color: black;}#sk-container-id-3 div.sk-estimator:hover label.sk-toggleable__label-arrow:before {color: black;}#sk-container-id-3 div.sk-toggleable__content {max-height: 0;max-width: 0;overflow: hidden;text-align: left;background-color: #f0f8ff;}#sk-container-id-3 div.sk-toggleable__content pre {margin: 0.2em;color: black;border-radius: 0.25em;background-color: #f0f8ff;}#sk-container-id-3 input.sk-toggleable__control:checked~div.sk-toggleable__content {max-height: 200px;max-width: 100%;overflow: auto;}#sk-container-id-3 input.sk-toggleable__control:checked~label.sk-toggleable__label-arrow:before {content: \"▾\";}#sk-container-id-3 div.sk-estimator input.sk-toggleable__control:checked~label.sk-toggleable__label {background-color: #d4ebff;}#sk-container-id-3 div.sk-label input.sk-toggleable__control:checked~label.sk-toggleable__label {background-color: #d4ebff;}#sk-container-id-3 input.sk-hidden--visually {border: 0;clip: rect(1px 1px 1px 1px);clip: rect(1px, 1px, 1px, 1px);height: 1px;margin: -1px;overflow: hidden;padding: 0;position: absolute;width: 1px;}#sk-container-id-3 div.sk-estimator {font-family: monospace;background-color: #f0f8ff;border: 1px dotted black;border-radius: 0.25em;box-sizing: border-box;margin-bottom: 0.5em;}#sk-container-id-3 div.sk-estimator:hover {background-color: #d4ebff;}#sk-container-id-3 div.sk-parallel-item::after {content: \"\";width: 100%;border-bottom: 1px solid gray;flex-grow: 1;}#sk-container-id-3 div.sk-label:hover label.sk-toggleable__label {background-color: #d4ebff;}#sk-container-id-3 div.sk-serial::before {content: \"\";position: absolute;border-left: 1px solid gray;box-sizing: border-box;top: 0;bottom: 0;left: 50%;z-index: 0;}#sk-container-id-3 div.sk-serial {display: flex;flex-direction: column;align-items: center;background-color: white;padding-right: 0.2em;padding-left: 0.2em;position: relative;}#sk-container-id-3 div.sk-item {position: relative;z-index: 1;}#sk-container-id-3 div.sk-parallel {display: flex;align-items: stretch;justify-content: center;background-color: white;position: relative;}#sk-container-id-3 div.sk-item::before, #sk-container-id-3 div.sk-parallel-item::before {content: \"\";position: absolute;border-left: 1px solid gray;box-sizing: border-box;top: 0;bottom: 0;left: 50%;z-index: -1;}#sk-container-id-3 div.sk-parallel-item {display: flex;flex-direction: column;z-index: 1;position: relative;background-color: white;}#sk-container-id-3 div.sk-parallel-item:first-child::after {align-self: flex-end;width: 50%;}#sk-container-id-3 div.sk-parallel-item:last-child::after {align-self: flex-start;width: 50%;}#sk-container-id-3 div.sk-parallel-item:only-child::after {width: 0;}#sk-container-id-3 div.sk-dashed-wrapped {border: 1px dashed gray;margin: 0 0.4em 0.5em 0.4em;box-sizing: border-box;padding-bottom: 0.4em;background-color: white;}#sk-container-id-3 div.sk-label label {font-family: monospace;font-weight: bold;display: inline-block;line-height: 1.2em;}#sk-container-id-3 div.sk-label-container {text-align: center;}#sk-container-id-3 div.sk-container {/* jupyter's `normalize.less` sets `[hidden] { display: none; }` but bootstrap.min.css set `[hidden] { display: none !important; }` so we also need the `!important` here to be able to override the default hidden behavior on the sphinx rendered scikit-learn.org. See: https://github.com/scikit-learn/scikit-learn/issues/21755 */display: inline-block !important;position: relative;}#sk-container-id-3 div.sk-text-repr-fallback {display: none;}</style><div id=\"sk-container-id-3\" class=\"sk-top-container\"><div class=\"sk-text-repr-fallback\"><pre>Pipeline(steps=[(&#x27;tfidfvectorizer&#x27;,\n",
       "                 TfidfVectorizer(ngram_range=(1, 2), token_pattern=None,\n",
       "                                 tokenizer=&lt;function my_tokenizer at 0x00000158E2476520&gt;)),\n",
       "                (&#x27;logisticregression&#x27;, LogisticRegression(max_iter=10000))])</pre><b>In a Jupyter environment, please rerun this cell to show the HTML representation or trust the notebook. <br />On GitHub, the HTML representation is unable to render, please try loading this page with nbviewer.org.</b></div><div class=\"sk-container\" hidden><div class=\"sk-item sk-dashed-wrapped\"><div class=\"sk-label-container\"><div class=\"sk-label sk-toggleable\"><input class=\"sk-toggleable__control sk-hidden--visually\" id=\"sk-estimator-id-3\" type=\"checkbox\" ><label for=\"sk-estimator-id-3\" class=\"sk-toggleable__label sk-toggleable__label-arrow\">Pipeline</label><div class=\"sk-toggleable__content\"><pre>Pipeline(steps=[(&#x27;tfidfvectorizer&#x27;,\n",
       "                 TfidfVectorizer(ngram_range=(1, 2), token_pattern=None,\n",
       "                                 tokenizer=&lt;function my_tokenizer at 0x00000158E2476520&gt;)),\n",
       "                (&#x27;logisticregression&#x27;, LogisticRegression(max_iter=10000))])</pre></div></div></div><div class=\"sk-serial\"><div class=\"sk-item\"><div class=\"sk-estimator sk-toggleable\"><input class=\"sk-toggleable__control sk-hidden--visually\" id=\"sk-estimator-id-4\" type=\"checkbox\" ><label for=\"sk-estimator-id-4\" class=\"sk-toggleable__label sk-toggleable__label-arrow\">TfidfVectorizer</label><div class=\"sk-toggleable__content\"><pre>TfidfVectorizer(ngram_range=(1, 2), token_pattern=None,\n",
       "                tokenizer=&lt;function my_tokenizer at 0x00000158E2476520&gt;)</pre></div></div></div><div class=\"sk-item\"><div class=\"sk-estimator sk-toggleable\"><input class=\"sk-toggleable__control sk-hidden--visually\" id=\"sk-estimator-id-5\" type=\"checkbox\" ><label for=\"sk-estimator-id-5\" class=\"sk-toggleable__label sk-toggleable__label-arrow\">LogisticRegression</label><div class=\"sk-toggleable__content\"><pre>LogisticRegression(max_iter=10000)</pre></div></div></div></div></div></div></div>"
      ],
      "text/plain": [
       "Pipeline(steps=[('tfidfvectorizer',\n",
       "                 TfidfVectorizer(ngram_range=(1, 2), token_pattern=None,\n",
       "                                 tokenizer=<function my_tokenizer at 0x00000158E2476520>)),\n",
       "                ('logisticregression', LogisticRegression(max_iter=10000))])"
      ]
     },
     "execution_count": 33,
     "metadata": {},
     "output_type": "execute_result"
    }
   ],
   "source": [
    "# 약 1만개 가량 데이터를 벡터화를 수행하고 학습!\n",
    "pipe_model.fit(X_train, y_train)"
   ]
  },
  {
   "cell_type": "code",
   "execution_count": 34,
   "id": "e55f92e9-e90e-437d-9c30-a8ef990d5971",
   "metadata": {},
   "outputs": [
    {
     "data": {
      "text/plain": [
       "0.7391"
      ]
     },
     "execution_count": 34,
     "metadata": {},
     "output_type": "execute_result"
    }
   ],
   "source": [
    "# 평가(이진분류 - 정확도(73.91%))\n",
    "pipe_model.score(X_test, y_test)"
   ]
  },
  {
   "cell_type": "code",
   "execution_count": 35,
   "id": "b0ff4a10-adca-400e-b866-c47fe0dbd64b",
   "metadata": {},
   "outputs": [
    {
     "data": {
      "text/plain": [
       "array([1], dtype=int64)"
      ]
     },
     "execution_count": 35,
     "metadata": {},
     "output_type": "execute_result"
    }
   ],
   "source": [
    "# 예측/수행하기\n",
    "pipe_model.predict(['이 영화 너무 재밌는 거 같아요!'])\n",
    "# => 1 : 긍정"
   ]
  },
  {
   "cell_type": "code",
   "execution_count": 36,
   "id": "631e801e-3a7a-4a3a-9bc4-e61d4c659ae8",
   "metadata": {},
   "outputs": [
    {
     "data": {
      "text/plain": [
       "array([0], dtype=int64)"
      ]
     },
     "execution_count": 36,
     "metadata": {},
     "output_type": "execute_result"
    }
   ],
   "source": [
    "pipe_model.predict(['노잼'])"
   ]
  },
  {
   "cell_type": "markdown",
   "id": "30340618-c0a1-4e78-95ed-87f6de95b96b",
   "metadata": {},
   "source": [
    "#### 긍정/부정에 영향을 끼친 단어 살펴보기"
   ]
  },
  {
   "cell_type": "code",
   "execution_count": 37,
   "id": "385bdf7a-b5dd-473d-9e44-51443b579462",
   "metadata": {},
   "outputs": [],
   "source": [
    "# 토큰화 도구에 접근\n",
    "tfidf = pipe_model.steps[0][1]\n",
    "\n",
    "# 모델 접근\n",
    "logi = pipe_model.steps[1][1]"
   ]
  },
  {
   "cell_type": "code",
   "execution_count": 38,
   "id": "9a573310-f1b4-48e8-950f-fbd852f4e4cc",
   "metadata": {},
   "outputs": [],
   "source": [
    "df = pd.DataFrame([tfidf.vocabulary_.keys(), tfidf.vocabulary_.values()]).T\n",
    "df.columns = [\"단어\", \"인덱스\"]"
   ]
  },
  {
   "cell_type": "code",
   "execution_count": 39,
   "id": "24afda4f-1218-475b-9eca-2e12fd198eb3",
   "metadata": {},
   "outputs": [],
   "source": [
    "df.sort_values(by=\"인덱스\", inplace=True)"
   ]
  },
  {
   "cell_type": "code",
   "execution_count": 40,
   "id": "7b72c9a2-ead4-4a34-9ec6-2e2ca903dc16",
   "metadata": {},
   "outputs": [
    {
     "data": {
      "text/plain": [
       "array([ 0.11604795,  0.11604795, -0.07471306, ...,  0.04927049,\n",
       "        0.21707046,  0.12372123])"
      ]
     },
     "execution_count": 40,
     "metadata": {},
     "output_type": "execute_result"
    }
   ],
   "source": [
    "logi.coef_[0]"
   ]
  },
  {
   "cell_type": "code",
   "execution_count": 41,
   "id": "990b33cc-34f3-43bb-a699-b2a843e897d9",
   "metadata": {},
   "outputs": [],
   "source": [
    "df[\"가중치\"] = logi.coef_[0]   # 가중치값 추가, 2D array에서 인덱싱 수행해서 1D array로 컬럼 추가!"
   ]
  },
  {
   "cell_type": "code",
   "execution_count": 42,
   "id": "f0a3c5c5-fc95-4dec-8f73-6ce5c17a9d13",
   "metadata": {
    "scrolled": true
   },
   "outputs": [],
   "source": [
    "df.sort_values('가중치', inplace = True)\n",
    "# => 가중치 오름차순으로 정렬\n",
    "# => 가중치가 음수라는 것은 0에 가깝게끔 w값이 조정되어 있다는 것\n",
    "# => 양수 쪽은 1, 즉 긍정에 영향을 준 것"
   ]
  },
  {
   "cell_type": "code",
   "execution_count": 43,
   "id": "b674fe61-f7ab-4dd3-a1ca-9d45c079e8d4",
   "metadata": {},
   "outputs": [
    {
     "data": {
      "text/html": [
       "<div>\n",
       "<style scoped>\n",
       "    .dataframe tbody tr th:only-of-type {\n",
       "        vertical-align: middle;\n",
       "    }\n",
       "\n",
       "    .dataframe tbody tr th {\n",
       "        vertical-align: top;\n",
       "    }\n",
       "\n",
       "    .dataframe thead th {\n",
       "        text-align: right;\n",
       "    }\n",
       "</style>\n",
       "<table border=\"1\" class=\"dataframe\">\n",
       "  <thead>\n",
       "    <tr style=\"text-align: right;\">\n",
       "      <th></th>\n",
       "      <th>단어</th>\n",
       "      <th>인덱스</th>\n",
       "      <th>가중치</th>\n",
       "    </tr>\n",
       "  </thead>\n",
       "  <tbody>\n",
       "    <tr>\n",
       "      <th>348</th>\n",
       "      <td>쓰레기</td>\n",
       "      <td>26702</td>\n",
       "      <td>-4.647901</td>\n",
       "    </tr>\n",
       "    <tr>\n",
       "      <th>915</th>\n",
       "      <td>최악</td>\n",
       "      <td>45207</td>\n",
       "      <td>-4.448393</td>\n",
       "    </tr>\n",
       "    <tr>\n",
       "      <th>443</th>\n",
       "      <td>돈</td>\n",
       "      <td>11209</td>\n",
       "      <td>-3.713564</td>\n",
       "    </tr>\n",
       "    <tr>\n",
       "      <th>275</th>\n",
       "      <td>별로</td>\n",
       "      <td>19063</td>\n",
       "      <td>-3.335169</td>\n",
       "    </tr>\n",
       "    <tr>\n",
       "      <th>853</th>\n",
       "      <td>뭐</td>\n",
       "      <td>16885</td>\n",
       "      <td>-3.146237</td>\n",
       "    </tr>\n",
       "    <tr>\n",
       "      <th>...</th>\n",
       "      <td>...</td>\n",
       "      <td>...</td>\n",
       "      <td>...</td>\n",
       "    </tr>\n",
       "    <tr>\n",
       "      <th>327</th>\n",
       "      <td>다시</td>\n",
       "      <td>9440</td>\n",
       "      <td>3.211627</td>\n",
       "    </tr>\n",
       "    <tr>\n",
       "      <th>307</th>\n",
       "      <td>꼭</td>\n",
       "      <td>6590</td>\n",
       "      <td>3.334176</td>\n",
       "    </tr>\n",
       "    <tr>\n",
       "      <th>1025</th>\n",
       "      <td>명작</td>\n",
       "      <td>15596</td>\n",
       "      <td>3.349194</td>\n",
       "    </tr>\n",
       "    <tr>\n",
       "      <th>172</th>\n",
       "      <td>감동</td>\n",
       "      <td>948</td>\n",
       "      <td>3.943067</td>\n",
       "    </tr>\n",
       "    <tr>\n",
       "      <th>361</th>\n",
       "      <td>최고</td>\n",
       "      <td>44971</td>\n",
       "      <td>5.328655</td>\n",
       "    </tr>\n",
       "  </tbody>\n",
       "</table>\n",
       "<p>51852 rows × 3 columns</p>\n",
       "</div>"
      ],
      "text/plain": [
       "       단어    인덱스       가중치\n",
       "348   쓰레기  26702 -4.647901\n",
       "915    최악  45207 -4.448393\n",
       "443     돈  11209 -3.713564\n",
       "275    별로  19063 -3.335169\n",
       "853     뭐  16885 -3.146237\n",
       "...   ...    ...       ...\n",
       "327    다시   9440  3.211627\n",
       "307     꼭   6590  3.334176\n",
       "1025   명작  15596  3.349194\n",
       "172    감동    948  3.943067\n",
       "361    최고  44971  5.328655\n",
       "\n",
       "[51852 rows x 3 columns]"
      ]
     },
     "execution_count": 43,
     "metadata": {},
     "output_type": "execute_result"
    }
   ],
   "source": [
    "df"
   ]
  },
  {
   "cell_type": "code",
   "execution_count": 44,
   "id": "45f71887-df63-4505-ae81-3ac8d064efb7",
   "metadata": {},
   "outputs": [],
   "source": [
    "bad = df.head(20)   # 부정(0)에 영향을 많이 끼친 상위 20ea 단어\n",
    "good = df.tail(20)  # 긍정(1)에 영향을 많이 끼친 상위 20ea 단어"
   ]
  },
  {
   "cell_type": "code",
   "execution_count": 45,
   "id": "bd83c07c-c65e-4715-a927-ee61ee04ef8d",
   "metadata": {
    "scrolled": true
   },
   "outputs": [
    {
     "data": {
      "text/html": [
       "<div>\n",
       "<style scoped>\n",
       "    .dataframe tbody tr th:only-of-type {\n",
       "        vertical-align: middle;\n",
       "    }\n",
       "\n",
       "    .dataframe tbody tr th {\n",
       "        vertical-align: top;\n",
       "    }\n",
       "\n",
       "    .dataframe thead th {\n",
       "        text-align: right;\n",
       "    }\n",
       "</style>\n",
       "<table border=\"1\" class=\"dataframe\">\n",
       "  <thead>\n",
       "    <tr style=\"text-align: right;\">\n",
       "      <th></th>\n",
       "      <th>단어</th>\n",
       "      <th>인덱스</th>\n",
       "      <th>가중치</th>\n",
       "    </tr>\n",
       "  </thead>\n",
       "  <tbody>\n",
       "    <tr>\n",
       "      <th>348</th>\n",
       "      <td>쓰레기</td>\n",
       "      <td>26702</td>\n",
       "      <td>-4.647901</td>\n",
       "    </tr>\n",
       "    <tr>\n",
       "      <th>915</th>\n",
       "      <td>최악</td>\n",
       "      <td>45207</td>\n",
       "      <td>-4.448393</td>\n",
       "    </tr>\n",
       "    <tr>\n",
       "      <th>443</th>\n",
       "      <td>돈</td>\n",
       "      <td>11209</td>\n",
       "      <td>-3.713564</td>\n",
       "    </tr>\n",
       "    <tr>\n",
       "      <th>275</th>\n",
       "      <td>별로</td>\n",
       "      <td>19063</td>\n",
       "      <td>-3.335169</td>\n",
       "    </tr>\n",
       "    <tr>\n",
       "      <th>853</th>\n",
       "      <td>뭐</td>\n",
       "      <td>16885</td>\n",
       "      <td>-3.146237</td>\n",
       "    </tr>\n",
       "    <tr>\n",
       "      <th>844</th>\n",
       "      <td>실망</td>\n",
       "      <td>26280</td>\n",
       "      <td>-3.145392</td>\n",
       "    </tr>\n",
       "    <tr>\n",
       "      <th>531</th>\n",
       "      <td>감독</td>\n",
       "      <td>732</td>\n",
       "      <td>-2.704888</td>\n",
       "    </tr>\n",
       "    <tr>\n",
       "      <th>812</th>\n",
       "      <td>졸작</td>\n",
       "      <td>41443</td>\n",
       "      <td>-2.354766</td>\n",
       "    </tr>\n",
       "    <tr>\n",
       "      <th>4541</th>\n",
       "      <td>점도</td>\n",
       "      <td>39755</td>\n",
       "      <td>-2.229060</td>\n",
       "    </tr>\n",
       "    <tr>\n",
       "      <th>350</th>\n",
       "      <td>시간</td>\n",
       "      <td>25505</td>\n",
       "      <td>-2.203154</td>\n",
       "    </tr>\n",
       "    <tr>\n",
       "      <th>251</th>\n",
       "      <td>걸</td>\n",
       "      <td>2293</td>\n",
       "      <td>-2.114091</td>\n",
       "    </tr>\n",
       "    <tr>\n",
       "      <th>498</th>\n",
       "      <td>수준</td>\n",
       "      <td>24537</td>\n",
       "      <td>-2.100097</td>\n",
       "    </tr>\n",
       "    <tr>\n",
       "      <th>204</th>\n",
       "      <td>그냥</td>\n",
       "      <td>4970</td>\n",
       "      <td>-2.073293</td>\n",
       "    </tr>\n",
       "    <tr>\n",
       "      <th>5959</th>\n",
       "      <td>접</td>\n",
       "      <td>39877</td>\n",
       "      <td>-2.053038</td>\n",
       "    </tr>\n",
       "    <tr>\n",
       "      <th>170</th>\n",
       "      <td>노잼</td>\n",
       "      <td>8597</td>\n",
       "      <td>-1.957660</td>\n",
       "    </tr>\n",
       "    <tr>\n",
       "      <th>1534</th>\n",
       "      <td>알바</td>\n",
       "      <td>27794</td>\n",
       "      <td>-1.929211</td>\n",
       "    </tr>\n",
       "    <tr>\n",
       "      <th>5012</th>\n",
       "      <td>차라리</td>\n",
       "      <td>44099</td>\n",
       "      <td>-1.894604</td>\n",
       "    </tr>\n",
       "    <tr>\n",
       "      <th>605</th>\n",
       "      <td>무슨</td>\n",
       "      <td>16475</td>\n",
       "      <td>-1.887612</td>\n",
       "    </tr>\n",
       "    <tr>\n",
       "      <th>231</th>\n",
       "      <td>이건</td>\n",
       "      <td>35108</td>\n",
       "      <td>-1.859438</td>\n",
       "    </tr>\n",
       "    <tr>\n",
       "      <th>1996</th>\n",
       "      <td>기</td>\n",
       "      <td>5672</td>\n",
       "      <td>-1.840631</td>\n",
       "    </tr>\n",
       "    <tr>\n",
       "      <th>2211</th>\n",
       "      <td>평점 왜</td>\n",
       "      <td>48326</td>\n",
       "      <td>1.733515</td>\n",
       "    </tr>\n",
       "    <tr>\n",
       "      <th>1398</th>\n",
       "      <td>화이팅</td>\n",
       "      <td>51023</td>\n",
       "      <td>1.770280</td>\n",
       "    </tr>\n",
       "    <tr>\n",
       "      <th>417</th>\n",
       "      <td>또</td>\n",
       "      <td>12595</td>\n",
       "      <td>1.807825</td>\n",
       "    </tr>\n",
       "    <tr>\n",
       "      <th>126</th>\n",
       "      <td>짱</td>\n",
       "      <td>43914</td>\n",
       "      <td>1.862425</td>\n",
       "    </tr>\n",
       "    <tr>\n",
       "      <th>1326</th>\n",
       "      <td>역시</td>\n",
       "      <td>29832</td>\n",
       "      <td>1.934046</td>\n",
       "    </tr>\n",
       "    <tr>\n",
       "      <th>735</th>\n",
       "      <td>작품</td>\n",
       "      <td>37699</td>\n",
       "      <td>2.026772</td>\n",
       "    </tr>\n",
       "    <tr>\n",
       "      <th>398</th>\n",
       "      <td>매력</td>\n",
       "      <td>15009</td>\n",
       "      <td>2.034787</td>\n",
       "    </tr>\n",
       "    <tr>\n",
       "      <th>2166</th>\n",
       "      <td>굿</td>\n",
       "      <td>4621</td>\n",
       "      <td>2.061957</td>\n",
       "    </tr>\n",
       "    <tr>\n",
       "      <th>958</th>\n",
       "      <td>대박</td>\n",
       "      <td>10107</td>\n",
       "      <td>2.080452</td>\n",
       "    </tr>\n",
       "    <tr>\n",
       "      <th>511</th>\n",
       "      <td>사랑</td>\n",
       "      <td>21561</td>\n",
       "      <td>2.313391</td>\n",
       "    </tr>\n",
       "    <tr>\n",
       "      <th>2936</th>\n",
       "      <td>최고다</td>\n",
       "      <td>45107</td>\n",
       "      <td>2.387765</td>\n",
       "    </tr>\n",
       "    <tr>\n",
       "      <th>1943</th>\n",
       "      <td>마음</td>\n",
       "      <td>14045</td>\n",
       "      <td>2.477926</td>\n",
       "    </tr>\n",
       "    <tr>\n",
       "      <th>1290</th>\n",
       "      <td>여운</td>\n",
       "      <td>29535</td>\n",
       "      <td>2.670015</td>\n",
       "    </tr>\n",
       "    <tr>\n",
       "      <th>296</th>\n",
       "      <td>수작</td>\n",
       "      <td>24503</td>\n",
       "      <td>2.952542</td>\n",
       "    </tr>\n",
       "    <tr>\n",
       "      <th>592</th>\n",
       "      <td>가슴</td>\n",
       "      <td>145</td>\n",
       "      <td>3.176275</td>\n",
       "    </tr>\n",
       "    <tr>\n",
       "      <th>327</th>\n",
       "      <td>다시</td>\n",
       "      <td>9440</td>\n",
       "      <td>3.211627</td>\n",
       "    </tr>\n",
       "    <tr>\n",
       "      <th>307</th>\n",
       "      <td>꼭</td>\n",
       "      <td>6590</td>\n",
       "      <td>3.334176</td>\n",
       "    </tr>\n",
       "    <tr>\n",
       "      <th>1025</th>\n",
       "      <td>명작</td>\n",
       "      <td>15596</td>\n",
       "      <td>3.349194</td>\n",
       "    </tr>\n",
       "    <tr>\n",
       "      <th>172</th>\n",
       "      <td>감동</td>\n",
       "      <td>948</td>\n",
       "      <td>3.943067</td>\n",
       "    </tr>\n",
       "    <tr>\n",
       "      <th>361</th>\n",
       "      <td>최고</td>\n",
       "      <td>44971</td>\n",
       "      <td>5.328655</td>\n",
       "    </tr>\n",
       "  </tbody>\n",
       "</table>\n",
       "</div>"
      ],
      "text/plain": [
       "        단어    인덱스       가중치\n",
       "348    쓰레기  26702 -4.647901\n",
       "915     최악  45207 -4.448393\n",
       "443      돈  11209 -3.713564\n",
       "275     별로  19063 -3.335169\n",
       "853      뭐  16885 -3.146237\n",
       "844     실망  26280 -3.145392\n",
       "531     감독    732 -2.704888\n",
       "812     졸작  41443 -2.354766\n",
       "4541    점도  39755 -2.229060\n",
       "350     시간  25505 -2.203154\n",
       "251      걸   2293 -2.114091\n",
       "498     수준  24537 -2.100097\n",
       "204     그냥   4970 -2.073293\n",
       "5959     접  39877 -2.053038\n",
       "170     노잼   8597 -1.957660\n",
       "1534    알바  27794 -1.929211\n",
       "5012   차라리  44099 -1.894604\n",
       "605     무슨  16475 -1.887612\n",
       "231     이건  35108 -1.859438\n",
       "1996     기   5672 -1.840631\n",
       "2211  평점 왜  48326  1.733515\n",
       "1398   화이팅  51023  1.770280\n",
       "417      또  12595  1.807825\n",
       "126      짱  43914  1.862425\n",
       "1326    역시  29832  1.934046\n",
       "735     작품  37699  2.026772\n",
       "398     매력  15009  2.034787\n",
       "2166     굿   4621  2.061957\n",
       "958     대박  10107  2.080452\n",
       "511     사랑  21561  2.313391\n",
       "2936   최고다  45107  2.387765\n",
       "1943    마음  14045  2.477926\n",
       "1290    여운  29535  2.670015\n",
       "296     수작  24503  2.952542\n",
       "592     가슴    145  3.176275\n",
       "327     다시   9440  3.211627\n",
       "307      꼭   6590  3.334176\n",
       "1025    명작  15596  3.349194\n",
       "172     감동    948  3.943067\n",
       "361     최고  44971  5.328655"
      ]
     },
     "execution_count": 45,
     "metadata": {},
     "output_type": "execute_result"
    }
   ],
   "source": [
    "# bad와 good 병합 - concat() : 이어붙이기\n",
    "top20 = pd.concat([bad, good])\n",
    "top20"
   ]
  },
  {
   "cell_type": "code",
   "execution_count": 46,
   "id": "1619f42e-bbc6-4268-b462-b26aad2343f5",
   "metadata": {},
   "outputs": [],
   "source": [
    "import matplotlib.pyplot as plt\n",
    "plt.rcParams['font.family'] = 'Malgun Gothic'  # 한글이 지원되는 폰트로 설정\n",
    "plt.rcParams['axes.unicode_minus'] = False     # 마이너스 기호를 사용하겠다"
   ]
  },
  {
   "cell_type": "code",
   "execution_count": 47,
   "id": "b3ac3773-91fc-4158-bae4-c7d866203ff2",
   "metadata": {},
   "outputs": [
    {
     "data": {
      "image/png": "[encoded data removed]",
      "text/plain": [
       "<Figure size 1200x600 with 1 Axes>"
      ]
     },
     "metadata": {},
     "output_type": "display_data"
    }
   ],
   "source": [
    "plt.figure(figsize = (12, 6))\n",
    "plt.title(\"긍/부정 단어 가중치\")\n",
    "plt.xlabel(\"단어\")\n",
    "plt.ylabel(\"가중치\", rotation = 0)   # rotation = 0 : 90도가 기본값\n",
    "plt.bar(top20[\"단어\"], top20[\"가중치\"])\n",
    "plt.xticks(rotation = 60)   # x축 \"단어\"라는 글자들 겹치지 않게 기울이기\n",
    "plt.show()"
   ]
  },
  {
   "cell_type": "code",
   "execution_count": null,
   "id": "2348f3ad-e5ab-4742-871c-5abbb465c5e5",
   "metadata": {},
   "outputs": [],
   "source": []
  }
 ],
 "metadata": {
  "kernelspec": {
   "display_name": "Python 3 (ipykernel)",
   "language": "python",
   "name": "python3"
  },
  "language_info": {
   "codemirror_mode": {
    "name": "ipython",
    "version": 3
   },
   "file_extension": ".py",
   "mimetype": "text/x-python",
   "name": "python",
   "nbconvert_exporter": "python",
   "pygments_lexer": "ipython3",
   "version": "3.11.7"
  }
 },
 "nbformat": 4,
 "nbformat_minor": 5
}
